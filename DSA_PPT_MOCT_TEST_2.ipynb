{
  "nbformat": 4,
  "nbformat_minor": 0,
  "metadata": {
    "colab": {
      "provenance": []
    },
    "kernelspec": {
      "name": "python3",
      "display_name": "Python 3"
    },
    "language_info": {
      "name": "python"
    }
  },
  "cells": [
    {
      "cell_type": "code",
      "source": [
        "You are given two non-empty linked lists representing two non-negative integers. The digits are stored in reverse order, and each of their nodes contains a single digit. Add the two numbers and return the sum as a linked list.\n",
        "\n",
        "You may assume the two numbers do not contain any leading zero, except the number 0 itself."
      ],
      "metadata": {
        "id": "oORfGbxQPrLT"
      },
      "execution_count": null,
      "outputs": []
    },
    {
      "cell_type": "code",
      "source": [
        "class Solution(object):\n",
        "    def addTwoNumbers(self, l1, l2):\n",
        "        if l1.val==0:\n",
        "            return ListNode(0)\n",
        "        temp= l1\n",
        "        temp1=l2\n",
        "\n",
        "        l3=[]\n",
        "        l4=[]\n",
        "\n",
        "        while(temp is not None):\n",
        "            l3.append(temp.val)\n",
        "            temp=temp.next\n",
        "\n",
        "        while(temp1 is not None):\n",
        "            l4.append(temp1.val)\n",
        "            temp1=temp1.next\n",
        "\n",
        "        l3=l3[::-1]\n",
        "        l4=l4[::-1]\n",
        "\n",
        "        s1=\"\"\n",
        "        s2=\"\"\n",
        "\n",
        "        for i in l3:\n",
        "            s1=s1+str(i)\n",
        "\n",
        "        for j in l4:\n",
        "            s2=s2+str(j)\n",
        "\n",
        "        final_num= int(s1)+int(s2)\n",
        "        f_l=[]\n",
        "        while(final_num>0):\n",
        "            num= final_num%10\n",
        "            f_l.append(num)\n",
        "            final_num= final_num //10\n",
        "\n",
        "        print(f_l)\n",
        "        dummy=ListNode()\n",
        "        current= dummy\n",
        "        for i in f_l:\n",
        "            current.next= ListNode(i)\n",
        "            current=current.next\n",
        "\n",
        "        return dummy.next\n",
        "\n",
        "\n",
        "\n",
        "\n",
        "\n"
      ],
      "metadata": {
        "id": "I8dfuJLCPrRk"
      },
      "execution_count": null,
      "outputs": []
    }
  ]
}