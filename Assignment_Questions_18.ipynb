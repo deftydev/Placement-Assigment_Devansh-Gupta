{
  "nbformat": 4,
  "nbformat_minor": 0,
  "metadata": {
    "colab": {
      "provenance": []
    },
    "kernelspec": {
      "name": "python3",
      "display_name": "Python 3"
    },
    "language_info": {
      "name": "python"
    }
  },
  "cells": [
    {
      "cell_type": "code",
      "execution_count": null,
      "metadata": {
        "id": "SZmkPiWs4KQ5"
      },
      "outputs": [],
      "source": [
        "<aside>\n",
        "💡 1. **Merge Intervals**\n",
        "\n",
        "Given an array of `intervals` where `intervals[i] = [starti, endi]`, merge all overlapping intervals, and return *an array of the non-overlapping intervals that cover all the intervals in the input*.\n",
        "\n",
        "</aside>"
      ]
    },
    {
      "cell_type": "code",
      "source": [
        "class Solution(object):\n",
        "    def merge(self, intervals):\n",
        "        \"\"\"\n",
        "        :type intervals: List[List[int]]\n",
        "        :rtype: List[List[int]]\n",
        "        \"\"\"\n",
        "\n",
        "        intervals.sort(key=lambda x:x[0])\n",
        "        index=0\n",
        "        a=[]\n",
        "        for i in range(1,len(intervals)):\n",
        "            if intervals[index][1]>=intervals[i][0]:\n",
        "\n",
        "\n",
        "                intervals[index][1]=max(intervals[i][1], intervals[index][1])\n",
        "            else:\n",
        "                index+=1\n",
        "                intervals[index]=intervals[i]\n",
        "\n",
        "        for j in range(index+1):\n",
        "            a.append(intervals[j])\n",
        "        return a"
      ],
      "metadata": {
        "id": "BSYwYwtE-mpt"
      },
      "execution_count": null,
      "outputs": []
    },
    {
      "cell_type": "code",
      "source": [
        "<aside>\n",
        "💡 2. **Sort Colors**\n",
        "\n",
        "Given an array `nums` with `n` objects colored red, white, or blue, sort them **[in-place](https://en.wikipedia.org/wiki/In-place_algorithm)** so that objects of the same color are adjacent, with the colors in the order red, white, and blue.\n",
        "\n",
        "We will use the integers `0`, `1`, and `2` to represent the color red, white, and blue, respectively.\n",
        "\n",
        "</aside>"
      ],
      "metadata": {
        "id": "7YNZKCxl-sUj"
      },
      "execution_count": null,
      "outputs": []
    },
    {
      "cell_type": "code",
      "source": [
        "class Solution(object):\n",
        "    def sortColors(self, nums):\n",
        "        \"\"\"\n",
        "        :type nums: List[int]\n",
        "        :rtype: None Do not return anything, modify nums in-place instead.\n",
        "        \"\"\"\n",
        "\n",
        "        l=0\n",
        "        mid=0\n",
        "        high= len(nums)-1\n",
        "\n",
        "        while(mid<=high):\n",
        "\n",
        "            if nums[mid]==0:\n",
        "                nums[l],nums[mid]=nums[mid],nums[l]\n",
        "                l+=1\n",
        "                mid+=1\n",
        "\n",
        "            elif nums[mid]==1:\n",
        "                mid+=1\n",
        "            else:\n",
        "                nums[mid],nums[high]=nums[high],nums[mid]\n",
        "                high-=1\n",
        "\n",
        "        return nums"
      ],
      "metadata": {
        "id": "kOga0g-T-sWA"
      },
      "execution_count": null,
      "outputs": []
    },
    {
      "cell_type": "code",
      "source": [
        "<aside>\n",
        "💡 3. **First Bad Version Solution**\n",
        "\n",
        "You are a product manager and currently leading a team to develop a new product. Unfortunately, the latest version of your product fails the quality check. Since each version is developed based on the previous version, all the versions after a bad version are also bad.\n",
        "\n",
        "Suppose you have `n` versions `[1, 2, ..., n]` and you want to find out the first bad one, which causes all the following ones to be bad.\n",
        "\n",
        "You are given an API `bool isBadVersion(version)` which returns whether `version` is bad. Implement a function to find the first bad version. You should minimize the number of calls to the API.\n",
        "\n",
        "</aside>"
      ],
      "metadata": {
        "id": "1W6CM5ce-sX8"
      },
      "execution_count": null,
      "outputs": []
    },
    {
      "cell_type": "code",
      "source": [
        "        low = 1\n",
        "        high = n\n",
        "        version = 0\n",
        "\n",
        "        while low <= high:\n",
        "            mid = (low+high)//2\n",
        "            badver = isBadVersion(mid)\n",
        "            if badver == True:\n",
        "                version = mid\n",
        "                high = mid - 1\n",
        "            elif badver == False:\n",
        "                low = mid + 1\n",
        "        return version"
      ],
      "metadata": {
        "id": "ODq8-snA-sZ3"
      },
      "execution_count": null,
      "outputs": []
    },
    {
      "cell_type": "code",
      "source": [],
      "metadata": {
        "id": "_Z460_0n-sb-"
      },
      "execution_count": null,
      "outputs": []
    },
    {
      "cell_type": "code",
      "source": [
        "<aside>\n",
        "💡 4. **Maximum Gap**\n",
        "\n",
        "Given an integer array `nums`, return *the maximum difference between two successive elements in its sorted form*. If the array contains less than two elements, return `0`.\n",
        "\n",
        "You must write an algorithm that runs in linear time and uses linear extra space.\n",
        "\n",
        "</aside>"
      ],
      "metadata": {
        "id": "paQhPtyd-sdz"
      },
      "execution_count": null,
      "outputs": []
    },
    {
      "cell_type": "code",
      "source": [
        "class Solution(object):\n",
        "    def maximumGap(self, nums):\n",
        "        \"\"\"\n",
        "        :type nums: List[int]\n",
        "        :rtype: int\n",
        "        \"\"\"\n",
        "        maxx= 0\n",
        "        nums.sort()\n",
        "\n",
        "        for i in range(1,len(nums)):\n",
        "            print(abs(nums[i]-nums[i-1]))\n",
        "            maxx = max(maxx, abs(nums[i]-nums[i-1]))\n",
        "\n",
        "        return maxx"
      ],
      "metadata": {
        "id": "kAoITCoH-sfp"
      },
      "execution_count": null,
      "outputs": []
    },
    {
      "cell_type": "code",
      "source": [
        "<aside>\n",
        "💡 5. **Contains Duplicate**\n",
        "\n",
        "Given an integer array `nums`, return `true` if any value appears **at least twice** in the array, and return `false` if every element is distinct.\n",
        "\n",
        "**Example 1:**\n",
        "\n",
        "</aside>"
      ],
      "metadata": {
        "id": "5IEgCbaY-sh5"
      },
      "execution_count": null,
      "outputs": []
    },
    {
      "cell_type": "code",
      "source": [
        "class Solution(object):\n",
        "    def containsDuplicate(self, nums):\n",
        "        \"\"\"\n",
        "        :type nums: List[int]\n",
        "        :rtype: bool\n",
        "        \"\"\"\n",
        "        d={}\n",
        "        for i in range(len(nums)):\n",
        "            d[nums[i]]=d.get(nums[i],0)+1\n",
        "\n",
        "        for i,j in d.items():\n",
        "            if j>1:\n",
        "                return True\n",
        "\n",
        "        return False"
      ],
      "metadata": {
        "id": "9ibVwVsh-sjt"
      },
      "execution_count": null,
      "outputs": []
    },
    {
      "cell_type": "code",
      "source": [
        "<aside>\n",
        "💡 6. **Minimum Number of Arrows to Burst Balloons**\n",
        "\n",
        "There are some spherical balloons taped onto a flat wall that represents the XY-plane. The balloons are represented as a 2D integer array `points` where `points[i] = [xstart, xend]` denotes a balloon whose **horizontal diameter** stretches between `xstart` and `xend`. You do not know the exact y-coordinates of the balloons.\n",
        "\n",
        "Arrows can be shot up **directly vertically** (in the positive y-direction) from different points along the x-axis. A balloon with `xstart` and `xend` is **burst** by an arrow shot at `x` if `xstart <= x <= xend`. There is **no limit** to the number of arrows that can be shot. A shot arrow keeps traveling up infinitely, bursting any balloons in its path.\n",
        "\n",
        "Given the array `points`, return *the **minimum** number of arrows that must be shot to burst all balloons*.\n",
        "\n",
        "</aside>"
      ],
      "metadata": {
        "id": "Uoo6saZw-slj"
      },
      "execution_count": null,
      "outputs": []
    },
    {
      "cell_type": "code",
      "source": [
        "class Solution(object):\n",
        "    def findMinArrowShots(self, points):\n",
        "        \"\"\"\n",
        "        :type points: List[List[int]]\n",
        "        :rtype: int\n",
        "        \"\"\"\n",
        "        points.sort(key=lambda x:x[0])\n",
        "\n",
        "        index=0\n",
        "\n",
        "        for i in range(len(points)):\n",
        "            if points[i][0]<=points[index][1]:\n",
        "                continue\n",
        "            else:\n",
        "                index+=1\n",
        "                points[index]=points[i]\n",
        "\n",
        "        print(points)\n",
        "\n",
        "        return index+1"
      ],
      "metadata": {
        "id": "AM0xT7Dw-snu"
      },
      "execution_count": null,
      "outputs": []
    },
    {
      "cell_type": "code",
      "source": [
        "<aside>\n",
        "💡 7. **Longest Increasing Subsequence**\n",
        "\n",
        "Given an integer array `nums`, return *the length of the longest **strictly increasing***\n",
        "\n",
        "***subsequence***\n",
        "\n",
        "</aside>"
      ],
      "metadata": {
        "id": "m_G7A25j-spD"
      },
      "execution_count": null,
      "outputs": []
    },
    {
      "cell_type": "code",
      "source": [],
      "metadata": {
        "id": "6w7CEUXK-sq1"
      },
      "execution_count": null,
      "outputs": []
    },
    {
      "cell_type": "code",
      "source": [
        "<aside>\n",
        "💡 8. **132 Pattern**\n",
        "\n",
        "Given an array of `n` integers `nums`, a **132 pattern** is a subsequence of three integers `nums[i]`, `nums[j]` and `nums[k]` such that `i < j < k` and `nums[i] < nums[k] < nums[j]`.\n",
        "\n",
        "Return `true` *if there is a **132 pattern** in* `nums`*, otherwise, return* `false`*.*\n",
        "\n",
        "**Example 1:**\n",
        "\n",
        "</aside>"
      ],
      "metadata": {
        "id": "qFCpCqWJ-stc"
      },
      "execution_count": null,
      "outputs": []
    },
    {
      "cell_type": "code",
      "source": [
        "class Solution(object):\n",
        "    def find132pattern(self, nums):\n",
        "        \"\"\"\n",
        "        :type nums: List[int]\n",
        "        :rtype: bool\n",
        "        \"\"\"\n",
        "\n",
        "        for i in range(len(nums)):\n",
        "            for j in range(i+1,len(nums)):\n",
        "                if nums[j]>nums[i]:\n",
        "                    for k in range(j+1,len(nums)):\n",
        "                        if nums[k]<nums[j] and nums[k]>nums[i]:\n",
        "                            return True\n",
        "\n",
        "        return False"
      ],
      "metadata": {
        "id": "LN4uTINxQNb0"
      },
      "execution_count": null,
      "outputs": []
    }
  ]
}