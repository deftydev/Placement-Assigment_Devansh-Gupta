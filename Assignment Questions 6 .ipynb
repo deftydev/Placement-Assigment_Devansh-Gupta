{
 "cells": [
  {
   "cell_type": "code",
   "execution_count": null,
   "id": "3115c1ff",
   "metadata": {},
   "outputs": [],
   "source": [
    "<aside>\n",
    "💡 **Question 1**\n",
    "\n",
    "A permutation perm of n + 1 integers of all the integers in the range \n",
    "[0, n] can be represented as a string s of length n where:\n",
    "\n",
    "- s[i] == 'I' if perm[i] < perm[i + 1], and\n",
    "- s[i] == 'D' if perm[i] > perm[i + 1].\n",
    "\n",
    "Given a string s, reconstruct the permutation perm and return it. \n",
    "If there are multiple valid permutations perm, return **any of them**.\n",
    "\n",
    "**Example 1:**\n",
    "\n",
    "**Input:** s = \"IDID\"\n",
    "\n",
    "**Output:**\n",
    "\n",
    "[0,4,1,3,2]\n",
    "\n",
    "</aside>"
   ]
  },
  {
   "cell_type": "code",
   "execution_count": 39,
   "id": "9130014f",
   "metadata": {},
   "outputs": [
    {
     "name": "stdout",
     "output_type": "stream",
     "text": [
      "[0, 4, 1, 3]\n"
     ]
    }
   ],
   "source": [
    "s = \"IDID\"\n",
    "\n",
    "count1 = -1\n",
    "count2 = len(s) + 1\n",
    "result = []\n",
    "for i in range(len(s)) :\n",
    "    if (s[i] == \"I\"):\n",
    "        count1 = count1 + 1\n",
    "        result.append(count1)\n",
    "    else:\n",
    "        count2 = count2 - 1\n",
    "        result.append(count2)\n",
    "        \n",
    "print(result)"
   ]
  },
  {
   "cell_type": "code",
   "execution_count": null,
   "id": "df57c2e1",
   "metadata": {},
   "outputs": [],
   "source": [
    "You are given an m x n integer matrix matrix with the following two properties:\n",
    "\n",
    "- Each row is sorted in non-decreasing order.\n",
    "- The first integer of each row is greater than the last integer of the previous row.\n",
    "\n",
    "Given an integer target, return true *if* target *is in* matrix *or* false *otherwise*.\n",
    "\n",
    "You must write a solution in O(log(m * n)) time complexity."
   ]
  },
  {
   "cell_type": "code",
   "execution_count": 9,
   "id": "e9ce2145",
   "metadata": {},
   "outputs": [
    {
     "name": "stdout",
     "output_type": "stream",
     "text": [
      "true\n"
     ]
    }
   ],
   "source": [
    "matrix = [[1,3,5,7],[10,11,16,20],[23,30,34,60]]\n",
    "target = 3\n",
    "start=0\n",
    "for i in range(len(matrix)):\n",
    "    if matrix[i][0]<target:\n",
    "        continue\n",
    "    else:\n",
    "        start+= i-1\n",
    "        break\n",
    "        \n",
    "\n",
    "flag=False       \n",
    "for j in range(len(matrix[0])):\n",
    "    if matrix[start][j]==target:\n",
    "        flag=True\n",
    "        break\n",
    "    else:\n",
    "        continue\n",
    "        \n",
    "if(flag):\n",
    "    print(\"true\")\n",
    "else:\n",
    "    print(\"false\")"
   ]
  },
  {
   "cell_type": "code",
   "execution_count": null,
   "id": "7ec0f597",
   "metadata": {},
   "outputs": [],
   "source": [
    "<aside>\n",
    "💡 **Question 3**\n",
    "\n",
    "Given an array of integers arr, return *true if and only if it is a valid mountain array*.\n",
    "\n",
    "Recall that arr is a mountain array if and only if:\n",
    "\n",
    "- arr.length >= 3\n",
    "- There exists some i with 0 < i < arr.length - 1 such that:\n",
    "    - arr[0] < arr[1] < ... < arr[i - 1] < arr[i]\n",
    "    - arr[i] > arr[i + 1] > ... > arr[arr.length - 1]\n",
    "</aside>"
   ]
  },
  {
   "cell_type": "code",
   "execution_count": 11,
   "id": "5341e804",
   "metadata": {},
   "outputs": [
    {
     "name": "stdout",
     "output_type": "stream",
     "text": [
      "true\n"
     ]
    }
   ],
   "source": [
    "arr = [0,2,3,4,5,2,1,0]\n",
    "\n",
    "for i in range(1,len(arr)):\n",
    "    if arr[i]<arr[i-1]:\n",
    "        dec=i\n",
    "        break\n",
    "flag=True      \n",
    "for j in range(1,i):\n",
    "    if arr[j]>arr[j-1]:\n",
    "        continue\n",
    "    else:\n",
    "        flag=False\n",
    "        break\n",
    "        \n",
    "for j in range(i,len(arr)):\n",
    "    if arr[j]<arr[j-1]:\n",
    "        continue\n",
    "    else:\n",
    "        flag=False\n",
    "        break\n",
    "        \n",
    "if(flag):\n",
    "    print(\"true\")\n",
    "else:\n",
    "    print(\"false\")"
   ]
  },
  {
   "cell_type": "code",
   "execution_count": null,
   "id": "39a5435c",
   "metadata": {},
   "outputs": [],
   "source": [
    "<aside>\n",
    "💡 **Question 4**\n",
    "\n",
    "Given a binary array nums, return *the maximum length of a contiguous subarray with an equal number of* 0 *and* 1.\n",
    "\n",
    "**Example 1:**\n",
    "\n",
    "**Input:** nums = [0,1]\n",
    "\n",
    "**Output:** 2\n",
    "\n",
    "</aside>"
   ]
  },
  {
   "cell_type": "code",
   "execution_count": 16,
   "id": "99d05170",
   "metadata": {},
   "outputs": [
    {
     "name": "stdout",
     "output_type": "stream",
     "text": [
      "4\n"
     ]
    }
   ],
   "source": [
    "num=0\n",
    "nums=[0,1,2,0,0,1,0,10]\n",
    "l=0\n",
    "for i in range(len(nums)):\n",
    "    if nums[i]==0 or nums[i]==1:\n",
    "        l+=1\n",
    "    else:\n",
    "        if(l>num):\n",
    "          \n",
    "            num=l\n",
    "        l=0\n",
    "        \n",
    "if(l>num):\n",
    "    num=l\n",
    "        \n",
    "print(num)"
   ]
  },
  {
   "cell_type": "code",
   "execution_count": null,
   "id": "14e0fba0",
   "metadata": {},
   "outputs": [],
   "source": [
    "<aside>\n",
    "💡 **Question 5**\n",
    "\n",
    "The **product sum** of two equal-length arrays a and b is equal to the sum of a[i] * b[i] for all 0 <= i < a.length (**0-indexed**).\n",
    "\n",
    "- For example, if a = [1,2,3,4] and b = [5,2,3,1], the **product sum** would be 1*5 + 2*2 + 3*3 + 4*1 = 22.\n",
    "\n",
    "Given two arrays nums1 and nums2 of length n, return *the **minimum product sum** if you are allowed to **rearrange** the **order** of the elements in* nums1.\n",
    "\n",
    "</aside>"
   ]
  },
  {
   "cell_type": "code",
   "execution_count": 18,
   "id": "8772cc0e",
   "metadata": {},
   "outputs": [
    {
     "name": "stdout",
     "output_type": "stream",
     "text": [
      "40\n"
     ]
    }
   ],
   "source": [
    "nums1 = [5,3,4,2]\n",
    "nums2 = [4,2,2,5]\n",
    "\n",
    "nums1.sort(reverse=True)\n",
    "nums2.sort()\n",
    "summ=0\n",
    "\n",
    "for i in range(len(nums1)):\n",
    "    summ+=nums1[i]*nums2[i]\n",
    "    \n",
    "print(summ)"
   ]
  },
  {
   "cell_type": "code",
   "execution_count": null,
   "id": "22bcd884",
   "metadata": {},
   "outputs": [],
   "source": [
    "<aside>\n",
    "💡 **Question 6**\n",
    "\n",
    "An integer array original is transformed into a **doubled** array changed by appending **twice the value** of \n",
    "every element in original, and then randomly **shuffling** the resulting array.\n",
    "\n",
    "Given an array changed, return original *if* changed *is a **doubled** array. \n",
    "If* changed *is not a **doubled** array, return an empty array. The elements in* original *may be returned in **any** order*.\n",
    "\n",
    "**Example 1:**\n",
    "\n",
    "**Input:** changed = [1,3,4,2,6,8]\n",
    "\n",
    "**Output:** [1,3,4]\n",
    "\n",
    "</aside>"
   ]
  },
  {
   "cell_type": "code",
   "execution_count": 19,
   "id": "f6adf53a",
   "metadata": {},
   "outputs": [
    {
     "name": "stdout",
     "output_type": "stream",
     "text": [
      "[4, 3, 1]\n"
     ]
    }
   ],
   "source": [
    "nums= [1,3,4,2,6,8]\n",
    "\n",
    "nums.sort(reverse=True)\n",
    "l= len(nums)//2\n",
    "f_l=[]\n",
    "listt=[]\n",
    "for i in range(l):\n",
    "    if nums[i]//2 in nums:\n",
    "        ele= nums[i]//2\n",
    "        nums.remove(ele)\n",
    "        f_l.append(ele)\n",
    "        \n",
    "    else:\n",
    "        print(listt)\n",
    "        \n",
    "print(f_l)"
   ]
  },
  {
   "cell_type": "code",
   "execution_count": null,
   "id": "ec1814c5",
   "metadata": {},
   "outputs": [],
   "source": [
    "<aside>\n",
    "💡 **Question 7**\n",
    "\n",
    "Given a positive integer n, generate an n x n matrix filled with elements from 1 to n2 in spiral order.\n",
    "\n",
    "**Example 1:**\n",
    "\n",
    "</aside>"
   ]
  },
  {
   "cell_type": "code",
   "execution_count": 35,
   "id": "9c71abbd",
   "metadata": {},
   "outputs": [
    {
     "name": "stdout",
     "output_type": "stream",
     "text": [
      "[[1, 2, 3], [8, 9, 4], [7, 6, 5]]\n"
     ]
    }
   ],
   "source": [
    "n = 3\n",
    "    \n",
    "mat = [[0]*n for i in range(n)]\n",
    "\n",
    "dirr=0\n",
    "num=1\n",
    "l=0\n",
    "r= len(mat)-1\n",
    "t=0\n",
    "b=len(mat)-1\n",
    "\n",
    "while(l<=r and t<=b):\n",
    "    if(dirr==0):\n",
    "        for i in range(l,r+1,1):\n",
    "            mat[t][i]=num\n",
    "            num+=1\n",
    "        t+=1\n",
    "        dirr+=1\n",
    "    if(dirr==1):\n",
    "        for i in range(t,b+1,1):\n",
    "            mat[i][r]=num\n",
    "            num+=1\n",
    "        r=r-1\n",
    "        dirr+=1\n",
    "    if(dirr==2):\n",
    "        for i in range(r,l-1,-1):\n",
    "            mat[b][i]=num\n",
    "            num+=1\n",
    "        b=b-1\n",
    "        dirr+=1\n",
    "        \n",
    "    if(dirr==3):\n",
    "        for i in range(b,t-1,-1):\n",
    "            mat[i][l]=num\n",
    "            num+=1\n",
    "        l=l+1\n",
    "        dirr+=1\n",
    "        \n",
    "    dirr=dirr%4\n",
    "print(mat)"
   ]
  },
  {
   "cell_type": "code",
   "execution_count": null,
   "id": "579be826",
   "metadata": {},
   "outputs": [],
   "source": [
    "<aside>\n",
    "💡 **Question 8**\n",
    "\n",
    "Given two [sparse matrices](https://en.wikipedia.org/wiki/Sparse_matrix) mat1 of size m x k and mat2 \n",
    "of size k x n, return the result of mat1 x mat2. You may assume that multiplication is always possible.\n",
    "\n",
    "</aside>"
   ]
  },
  {
   "cell_type": "code",
   "execution_count": 28,
   "id": "356969a7",
   "metadata": {},
   "outputs": [
    {
     "name": "stdout",
     "output_type": "stream",
     "text": [
      "[[7, 0, 0], [-7, 0, 3]]\n"
     ]
    }
   ],
   "source": [
    "mat1 = [[1,0,0],[-1,0,3]]\n",
    "mat2 = [[7,0,0],[0,0,0],[0,0,1]]\n",
    "m=len(mat1)\n",
    "n=len(mat2[0])\n",
    "\n",
    "mat= [[0]*n for i in range(m)]\n",
    "\n",
    "\n",
    "for i in range(len(mat1)):\n",
    "    \n",
    "    for j in range(len(mat2[0])):\n",
    "\n",
    "        for k in range(len(mat2)):\n",
    "            \n",
    "            mat[i][j] += mat1[i][k] * mat2[k][j]\n",
    "            \n",
    "print(mat)"
   ]
  }
 ],
 "metadata": {
  "kernelspec": {
   "display_name": "Python 3 (ipykernel)",
   "language": "python",
   "name": "python3"
  },
  "language_info": {
   "codemirror_mode": {
    "name": "ipython",
    "version": 3
   },
   "file_extension": ".py",
   "mimetype": "text/x-python",
   "name": "python",
   "nbconvert_exporter": "python",
   "pygments_lexer": "ipython3",
   "version": "3.9.13"
  }
 },
 "nbformat": 4,
 "nbformat_minor": 5
}
