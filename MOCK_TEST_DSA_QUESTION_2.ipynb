{
 "cells": [
  {
   "cell_type": "code",
   "execution_count": null,
   "id": "b484ae36",
   "metadata": {},
   "outputs": [],
   "source": [
    "First Unique Character in a String\n",
    "\n",
    "Given a string s, find the first non-repeating character in it and return its index. If it does not exist, return -1.\n",
    "\n",
    "Example 1:\n",
    "Input: s = \"leetcode\"\n",
    "Output: 0\n",
    "\n",
    "Example 2:\n",
    "Input: s = \"loveleetcode\"\n",
    "Output: 2\n",
    "\n",
    "Example 3:\n",
    "Input: s = \"aabb\"\n",
    "Output: -1\n",
    "\n",
    "Constraints:\n",
    "a. 1 <= s.length <= 10^5\n",
    "b. s consists of only lowercase English letters.\n"
   ]
  },
  {
   "cell_type": "code",
   "execution_count": 8,
   "id": "a2c73f62",
   "metadata": {},
   "outputs": [
    {
     "name": "stdout",
     "output_type": "stream",
     "text": [
      "aabb first non repeating character index is -1\n",
      "loveleetcode first non repeating character index is 2\n",
      "leetcode first non repeating character index is 0\n"
     ]
    }
   ],
   "source": [
    "from collections import OrderedDict\n",
    "l = [\"aabb\",\"loveleetcode\",\"leetcode\"]\n",
    "\n",
    "def first_non(s):\n",
    "    if len(set(s))==len(s):\n",
    "        return -1\n",
    "    \n",
    "    d=OrderedDict()\n",
    "    for i in range(len(s)):\n",
    "        d[s[i]]=d.get(s[i],0)+1\n",
    "        \n",
    "    for i,j in d.items():\n",
    "        if j==1:\n",
    "            return s.index(i)\n",
    "        \n",
    "    return -1\n",
    "\n",
    "for i in l:\n",
    "    print(i +\" first non repeating character index is \"+str(first_non(i)))"
   ]
  }
 ],
 "metadata": {
  "kernelspec": {
   "display_name": "Python 3 (ipykernel)",
   "language": "python",
   "name": "python3"
  },
  "language_info": {
   "codemirror_mode": {
    "name": "ipython",
    "version": 3
   },
   "file_extension": ".py",
   "mimetype": "text/x-python",
   "name": "python",
   "nbconvert_exporter": "python",
   "pygments_lexer": "ipython3",
   "version": "3.9.13"
  }
 },
 "nbformat": 4,
 "nbformat_minor": 5
}
