{
  "nbformat": 4,
  "nbformat_minor": 0,
  "metadata": {
    "colab": {
      "provenance": []
    },
    "kernelspec": {
      "name": "python3",
      "display_name": "Python 3"
    },
    "language_info": {
      "name": "python"
    }
  },
  "cells": [
    {
      "cell_type": "code",
      "execution_count": null,
      "metadata": {
        "id": "6DEqcvC66RIO"
      },
      "outputs": [],
      "source": [
        "<aside>\n",
        "💡 Question-1\n",
        "\n",
        "You are given a binary tree. The binary tree is represented using the TreeNode class. Each TreeNode has an integer value and left and right children, represented using the TreeNode class itself. Convert this binary tree into a binary search tree.\n",
        "\n",
        "</aside>"
      ]
    },
    {
      "cell_type": "code",
      "source": [
        "def converttobst(root):\n",
        "  arr=[]\n",
        "  inorder(root,arr)\n",
        "  arr.sort()\n",
        "\n",
        "  arrtobst(arr,root)\n",
        "\n",
        "def arrtobst(arr,root):\n",
        "  if root is None:\n",
        "    return\n",
        "\n",
        "  arrtobst(arr,root.left)\n",
        "  ele=arr.pop(0)\n",
        "  root.data=ele\n",
        "  arrtobst(arr,root.right)\n",
        "\n",
        "\n",
        "\n",
        "def inorder(root,arr):\n",
        "  if root is not None:\n",
        "    inorder(root.left,arr)\n",
        "    arr.append(root.data)\n",
        "    inorder(root.right,arr)"
      ],
      "metadata": {
        "id": "JqGQdQNP7vJc"
      },
      "execution_count": null,
      "outputs": []
    },
    {
      "cell_type": "code",
      "source": [
        "<aside>\n",
        "💡 Question-2:\n",
        "\n",
        "Given a Binary Search Tree with all unique values and two keys. Find the distance between two nodes in BST. The given keys always exist in BST.\n",
        "\n",
        "</aside>"
      ],
      "metadata": {
        "id": "8u47SdiPD5WP"
      },
      "execution_count": null,
      "outputs": []
    },
    {
      "cell_type": "code",
      "source": [
        "def levels(root):\n",
        "  if root is None:\n",
        "    return 0\n",
        "  return 1+max(levels(root.left),levels(root.right))\n",
        "def dist(input_list,num1,num2):\n",
        "  root= input_list[0]\n",
        "  return dis(root,num1,num2)\n",
        "\n",
        "def dis(root,num1,num2):\n",
        "  if root.val<num1 and root.val>num2:\n",
        "    summ=0\n",
        "    val=search(root,num1,summ)\n",
        "    sum2=0\n",
        "    val2=search(root,num2,summ)\n",
        "    return val1+val2\n",
        "  elif root.val<num2 and root.val>num1:\n",
        "    summ=0\n",
        "    val=search(root,num1,summ)\n",
        "    sum2=0\n",
        "    val2=search(root,num2,summ)\n",
        "    return val1+val2\n",
        "  elif root.val<num1 and root.val<num2:\n",
        "    dis(root.left,num1,num2)\n",
        "  else:\n",
        "    dis(root.right,num1,num2)\n",
        "\n",
        "def search(root,num1,summ):\n",
        "  if root is None:\n",
        "    return false\n",
        "  if root.val==num1:\n",
        "    return summ\n",
        "  elif root.val<num1:\n",
        "    summ+=1\n",
        "    search(root.left,summ)\n",
        "  else:\n",
        "    summ+=1\n",
        "    search(root.right,summ)"
      ],
      "metadata": {
        "id": "jRhUCVVED5YR"
      },
      "execution_count": null,
      "outputs": []
    },
    {
      "cell_type": "code",
      "source": [
        "<aside>\n",
        "💡 Question-3:\n",
        "\n",
        "Write a program to convert a binary tree to a doubly linked list.\n",
        "\n",
        "</aside>"
      ],
      "metadata": {
        "id": "kNtv7_RwD5ai"
      },
      "execution_count": null,
      "outputs": []
    },
    {
      "cell_type": "code",
      "source": [
        "prev=null , head=null\n",
        "\n",
        "def converttoll(root):\n",
        "  if root is None:\n",
        "    return None\n",
        "  converttoll(root.left)\n",
        "  if prev is None:\n",
        "    head=root\n",
        "  else:\n",
        "    root.left=prev\n",
        "    prev.right=root\n",
        "  prev=root\n",
        "  converttoll(root.right)"
      ],
      "metadata": {
        "id": "c7u_OlGfD5e9"
      },
      "execution_count": null,
      "outputs": []
    },
    {
      "cell_type": "code",
      "source": [
        "Write a program to connect nodes at the same level."
      ],
      "metadata": {
        "id": "Onz6aS4kD5if"
      },
      "execution_count": null,
      "outputs": []
    },
    {
      "cell_type": "code",
      "source": [
        "def levels(root):\n",
        "  if root is None:\n",
        "    return 0\n",
        "  return 1+max(levels(root.left),levels(root.right))\n",
        "\n",
        "class Node:\n",
        "  def __init__(self,val,next=None):\n",
        "    self.val=val\n",
        "    self.next=next\n",
        "class LinkedList:\n",
        "  def __init__(self,val):\n",
        "    a=Node(val)\n",
        "\n",
        "def connect(root):\n",
        "\n",
        "  listt=levelOrder(root)\n",
        "  for i in range(len(listt)):\n",
        "    a=listt[i]\n",
        "    a1=listt[i][0]\n",
        "    if len(a)==1:\n",
        "      ll=LinkedList(a1)\n",
        "      ll.next=-1\n",
        "      print(ll)\n",
        "    else:\n",
        "      ll=LinkedList(a1)\n",
        "      for j in range(1,len(a)):\n",
        "        ll.next=listt[i][j]\n",
        "      print(ll)\n",
        "\n",
        "    def levelOrder(self, root):\n",
        "        if not root:\n",
        "            return []\n",
        "        q = deque()\n",
        "        q.append(root)\n",
        "        res = []\n",
        "        while len(q):\n",
        "            lev = []\n",
        "            for i in range(len(q)):\n",
        "                el = q.popleft()\n",
        "                lev.append(el.val)\n",
        "                if el.left:\n",
        "                    q.append(el.left)\n",
        "                if el.right:\n",
        "                    q.append(el.right)\n",
        "            res.append(lev)\n",
        "        return res"
      ],
      "metadata": {
        "id": "cpiBGgZ-D5ve"
      },
      "execution_count": null,
      "outputs": []
    }
  ]
}