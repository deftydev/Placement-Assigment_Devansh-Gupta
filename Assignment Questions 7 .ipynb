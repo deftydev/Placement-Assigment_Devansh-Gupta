{
 "cells": [
  {
   "cell_type": "code",
   "execution_count": null,
   "id": "59be4e5f",
   "metadata": {},
   "outputs": [],
   "source": [
    "<aside>\n",
    "💡 **Question 1**\n",
    "\n",
    "Given two strings s and t, *determine if they are isomorphic*.\n",
    "\n",
    "Two strings s and t are isomorphic if the characters in s can be replaced to get t.\n",
    "\n",
    "All occurrences of a character must be replaced with another character while preserving the order of characters. No two characters may map to the same character, but a character may map to itself.\n",
    "\n",
    "**Example 1:**\n",
    "\n",
    "**Input:** s = \"egg\", t = \"add\"\n",
    "\n",
    "**Output:** true\n",
    "\n",
    "</aside>"
   ]
  },
  {
   "cell_type": "code",
   "execution_count": 5,
   "id": "597c3a78",
   "metadata": {},
   "outputs": [
    {
     "name": "stdout",
     "output_type": "stream",
     "text": [
      "true\n"
     ]
    }
   ],
   "source": [
    "str1=\"egg\"\n",
    "str2=\"add\"\n",
    "\n",
    "\n",
    "d={}\n",
    "j=0\n",
    "if(len(str1)>=len(str2)):\n",
    "    for i in range(len(str1)):\n",
    "        if str1[i:i+1] not in d:\n",
    "            d[str1[i:i+1]] = str2[j:j+1]\n",
    "            j+=1\n",
    "        elif d.get(str1[i:i+1])==str2[j:j+1]:\n",
    "            j+=1\n",
    "            continue\n",
    "        else:\n",
    "            print(\"false\")\n",
    "            break\n",
    "\n",
    "print(\"true\")"
   ]
  },
  {
   "cell_type": "code",
   "execution_count": null,
   "id": "ee8f14bb",
   "metadata": {},
   "outputs": [],
   "source": [
    "<aside>\n",
    "💡 **Question 2**\n",
    "\n",
    "Given a string num which represents an integer, return true *if* num *is a **strobogrammatic number***.\n",
    "\n",
    "A **strobogrammatic number** is a number that looks the same when rotated 180 degrees (looked at upside down).\n",
    "\n",
    "**Example 1:**\n",
    "\n",
    "**Input:** num = \"69\"\n",
    "\n",
    "**Output:**\n",
    "\n",
    "true\n",
    "\n",
    "</aside>"
   ]
  },
  {
   "cell_type": "code",
   "execution_count": 6,
   "id": "7ead385c",
   "metadata": {},
   "outputs": [
    {
     "name": "stdout",
     "output_type": "stream",
     "text": [
      "number is stobogramatic\n"
     ]
    }
   ],
   "source": [
    "s=\"906\"\n",
    "\n",
    "num = int(s)\n",
    "flag=False\n",
    "\n",
    "    \n",
    "for i in range(0,len(s)):\n",
    "    if s[i:i+1]==\"0\" or s[i:i+1]==\"1\" or s[i:i+1]==\"8\" or s[i:i+1]==\"6\" or s[i:i+1]==\"9\":\n",
    "        flag=True\n",
    "    else:\n",
    "        flag=False\n",
    "        break\n",
    "    \n",
    "if(flag==True):\n",
    "    print(\"number is stobogramatic\")\n",
    "else:\n",
    "    print(\"number is not stobogramatic\")\n"
   ]
  },
  {
   "cell_type": "code",
   "execution_count": null,
   "id": "5126496e",
   "metadata": {},
   "outputs": [],
   "source": [
    "<aside>\n",
    "💡 **Question 3**\n",
    "\n",
    "Given two non-negative integers, num1 and num2 represented as string, return *the sum of* num1 *and* num2 *as a string*.\n",
    "\n",
    "You must solve the problem without using any built-in library for handling large integers (such as BigInteger). You must also not convert the inputs to integers directly.\n",
    "\n",
    "**Example 1:**\n",
    "\n",
    "**Input:** num1 = \"11\", num2 = \"123\"\n",
    "\n",
    "**Output:**\n",
    "\n",
    "\"134\"\n",
    "\n",
    "</aside>"
   ]
  },
  {
   "cell_type": "code",
   "execution_count": 9,
   "id": "86bb19a8",
   "metadata": {},
   "outputs": [
    {
     "name": "stdout",
     "output_type": "stream",
     "text": [
      "134\n",
      "<class 'str'>\n"
     ]
    }
   ],
   "source": [
    "num1 = \"11\"\n",
    "num2 = \"123\"\n",
    "\n",
    "n=int(num1)+int(num2)\n",
    "\n",
    "print(str(n))\n",
    "print(type(str(n)))"
   ]
  },
  {
   "cell_type": "code",
   "execution_count": null,
   "id": "53f9d794",
   "metadata": {},
   "outputs": [],
   "source": [
    "<aside>\n",
    "💡 **Question 4**\n",
    "\n",
    "Given a string s, reverse the order of characters in each word within a sentence while still preserving whitespace and initial word order.\n",
    "\n",
    "**Example 1:**\n",
    "\n",
    "**Input:** s = \"Let's take LeetCode contest\"\n",
    "\n",
    "**Output:** \"s'teL ekat edoCteeL tsetnoc\"\n",
    "\n",
    "</aside>"
   ]
  },
  {
   "cell_type": "code",
   "execution_count": 2,
   "id": "0fb99088",
   "metadata": {},
   "outputs": [
    {
     "name": "stdout",
     "output_type": "stream",
     "text": [
      "[\"Let's\", 'take', 'LeetCode', 'contest']\n",
      "s'teL ekat edoCteeL tsetnoc \n"
     ]
    }
   ],
   "source": [
    "s = \"Let's take LeetCode contest\"\n",
    "\n",
    "l=s.split(\" \")\n",
    "print(l)\n",
    "\n",
    "for i in range(len(l)):\n",
    "    l[i]=l[i][::-1]\n",
    "    \n",
    "f_s=\"\"\n",
    "\n",
    "for i in l:\n",
    "    f_s+=i+\" \"\n",
    "    \n",
    "print(f_s)"
   ]
  },
  {
   "cell_type": "code",
   "execution_count": null,
   "id": "dd9fd17c",
   "metadata": {},
   "outputs": [],
   "source": [
    "<aside>\n",
    "💡 **Question 5**\n",
    "\n",
    "Given a string s and an integer k, reverse the first k characters for every 2k characters counting from the start of the string.\n",
    "\n",
    "If there are fewer than k characters left, reverse all of them. If there are less than 2k but greater than or equal to k characters, then reverse the first k characters and leave the other as original.\n",
    "\n",
    "**Example 1:**\n",
    "\n",
    "**Input:** s = \"abcdefg\", k = 2\n",
    "\n",
    "**Output:**\n",
    "\n",
    "\"bacdfeg\"\n",
    "\n",
    "</aside>"
   ]
  },
  {
   "cell_type": "code",
   "execution_count": 15,
   "id": "ff8959fc",
   "metadata": {},
   "outputs": [
    {
     "name": "stdout",
     "output_type": "stream",
     "text": [
      "bacdfeg\n"
     ]
    }
   ],
   "source": [
    "s=\"abcdefg\"\n",
    "\n",
    "k=2\n",
    "j=2\n",
    "f_s=\"\"\n",
    "for i in range(0,len(s),4):\n",
    "    f_s+= s[i:i+k][::-1]\n",
    "    f_s+=s[j:j+k]\n",
    "    j+=4\n",
    "    \n",
    "print(f_s)"
   ]
  },
  {
   "cell_type": "code",
   "execution_count": null,
   "id": "5883b7c9",
   "metadata": {},
   "outputs": [],
   "source": [
    "<aside>\n",
    "💡 **Question 6**\n",
    "\n",
    "Given two strings s and goal, return true *if and only if* s *can become* goal *after some number of **shifts** on* s.\n",
    "\n",
    "A **shift** on s consists of moving the leftmost character of s to the rightmost position.\n",
    "\n",
    "- For example, if s = \"abcde\", then it will be \"bcdea\" after one shift.\n",
    "\n",
    "**Example 1:**\n",
    "\n",
    "**Input:** s = \"abcde\", goal = \"cdeab\"\n",
    "\n",
    "</aside>"
   ]
  },
  {
   "cell_type": "code",
   "execution_count": 26,
   "id": "7d9e00ea",
   "metadata": {},
   "outputs": [
    {
     "name": "stdout",
     "output_type": "stream",
     "text": [
      "true\n"
     ]
    }
   ],
   "source": [
    "s= \"abcde\"\n",
    "out= \"bcdea\"\n",
    "flag=True\n",
    "if(len(s)!=len(out)):\n",
    "    flag=False\n",
    "    \n",
    "\n",
    "if(flag)==True:\n",
    "    for i in range(len(s)):\n",
    "        if s[i:i+1]==out[0:1]:\n",
    "            prev_s=s[0:i]\n",
    "            rem_s=s[i:len(s)]\n",
    "            break\n",
    "    final_new= rem_s+prev_s\n",
    "    \n",
    "if(final_new == out):\n",
    "    print(\"true\")\n",
    "else:\n",
    "    print(\"false\")  "
   ]
  },
  {
   "cell_type": "code",
   "execution_count": null,
   "id": "06c5bf90",
   "metadata": {},
   "outputs": [],
   "source": [
    "<aside>\n",
    "💡 **Question 7**\n",
    "\n",
    "Given two strings s and t, return true *if they are equal when both are typed into empty text editors*. '#' means a backspace character.\n",
    "\n",
    "Note that after backspacing an empty text, the text will continue empty.\n",
    "\n",
    "**Example 1:**\n",
    "\n",
    "**Input:** s = \"ab#c\", t = \"ad#c\"\n",
    "\n",
    "</aside>"
   ]
  },
  {
   "cell_type": "code",
   "execution_count": 36,
   "id": "04b2ab56",
   "metadata": {},
   "outputs": [
    {
     "name": "stdout",
     "output_type": "stream",
     "text": [
      "true\n"
     ]
    }
   ],
   "source": [
    "s = \"ab#c\"\n",
    "t = \"ad#c\"\n",
    "\n",
    "ss=\"\"\n",
    "for i in range(len(s)):\n",
    "    if(i!=len(s)-1):\n",
    "        if s[i+1]==\"#\" or s[i]==\"#\":\n",
    "            continue\n",
    "    if(s[i]!=\"#\"):\n",
    "        ss+=s[i]\n",
    "st=\"\"   \n",
    "for i in range(len(t)):\n",
    "    if(i!=len(t)-1):\n",
    "        if t[i+1]==\"#\" or t[i]==\"#\":\n",
    "            continue\n",
    "    if(t[i]!=\"#\"):\n",
    "        st+=t[i]\n",
    "        \n",
    "if(ss==st):\n",
    "    print(\"true\")\n",
    "else:\n",
    "    print(\"false\")"
   ]
  },
  {
   "cell_type": "code",
   "execution_count": null,
   "id": "5390182f",
   "metadata": {},
   "outputs": [],
   "source": [
    "<aside>\n",
    "💡 **Question 8**\n",
    "\n",
    "You are given an array coordinates, coordinates[i] = [x, y], where [x, y] represents the coordinate of a point. Check if these points make a straight line in the XY plane.\n",
    "\n",
    "**Example 1:**\n",
    "\n",
    "</aside>"
   ]
  },
  {
   "cell_type": "code",
   "execution_count": 37,
   "id": "c80e67fd",
   "metadata": {},
   "outputs": [
    {
     "name": "stdout",
     "output_type": "stream",
     "text": [
      "true\n"
     ]
    }
   ],
   "source": [
    "cor = [[1,2],[2,3],[3,4],[4,5],[5,6],[6,7]]\n",
    "flag=True\n",
    "for i in range(len(cor)-1):\n",
    "    a = cor[i]\n",
    "    b=cor[i+1]\n",
    "    \n",
    "    if a[0]+1==b[0] and a[1]+1==b[1]:\n",
    "        continue\n",
    "    else:\n",
    "        print(\"false\")\n",
    "        flag=False\n",
    "        break\n",
    "        \n",
    "if(flag):\n",
    "    print(\"true\")"
   ]
  }
 ],
 "metadata": {
  "kernelspec": {
   "display_name": "Python 3 (ipykernel)",
   "language": "python",
   "name": "python3"
  },
  "language_info": {
   "codemirror_mode": {
    "name": "ipython",
    "version": 3
   },
   "file_extension": ".py",
   "mimetype": "text/x-python",
   "name": "python",
   "nbconvert_exporter": "python",
   "pygments_lexer": "ipython3",
   "version": "3.9.13"
  }
 },
 "nbformat": 4,
 "nbformat_minor": 5
}
