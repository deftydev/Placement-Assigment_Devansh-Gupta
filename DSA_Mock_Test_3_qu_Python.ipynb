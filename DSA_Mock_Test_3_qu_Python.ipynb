{
  "nbformat": 4,
  "nbformat_minor": 0,
  "metadata": {
    "colab": {
      "provenance": []
    },
    "kernelspec": {
      "name": "python3",
      "display_name": "Python 3"
    },
    "language_info": {
      "name": "python"
    }
  },
  "cells": [
    {
      "cell_type": "code",
      "execution_count": null,
      "metadata": {
        "id": "ijm7lLoyOkB6"
      },
      "outputs": [],
      "source": [
        "Implement a queue using a list in Python. Include the necessary methods such as enqueue, dequeue, and isEmpty."
      ]
    },
    {
      "cell_type": "code",
      "source": [
        "listt=[1,2,3,4,5]\n",
        "\n",
        "\n",
        "def push(ele,listt):\n",
        "  listt.append(ele)\n",
        "  return listt\n",
        "\n",
        "def pop(listt):\n",
        "  listt.pop(0)\n",
        "  return listt\n",
        "\n",
        "def isEmpty(listt):\n",
        "  if len(listt)==0:\n",
        "    return True\n",
        "  else:\n",
        "    return False\n",
        "\n",
        "print(f\"Append into list {push(12,listt)}\")\n",
        "print(f\"list after popping{pop(listt)}\")\n",
        "print(f\"Append into list {push(11,listt)}\")\n",
        "print(isEmpty(listt))"
      ],
      "metadata": {
        "colab": {
          "base_uri": "https://localhost:8080/"
        },
        "id": "PRGLTP8kOvVO",
        "outputId": "ddb4052f-02b2-4ece-835b-bf185d7fd62c"
      },
      "execution_count": 5,
      "outputs": [
        {
          "output_type": "stream",
          "name": "stdout",
          "text": [
            "Append into list [1, 2, 3, 4, 5, 12]\n",
            "list after popping[2, 3, 4, 5, 12]\n",
            "Append into list [2, 3, 4, 5, 12, 11]\n",
            "False\n"
          ]
        }
      ]
    },
    {
      "cell_type": "code",
      "source": [],
      "metadata": {
        "id": "HaKa3Qh1OvXp"
      },
      "execution_count": null,
      "outputs": []
    },
    {
      "cell_type": "code",
      "source": [],
      "metadata": {
        "id": "ljnrgYAAOvav"
      },
      "execution_count": null,
      "outputs": []
    }
  ]
}