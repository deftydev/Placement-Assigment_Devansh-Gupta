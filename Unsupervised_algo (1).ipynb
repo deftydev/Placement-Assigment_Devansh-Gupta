{
  "cells": [
    {
      "cell_type": "code",
      "execution_count": null,
      "metadata": {
        "id": "4zMASRaKiYMQ"
      },
      "outputs": [],
      "source": [
        "import pandas as pd\n",
        "import pickle\n",
        "import numpy as np\n",
        "import seaborn as sns\n",
        "import matplotlib.pyplot as plt\n",
        "%matplotlib inline"
      ]
    },
    {
      "cell_type": "code",
      "execution_count": null,
      "metadata": {
        "id": "0qZaw6udimYa"
      },
      "outputs": [],
      "source": [
        "df= pd.read_csv('Uber.csv')\n",
        "df.drop(labels=['id','timestamp','Unnamed: 0'],axis=1 , inplace=True)"
      ]
    },
    {
      "cell_type": "code",
      "execution_count": null,
      "metadata": {
        "colab": {
          "base_uri": "https://localhost:8080/"
        },
        "id": "AdXDT-Ej9MCh",
        "outputId": "1880ab9f-c3a5-47a7-89c5-ce22d9b1dcdb"
      },
      "outputs": [
        {
          "output_type": "execute_result",
          "data": {
            "text/plain": [
              "hour                              0\n",
              "day                               0\n",
              "month                             0\n",
              "datetime                          0\n",
              "timezone                          0\n",
              "source                            0\n",
              "destination                       0\n",
              "cab_type                          0\n",
              "product_id                        0\n",
              "name                              0\n",
              "price                          1112\n",
              "distance                          0\n",
              "surge_multiplier                  0\n",
              "latitude                          0\n",
              "longitude                         0\n",
              "temperature                       0\n",
              "apparentTemperature               0\n",
              "short_summary                     0\n",
              "long_summary                      0\n",
              "precipIntensity                   1\n",
              "precipProbability                 1\n",
              "humidity                          1\n",
              "windSpeed                         1\n",
              "windGust                          1\n",
              "windGustTime                      1\n",
              "visibility                        1\n",
              "temperatureHigh                   1\n",
              "temperatureHighTime               1\n",
              "temperatureLow                    1\n",
              "temperatureLowTime                1\n",
              "apparentTemperatureHigh           1\n",
              "apparentTemperatureHighTime       1\n",
              "apparentTemperatureLow            1\n",
              "apparentTemperatureLowTime        1\n",
              "icon                              1\n",
              "dewPoint                          1\n",
              "pressure                          1\n",
              "windBearing                       1\n",
              "cloudCover                        1\n",
              "uvIndex                           1\n",
              "visibility.1                      1\n",
              "ozone                             1\n",
              "sunriseTime                       1\n",
              "sunsetTime                        1\n",
              "moonPhase                         1\n",
              "precipIntensityMax                1\n",
              "uvIndexTime                       1\n",
              "temperatureMin                    1\n",
              "temperatureMinTime                1\n",
              "temperatureMax                    1\n",
              "temperatureMaxTime                1\n",
              "apparentTemperatureMin            1\n",
              "apparentTemperatureMinTime        1\n",
              "apparentTemperatureMax            1\n",
              "apparentTemperatureMaxTime        1\n",
              "dtype: int64"
            ]
          },
          "metadata": {},
          "execution_count": 3
        }
      ],
      "source": [
        "df.isnull().sum()"
      ]
    },
    {
      "cell_type": "code",
      "execution_count": null,
      "metadata": {
        "colab": {
          "base_uri": "https://localhost:8080/",
          "height": 309
        },
        "id": "Tw6OkjEB9l4y",
        "outputId": "51f070af-c028-4306-ab43-0fcaaf08a431"
      },
      "outputs": [
        {
          "output_type": "execute_result",
          "data": {
            "text/plain": [
              "      hour  day  month             datetime          timezone  \\\n",
              "6440    13   28     11  2018-11-28 13:50:08  America/New_York   \n",
              "7128     0   27     11  2018-11-27 00:14:29  America/New_York   \n",
              "\n",
              "                  source       destination cab_type  \\\n",
              "6440  Financial District         North End     Uber   \n",
              "7128    Haymarket Square  Theatre District     Uber   \n",
              "\n",
              "                                product_id       name  ...  \\\n",
              "6440  6d318bcc-22a3-4af6-bddd-b409bfce1546  Black SUV  ...   \n",
              "7128  8cf7e821-f0d3-49c6-8eba-e679c0ebcf6a       Taxi  ...   \n",
              "\n",
              "      precipIntensityMax   uvIndexTime  temperatureMin  temperatureMinTime  \\\n",
              "6440              0.0001  1.543421e+09           33.10        1.543403e+09   \n",
              "7128              0.1225  1.543252e+09           40.45        1.543234e+09   \n",
              "\n",
              "      temperatureMax  temperatureMaxTime  apparentTemperatureMin  \\\n",
              "6440           42.18        1.543421e+09                   29.11   \n",
              "7128           46.49        1.543255e+09                   37.17   \n",
              "\n",
              "     apparentTemperatureMinTime apparentTemperatureMax  \\\n",
              "6440               1.543392e+09                  35.75   \n",
              "7128               1.543291e+09                  43.84   \n",
              "\n",
              "      apparentTemperatureMaxTime  \n",
              "6440                1.543421e+09  \n",
              "7128                1.543244e+09  \n",
              "\n",
              "[2 rows x 55 columns]"
            ],
            "text/html": [
              "\n",
              "  <div id=\"df-27fdda40-08f6-403c-8e40-2d95e0a09f1e\">\n",
              "    <div class=\"colab-df-container\">\n",
              "      <div>\n",
              "<style scoped>\n",
              "    .dataframe tbody tr th:only-of-type {\n",
              "        vertical-align: middle;\n",
              "    }\n",
              "\n",
              "    .dataframe tbody tr th {\n",
              "        vertical-align: top;\n",
              "    }\n",
              "\n",
              "    .dataframe thead th {\n",
              "        text-align: right;\n",
              "    }\n",
              "</style>\n",
              "<table border=\"1\" class=\"dataframe\">\n",
              "  <thead>\n",
              "    <tr style=\"text-align: right;\">\n",
              "      <th></th>\n",
              "      <th>hour</th>\n",
              "      <th>day</th>\n",
              "      <th>month</th>\n",
              "      <th>datetime</th>\n",
              "      <th>timezone</th>\n",
              "      <th>source</th>\n",
              "      <th>destination</th>\n",
              "      <th>cab_type</th>\n",
              "      <th>product_id</th>\n",
              "      <th>name</th>\n",
              "      <th>...</th>\n",
              "      <th>precipIntensityMax</th>\n",
              "      <th>uvIndexTime</th>\n",
              "      <th>temperatureMin</th>\n",
              "      <th>temperatureMinTime</th>\n",
              "      <th>temperatureMax</th>\n",
              "      <th>temperatureMaxTime</th>\n",
              "      <th>apparentTemperatureMin</th>\n",
              "      <th>apparentTemperatureMinTime</th>\n",
              "      <th>apparentTemperatureMax</th>\n",
              "      <th>apparentTemperatureMaxTime</th>\n",
              "    </tr>\n",
              "  </thead>\n",
              "  <tbody>\n",
              "    <tr>\n",
              "      <th>6440</th>\n",
              "      <td>13</td>\n",
              "      <td>28</td>\n",
              "      <td>11</td>\n",
              "      <td>2018-11-28 13:50:08</td>\n",
              "      <td>America/New_York</td>\n",
              "      <td>Financial District</td>\n",
              "      <td>North End</td>\n",
              "      <td>Uber</td>\n",
              "      <td>6d318bcc-22a3-4af6-bddd-b409bfce1546</td>\n",
              "      <td>Black SUV</td>\n",
              "      <td>...</td>\n",
              "      <td>0.0001</td>\n",
              "      <td>1.543421e+09</td>\n",
              "      <td>33.10</td>\n",
              "      <td>1.543403e+09</td>\n",
              "      <td>42.18</td>\n",
              "      <td>1.543421e+09</td>\n",
              "      <td>29.11</td>\n",
              "      <td>1.543392e+09</td>\n",
              "      <td>35.75</td>\n",
              "      <td>1.543421e+09</td>\n",
              "    </tr>\n",
              "    <tr>\n",
              "      <th>7128</th>\n",
              "      <td>0</td>\n",
              "      <td>27</td>\n",
              "      <td>11</td>\n",
              "      <td>2018-11-27 00:14:29</td>\n",
              "      <td>America/New_York</td>\n",
              "      <td>Haymarket Square</td>\n",
              "      <td>Theatre District</td>\n",
              "      <td>Uber</td>\n",
              "      <td>8cf7e821-f0d3-49c6-8eba-e679c0ebcf6a</td>\n",
              "      <td>Taxi</td>\n",
              "      <td>...</td>\n",
              "      <td>0.1225</td>\n",
              "      <td>1.543252e+09</td>\n",
              "      <td>40.45</td>\n",
              "      <td>1.543234e+09</td>\n",
              "      <td>46.49</td>\n",
              "      <td>1.543255e+09</td>\n",
              "      <td>37.17</td>\n",
              "      <td>1.543291e+09</td>\n",
              "      <td>43.84</td>\n",
              "      <td>1.543244e+09</td>\n",
              "    </tr>\n",
              "  </tbody>\n",
              "</table>\n",
              "<p>2 rows × 55 columns</p>\n",
              "</div>\n",
              "      <button class=\"colab-df-convert\" onclick=\"convertToInteractive('df-27fdda40-08f6-403c-8e40-2d95e0a09f1e')\"\n",
              "              title=\"Convert this dataframe to an interactive table.\"\n",
              "              style=\"display:none;\">\n",
              "        \n",
              "  <svg xmlns=\"http://www.w3.org/2000/svg\" height=\"24px\"viewBox=\"0 0 24 24\"\n",
              "       width=\"24px\">\n",
              "    <path d=\"M0 0h24v24H0V0z\" fill=\"none\"/>\n",
              "    <path d=\"M18.56 5.44l.94 2.06.94-2.06 2.06-.94-2.06-.94-.94-2.06-.94 2.06-2.06.94zm-11 1L8.5 8.5l.94-2.06 2.06-.94-2.06-.94L8.5 2.5l-.94 2.06-2.06.94zm10 10l.94 2.06.94-2.06 2.06-.94-2.06-.94-.94-2.06-.94 2.06-2.06.94z\"/><path d=\"M17.41 7.96l-1.37-1.37c-.4-.4-.92-.59-1.43-.59-.52 0-1.04.2-1.43.59L10.3 9.45l-7.72 7.72c-.78.78-.78 2.05 0 2.83L4 21.41c.39.39.9.59 1.41.59.51 0 1.02-.2 1.41-.59l7.78-7.78 2.81-2.81c.8-.78.8-2.07 0-2.86zM5.41 20L4 18.59l7.72-7.72 1.47 1.35L5.41 20z\"/>\n",
              "  </svg>\n",
              "      </button>\n",
              "      \n",
              "  <style>\n",
              "    .colab-df-container {\n",
              "      display:flex;\n",
              "      flex-wrap:wrap;\n",
              "      gap: 12px;\n",
              "    }\n",
              "\n",
              "    .colab-df-convert {\n",
              "      background-color: #E8F0FE;\n",
              "      border: none;\n",
              "      border-radius: 50%;\n",
              "      cursor: pointer;\n",
              "      display: none;\n",
              "      fill: #1967D2;\n",
              "      height: 32px;\n",
              "      padding: 0 0 0 0;\n",
              "      width: 32px;\n",
              "    }\n",
              "\n",
              "    .colab-df-convert:hover {\n",
              "      background-color: #E2EBFA;\n",
              "      box-shadow: 0px 1px 2px rgba(60, 64, 67, 0.3), 0px 1px 3px 1px rgba(60, 64, 67, 0.15);\n",
              "      fill: #174EA6;\n",
              "    }\n",
              "\n",
              "    [theme=dark] .colab-df-convert {\n",
              "      background-color: #3B4455;\n",
              "      fill: #D2E3FC;\n",
              "    }\n",
              "\n",
              "    [theme=dark] .colab-df-convert:hover {\n",
              "      background-color: #434B5C;\n",
              "      box-shadow: 0px 1px 3px 1px rgba(0, 0, 0, 0.15);\n",
              "      filter: drop-shadow(0px 1px 2px rgba(0, 0, 0, 0.3));\n",
              "      fill: #FFFFFF;\n",
              "    }\n",
              "  </style>\n",
              "\n",
              "      <script>\n",
              "        const buttonEl =\n",
              "          document.querySelector('#df-27fdda40-08f6-403c-8e40-2d95e0a09f1e button.colab-df-convert');\n",
              "        buttonEl.style.display =\n",
              "          google.colab.kernel.accessAllowed ? 'block' : 'none';\n",
              "\n",
              "        async function convertToInteractive(key) {\n",
              "          const element = document.querySelector('#df-27fdda40-08f6-403c-8e40-2d95e0a09f1e');\n",
              "          const dataTable =\n",
              "            await google.colab.kernel.invokeFunction('convertToInteractive',\n",
              "                                                     [key], {});\n",
              "          if (!dataTable) return;\n",
              "\n",
              "          const docLinkHtml = 'Like what you see? Visit the ' +\n",
              "            '<a target=\"_blank\" href=https://colab.research.google.com/notebooks/data_table.ipynb>data table notebook</a>'\n",
              "            + ' to learn more about interactive tables.';\n",
              "          element.innerHTML = '';\n",
              "          dataTable['output_type'] = 'display_data';\n",
              "          await google.colab.output.renderOutput(dataTable, element);\n",
              "          const docLink = document.createElement('div');\n",
              "          docLink.innerHTML = docLinkHtml;\n",
              "          element.appendChild(docLink);\n",
              "        }\n",
              "      </script>\n",
              "    </div>\n",
              "  </div>\n",
              "  "
            ]
          },
          "metadata": {},
          "execution_count": 4
        }
      ],
      "source": [
        "df[df.duplicated()]"
      ]
    },
    {
      "cell_type": "code",
      "execution_count": null,
      "metadata": {
        "colab": {
          "base_uri": "https://localhost:8080/",
          "height": 938
        },
        "id": "TdrRTEQ69vw5",
        "outputId": "195d9b8e-6969-4a94-d696-c8cf3250cfa1"
      },
      "outputs": [
        {
          "output_type": "execute_result",
          "data": {
            "text/plain": [
              "      hour  day  month             datetime          timezone  \\\n",
              "0       22   30     11  2018-11-30 22:13:01  America/New_York   \n",
              "1       10   13     12  2018-12-13 10:50:11  America/New_York   \n",
              "2       19   13     12  2018-12-13 19:15:03  America/New_York   \n",
              "3       23   16     12  2018-12-16 23:55:11  America/New_York   \n",
              "4        0   14     12  2018-12-14 00:40:07  America/New_York   \n",
              "...    ...  ...    ...                  ...               ...   \n",
              "7801     4    4     12  2018-12-04 04:43:00  America/New_York   \n",
              "7802     3   18     12  2018-12-18 03:45:10  America/New_York   \n",
              "7803    12    2     12  2018-12-02 12:43:02  America/New_York   \n",
              "7804     2   17     12  2018-12-17 02:15:09  America/New_York   \n",
              "7805    21   29     11  2018-11-29 21:32:36  America/New_York   \n",
              "\n",
              "                source       destination cab_type  \\\n",
              "0            North End          West End     Uber   \n",
              "1            North End          West End     Uber   \n",
              "2            North End          West End     Uber   \n",
              "3            North End          West End     Uber   \n",
              "4            North End          West End     Uber   \n",
              "...                ...               ...      ...   \n",
              "7801  Theatre District  Haymarket Square     Uber   \n",
              "7802  Theatre District  Haymarket Square     Uber   \n",
              "7803  Theatre District  Haymarket Square     Uber   \n",
              "7804  Theatre District  Haymarket Square     Uber   \n",
              "7805  Theatre District  Haymarket Square     Uber   \n",
              "\n",
              "                                product_id       name  ...  \\\n",
              "0     6f72dfc5-27f1-42e8-84db-ccc7a75f6969     UberXL  ...   \n",
              "1     6c84fd89-3f11-4782-9b50-97c468b19529      Black  ...   \n",
              "2     55c66225-fbe7-4fd5-9072-eab1ece5e23e      UberX  ...   \n",
              "3     9a0e7b09-b92b-4c41-9779-2ad22b4d779d        WAV  ...   \n",
              "4     6d318bcc-22a3-4af6-bddd-b409bfce1546  Black SUV  ...   \n",
              "...                                    ...        ...  ...   \n",
              "7801  6f72dfc5-27f1-42e8-84db-ccc7a75f6969     UberXL  ...   \n",
              "7802  8cf7e821-f0d3-49c6-8eba-e679c0ebcf6a       Taxi  ...   \n",
              "7803  6d318bcc-22a3-4af6-bddd-b409bfce1546  Black SUV  ...   \n",
              "7804  9a0e7b09-b92b-4c41-9779-2ad22b4d779d        WAV  ...   \n",
              "7805  6c84fd89-3f11-4782-9b50-97c468b19529      Black  ...   \n",
              "\n",
              "      precipIntensityMax   uvIndexTime  temperatureMin  temperatureMinTime  \\\n",
              "0                 0.0003  1.543594e+09           28.79        1.543579e+09   \n",
              "1                 0.0001  1.544717e+09           18.29        1.544688e+09   \n",
              "2                 0.0001  1.544717e+09           18.29        1.544688e+09   \n",
              "3                 0.1252  1.544980e+09           39.22        1.544954e+09   \n",
              "4                 0.0001  1.544717e+09           18.29        1.544688e+09   \n",
              "...                  ...           ...             ...                 ...   \n",
              "7801              0.0004  1.543853e+09           43.10        1.543896e+09   \n",
              "7802              0.0175  1.545066e+09           34.14        1.545044e+09   \n",
              "7803              0.0916  1.543770e+09           36.32        1.543727e+09   \n",
              "7804              0.1266  1.544980e+09           39.29        1.544954e+09   \n",
              "7805                 NaN           NaN             NaN                 NaN   \n",
              "\n",
              "      temperatureMax  temperatureMaxTime  apparentTemperatureMin  \\\n",
              "0              42.52        1.543601e+09                   26.41   \n",
              "1              33.83        1.544731e+09                   13.79   \n",
              "2              33.83        1.544731e+09                   13.79   \n",
              "3              43.83        1.544990e+09                   33.98   \n",
              "4              33.83        1.544731e+09                   13.79   \n",
              "...              ...                 ...                     ...   \n",
              "7801           56.89        1.543853e+09                   40.05   \n",
              "7802           41.44        1.545077e+09                   28.12   \n",
              "7803           50.80        1.543788e+09                   35.84   \n",
              "7804           43.76        1.544990e+09                   33.73   \n",
              "7805             NaN                 NaN                     NaN   \n",
              "\n",
              "     apparentTemperatureMinTime apparentTemperatureMax  \\\n",
              "0                  1.543576e+09                  40.53   \n",
              "1                  1.544688e+09                  32.85   \n",
              "2                  1.544688e+09                  32.85   \n",
              "3                  1.545019e+09                  38.38   \n",
              "4                  1.544688e+09                  32.85   \n",
              "...                         ...                    ...   \n",
              "7801               1.543896e+09                  56.22   \n",
              "7802               1.545044e+09                  35.95   \n",
              "7803               1.543748e+09                  50.13   \n",
              "7804               1.545019e+09                  38.30   \n",
              "7805                        NaN                    NaN   \n",
              "\n",
              "      apparentTemperatureMaxTime  \n",
              "0                   1.543612e+09  \n",
              "1                   1.544735e+09  \n",
              "2                   1.544735e+09  \n",
              "3                   1.544987e+09  \n",
              "4                   1.544735e+09  \n",
              "...                          ...  \n",
              "7801                1.543853e+09  \n",
              "7802                1.545077e+09  \n",
              "7803                1.543788e+09  \n",
              "7804                1.544987e+09  \n",
              "7805                         NaN  \n",
              "\n",
              "[7804 rows x 55 columns]"
            ],
            "text/html": [
              "\n",
              "  <div id=\"df-9c968906-5943-4deb-8f16-09372c3d3958\">\n",
              "    <div class=\"colab-df-container\">\n",
              "      <div>\n",
              "<style scoped>\n",
              "    .dataframe tbody tr th:only-of-type {\n",
              "        vertical-align: middle;\n",
              "    }\n",
              "\n",
              "    .dataframe tbody tr th {\n",
              "        vertical-align: top;\n",
              "    }\n",
              "\n",
              "    .dataframe thead th {\n",
              "        text-align: right;\n",
              "    }\n",
              "</style>\n",
              "<table border=\"1\" class=\"dataframe\">\n",
              "  <thead>\n",
              "    <tr style=\"text-align: right;\">\n",
              "      <th></th>\n",
              "      <th>hour</th>\n",
              "      <th>day</th>\n",
              "      <th>month</th>\n",
              "      <th>datetime</th>\n",
              "      <th>timezone</th>\n",
              "      <th>source</th>\n",
              "      <th>destination</th>\n",
              "      <th>cab_type</th>\n",
              "      <th>product_id</th>\n",
              "      <th>name</th>\n",
              "      <th>...</th>\n",
              "      <th>precipIntensityMax</th>\n",
              "      <th>uvIndexTime</th>\n",
              "      <th>temperatureMin</th>\n",
              "      <th>temperatureMinTime</th>\n",
              "      <th>temperatureMax</th>\n",
              "      <th>temperatureMaxTime</th>\n",
              "      <th>apparentTemperatureMin</th>\n",
              "      <th>apparentTemperatureMinTime</th>\n",
              "      <th>apparentTemperatureMax</th>\n",
              "      <th>apparentTemperatureMaxTime</th>\n",
              "    </tr>\n",
              "  </thead>\n",
              "  <tbody>\n",
              "    <tr>\n",
              "      <th>0</th>\n",
              "      <td>22</td>\n",
              "      <td>30</td>\n",
              "      <td>11</td>\n",
              "      <td>2018-11-30 22:13:01</td>\n",
              "      <td>America/New_York</td>\n",
              "      <td>North End</td>\n",
              "      <td>West End</td>\n",
              "      <td>Uber</td>\n",
              "      <td>6f72dfc5-27f1-42e8-84db-ccc7a75f6969</td>\n",
              "      <td>UberXL</td>\n",
              "      <td>...</td>\n",
              "      <td>0.0003</td>\n",
              "      <td>1.543594e+09</td>\n",
              "      <td>28.79</td>\n",
              "      <td>1.543579e+09</td>\n",
              "      <td>42.52</td>\n",
              "      <td>1.543601e+09</td>\n",
              "      <td>26.41</td>\n",
              "      <td>1.543576e+09</td>\n",
              "      <td>40.53</td>\n",
              "      <td>1.543612e+09</td>\n",
              "    </tr>\n",
              "    <tr>\n",
              "      <th>1</th>\n",
              "      <td>10</td>\n",
              "      <td>13</td>\n",
              "      <td>12</td>\n",
              "      <td>2018-12-13 10:50:11</td>\n",
              "      <td>America/New_York</td>\n",
              "      <td>North End</td>\n",
              "      <td>West End</td>\n",
              "      <td>Uber</td>\n",
              "      <td>6c84fd89-3f11-4782-9b50-97c468b19529</td>\n",
              "      <td>Black</td>\n",
              "      <td>...</td>\n",
              "      <td>0.0001</td>\n",
              "      <td>1.544717e+09</td>\n",
              "      <td>18.29</td>\n",
              "      <td>1.544688e+09</td>\n",
              "      <td>33.83</td>\n",
              "      <td>1.544731e+09</td>\n",
              "      <td>13.79</td>\n",
              "      <td>1.544688e+09</td>\n",
              "      <td>32.85</td>\n",
              "      <td>1.544735e+09</td>\n",
              "    </tr>\n",
              "    <tr>\n",
              "      <th>2</th>\n",
              "      <td>19</td>\n",
              "      <td>13</td>\n",
              "      <td>12</td>\n",
              "      <td>2018-12-13 19:15:03</td>\n",
              "      <td>America/New_York</td>\n",
              "      <td>North End</td>\n",
              "      <td>West End</td>\n",
              "      <td>Uber</td>\n",
              "      <td>55c66225-fbe7-4fd5-9072-eab1ece5e23e</td>\n",
              "      <td>UberX</td>\n",
              "      <td>...</td>\n",
              "      <td>0.0001</td>\n",
              "      <td>1.544717e+09</td>\n",
              "      <td>18.29</td>\n",
              "      <td>1.544688e+09</td>\n",
              "      <td>33.83</td>\n",
              "      <td>1.544731e+09</td>\n",
              "      <td>13.79</td>\n",
              "      <td>1.544688e+09</td>\n",
              "      <td>32.85</td>\n",
              "      <td>1.544735e+09</td>\n",
              "    </tr>\n",
              "    <tr>\n",
              "      <th>3</th>\n",
              "      <td>23</td>\n",
              "      <td>16</td>\n",
              "      <td>12</td>\n",
              "      <td>2018-12-16 23:55:11</td>\n",
              "      <td>America/New_York</td>\n",
              "      <td>North End</td>\n",
              "      <td>West End</td>\n",
              "      <td>Uber</td>\n",
              "      <td>9a0e7b09-b92b-4c41-9779-2ad22b4d779d</td>\n",
              "      <td>WAV</td>\n",
              "      <td>...</td>\n",
              "      <td>0.1252</td>\n",
              "      <td>1.544980e+09</td>\n",
              "      <td>39.22</td>\n",
              "      <td>1.544954e+09</td>\n",
              "      <td>43.83</td>\n",
              "      <td>1.544990e+09</td>\n",
              "      <td>33.98</td>\n",
              "      <td>1.545019e+09</td>\n",
              "      <td>38.38</td>\n",
              "      <td>1.544987e+09</td>\n",
              "    </tr>\n",
              "    <tr>\n",
              "      <th>4</th>\n",
              "      <td>0</td>\n",
              "      <td>14</td>\n",
              "      <td>12</td>\n",
              "      <td>2018-12-14 00:40:07</td>\n",
              "      <td>America/New_York</td>\n",
              "      <td>North End</td>\n",
              "      <td>West End</td>\n",
              "      <td>Uber</td>\n",
              "      <td>6d318bcc-22a3-4af6-bddd-b409bfce1546</td>\n",
              "      <td>Black SUV</td>\n",
              "      <td>...</td>\n",
              "      <td>0.0001</td>\n",
              "      <td>1.544717e+09</td>\n",
              "      <td>18.29</td>\n",
              "      <td>1.544688e+09</td>\n",
              "      <td>33.83</td>\n",
              "      <td>1.544731e+09</td>\n",
              "      <td>13.79</td>\n",
              "      <td>1.544688e+09</td>\n",
              "      <td>32.85</td>\n",
              "      <td>1.544735e+09</td>\n",
              "    </tr>\n",
              "    <tr>\n",
              "      <th>...</th>\n",
              "      <td>...</td>\n",
              "      <td>...</td>\n",
              "      <td>...</td>\n",
              "      <td>...</td>\n",
              "      <td>...</td>\n",
              "      <td>...</td>\n",
              "      <td>...</td>\n",
              "      <td>...</td>\n",
              "      <td>...</td>\n",
              "      <td>...</td>\n",
              "      <td>...</td>\n",
              "      <td>...</td>\n",
              "      <td>...</td>\n",
              "      <td>...</td>\n",
              "      <td>...</td>\n",
              "      <td>...</td>\n",
              "      <td>...</td>\n",
              "      <td>...</td>\n",
              "      <td>...</td>\n",
              "      <td>...</td>\n",
              "      <td>...</td>\n",
              "    </tr>\n",
              "    <tr>\n",
              "      <th>7801</th>\n",
              "      <td>4</td>\n",
              "      <td>4</td>\n",
              "      <td>12</td>\n",
              "      <td>2018-12-04 04:43:00</td>\n",
              "      <td>America/New_York</td>\n",
              "      <td>Theatre District</td>\n",
              "      <td>Haymarket Square</td>\n",
              "      <td>Uber</td>\n",
              "      <td>6f72dfc5-27f1-42e8-84db-ccc7a75f6969</td>\n",
              "      <td>UberXL</td>\n",
              "      <td>...</td>\n",
              "      <td>0.0004</td>\n",
              "      <td>1.543853e+09</td>\n",
              "      <td>43.10</td>\n",
              "      <td>1.543896e+09</td>\n",
              "      <td>56.89</td>\n",
              "      <td>1.543853e+09</td>\n",
              "      <td>40.05</td>\n",
              "      <td>1.543896e+09</td>\n",
              "      <td>56.22</td>\n",
              "      <td>1.543853e+09</td>\n",
              "    </tr>\n",
              "    <tr>\n",
              "      <th>7802</th>\n",
              "      <td>3</td>\n",
              "      <td>18</td>\n",
              "      <td>12</td>\n",
              "      <td>2018-12-18 03:45:10</td>\n",
              "      <td>America/New_York</td>\n",
              "      <td>Theatre District</td>\n",
              "      <td>Haymarket Square</td>\n",
              "      <td>Uber</td>\n",
              "      <td>8cf7e821-f0d3-49c6-8eba-e679c0ebcf6a</td>\n",
              "      <td>Taxi</td>\n",
              "      <td>...</td>\n",
              "      <td>0.0175</td>\n",
              "      <td>1.545066e+09</td>\n",
              "      <td>34.14</td>\n",
              "      <td>1.545044e+09</td>\n",
              "      <td>41.44</td>\n",
              "      <td>1.545077e+09</td>\n",
              "      <td>28.12</td>\n",
              "      <td>1.545044e+09</td>\n",
              "      <td>35.95</td>\n",
              "      <td>1.545077e+09</td>\n",
              "    </tr>\n",
              "    <tr>\n",
              "      <th>7803</th>\n",
              "      <td>12</td>\n",
              "      <td>2</td>\n",
              "      <td>12</td>\n",
              "      <td>2018-12-02 12:43:02</td>\n",
              "      <td>America/New_York</td>\n",
              "      <td>Theatre District</td>\n",
              "      <td>Haymarket Square</td>\n",
              "      <td>Uber</td>\n",
              "      <td>6d318bcc-22a3-4af6-bddd-b409bfce1546</td>\n",
              "      <td>Black SUV</td>\n",
              "      <td>...</td>\n",
              "      <td>0.0916</td>\n",
              "      <td>1.543770e+09</td>\n",
              "      <td>36.32</td>\n",
              "      <td>1.543727e+09</td>\n",
              "      <td>50.80</td>\n",
              "      <td>1.543788e+09</td>\n",
              "      <td>35.84</td>\n",
              "      <td>1.543748e+09</td>\n",
              "      <td>50.13</td>\n",
              "      <td>1.543788e+09</td>\n",
              "    </tr>\n",
              "    <tr>\n",
              "      <th>7804</th>\n",
              "      <td>2</td>\n",
              "      <td>17</td>\n",
              "      <td>12</td>\n",
              "      <td>2018-12-17 02:15:09</td>\n",
              "      <td>America/New_York</td>\n",
              "      <td>Theatre District</td>\n",
              "      <td>Haymarket Square</td>\n",
              "      <td>Uber</td>\n",
              "      <td>9a0e7b09-b92b-4c41-9779-2ad22b4d779d</td>\n",
              "      <td>WAV</td>\n",
              "      <td>...</td>\n",
              "      <td>0.1266</td>\n",
              "      <td>1.544980e+09</td>\n",
              "      <td>39.29</td>\n",
              "      <td>1.544954e+09</td>\n",
              "      <td>43.76</td>\n",
              "      <td>1.544990e+09</td>\n",
              "      <td>33.73</td>\n",
              "      <td>1.545019e+09</td>\n",
              "      <td>38.30</td>\n",
              "      <td>1.544987e+09</td>\n",
              "    </tr>\n",
              "    <tr>\n",
              "      <th>7805</th>\n",
              "      <td>21</td>\n",
              "      <td>29</td>\n",
              "      <td>11</td>\n",
              "      <td>2018-11-29 21:32:36</td>\n",
              "      <td>America/New_York</td>\n",
              "      <td>Theatre District</td>\n",
              "      <td>Haymarket Square</td>\n",
              "      <td>Uber</td>\n",
              "      <td>6c84fd89-3f11-4782-9b50-97c468b19529</td>\n",
              "      <td>Black</td>\n",
              "      <td>...</td>\n",
              "      <td>NaN</td>\n",
              "      <td>NaN</td>\n",
              "      <td>NaN</td>\n",
              "      <td>NaN</td>\n",
              "      <td>NaN</td>\n",
              "      <td>NaN</td>\n",
              "      <td>NaN</td>\n",
              "      <td>NaN</td>\n",
              "      <td>NaN</td>\n",
              "      <td>NaN</td>\n",
              "    </tr>\n",
              "  </tbody>\n",
              "</table>\n",
              "<p>7804 rows × 55 columns</p>\n",
              "</div>\n",
              "      <button class=\"colab-df-convert\" onclick=\"convertToInteractive('df-9c968906-5943-4deb-8f16-09372c3d3958')\"\n",
              "              title=\"Convert this dataframe to an interactive table.\"\n",
              "              style=\"display:none;\">\n",
              "        \n",
              "  <svg xmlns=\"http://www.w3.org/2000/svg\" height=\"24px\"viewBox=\"0 0 24 24\"\n",
              "       width=\"24px\">\n",
              "    <path d=\"M0 0h24v24H0V0z\" fill=\"none\"/>\n",
              "    <path d=\"M18.56 5.44l.94 2.06.94-2.06 2.06-.94-2.06-.94-.94-2.06-.94 2.06-2.06.94zm-11 1L8.5 8.5l.94-2.06 2.06-.94-2.06-.94L8.5 2.5l-.94 2.06-2.06.94zm10 10l.94 2.06.94-2.06 2.06-.94-2.06-.94-.94-2.06-.94 2.06-2.06.94z\"/><path d=\"M17.41 7.96l-1.37-1.37c-.4-.4-.92-.59-1.43-.59-.52 0-1.04.2-1.43.59L10.3 9.45l-7.72 7.72c-.78.78-.78 2.05 0 2.83L4 21.41c.39.39.9.59 1.41.59.51 0 1.02-.2 1.41-.59l7.78-7.78 2.81-2.81c.8-.78.8-2.07 0-2.86zM5.41 20L4 18.59l7.72-7.72 1.47 1.35L5.41 20z\"/>\n",
              "  </svg>\n",
              "      </button>\n",
              "      \n",
              "  <style>\n",
              "    .colab-df-container {\n",
              "      display:flex;\n",
              "      flex-wrap:wrap;\n",
              "      gap: 12px;\n",
              "    }\n",
              "\n",
              "    .colab-df-convert {\n",
              "      background-color: #E8F0FE;\n",
              "      border: none;\n",
              "      border-radius: 50%;\n",
              "      cursor: pointer;\n",
              "      display: none;\n",
              "      fill: #1967D2;\n",
              "      height: 32px;\n",
              "      padding: 0 0 0 0;\n",
              "      width: 32px;\n",
              "    }\n",
              "\n",
              "    .colab-df-convert:hover {\n",
              "      background-color: #E2EBFA;\n",
              "      box-shadow: 0px 1px 2px rgba(60, 64, 67, 0.3), 0px 1px 3px 1px rgba(60, 64, 67, 0.15);\n",
              "      fill: #174EA6;\n",
              "    }\n",
              "\n",
              "    [theme=dark] .colab-df-convert {\n",
              "      background-color: #3B4455;\n",
              "      fill: #D2E3FC;\n",
              "    }\n",
              "\n",
              "    [theme=dark] .colab-df-convert:hover {\n",
              "      background-color: #434B5C;\n",
              "      box-shadow: 0px 1px 3px 1px rgba(0, 0, 0, 0.15);\n",
              "      filter: drop-shadow(0px 1px 2px rgba(0, 0, 0, 0.3));\n",
              "      fill: #FFFFFF;\n",
              "    }\n",
              "  </style>\n",
              "\n",
              "      <script>\n",
              "        const buttonEl =\n",
              "          document.querySelector('#df-9c968906-5943-4deb-8f16-09372c3d3958 button.colab-df-convert');\n",
              "        buttonEl.style.display =\n",
              "          google.colab.kernel.accessAllowed ? 'block' : 'none';\n",
              "\n",
              "        async function convertToInteractive(key) {\n",
              "          const element = document.querySelector('#df-9c968906-5943-4deb-8f16-09372c3d3958');\n",
              "          const dataTable =\n",
              "            await google.colab.kernel.invokeFunction('convertToInteractive',\n",
              "                                                     [key], {});\n",
              "          if (!dataTable) return;\n",
              "\n",
              "          const docLinkHtml = 'Like what you see? Visit the ' +\n",
              "            '<a target=\"_blank\" href=https://colab.research.google.com/notebooks/data_table.ipynb>data table notebook</a>'\n",
              "            + ' to learn more about interactive tables.';\n",
              "          element.innerHTML = '';\n",
              "          dataTable['output_type'] = 'display_data';\n",
              "          await google.colab.output.renderOutput(dataTable, element);\n",
              "          const docLink = document.createElement('div');\n",
              "          docLink.innerHTML = docLinkHtml;\n",
              "          element.appendChild(docLink);\n",
              "        }\n",
              "      </script>\n",
              "    </div>\n",
              "  </div>\n",
              "  "
            ]
          },
          "metadata": {},
          "execution_count": 5
        }
      ],
      "source": [
        "df.drop_duplicates()"
      ]
    },
    {
      "cell_type": "code",
      "execution_count": null,
      "metadata": {
        "id": "Wui8tQqpimax"
      },
      "outputs": [],
      "source": [
        "# df = pd.get_dummies(df, drop_first=True)"
      ]
    },
    {
      "cell_type": "code",
      "execution_count": null,
      "metadata": {
        "colab": {
          "base_uri": "https://localhost:8080/"
        },
        "id": "NUy0LZYt-vtD",
        "outputId": "3ba3e983-bfad-43e3-ac8b-430dd5d38c17"
      },
      "outputs": [
        {
          "output_type": "execute_result",
          "data": {
            "text/plain": [
              "array([12. , 16. ,  7.5, 26. ,  5.5,  nan,  8.5, 15. , 20.5,  7. , 27.5,\n",
              "       29.5,  9.5, 22. ,  9. , 16.5, 13. , 17. , 10. , 34. , 18.5, 11. ,\n",
              "       36. , 25. , 32.5, 27. , 35. ,  8. , 13.5, 23.5, 14. , 26.5, 19.5,\n",
              "       38.5, 23. , 30.5, 10.5, 17.5, 36.5, 12.5, 33.5, 21.5, 18. , 33. ,\n",
              "       32. ,  6.5, 11.5, 31.5, 28.5, 24. , 29. , 31. , 41. , 38. , 19. ,\n",
              "       15.5, 21. , 28. , 37.5, 14.5, 22.5,  4.5, 40.5, 42. , 46.5, 50.5,\n",
              "       24.5, 41.5, 56. , 25.5, 39. , 20. , 30. , 39.5,  6. , 35.5, 48.5,\n",
              "       37. , 45. , 42.5, 44. , 34.5, 46. , 48. , 47. , 54. , 52. , 62. ,\n",
              "       55. , 43. , 43.5, 51.5])"
            ]
          },
          "metadata": {},
          "execution_count": 7
        }
      ],
      "source": [
        "df['price'].unique()"
      ]
    },
    {
      "cell_type": "code",
      "execution_count": null,
      "metadata": {
        "id": "kizvf83w_Wh4"
      },
      "outputs": [],
      "source": [
        "numerical_features=[feature for feature in df.columns if df[feature].dtypes!='O']\n",
        "categorical_features=[feature for feature in df.columns if df[feature].dtypes=='O']"
      ]
    },
    {
      "cell_type": "code",
      "execution_count": null,
      "metadata": {
        "id": "h_aewSf8imeg"
      },
      "outputs": [],
      "source": [
        "# df['price']= np.where((df['price'].isnull())  ,  df['price'] , np.median(df['price']))"
      ]
    },
    {
      "cell_type": "code",
      "execution_count": null,
      "metadata": {
        "colab": {
          "base_uri": "https://localhost:8080/"
        },
        "id": "XGC49MkZ9FDP",
        "outputId": "cbc8beac-2e1d-46d2-870f-a223f4ee857f"
      },
      "outputs": [
        {
          "output_type": "execute_result",
          "data": {
            "text/plain": [
              "hour                              0\n",
              "day                               0\n",
              "month                             0\n",
              "datetime                          0\n",
              "timezone                          0\n",
              "source                            0\n",
              "destination                       0\n",
              "cab_type                          0\n",
              "product_id                        0\n",
              "name                              0\n",
              "price                          1112\n",
              "distance                          0\n",
              "surge_multiplier                  0\n",
              "latitude                          0\n",
              "longitude                         0\n",
              "temperature                       0\n",
              "apparentTemperature               0\n",
              "short_summary                     0\n",
              "long_summary                      0\n",
              "precipIntensity                   1\n",
              "precipProbability                 1\n",
              "humidity                          1\n",
              "windSpeed                         1\n",
              "windGust                          1\n",
              "windGustTime                      1\n",
              "visibility                        1\n",
              "temperatureHigh                   1\n",
              "temperatureHighTime               1\n",
              "temperatureLow                    1\n",
              "temperatureLowTime                1\n",
              "apparentTemperatureHigh           1\n",
              "apparentTemperatureHighTime       1\n",
              "apparentTemperatureLow            1\n",
              "apparentTemperatureLowTime        1\n",
              "icon                              1\n",
              "dewPoint                          1\n",
              "pressure                          1\n",
              "windBearing                       1\n",
              "cloudCover                        1\n",
              "uvIndex                           1\n",
              "visibility.1                      1\n",
              "ozone                             1\n",
              "sunriseTime                       1\n",
              "sunsetTime                        1\n",
              "moonPhase                         1\n",
              "precipIntensityMax                1\n",
              "uvIndexTime                       1\n",
              "temperatureMin                    1\n",
              "temperatureMinTime                1\n",
              "temperatureMax                    1\n",
              "temperatureMaxTime                1\n",
              "apparentTemperatureMin            1\n",
              "apparentTemperatureMinTime        1\n",
              "apparentTemperatureMax            1\n",
              "apparentTemperatureMaxTime        1\n",
              "dtype: int64"
            ]
          },
          "metadata": {},
          "execution_count": 10
        }
      ],
      "source": [
        "df.isnull().sum()"
      ]
    },
    {
      "cell_type": "code",
      "execution_count": null,
      "metadata": {
        "id": "Qy_XgbWnimgr"
      },
      "outputs": [],
      "source": [
        "## now we will handle missing values using SIMPLE IMPUTER\n",
        "## automate the whole process using pipeline\n",
        "\n",
        "from sklearn.impute import SimpleImputer\n",
        "from sklearn.preprocessing import StandardScaler ##feature scaling\n",
        "from sklearn.preprocessing import OrdinalEncoder,OneHotEncoder ,LabelEncoder\n",
        "from sklearn.pipeline import Pipeline\n",
        "from sklearn.compose import ColumnTransformer"
      ]
    },
    {
      "cell_type": "code",
      "execution_count": null,
      "metadata": {
        "colab": {
          "base_uri": "https://localhost:8080/"
        },
        "id": "j3c8_d098mTI",
        "outputId": "de4bb4b2-df4d-41c9-fb09-7e29118e29ca"
      },
      "outputs": [
        {
          "output_type": "stream",
          "name": "stdout",
          "text": [
            "Index(['datetime', 'timezone', 'source', 'destination', 'cab_type',\n",
            "       'product_id', 'name', 'short_summary', 'long_summary', 'icon'],\n",
            "      dtype='object')\n",
            "Index(['hour', 'day', 'month', 'price', 'distance', 'surge_multiplier',\n",
            "       'latitude', 'longitude', 'temperature', 'apparentTemperature',\n",
            "       'precipIntensity', 'precipProbability', 'humidity', 'windSpeed',\n",
            "       'windGust', 'windGustTime', 'visibility', 'temperatureHigh',\n",
            "       'temperatureHighTime', 'temperatureLow', 'temperatureLowTime',\n",
            "       'apparentTemperatureHigh', 'apparentTemperatureHighTime',\n",
            "       'apparentTemperatureLow', 'apparentTemperatureLowTime', 'dewPoint',\n",
            "       'pressure', 'windBearing', 'cloudCover', 'uvIndex', 'visibility.1',\n",
            "       'ozone', 'sunriseTime', 'sunsetTime', 'moonPhase', 'precipIntensityMax',\n",
            "       'uvIndexTime', 'temperatureMin', 'temperatureMinTime', 'temperatureMax',\n",
            "       'temperatureMaxTime', 'apparentTemperatureMin',\n",
            "       'apparentTemperatureMinTime', 'apparentTemperatureMax',\n",
            "       'apparentTemperatureMaxTime'],\n",
            "      dtype='object')\n"
          ]
        }
      ],
      "source": [
        "categorical_cols = df.select_dtypes(include='object').columns\n",
        "print(categorical_cols)\n",
        "numerical_cols = df.select_dtypes(exclude='object').columns\n",
        "print(numerical_cols)"
      ]
    },
    {
      "cell_type": "code",
      "execution_count": null,
      "metadata": {
        "colab": {
          "base_uri": "https://localhost:8080/"
        },
        "id": "NHHATsjI8mX0",
        "outputId": "b9f1ffa6-0593-404c-a124-9b1cc06569a4"
      },
      "outputs": [
        {
          "output_type": "execute_result",
          "data": {
            "text/plain": [
              "hour                              0\n",
              "day                               0\n",
              "month                             0\n",
              "datetime                          0\n",
              "timezone                          0\n",
              "source                            0\n",
              "destination                       0\n",
              "cab_type                          0\n",
              "product_id                        0\n",
              "name                              0\n",
              "price                          1112\n",
              "distance                          0\n",
              "surge_multiplier                  0\n",
              "latitude                          0\n",
              "longitude                         0\n",
              "temperature                       0\n",
              "apparentTemperature               0\n",
              "short_summary                     0\n",
              "long_summary                      0\n",
              "precipIntensity                   1\n",
              "precipProbability                 1\n",
              "humidity                          1\n",
              "windSpeed                         1\n",
              "windGust                          1\n",
              "windGustTime                      1\n",
              "visibility                        1\n",
              "temperatureHigh                   1\n",
              "temperatureHighTime               1\n",
              "temperatureLow                    1\n",
              "temperatureLowTime                1\n",
              "apparentTemperatureHigh           1\n",
              "apparentTemperatureHighTime       1\n",
              "apparentTemperatureLow            1\n",
              "apparentTemperatureLowTime        1\n",
              "icon                              1\n",
              "dewPoint                          1\n",
              "pressure                          1\n",
              "windBearing                       1\n",
              "cloudCover                        1\n",
              "uvIndex                           1\n",
              "visibility.1                      1\n",
              "ozone                             1\n",
              "sunriseTime                       1\n",
              "sunsetTime                        1\n",
              "moonPhase                         1\n",
              "precipIntensityMax                1\n",
              "uvIndexTime                       1\n",
              "temperatureMin                    1\n",
              "temperatureMinTime                1\n",
              "temperatureMax                    1\n",
              "temperatureMaxTime                1\n",
              "apparentTemperatureMin            1\n",
              "apparentTemperatureMinTime        1\n",
              "apparentTemperatureMax            1\n",
              "apparentTemperatureMaxTime        1\n",
              "dtype: int64"
            ]
          },
          "metadata": {},
          "execution_count": 13
        }
      ],
      "source": [
        "df.isnull().sum()\n"
      ]
    },
    {
      "cell_type": "code",
      "execution_count": null,
      "metadata": {
        "id": "q_PslPOJ8maJ"
      },
      "outputs": [],
      "source": [
        "df['price'] = np.where( df['price'].isnull() , df['price'].median() , df['price'])"
      ]
    },
    {
      "cell_type": "code",
      "execution_count": null,
      "metadata": {
        "colab": {
          "base_uri": "https://localhost:8080/"
        },
        "id": "qylygDtr8mcS",
        "outputId": "dcb0cf89-4690-4c97-b1b3-8ae2fb16fe5a"
      },
      "outputs": [
        {
          "output_type": "execute_result",
          "data": {
            "text/plain": [
              "hour                           0\n",
              "day                            0\n",
              "month                          0\n",
              "datetime                       0\n",
              "timezone                       0\n",
              "source                         0\n",
              "destination                    0\n",
              "cab_type                       0\n",
              "product_id                     0\n",
              "name                           0\n",
              "price                          0\n",
              "distance                       0\n",
              "surge_multiplier               0\n",
              "latitude                       0\n",
              "longitude                      0\n",
              "temperature                    0\n",
              "apparentTemperature            0\n",
              "short_summary                  0\n",
              "long_summary                   0\n",
              "precipIntensity                1\n",
              "precipProbability              1\n",
              "humidity                       1\n",
              "windSpeed                      1\n",
              "windGust                       1\n",
              "windGustTime                   1\n",
              "visibility                     1\n",
              "temperatureHigh                1\n",
              "temperatureHighTime            1\n",
              "temperatureLow                 1\n",
              "temperatureLowTime             1\n",
              "apparentTemperatureHigh        1\n",
              "apparentTemperatureHighTime    1\n",
              "apparentTemperatureLow         1\n",
              "apparentTemperatureLowTime     1\n",
              "icon                           1\n",
              "dewPoint                       1\n",
              "pressure                       1\n",
              "windBearing                    1\n",
              "cloudCover                     1\n",
              "uvIndex                        1\n",
              "visibility.1                   1\n",
              "ozone                          1\n",
              "sunriseTime                    1\n",
              "sunsetTime                     1\n",
              "moonPhase                      1\n",
              "precipIntensityMax             1\n",
              "uvIndexTime                    1\n",
              "temperatureMin                 1\n",
              "temperatureMinTime             1\n",
              "temperatureMax                 1\n",
              "temperatureMaxTime             1\n",
              "apparentTemperatureMin         1\n",
              "apparentTemperatureMinTime     1\n",
              "apparentTemperatureMax         1\n",
              "apparentTemperatureMaxTime     1\n",
              "dtype: int64"
            ]
          },
          "metadata": {},
          "execution_count": 15
        }
      ],
      "source": [
        "df.isnull().sum()"
      ]
    },
    {
      "cell_type": "code",
      "execution_count": null,
      "metadata": {
        "colab": {
          "base_uri": "https://localhost:8080/"
        },
        "id": "C2VJBZLu8meb",
        "outputId": "2ebc568d-31c9-44e7-b0a3-64f1391e99fb"
      },
      "outputs": [
        {
          "output_type": "execute_result",
          "data": {
            "text/plain": [
              "(7806, 55)"
            ]
          },
          "metadata": {},
          "execution_count": 16
        }
      ],
      "source": [
        "df.shape"
      ]
    },
    {
      "cell_type": "code",
      "execution_count": null,
      "metadata": {
        "colab": {
          "base_uri": "https://localhost:8080/",
          "height": 956
        },
        "id": "2MkredMx8mg0",
        "outputId": "351db48b-a506-4078-b672-e599cfaa77c4"
      },
      "outputs": [
        {
          "output_type": "execute_result",
          "data": {
            "text/plain": [
              "      hour  day  month             datetime          timezone  \\\n",
              "0       22   30     11  2018-11-30 22:13:01  America/New_York   \n",
              "1       10   13     12  2018-12-13 10:50:11  America/New_York   \n",
              "2       19   13     12  2018-12-13 19:15:03  America/New_York   \n",
              "3       23   16     12  2018-12-16 23:55:11  America/New_York   \n",
              "4        0   14     12  2018-12-14 00:40:07  America/New_York   \n",
              "...    ...  ...    ...                  ...               ...   \n",
              "7800    18   18     12  2018-12-18 18:20:03  America/New_York   \n",
              "7801     4    4     12  2018-12-04 04:43:00  America/New_York   \n",
              "7802     3   18     12  2018-12-18 03:45:10  America/New_York   \n",
              "7803    12    2     12  2018-12-02 12:43:02  America/New_York   \n",
              "7804     2   17     12  2018-12-17 02:15:09  America/New_York   \n",
              "\n",
              "                source       destination cab_type  \\\n",
              "0            North End          West End     Uber   \n",
              "1            North End          West End     Uber   \n",
              "2            North End          West End     Uber   \n",
              "3            North End          West End     Uber   \n",
              "4            North End          West End     Uber   \n",
              "...                ...               ...      ...   \n",
              "7800  Theatre District  Haymarket Square     Uber   \n",
              "7801  Theatre District  Haymarket Square     Uber   \n",
              "7802  Theatre District  Haymarket Square     Uber   \n",
              "7803  Theatre District  Haymarket Square     Uber   \n",
              "7804  Theatre District  Haymarket Square     Uber   \n",
              "\n",
              "                                product_id       name  ...  \\\n",
              "0     6f72dfc5-27f1-42e8-84db-ccc7a75f6969     UberXL  ...   \n",
              "1     6c84fd89-3f11-4782-9b50-97c468b19529      Black  ...   \n",
              "2     55c66225-fbe7-4fd5-9072-eab1ece5e23e      UberX  ...   \n",
              "3     9a0e7b09-b92b-4c41-9779-2ad22b4d779d        WAV  ...   \n",
              "4     6d318bcc-22a3-4af6-bddd-b409bfce1546  Black SUV  ...   \n",
              "...                                    ...        ...  ...   \n",
              "7800  55c66225-fbe7-4fd5-9072-eab1ece5e23e      UberX  ...   \n",
              "7801  6f72dfc5-27f1-42e8-84db-ccc7a75f6969     UberXL  ...   \n",
              "7802  8cf7e821-f0d3-49c6-8eba-e679c0ebcf6a       Taxi  ...   \n",
              "7803  6d318bcc-22a3-4af6-bddd-b409bfce1546  Black SUV  ...   \n",
              "7804  9a0e7b09-b92b-4c41-9779-2ad22b4d779d        WAV  ...   \n",
              "\n",
              "      precipIntensityMax   uvIndexTime  temperatureMin  temperatureMinTime  \\\n",
              "0                 0.0003  1.543594e+09           28.79        1.543579e+09   \n",
              "1                 0.0001  1.544717e+09           18.29        1.544688e+09   \n",
              "2                 0.0001  1.544717e+09           18.29        1.544688e+09   \n",
              "3                 0.1252  1.544980e+09           39.22        1.544954e+09   \n",
              "4                 0.0001  1.544717e+09           18.29        1.544688e+09   \n",
              "...                  ...           ...             ...                 ...   \n",
              "7800              0.0028  1.545152e+09           23.09        1.545192e+09   \n",
              "7801              0.0004  1.543853e+09           43.10        1.543896e+09   \n",
              "7802              0.0175  1.545066e+09           34.14        1.545044e+09   \n",
              "7803              0.0916  1.543770e+09           36.32        1.543727e+09   \n",
              "7804              0.1266  1.544980e+09           39.29        1.544954e+09   \n",
              "\n",
              "      temperatureMax  temperatureMaxTime  apparentTemperatureMin  \\\n",
              "0              42.52        1.543601e+09                   26.41   \n",
              "1              33.83        1.544731e+09                   13.79   \n",
              "2              33.83        1.544731e+09                   13.79   \n",
              "3              43.83        1.544990e+09                   33.98   \n",
              "4              33.83        1.544731e+09                   13.79   \n",
              "...              ...                 ...                     ...   \n",
              "7800           38.03        1.545109e+09                   11.82   \n",
              "7801           56.89        1.543853e+09                   40.05   \n",
              "7802           41.44        1.545077e+09                   28.12   \n",
              "7803           50.80        1.543788e+09                   35.84   \n",
              "7804           43.76        1.544990e+09                   33.73   \n",
              "\n",
              "     apparentTemperatureMinTime apparentTemperatureMax  \\\n",
              "0                  1.543576e+09                  40.53   \n",
              "1                  1.544688e+09                  32.85   \n",
              "2                  1.544688e+09                  32.85   \n",
              "3                  1.545019e+09                  38.38   \n",
              "4                  1.544688e+09                  32.85   \n",
              "...                         ...                    ...   \n",
              "7800               1.545134e+09                  31.92   \n",
              "7801               1.543896e+09                  56.22   \n",
              "7802               1.545044e+09                  35.95   \n",
              "7803               1.543748e+09                  50.13   \n",
              "7804               1.545019e+09                  38.30   \n",
              "\n",
              "      apparentTemperatureMaxTime  \n",
              "0                   1.543612e+09  \n",
              "1                   1.544735e+09  \n",
              "2                   1.544735e+09  \n",
              "3                   1.544987e+09  \n",
              "4                   1.544735e+09  \n",
              "...                          ...  \n",
              "7800                1.545109e+09  \n",
              "7801                1.543853e+09  \n",
              "7802                1.545077e+09  \n",
              "7803                1.543788e+09  \n",
              "7804                1.544987e+09  \n",
              "\n",
              "[7805 rows x 55 columns]"
            ],
            "text/html": [
              "\n",
              "  <div id=\"df-646bda28-0cf6-4aa8-9de6-abb08c18a2b8\">\n",
              "    <div class=\"colab-df-container\">\n",
              "      <div>\n",
              "<style scoped>\n",
              "    .dataframe tbody tr th:only-of-type {\n",
              "        vertical-align: middle;\n",
              "    }\n",
              "\n",
              "    .dataframe tbody tr th {\n",
              "        vertical-align: top;\n",
              "    }\n",
              "\n",
              "    .dataframe thead th {\n",
              "        text-align: right;\n",
              "    }\n",
              "</style>\n",
              "<table border=\"1\" class=\"dataframe\">\n",
              "  <thead>\n",
              "    <tr style=\"text-align: right;\">\n",
              "      <th></th>\n",
              "      <th>hour</th>\n",
              "      <th>day</th>\n",
              "      <th>month</th>\n",
              "      <th>datetime</th>\n",
              "      <th>timezone</th>\n",
              "      <th>source</th>\n",
              "      <th>destination</th>\n",
              "      <th>cab_type</th>\n",
              "      <th>product_id</th>\n",
              "      <th>name</th>\n",
              "      <th>...</th>\n",
              "      <th>precipIntensityMax</th>\n",
              "      <th>uvIndexTime</th>\n",
              "      <th>temperatureMin</th>\n",
              "      <th>temperatureMinTime</th>\n",
              "      <th>temperatureMax</th>\n",
              "      <th>temperatureMaxTime</th>\n",
              "      <th>apparentTemperatureMin</th>\n",
              "      <th>apparentTemperatureMinTime</th>\n",
              "      <th>apparentTemperatureMax</th>\n",
              "      <th>apparentTemperatureMaxTime</th>\n",
              "    </tr>\n",
              "  </thead>\n",
              "  <tbody>\n",
              "    <tr>\n",
              "      <th>0</th>\n",
              "      <td>22</td>\n",
              "      <td>30</td>\n",
              "      <td>11</td>\n",
              "      <td>2018-11-30 22:13:01</td>\n",
              "      <td>America/New_York</td>\n",
              "      <td>North End</td>\n",
              "      <td>West End</td>\n",
              "      <td>Uber</td>\n",
              "      <td>6f72dfc5-27f1-42e8-84db-ccc7a75f6969</td>\n",
              "      <td>UberXL</td>\n",
              "      <td>...</td>\n",
              "      <td>0.0003</td>\n",
              "      <td>1.543594e+09</td>\n",
              "      <td>28.79</td>\n",
              "      <td>1.543579e+09</td>\n",
              "      <td>42.52</td>\n",
              "      <td>1.543601e+09</td>\n",
              "      <td>26.41</td>\n",
              "      <td>1.543576e+09</td>\n",
              "      <td>40.53</td>\n",
              "      <td>1.543612e+09</td>\n",
              "    </tr>\n",
              "    <tr>\n",
              "      <th>1</th>\n",
              "      <td>10</td>\n",
              "      <td>13</td>\n",
              "      <td>12</td>\n",
              "      <td>2018-12-13 10:50:11</td>\n",
              "      <td>America/New_York</td>\n",
              "      <td>North End</td>\n",
              "      <td>West End</td>\n",
              "      <td>Uber</td>\n",
              "      <td>6c84fd89-3f11-4782-9b50-97c468b19529</td>\n",
              "      <td>Black</td>\n",
              "      <td>...</td>\n",
              "      <td>0.0001</td>\n",
              "      <td>1.544717e+09</td>\n",
              "      <td>18.29</td>\n",
              "      <td>1.544688e+09</td>\n",
              "      <td>33.83</td>\n",
              "      <td>1.544731e+09</td>\n",
              "      <td>13.79</td>\n",
              "      <td>1.544688e+09</td>\n",
              "      <td>32.85</td>\n",
              "      <td>1.544735e+09</td>\n",
              "    </tr>\n",
              "    <tr>\n",
              "      <th>2</th>\n",
              "      <td>19</td>\n",
              "      <td>13</td>\n",
              "      <td>12</td>\n",
              "      <td>2018-12-13 19:15:03</td>\n",
              "      <td>America/New_York</td>\n",
              "      <td>North End</td>\n",
              "      <td>West End</td>\n",
              "      <td>Uber</td>\n",
              "      <td>55c66225-fbe7-4fd5-9072-eab1ece5e23e</td>\n",
              "      <td>UberX</td>\n",
              "      <td>...</td>\n",
              "      <td>0.0001</td>\n",
              "      <td>1.544717e+09</td>\n",
              "      <td>18.29</td>\n",
              "      <td>1.544688e+09</td>\n",
              "      <td>33.83</td>\n",
              "      <td>1.544731e+09</td>\n",
              "      <td>13.79</td>\n",
              "      <td>1.544688e+09</td>\n",
              "      <td>32.85</td>\n",
              "      <td>1.544735e+09</td>\n",
              "    </tr>\n",
              "    <tr>\n",
              "      <th>3</th>\n",
              "      <td>23</td>\n",
              "      <td>16</td>\n",
              "      <td>12</td>\n",
              "      <td>2018-12-16 23:55:11</td>\n",
              "      <td>America/New_York</td>\n",
              "      <td>North End</td>\n",
              "      <td>West End</td>\n",
              "      <td>Uber</td>\n",
              "      <td>9a0e7b09-b92b-4c41-9779-2ad22b4d779d</td>\n",
              "      <td>WAV</td>\n",
              "      <td>...</td>\n",
              "      <td>0.1252</td>\n",
              "      <td>1.544980e+09</td>\n",
              "      <td>39.22</td>\n",
              "      <td>1.544954e+09</td>\n",
              "      <td>43.83</td>\n",
              "      <td>1.544990e+09</td>\n",
              "      <td>33.98</td>\n",
              "      <td>1.545019e+09</td>\n",
              "      <td>38.38</td>\n",
              "      <td>1.544987e+09</td>\n",
              "    </tr>\n",
              "    <tr>\n",
              "      <th>4</th>\n",
              "      <td>0</td>\n",
              "      <td>14</td>\n",
              "      <td>12</td>\n",
              "      <td>2018-12-14 00:40:07</td>\n",
              "      <td>America/New_York</td>\n",
              "      <td>North End</td>\n",
              "      <td>West End</td>\n",
              "      <td>Uber</td>\n",
              "      <td>6d318bcc-22a3-4af6-bddd-b409bfce1546</td>\n",
              "      <td>Black SUV</td>\n",
              "      <td>...</td>\n",
              "      <td>0.0001</td>\n",
              "      <td>1.544717e+09</td>\n",
              "      <td>18.29</td>\n",
              "      <td>1.544688e+09</td>\n",
              "      <td>33.83</td>\n",
              "      <td>1.544731e+09</td>\n",
              "      <td>13.79</td>\n",
              "      <td>1.544688e+09</td>\n",
              "      <td>32.85</td>\n",
              "      <td>1.544735e+09</td>\n",
              "    </tr>\n",
              "    <tr>\n",
              "      <th>...</th>\n",
              "      <td>...</td>\n",
              "      <td>...</td>\n",
              "      <td>...</td>\n",
              "      <td>...</td>\n",
              "      <td>...</td>\n",
              "      <td>...</td>\n",
              "      <td>...</td>\n",
              "      <td>...</td>\n",
              "      <td>...</td>\n",
              "      <td>...</td>\n",
              "      <td>...</td>\n",
              "      <td>...</td>\n",
              "      <td>...</td>\n",
              "      <td>...</td>\n",
              "      <td>...</td>\n",
              "      <td>...</td>\n",
              "      <td>...</td>\n",
              "      <td>...</td>\n",
              "      <td>...</td>\n",
              "      <td>...</td>\n",
              "      <td>...</td>\n",
              "    </tr>\n",
              "    <tr>\n",
              "      <th>7800</th>\n",
              "      <td>18</td>\n",
              "      <td>18</td>\n",
              "      <td>12</td>\n",
              "      <td>2018-12-18 18:20:03</td>\n",
              "      <td>America/New_York</td>\n",
              "      <td>Theatre District</td>\n",
              "      <td>Haymarket Square</td>\n",
              "      <td>Uber</td>\n",
              "      <td>55c66225-fbe7-4fd5-9072-eab1ece5e23e</td>\n",
              "      <td>UberX</td>\n",
              "      <td>...</td>\n",
              "      <td>0.0028</td>\n",
              "      <td>1.545152e+09</td>\n",
              "      <td>23.09</td>\n",
              "      <td>1.545192e+09</td>\n",
              "      <td>38.03</td>\n",
              "      <td>1.545109e+09</td>\n",
              "      <td>11.82</td>\n",
              "      <td>1.545134e+09</td>\n",
              "      <td>31.92</td>\n",
              "      <td>1.545109e+09</td>\n",
              "    </tr>\n",
              "    <tr>\n",
              "      <th>7801</th>\n",
              "      <td>4</td>\n",
              "      <td>4</td>\n",
              "      <td>12</td>\n",
              "      <td>2018-12-04 04:43:00</td>\n",
              "      <td>America/New_York</td>\n",
              "      <td>Theatre District</td>\n",
              "      <td>Haymarket Square</td>\n",
              "      <td>Uber</td>\n",
              "      <td>6f72dfc5-27f1-42e8-84db-ccc7a75f6969</td>\n",
              "      <td>UberXL</td>\n",
              "      <td>...</td>\n",
              "      <td>0.0004</td>\n",
              "      <td>1.543853e+09</td>\n",
              "      <td>43.10</td>\n",
              "      <td>1.543896e+09</td>\n",
              "      <td>56.89</td>\n",
              "      <td>1.543853e+09</td>\n",
              "      <td>40.05</td>\n",
              "      <td>1.543896e+09</td>\n",
              "      <td>56.22</td>\n",
              "      <td>1.543853e+09</td>\n",
              "    </tr>\n",
              "    <tr>\n",
              "      <th>7802</th>\n",
              "      <td>3</td>\n",
              "      <td>18</td>\n",
              "      <td>12</td>\n",
              "      <td>2018-12-18 03:45:10</td>\n",
              "      <td>America/New_York</td>\n",
              "      <td>Theatre District</td>\n",
              "      <td>Haymarket Square</td>\n",
              "      <td>Uber</td>\n",
              "      <td>8cf7e821-f0d3-49c6-8eba-e679c0ebcf6a</td>\n",
              "      <td>Taxi</td>\n",
              "      <td>...</td>\n",
              "      <td>0.0175</td>\n",
              "      <td>1.545066e+09</td>\n",
              "      <td>34.14</td>\n",
              "      <td>1.545044e+09</td>\n",
              "      <td>41.44</td>\n",
              "      <td>1.545077e+09</td>\n",
              "      <td>28.12</td>\n",
              "      <td>1.545044e+09</td>\n",
              "      <td>35.95</td>\n",
              "      <td>1.545077e+09</td>\n",
              "    </tr>\n",
              "    <tr>\n",
              "      <th>7803</th>\n",
              "      <td>12</td>\n",
              "      <td>2</td>\n",
              "      <td>12</td>\n",
              "      <td>2018-12-02 12:43:02</td>\n",
              "      <td>America/New_York</td>\n",
              "      <td>Theatre District</td>\n",
              "      <td>Haymarket Square</td>\n",
              "      <td>Uber</td>\n",
              "      <td>6d318bcc-22a3-4af6-bddd-b409bfce1546</td>\n",
              "      <td>Black SUV</td>\n",
              "      <td>...</td>\n",
              "      <td>0.0916</td>\n",
              "      <td>1.543770e+09</td>\n",
              "      <td>36.32</td>\n",
              "      <td>1.543727e+09</td>\n",
              "      <td>50.80</td>\n",
              "      <td>1.543788e+09</td>\n",
              "      <td>35.84</td>\n",
              "      <td>1.543748e+09</td>\n",
              "      <td>50.13</td>\n",
              "      <td>1.543788e+09</td>\n",
              "    </tr>\n",
              "    <tr>\n",
              "      <th>7804</th>\n",
              "      <td>2</td>\n",
              "      <td>17</td>\n",
              "      <td>12</td>\n",
              "      <td>2018-12-17 02:15:09</td>\n",
              "      <td>America/New_York</td>\n",
              "      <td>Theatre District</td>\n",
              "      <td>Haymarket Square</td>\n",
              "      <td>Uber</td>\n",
              "      <td>9a0e7b09-b92b-4c41-9779-2ad22b4d779d</td>\n",
              "      <td>WAV</td>\n",
              "      <td>...</td>\n",
              "      <td>0.1266</td>\n",
              "      <td>1.544980e+09</td>\n",
              "      <td>39.29</td>\n",
              "      <td>1.544954e+09</td>\n",
              "      <td>43.76</td>\n",
              "      <td>1.544990e+09</td>\n",
              "      <td>33.73</td>\n",
              "      <td>1.545019e+09</td>\n",
              "      <td>38.30</td>\n",
              "      <td>1.544987e+09</td>\n",
              "    </tr>\n",
              "  </tbody>\n",
              "</table>\n",
              "<p>7805 rows × 55 columns</p>\n",
              "</div>\n",
              "      <button class=\"colab-df-convert\" onclick=\"convertToInteractive('df-646bda28-0cf6-4aa8-9de6-abb08c18a2b8')\"\n",
              "              title=\"Convert this dataframe to an interactive table.\"\n",
              "              style=\"display:none;\">\n",
              "        \n",
              "  <svg xmlns=\"http://www.w3.org/2000/svg\" height=\"24px\"viewBox=\"0 0 24 24\"\n",
              "       width=\"24px\">\n",
              "    <path d=\"M0 0h24v24H0V0z\" fill=\"none\"/>\n",
              "    <path d=\"M18.56 5.44l.94 2.06.94-2.06 2.06-.94-2.06-.94-.94-2.06-.94 2.06-2.06.94zm-11 1L8.5 8.5l.94-2.06 2.06-.94-2.06-.94L8.5 2.5l-.94 2.06-2.06.94zm10 10l.94 2.06.94-2.06 2.06-.94-2.06-.94-.94-2.06-.94 2.06-2.06.94z\"/><path d=\"M17.41 7.96l-1.37-1.37c-.4-.4-.92-.59-1.43-.59-.52 0-1.04.2-1.43.59L10.3 9.45l-7.72 7.72c-.78.78-.78 2.05 0 2.83L4 21.41c.39.39.9.59 1.41.59.51 0 1.02-.2 1.41-.59l7.78-7.78 2.81-2.81c.8-.78.8-2.07 0-2.86zM5.41 20L4 18.59l7.72-7.72 1.47 1.35L5.41 20z\"/>\n",
              "  </svg>\n",
              "      </button>\n",
              "      \n",
              "  <style>\n",
              "    .colab-df-container {\n",
              "      display:flex;\n",
              "      flex-wrap:wrap;\n",
              "      gap: 12px;\n",
              "    }\n",
              "\n",
              "    .colab-df-convert {\n",
              "      background-color: #E8F0FE;\n",
              "      border: none;\n",
              "      border-radius: 50%;\n",
              "      cursor: pointer;\n",
              "      display: none;\n",
              "      fill: #1967D2;\n",
              "      height: 32px;\n",
              "      padding: 0 0 0 0;\n",
              "      width: 32px;\n",
              "    }\n",
              "\n",
              "    .colab-df-convert:hover {\n",
              "      background-color: #E2EBFA;\n",
              "      box-shadow: 0px 1px 2px rgba(60, 64, 67, 0.3), 0px 1px 3px 1px rgba(60, 64, 67, 0.15);\n",
              "      fill: #174EA6;\n",
              "    }\n",
              "\n",
              "    [theme=dark] .colab-df-convert {\n",
              "      background-color: #3B4455;\n",
              "      fill: #D2E3FC;\n",
              "    }\n",
              "\n",
              "    [theme=dark] .colab-df-convert:hover {\n",
              "      background-color: #434B5C;\n",
              "      box-shadow: 0px 1px 3px 1px rgba(0, 0, 0, 0.15);\n",
              "      filter: drop-shadow(0px 1px 2px rgba(0, 0, 0, 0.3));\n",
              "      fill: #FFFFFF;\n",
              "    }\n",
              "  </style>\n",
              "\n",
              "      <script>\n",
              "        const buttonEl =\n",
              "          document.querySelector('#df-646bda28-0cf6-4aa8-9de6-abb08c18a2b8 button.colab-df-convert');\n",
              "        buttonEl.style.display =\n",
              "          google.colab.kernel.accessAllowed ? 'block' : 'none';\n",
              "\n",
              "        async function convertToInteractive(key) {\n",
              "          const element = document.querySelector('#df-646bda28-0cf6-4aa8-9de6-abb08c18a2b8');\n",
              "          const dataTable =\n",
              "            await google.colab.kernel.invokeFunction('convertToInteractive',\n",
              "                                                     [key], {});\n",
              "          if (!dataTable) return;\n",
              "\n",
              "          const docLinkHtml = 'Like what you see? Visit the ' +\n",
              "            '<a target=\"_blank\" href=https://colab.research.google.com/notebooks/data_table.ipynb>data table notebook</a>'\n",
              "            + ' to learn more about interactive tables.';\n",
              "          element.innerHTML = '';\n",
              "          dataTable['output_type'] = 'display_data';\n",
              "          await google.colab.output.renderOutput(dataTable, element);\n",
              "          const docLink = document.createElement('div');\n",
              "          docLink.innerHTML = docLinkHtml;\n",
              "          element.appendChild(docLink);\n",
              "        }\n",
              "      </script>\n",
              "    </div>\n",
              "  </div>\n",
              "  "
            ]
          },
          "metadata": {},
          "execution_count": 17
        }
      ],
      "source": [
        "df.dropna()"
      ]
    },
    {
      "cell_type": "code",
      "execution_count": null,
      "metadata": {
        "colab": {
          "base_uri": "https://localhost:8080/"
        },
        "id": "qF3GMAJo8mi6",
        "outputId": "f69ffff3-54f2-4ae6-d7b4-0c69aa1d042d"
      },
      "outputs": [
        {
          "output_type": "execute_result",
          "data": {
            "text/plain": [
              "(7806, 55)"
            ]
          },
          "metadata": {},
          "execution_count": 18
        }
      ],
      "source": [
        "df.shape"
      ]
    },
    {
      "cell_type": "code",
      "execution_count": null,
      "metadata": {
        "colab": {
          "base_uri": "https://localhost:8080/"
        },
        "id": "ytQ0tQC8NBL_",
        "outputId": "e8351706-6457-4244-9000-794201cfb74a"
      },
      "outputs": [
        {
          "output_type": "execute_result",
          "data": {
            "text/plain": [
              "['datetime',\n",
              " 'timezone',\n",
              " 'source',\n",
              " 'destination',\n",
              " 'cab_type',\n",
              " 'product_id',\n",
              " 'name',\n",
              " 'short_summary',\n",
              " 'long_summary',\n",
              " 'icon']"
            ]
          },
          "metadata": {},
          "execution_count": 19
        }
      ],
      "source": [
        "categorical_features"
      ]
    },
    {
      "cell_type": "code",
      "execution_count": null,
      "metadata": {
        "id": "Dlc8FX-yojGn"
      },
      "outputs": [],
      "source": [
        "pd.set_option('display.max_columns', None)"
      ]
    },
    {
      "cell_type": "code",
      "execution_count": null,
      "metadata": {
        "colab": {
          "base_uri": "https://localhost:8080/"
        },
        "id": "wCJcSCW-piNC",
        "outputId": "30017741-0dd4-4f93-ff01-36bc4354f8b4"
      },
      "outputs": [
        {
          "output_type": "stream",
          "name": "stdout",
          "text": [
            "Index(['datetime', 'timezone', 'source', 'destination', 'cab_type',\n",
            "       'product_id', 'name', 'short_summary', 'long_summary', 'icon'],\n",
            "      dtype='object')\n"
          ]
        }
      ],
      "source": [
        "categorical_cols = df.select_dtypes(include='object').columns\n",
        "print(categorical_cols)"
      ]
    },
    {
      "cell_type": "code",
      "execution_count": null,
      "metadata": {
        "id": "oE0p-kj5rqqN"
      },
      "outputs": [],
      "source": [
        "label = LabelEncoder()\n",
        "df['datetime'] = label.fit_transform(df['datetime'])\n",
        "df['timezone'] = label.fit_transform(df['timezone'])\n",
        "df['source'] = label.fit_transform(df['source'])\n",
        "df['destination'] = label.fit_transform(df['destination'])\n",
        "df['cab_type'] = label.fit_transform(df['cab_type'])\n",
        "df['product_id'] = label.fit_transform(df['product_id'])\n",
        "df['name'] = label.fit_transform(df['name'])\n",
        "df['short_summary'] = label.fit_transform(df['short_summary'])\n",
        "df['long_summary']= label.fit_transform(df['long_summary'])\n",
        "df['icon'] = label.fit_transform(df['icon'])"
      ]
    },
    {
      "cell_type": "code",
      "execution_count": null,
      "metadata": {
        "id": "Cy0erwv6semY"
      },
      "outputs": [],
      "source": [
        "df['icon']=df['icon'].astype('int')\n",
        "df['datetime']=df['datetime'].astype('int')\n",
        "df['timezone']=df['timezone'].astype('int')\n",
        "df['source']=df['source'].astype('int')\n",
        "df['destination']=df['destination'].astype('int')\n",
        "df['cab_type']=df['cab_type'].astype('int')\n",
        "df['product_id']=df['product_id'].astype('int')\n",
        "df['name']=df['name'].astype('int')\n",
        "df['short_summary']=df['short_summary'].astype('int')\n",
        "df['long_summary']=df['long_summary'].astype('int')"
      ]
    },
    {
      "cell_type": "code",
      "execution_count": null,
      "metadata": {
        "colab": {
          "base_uri": "https://localhost:8080/"
        },
        "id": "Hm46n8xspiTy",
        "outputId": "b043acd2-98e1-4864-bf2d-ff796e51f930"
      },
      "outputs": [
        {
          "output_type": "stream",
          "name": "stdout",
          "text": [
            "<class 'pandas.core.frame.DataFrame'>\n",
            "RangeIndex: 7806 entries, 0 to 7805\n",
            "Data columns (total 55 columns):\n",
            " #   Column                       Non-Null Count  Dtype  \n",
            "---  ------                       --------------  -----  \n",
            " 0   hour                         7806 non-null   int64  \n",
            " 1   day                          7806 non-null   int64  \n",
            " 2   month                        7806 non-null   int64  \n",
            " 3   datetime                     7806 non-null   int64  \n",
            " 4   timezone                     7806 non-null   int64  \n",
            " 5   source                       7806 non-null   int64  \n",
            " 6   destination                  7806 non-null   int64  \n",
            " 7   cab_type                     7806 non-null   int64  \n",
            " 8   product_id                   7806 non-null   int64  \n",
            " 9   name                         7806 non-null   int64  \n",
            " 10  price                        7806 non-null   float64\n",
            " 11  distance                     7806 non-null   float64\n",
            " 12  surge_multiplier             7806 non-null   float64\n",
            " 13  latitude                     7806 non-null   float64\n",
            " 14  longitude                    7806 non-null   float64\n",
            " 15  temperature                  7806 non-null   float64\n",
            " 16  apparentTemperature          7806 non-null   float64\n",
            " 17  short_summary                7806 non-null   int64  \n",
            " 18  long_summary                 7806 non-null   int64  \n",
            " 19  precipIntensity              7805 non-null   float64\n",
            " 20  precipProbability            7805 non-null   float64\n",
            " 21  humidity                     7805 non-null   float64\n",
            " 22  windSpeed                    7805 non-null   float64\n",
            " 23  windGust                     7805 non-null   float64\n",
            " 24  windGustTime                 7805 non-null   float64\n",
            " 25  visibility                   7805 non-null   float64\n",
            " 26  temperatureHigh              7805 non-null   float64\n",
            " 27  temperatureHighTime          7805 non-null   float64\n",
            " 28  temperatureLow               7805 non-null   float64\n",
            " 29  temperatureLowTime           7805 non-null   float64\n",
            " 30  apparentTemperatureHigh      7805 non-null   float64\n",
            " 31  apparentTemperatureHighTime  7805 non-null   float64\n",
            " 32  apparentTemperatureLow       7805 non-null   float64\n",
            " 33  apparentTemperatureLowTime   7805 non-null   float64\n",
            " 34  icon                         7806 non-null   int64  \n",
            " 35  dewPoint                     7805 non-null   float64\n",
            " 36  pressure                     7805 non-null   float64\n",
            " 37  windBearing                  7805 non-null   float64\n",
            " 38  cloudCover                   7805 non-null   float64\n",
            " 39  uvIndex                      7805 non-null   float64\n",
            " 40  visibility.1                 7805 non-null   float64\n",
            " 41  ozone                        7805 non-null   float64\n",
            " 42  sunriseTime                  7805 non-null   float64\n",
            " 43  sunsetTime                   7805 non-null   float64\n",
            " 44  moonPhase                    7805 non-null   float64\n",
            " 45  precipIntensityMax           7805 non-null   float64\n",
            " 46  uvIndexTime                  7805 non-null   float64\n",
            " 47  temperatureMin               7805 non-null   float64\n",
            " 48  temperatureMinTime           7805 non-null   float64\n",
            " 49  temperatureMax               7805 non-null   float64\n",
            " 50  temperatureMaxTime           7805 non-null   float64\n",
            " 51  apparentTemperatureMin       7805 non-null   float64\n",
            " 52  apparentTemperatureMinTime   7805 non-null   float64\n",
            " 53  apparentTemperatureMax       7805 non-null   float64\n",
            " 54  apparentTemperatureMaxTime   7805 non-null   float64\n",
            "dtypes: float64(42), int64(13)\n",
            "memory usage: 3.3 MB\n"
          ]
        }
      ],
      "source": [
        "df.info()"
      ]
    },
    {
      "cell_type": "code",
      "execution_count": null,
      "metadata": {
        "id": "JQvv827ht9qx"
      },
      "outputs": [],
      "source": [
        "df= df.dropna()"
      ]
    },
    {
      "cell_type": "code",
      "execution_count": null,
      "metadata": {
        "colab": {
          "base_uri": "https://localhost:8080/"
        },
        "id": "jVW4tHaZuCaH",
        "outputId": "9470f55e-14f7-4086-83ac-297c42dba00b"
      },
      "outputs": [
        {
          "output_type": "execute_result",
          "data": {
            "text/plain": [
              "hour                           0\n",
              "day                            0\n",
              "month                          0\n",
              "datetime                       0\n",
              "timezone                       0\n",
              "source                         0\n",
              "destination                    0\n",
              "cab_type                       0\n",
              "product_id                     0\n",
              "name                           0\n",
              "price                          0\n",
              "distance                       0\n",
              "surge_multiplier               0\n",
              "latitude                       0\n",
              "longitude                      0\n",
              "temperature                    0\n",
              "apparentTemperature            0\n",
              "short_summary                  0\n",
              "long_summary                   0\n",
              "precipIntensity                0\n",
              "precipProbability              0\n",
              "humidity                       0\n",
              "windSpeed                      0\n",
              "windGust                       0\n",
              "windGustTime                   0\n",
              "visibility                     0\n",
              "temperatureHigh                0\n",
              "temperatureHighTime            0\n",
              "temperatureLow                 0\n",
              "temperatureLowTime             0\n",
              "apparentTemperatureHigh        0\n",
              "apparentTemperatureHighTime    0\n",
              "apparentTemperatureLow         0\n",
              "apparentTemperatureLowTime     0\n",
              "icon                           0\n",
              "dewPoint                       0\n",
              "pressure                       0\n",
              "windBearing                    0\n",
              "cloudCover                     0\n",
              "uvIndex                        0\n",
              "visibility.1                   0\n",
              "ozone                          0\n",
              "sunriseTime                    0\n",
              "sunsetTime                     0\n",
              "moonPhase                      0\n",
              "precipIntensityMax             0\n",
              "uvIndexTime                    0\n",
              "temperatureMin                 0\n",
              "temperatureMinTime             0\n",
              "temperatureMax                 0\n",
              "temperatureMaxTime             0\n",
              "apparentTemperatureMin         0\n",
              "apparentTemperatureMinTime     0\n",
              "apparentTemperatureMax         0\n",
              "apparentTemperatureMaxTime     0\n",
              "dtype: int64"
            ]
          },
          "metadata": {},
          "execution_count": 26
        }
      ],
      "source": [
        "df.isnull().sum()"
      ]
    },
    {
      "cell_type": "markdown",
      "metadata": {
        "id": "yUlu6Mlx4kxm"
      },
      "source": [
        "Missing values are handled now first price will be predicted using supervised algorithm after that booking area using unsupervised algorithm"
      ]
    },
    {
      "cell_type": "code",
      "execution_count": null,
      "metadata": {
        "id": "5n1G90XjyvaK"
      },
      "outputs": [],
      "source": [
        "X= df.drop(labels='price',axis=1)\n"
      ]
    },
    {
      "cell_type": "code",
      "execution_count": null,
      "metadata": {
        "id": "lwT2Qcjv1xRy"
      },
      "outputs": [],
      "source": [
        "y= df['price']"
      ]
    },
    {
      "cell_type": "code",
      "execution_count": null,
      "metadata": {
        "id": "ZRYjLvkPpiWC"
      },
      "outputs": [],
      "source": [
        "scaler= StandardScaler()\n",
        "\n",
        "X_scaled =scaler.fit_transform(X)"
      ]
    },
    {
      "cell_type": "code",
      "execution_count": null,
      "metadata": {
        "colab": {
          "base_uri": "https://localhost:8080/"
        },
        "id": "MUS7PFPXtxWe",
        "outputId": "61268ab2-fa21-46e2-c5d0-c38f6160547d"
      },
      "outputs": [
        {
          "output_type": "execute_result",
          "data": {
            "text/plain": [
              "array([[ 1.48627174,  1.21668964, -1.18012875, ..., -0.67754128,\n",
              "        -0.20321732, -0.62210178],\n",
              "       [-0.23542333, -0.48498809,  0.84736517, ...,  0.94612245,\n",
              "        -1.30639517,  1.00711667],\n",
              "       [ 1.05584797, -0.48498809,  0.84736517, ...,  0.94612245,\n",
              "        -1.30639517,  1.00711667],\n",
              "       ...,\n",
              "       [-1.23974545,  0.01550536,  0.84736517, ...,  1.46632539,\n",
              "        -0.86110203,  1.5031928 ],\n",
              "       [ 0.05152585, -1.58607368,  0.84736517, ..., -0.42532168,\n",
              "         1.17575499, -0.36623093],\n",
              "       [-1.38322004, -0.08459333,  0.84736517, ...,  1.42954337,\n",
              "        -0.5235411 ,  1.37264645]])"
            ]
          },
          "metadata": {},
          "execution_count": 30
        }
      ],
      "source": [
        "X_scaled"
      ]
    },
    {
      "cell_type": "code",
      "execution_count": null,
      "metadata": {
        "colab": {
          "base_uri": "https://localhost:8080/"
        },
        "id": "BxwQ0dWIyS4T",
        "outputId": "db67d88e-301f-49c1-8b94-4c3d6c146f3e"
      },
      "outputs": [
        {
          "output_type": "execute_result",
          "data": {
            "text/plain": [
              "0       12.0\n",
              "1       16.0\n",
              "2        7.5\n",
              "3        7.5\n",
              "4       26.0\n",
              "        ... \n",
              "7800     8.0\n",
              "7801    12.0\n",
              "7802    12.5\n",
              "7803    27.5\n",
              "7804     8.0\n",
              "Name: price, Length: 7805, dtype: float64"
            ]
          },
          "metadata": {},
          "execution_count": 31
        }
      ],
      "source": [
        "y"
      ]
    },
    {
      "cell_type": "code",
      "execution_count": null,
      "metadata": {
        "id": "vwXcMW_auHIk"
      },
      "outputs": [],
      "source": [
        "from sklearn.ensemble import RandomForestRegressor\n",
        "from sklearn.model_selection import GridSearchCV , train_test_split\n",
        "from sklearn.metrics import accuracy_score, r2_score"
      ]
    },
    {
      "cell_type": "code",
      "execution_count": null,
      "metadata": {
        "id": "GTBKHZ9C30oy"
      },
      "outputs": [],
      "source": [
        "X_train,X_test,y_train,y_test=train_test_split(X_scaled,y,test_size=0.30,random_state=30)"
      ]
    },
    {
      "cell_type": "code",
      "source": [
        "y_test"
      ],
      "metadata": {
        "colab": {
          "base_uri": "https://localhost:8080/"
        },
        "id": "xa8ZOjal2xCR",
        "outputId": "4b68f493-0bec-4444-8c2f-2a0a7f48d6b6"
      },
      "execution_count": null,
      "outputs": [
        {
          "output_type": "execute_result",
          "data": {
            "text/plain": [
              "3021    12.5\n",
              "372     12.5\n",
              "4845    26.5\n",
              "5778     7.5\n",
              "5938     7.0\n",
              "        ... \n",
              "2773    42.5\n",
              "4536     7.0\n",
              "3944    17.5\n",
              "6330    12.5\n",
              "7353     8.0\n",
              "Name: price, Length: 2342, dtype: float64"
            ]
          },
          "metadata": {},
          "execution_count": 69
        }
      ]
    },
    {
      "cell_type": "code",
      "execution_count": null,
      "metadata": {
        "id": "peDOsQM14Fds"
      },
      "outputs": [],
      "source": [
        "df_random= RandomForestRegressor(n_estimators=9)"
      ]
    },
    {
      "cell_type": "code",
      "execution_count": null,
      "metadata": {
        "colab": {
          "base_uri": "https://localhost:8080/",
          "height": 74
        },
        "id": "0eV60dus30rG",
        "outputId": "e1e8d2ed-e007-460c-d0f9-432207ef8794"
      },
      "outputs": [
        {
          "output_type": "execute_result",
          "data": {
            "text/plain": [
              "RandomForestRegressor(n_estimators=9)"
            ],
            "text/html": [
              "<style>#sk-container-id-1 {color: black;background-color: white;}#sk-container-id-1 pre{padding: 0;}#sk-container-id-1 div.sk-toggleable {background-color: white;}#sk-container-id-1 label.sk-toggleable__label {cursor: pointer;display: block;width: 100%;margin-bottom: 0;padding: 0.3em;box-sizing: border-box;text-align: center;}#sk-container-id-1 label.sk-toggleable__label-arrow:before {content: \"▸\";float: left;margin-right: 0.25em;color: #696969;}#sk-container-id-1 label.sk-toggleable__label-arrow:hover:before {color: black;}#sk-container-id-1 div.sk-estimator:hover label.sk-toggleable__label-arrow:before {color: black;}#sk-container-id-1 div.sk-toggleable__content {max-height: 0;max-width: 0;overflow: hidden;text-align: left;background-color: #f0f8ff;}#sk-container-id-1 div.sk-toggleable__content pre {margin: 0.2em;color: black;border-radius: 0.25em;background-color: #f0f8ff;}#sk-container-id-1 input.sk-toggleable__control:checked~div.sk-toggleable__content {max-height: 200px;max-width: 100%;overflow: auto;}#sk-container-id-1 input.sk-toggleable__control:checked~label.sk-toggleable__label-arrow:before {content: \"▾\";}#sk-container-id-1 div.sk-estimator input.sk-toggleable__control:checked~label.sk-toggleable__label {background-color: #d4ebff;}#sk-container-id-1 div.sk-label input.sk-toggleable__control:checked~label.sk-toggleable__label {background-color: #d4ebff;}#sk-container-id-1 input.sk-hidden--visually {border: 0;clip: rect(1px 1px 1px 1px);clip: rect(1px, 1px, 1px, 1px);height: 1px;margin: -1px;overflow: hidden;padding: 0;position: absolute;width: 1px;}#sk-container-id-1 div.sk-estimator {font-family: monospace;background-color: #f0f8ff;border: 1px dotted black;border-radius: 0.25em;box-sizing: border-box;margin-bottom: 0.5em;}#sk-container-id-1 div.sk-estimator:hover {background-color: #d4ebff;}#sk-container-id-1 div.sk-parallel-item::after {content: \"\";width: 100%;border-bottom: 1px solid gray;flex-grow: 1;}#sk-container-id-1 div.sk-label:hover label.sk-toggleable__label {background-color: #d4ebff;}#sk-container-id-1 div.sk-serial::before {content: \"\";position: absolute;border-left: 1px solid gray;box-sizing: border-box;top: 0;bottom: 0;left: 50%;z-index: 0;}#sk-container-id-1 div.sk-serial {display: flex;flex-direction: column;align-items: center;background-color: white;padding-right: 0.2em;padding-left: 0.2em;position: relative;}#sk-container-id-1 div.sk-item {position: relative;z-index: 1;}#sk-container-id-1 div.sk-parallel {display: flex;align-items: stretch;justify-content: center;background-color: white;position: relative;}#sk-container-id-1 div.sk-item::before, #sk-container-id-1 div.sk-parallel-item::before {content: \"\";position: absolute;border-left: 1px solid gray;box-sizing: border-box;top: 0;bottom: 0;left: 50%;z-index: -1;}#sk-container-id-1 div.sk-parallel-item {display: flex;flex-direction: column;z-index: 1;position: relative;background-color: white;}#sk-container-id-1 div.sk-parallel-item:first-child::after {align-self: flex-end;width: 50%;}#sk-container-id-1 div.sk-parallel-item:last-child::after {align-self: flex-start;width: 50%;}#sk-container-id-1 div.sk-parallel-item:only-child::after {width: 0;}#sk-container-id-1 div.sk-dashed-wrapped {border: 1px dashed gray;margin: 0 0.4em 0.5em 0.4em;box-sizing: border-box;padding-bottom: 0.4em;background-color: white;}#sk-container-id-1 div.sk-label label {font-family: monospace;font-weight: bold;display: inline-block;line-height: 1.2em;}#sk-container-id-1 div.sk-label-container {text-align: center;}#sk-container-id-1 div.sk-container {/* jupyter's `normalize.less` sets `[hidden] { display: none; }` but bootstrap.min.css set `[hidden] { display: none !important; }` so we also need the `!important` here to be able to override the default hidden behavior on the sphinx rendered scikit-learn.org. See: https://github.com/scikit-learn/scikit-learn/issues/21755 */display: inline-block !important;position: relative;}#sk-container-id-1 div.sk-text-repr-fallback {display: none;}</style><div id=\"sk-container-id-1\" class=\"sk-top-container\"><div class=\"sk-text-repr-fallback\"><pre>RandomForestRegressor(n_estimators=9)</pre><b>In a Jupyter environment, please rerun this cell to show the HTML representation or trust the notebook. <br />On GitHub, the HTML representation is unable to render, please try loading this page with nbviewer.org.</b></div><div class=\"sk-container\" hidden><div class=\"sk-item\"><div class=\"sk-estimator sk-toggleable\"><input class=\"sk-toggleable__control sk-hidden--visually\" id=\"sk-estimator-id-1\" type=\"checkbox\" checked><label for=\"sk-estimator-id-1\" class=\"sk-toggleable__label sk-toggleable__label-arrow\">RandomForestRegressor</label><div class=\"sk-toggleable__content\"><pre>RandomForestRegressor(n_estimators=9)</pre></div></div></div></div></div>"
            ]
          },
          "metadata": {},
          "execution_count": 35
        }
      ],
      "source": [
        "df_random.fit(X_train,y_train)"
      ]
    },
    {
      "cell_type": "code",
      "execution_count": null,
      "metadata": {
        "colab": {
          "base_uri": "https://localhost:8080/"
        },
        "id": "H2jh8GNP30t1",
        "outputId": "a5c47e62-ca33-43ed-d37f-f9b92885264f"
      },
      "outputs": [
        {
          "output_type": "execute_result",
          "data": {
            "text/plain": [
              "0.9882255894760466"
            ]
          },
          "metadata": {},
          "execution_count": 36
        }
      ],
      "source": [
        "df_random.score(X_train,y_train)"
      ]
    },
    {
      "cell_type": "code",
      "execution_count": null,
      "metadata": {
        "id": "bTySMOy630wZ"
      },
      "outputs": [],
      "source": [
        "y_pred = df_random.predict(X_test)"
      ]
    },
    {
      "cell_type": "code",
      "execution_count": null,
      "metadata": {
        "colab": {
          "base_uri": "https://localhost:8080/"
        },
        "id": "wafGpQCJ30yL",
        "outputId": "73909030-ed35-4ce3-93cf-4eee3513b3df"
      },
      "outputs": [
        {
          "output_type": "execute_result",
          "data": {
            "text/plain": [
              "0.94996363723806"
            ]
          },
          "metadata": {},
          "execution_count": 38
        }
      ],
      "source": [
        "from sklearn.metrics import accuracy_score\n",
        "\n",
        "r2_score(y_test,y_pred)"
      ]
    },
    {
      "cell_type": "code",
      "source": [
        "x= pd.DataFrame(y_pred)"
      ],
      "metadata": {
        "id": "gM9lUzWsxePm"
      },
      "execution_count": null,
      "outputs": []
    },
    {
      "cell_type": "code",
      "source": [
        "x1=pd.DataFrame(y_test)"
      ],
      "metadata": {
        "id": "_VuqZa7e2Gau"
      },
      "execution_count": null,
      "outputs": []
    },
    {
      "cell_type": "markdown",
      "metadata": {
        "id": "PYOjbpWU4yDV"
      },
      "source": [
        "Price prediction done successfully"
      ]
    },
    {
      "cell_type": "code",
      "execution_count": null,
      "metadata": {
        "id": "HAEH_xAk300p"
      },
      "outputs": [],
      "source": [
        "# grid_param={\n",
        "#     'n_estimators':[5,10,15,20,25,50],\n",
        "#     'max_depth':range(20),\n",
        "#     'min_samples_leaf':range(10)\n",
        "# }\n",
        "# grid_search = GridSearchCV(param_grid= grid_param , estimator= df_random, cv=10 , n_jobs=10, verbose=1)\n",
        "# grid_search.fit(X_train,y_train)"
      ]
    },
    {
      "cell_type": "code",
      "execution_count": null,
      "metadata": {
        "id": "mrKkto3C303t"
      },
      "outputs": [],
      "source": [
        "# grid_search.best_params_"
      ]
    },
    {
      "cell_type": "markdown",
      "metadata": {
        "id": "icgOAvRu7aDR"
      },
      "source": [
        "**Implementing unsupervised learnings algo to predict booking area**"
      ]
    },
    {
      "cell_type": "code",
      "execution_count": null,
      "metadata": {
        "id": "MuImkUU57Yno"
      },
      "outputs": [],
      "source": [
        "x = df.iloc[:,5:6]"
      ]
    },
    {
      "cell_type": "code",
      "source": [
        "x"
      ],
      "metadata": {
        "colab": {
          "base_uri": "https://localhost:8080/",
          "height": 423
        },
        "id": "W1dEz3VnwEGs",
        "outputId": "41488512-9507-4b9d-f59f-92400f5df58a"
      },
      "execution_count": null,
      "outputs": [
        {
          "output_type": "execute_result",
          "data": {
            "text/plain": [
              "      source\n",
              "0          6\n",
              "1          6\n",
              "2          6\n",
              "3          6\n",
              "4          6\n",
              "...      ...\n",
              "7800      10\n",
              "7801      10\n",
              "7802      10\n",
              "7803      10\n",
              "7804      10\n",
              "\n",
              "[7805 rows x 1 columns]"
            ],
            "text/html": [
              "\n",
              "  <div id=\"df-56d3d09d-547f-4fa4-8416-aa59233cbacf\">\n",
              "    <div class=\"colab-df-container\">\n",
              "      <div>\n",
              "<style scoped>\n",
              "    .dataframe tbody tr th:only-of-type {\n",
              "        vertical-align: middle;\n",
              "    }\n",
              "\n",
              "    .dataframe tbody tr th {\n",
              "        vertical-align: top;\n",
              "    }\n",
              "\n",
              "    .dataframe thead th {\n",
              "        text-align: right;\n",
              "    }\n",
              "</style>\n",
              "<table border=\"1\" class=\"dataframe\">\n",
              "  <thead>\n",
              "    <tr style=\"text-align: right;\">\n",
              "      <th></th>\n",
              "      <th>source</th>\n",
              "    </tr>\n",
              "  </thead>\n",
              "  <tbody>\n",
              "    <tr>\n",
              "      <th>0</th>\n",
              "      <td>6</td>\n",
              "    </tr>\n",
              "    <tr>\n",
              "      <th>1</th>\n",
              "      <td>6</td>\n",
              "    </tr>\n",
              "    <tr>\n",
              "      <th>2</th>\n",
              "      <td>6</td>\n",
              "    </tr>\n",
              "    <tr>\n",
              "      <th>3</th>\n",
              "      <td>6</td>\n",
              "    </tr>\n",
              "    <tr>\n",
              "      <th>4</th>\n",
              "      <td>6</td>\n",
              "    </tr>\n",
              "    <tr>\n",
              "      <th>...</th>\n",
              "      <td>...</td>\n",
              "    </tr>\n",
              "    <tr>\n",
              "      <th>7800</th>\n",
              "      <td>10</td>\n",
              "    </tr>\n",
              "    <tr>\n",
              "      <th>7801</th>\n",
              "      <td>10</td>\n",
              "    </tr>\n",
              "    <tr>\n",
              "      <th>7802</th>\n",
              "      <td>10</td>\n",
              "    </tr>\n",
              "    <tr>\n",
              "      <th>7803</th>\n",
              "      <td>10</td>\n",
              "    </tr>\n",
              "    <tr>\n",
              "      <th>7804</th>\n",
              "      <td>10</td>\n",
              "    </tr>\n",
              "  </tbody>\n",
              "</table>\n",
              "<p>7805 rows × 1 columns</p>\n",
              "</div>\n",
              "      <button class=\"colab-df-convert\" onclick=\"convertToInteractive('df-56d3d09d-547f-4fa4-8416-aa59233cbacf')\"\n",
              "              title=\"Convert this dataframe to an interactive table.\"\n",
              "              style=\"display:none;\">\n",
              "        \n",
              "  <svg xmlns=\"http://www.w3.org/2000/svg\" height=\"24px\"viewBox=\"0 0 24 24\"\n",
              "       width=\"24px\">\n",
              "    <path d=\"M0 0h24v24H0V0z\" fill=\"none\"/>\n",
              "    <path d=\"M18.56 5.44l.94 2.06.94-2.06 2.06-.94-2.06-.94-.94-2.06-.94 2.06-2.06.94zm-11 1L8.5 8.5l.94-2.06 2.06-.94-2.06-.94L8.5 2.5l-.94 2.06-2.06.94zm10 10l.94 2.06.94-2.06 2.06-.94-2.06-.94-.94-2.06-.94 2.06-2.06.94z\"/><path d=\"M17.41 7.96l-1.37-1.37c-.4-.4-.92-.59-1.43-.59-.52 0-1.04.2-1.43.59L10.3 9.45l-7.72 7.72c-.78.78-.78 2.05 0 2.83L4 21.41c.39.39.9.59 1.41.59.51 0 1.02-.2 1.41-.59l7.78-7.78 2.81-2.81c.8-.78.8-2.07 0-2.86zM5.41 20L4 18.59l7.72-7.72 1.47 1.35L5.41 20z\"/>\n",
              "  </svg>\n",
              "      </button>\n",
              "      \n",
              "  <style>\n",
              "    .colab-df-container {\n",
              "      display:flex;\n",
              "      flex-wrap:wrap;\n",
              "      gap: 12px;\n",
              "    }\n",
              "\n",
              "    .colab-df-convert {\n",
              "      background-color: #E8F0FE;\n",
              "      border: none;\n",
              "      border-radius: 50%;\n",
              "      cursor: pointer;\n",
              "      display: none;\n",
              "      fill: #1967D2;\n",
              "      height: 32px;\n",
              "      padding: 0 0 0 0;\n",
              "      width: 32px;\n",
              "    }\n",
              "\n",
              "    .colab-df-convert:hover {\n",
              "      background-color: #E2EBFA;\n",
              "      box-shadow: 0px 1px 2px rgba(60, 64, 67, 0.3), 0px 1px 3px 1px rgba(60, 64, 67, 0.15);\n",
              "      fill: #174EA6;\n",
              "    }\n",
              "\n",
              "    [theme=dark] .colab-df-convert {\n",
              "      background-color: #3B4455;\n",
              "      fill: #D2E3FC;\n",
              "    }\n",
              "\n",
              "    [theme=dark] .colab-df-convert:hover {\n",
              "      background-color: #434B5C;\n",
              "      box-shadow: 0px 1px 3px 1px rgba(0, 0, 0, 0.15);\n",
              "      filter: drop-shadow(0px 1px 2px rgba(0, 0, 0, 0.3));\n",
              "      fill: #FFFFFF;\n",
              "    }\n",
              "  </style>\n",
              "\n",
              "      <script>\n",
              "        const buttonEl =\n",
              "          document.querySelector('#df-56d3d09d-547f-4fa4-8416-aa59233cbacf button.colab-df-convert');\n",
              "        buttonEl.style.display =\n",
              "          google.colab.kernel.accessAllowed ? 'block' : 'none';\n",
              "\n",
              "        async function convertToInteractive(key) {\n",
              "          const element = document.querySelector('#df-56d3d09d-547f-4fa4-8416-aa59233cbacf');\n",
              "          const dataTable =\n",
              "            await google.colab.kernel.invokeFunction('convertToInteractive',\n",
              "                                                     [key], {});\n",
              "          if (!dataTable) return;\n",
              "\n",
              "          const docLinkHtml = 'Like what you see? Visit the ' +\n",
              "            '<a target=\"_blank\" href=https://colab.research.google.com/notebooks/data_table.ipynb>data table notebook</a>'\n",
              "            + ' to learn more about interactive tables.';\n",
              "          element.innerHTML = '';\n",
              "          dataTable['output_type'] = 'display_data';\n",
              "          await google.colab.output.renderOutput(dataTable, element);\n",
              "          const docLink = document.createElement('div');\n",
              "          docLink.innerHTML = docLinkHtml;\n",
              "          element.appendChild(docLink);\n",
              "        }\n",
              "      </script>\n",
              "    </div>\n",
              "  </div>\n",
              "  "
            ]
          },
          "metadata": {},
          "execution_count": 42
        }
      ]
    },
    {
      "cell_type": "code",
      "execution_count": null,
      "metadata": {
        "id": "h_BHvmsU7Yp3"
      },
      "outputs": [],
      "source": [
        "from sklearn.cluster import KMeans"
      ]
    },
    {
      "cell_type": "code",
      "execution_count": null,
      "metadata": {
        "id": "GdFr0M4Y7YsA",
        "colab": {
          "base_uri": "https://localhost:8080/"
        },
        "outputId": "ed3d1026-016d-4ed7-83a1-a44750ee7492"
      },
      "outputs": [
        {
          "output_type": "stream",
          "name": "stderr",
          "text": [
            "/usr/local/lib/python3.10/dist-packages/sklearn/cluster/_kmeans.py:870: FutureWarning: The default value of `n_init` will change from 10 to 'auto' in 1.4. Set the value of `n_init` explicitly to suppress the warning\n",
            "  warnings.warn(\n",
            "/usr/local/lib/python3.10/dist-packages/sklearn/cluster/_kmeans.py:870: FutureWarning: The default value of `n_init` will change from 10 to 'auto' in 1.4. Set the value of `n_init` explicitly to suppress the warning\n",
            "  warnings.warn(\n",
            "/usr/local/lib/python3.10/dist-packages/sklearn/cluster/_kmeans.py:870: FutureWarning: The default value of `n_init` will change from 10 to 'auto' in 1.4. Set the value of `n_init` explicitly to suppress the warning\n",
            "  warnings.warn(\n",
            "/usr/local/lib/python3.10/dist-packages/sklearn/cluster/_kmeans.py:870: FutureWarning: The default value of `n_init` will change from 10 to 'auto' in 1.4. Set the value of `n_init` explicitly to suppress the warning\n",
            "  warnings.warn(\n",
            "/usr/local/lib/python3.10/dist-packages/sklearn/cluster/_kmeans.py:870: FutureWarning: The default value of `n_init` will change from 10 to 'auto' in 1.4. Set the value of `n_init` explicitly to suppress the warning\n",
            "  warnings.warn(\n",
            "/usr/local/lib/python3.10/dist-packages/sklearn/cluster/_kmeans.py:870: FutureWarning: The default value of `n_init` will change from 10 to 'auto' in 1.4. Set the value of `n_init` explicitly to suppress the warning\n",
            "  warnings.warn(\n",
            "/usr/local/lib/python3.10/dist-packages/sklearn/cluster/_kmeans.py:870: FutureWarning: The default value of `n_init` will change from 10 to 'auto' in 1.4. Set the value of `n_init` explicitly to suppress the warning\n",
            "  warnings.warn(\n",
            "/usr/local/lib/python3.10/dist-packages/sklearn/cluster/_kmeans.py:870: FutureWarning: The default value of `n_init` will change from 10 to 'auto' in 1.4. Set the value of `n_init` explicitly to suppress the warning\n",
            "  warnings.warn(\n",
            "/usr/local/lib/python3.10/dist-packages/sklearn/cluster/_kmeans.py:870: FutureWarning: The default value of `n_init` will change from 10 to 'auto' in 1.4. Set the value of `n_init` explicitly to suppress the warning\n",
            "  warnings.warn(\n",
            "/usr/local/lib/python3.10/dist-packages/sklearn/cluster/_kmeans.py:870: FutureWarning: The default value of `n_init` will change from 10 to 'auto' in 1.4. Set the value of `n_init` explicitly to suppress the warning\n",
            "  warnings.warn(\n",
            "/usr/local/lib/python3.10/dist-packages/sklearn/cluster/_kmeans.py:870: FutureWarning: The default value of `n_init` will change from 10 to 'auto' in 1.4. Set the value of `n_init` explicitly to suppress the warning\n",
            "  warnings.warn(\n",
            "/usr/local/lib/python3.10/dist-packages/sklearn/cluster/_kmeans.py:870: FutureWarning: The default value of `n_init` will change from 10 to 'auto' in 1.4. Set the value of `n_init` explicitly to suppress the warning\n",
            "  warnings.warn(\n",
            "/usr/local/lib/python3.10/dist-packages/sklearn/cluster/_kmeans.py:870: FutureWarning: The default value of `n_init` will change from 10 to 'auto' in 1.4. Set the value of `n_init` explicitly to suppress the warning\n",
            "  warnings.warn(\n",
            "<ipython-input-44-99abc80c6689>:4: ConvergenceWarning: Number of distinct clusters (12) found smaller than n_clusters (13). Possibly due to duplicate points in X.\n",
            "  kmean.fit(x)\n",
            "/usr/local/lib/python3.10/dist-packages/sklearn/cluster/_kmeans.py:870: FutureWarning: The default value of `n_init` will change from 10 to 'auto' in 1.4. Set the value of `n_init` explicitly to suppress the warning\n",
            "  warnings.warn(\n",
            "<ipython-input-44-99abc80c6689>:4: ConvergenceWarning: Number of distinct clusters (12) found smaller than n_clusters (14). Possibly due to duplicate points in X.\n",
            "  kmean.fit(x)\n"
          ]
        }
      ],
      "source": [
        "wcss=[]\n",
        "for i in range(1,15):\n",
        "    kmean=KMeans(n_clusters=i , init='k-means++', random_state=30)\n",
        "    kmean.fit(x)\n",
        "    wcss.append(kmean.inertia_)"
      ]
    },
    {
      "cell_type": "code",
      "execution_count": null,
      "metadata": {
        "id": "NmEX6y6x7YuQ",
        "colab": {
          "base_uri": "https://localhost:8080/",
          "height": 447
        },
        "outputId": "cb53395e-b0a1-4a8b-9481-9ece901f03c9"
      },
      "outputs": [
        {
          "output_type": "execute_result",
          "data": {
            "text/plain": [
              "[<matplotlib.lines.Line2D at 0x7f969ee2fd60>]"
            ]
          },
          "metadata": {},
          "execution_count": 45
        },
        {
          "output_type": "display_data",
          "data": {
            "text/plain": [
              "<Figure size 640x480 with 1 Axes>"
            ],
            "image/png": "[encoded data removed]"
          },
          "metadata": {}
        }
      ],
      "source": [
        "plt.figure()\n",
        "plt.plot(wcss)"
      ]
    },
    {
      "cell_type": "code",
      "execution_count": null,
      "metadata": {
        "id": "VSuAfxIZ7YwW"
      },
      "outputs": [],
      "source": [
        "kmean_new= KMeans(n_clusters=8 , init='k-means++', random_state=30)"
      ]
    },
    {
      "cell_type": "code",
      "execution_count": null,
      "metadata": {
        "id": "Fc0nfRNI7Yyw",
        "colab": {
          "base_uri": "https://localhost:8080/"
        },
        "outputId": "719d7b45-6175-4310-be8a-e32c85f682f0"
      },
      "outputs": [
        {
          "output_type": "stream",
          "name": "stderr",
          "text": [
            "/usr/local/lib/python3.10/dist-packages/sklearn/cluster/_kmeans.py:870: FutureWarning: The default value of `n_init` will change from 10 to 'auto' in 1.4. Set the value of `n_init` explicitly to suppress the warning\n",
            "  warnings.warn(\n"
          ]
        },
        {
          "output_type": "execute_result",
          "data": {
            "text/plain": [
              "array([6, 6, 6, ..., 1, 1, 1], dtype=int32)"
            ]
          },
          "metadata": {},
          "execution_count": 47
        }
      ],
      "source": [
        "kmean_new.fit_predict(x)"
      ]
    },
    {
      "cell_type": "code",
      "execution_count": null,
      "metadata": {
        "id": "dlrwEZBz7Y1j",
        "colab": {
          "base_uri": "https://localhost:8080/"
        },
        "outputId": "8e0079ac-2747-4f6f-8d74-e7cf0c1e8a85"
      },
      "outputs": [
        {
          "output_type": "stream",
          "name": "stderr",
          "text": [
            "/usr/local/lib/python3.10/dist-packages/sklearn/cluster/_kmeans.py:870: FutureWarning: The default value of `n_init` will change from 10 to 'auto' in 1.4. Set the value of `n_init` explicitly to suppress the warning\n",
            "  warnings.warn(\n"
          ]
        }
      ],
      "source": [
        "x['Cluster number']= kmean_new.fit_predict(x)\n",
        "X=pd.DataFrame(x['Cluster number'])"
      ]
    },
    {
      "cell_type": "code",
      "execution_count": null,
      "metadata": {
        "id": "UltYbhfO7Y4r",
        "colab": {
          "base_uri": "https://localhost:8080/",
          "height": 645
        },
        "outputId": "9cb8d7ec-612d-413c-ef18-8ef9b474dca9"
      },
      "outputs": [
        {
          "output_type": "execute_result",
          "data": {
            "text/plain": [
              "      source  Cluster number\n",
              "0          6               6\n",
              "1          6               6\n",
              "2          6               6\n",
              "3          6               6\n",
              "4          6               6\n",
              "...      ...             ...\n",
              "7800      10               1\n",
              "7801      10               1\n",
              "7802      10               1\n",
              "7803      10               1\n",
              "7804      10               1\n",
              "\n",
              "[7805 rows x 2 columns]"
            ],
            "text/html": [
              "\n",
              "  <div id=\"df-37005b4f-c274-4e09-a8cc-1e77abef1b26\">\n",
              "    <div class=\"colab-df-container\">\n",
              "      <div>\n",
              "<style scoped>\n",
              "    .dataframe tbody tr th:only-of-type {\n",
              "        vertical-align: middle;\n",
              "    }\n",
              "\n",
              "    .dataframe tbody tr th {\n",
              "        vertical-align: top;\n",
              "    }\n",
              "\n",
              "    .dataframe thead th {\n",
              "        text-align: right;\n",
              "    }\n",
              "</style>\n",
              "<table border=\"1\" class=\"dataframe\">\n",
              "  <thead>\n",
              "    <tr style=\"text-align: right;\">\n",
              "      <th></th>\n",
              "      <th>source</th>\n",
              "      <th>Cluster number</th>\n",
              "    </tr>\n",
              "  </thead>\n",
              "  <tbody>\n",
              "    <tr>\n",
              "      <th>0</th>\n",
              "      <td>6</td>\n",
              "      <td>6</td>\n",
              "    </tr>\n",
              "    <tr>\n",
              "      <th>1</th>\n",
              "      <td>6</td>\n",
              "      <td>6</td>\n",
              "    </tr>\n",
              "    <tr>\n",
              "      <th>2</th>\n",
              "      <td>6</td>\n",
              "      <td>6</td>\n",
              "    </tr>\n",
              "    <tr>\n",
              "      <th>3</th>\n",
              "      <td>6</td>\n",
              "      <td>6</td>\n",
              "    </tr>\n",
              "    <tr>\n",
              "      <th>4</th>\n",
              "      <td>6</td>\n",
              "      <td>6</td>\n",
              "    </tr>\n",
              "    <tr>\n",
              "      <th>...</th>\n",
              "      <td>...</td>\n",
              "      <td>...</td>\n",
              "    </tr>\n",
              "    <tr>\n",
              "      <th>7800</th>\n",
              "      <td>10</td>\n",
              "      <td>1</td>\n",
              "    </tr>\n",
              "    <tr>\n",
              "      <th>7801</th>\n",
              "      <td>10</td>\n",
              "      <td>1</td>\n",
              "    </tr>\n",
              "    <tr>\n",
              "      <th>7802</th>\n",
              "      <td>10</td>\n",
              "      <td>1</td>\n",
              "    </tr>\n",
              "    <tr>\n",
              "      <th>7803</th>\n",
              "      <td>10</td>\n",
              "      <td>1</td>\n",
              "    </tr>\n",
              "    <tr>\n",
              "      <th>7804</th>\n",
              "      <td>10</td>\n",
              "      <td>1</td>\n",
              "    </tr>\n",
              "  </tbody>\n",
              "</table>\n",
              "<p>7805 rows × 2 columns</p>\n",
              "</div>\n",
              "      <button class=\"colab-df-convert\" onclick=\"convertToInteractive('df-37005b4f-c274-4e09-a8cc-1e77abef1b26')\"\n",
              "              title=\"Convert this dataframe to an interactive table.\"\n",
              "              style=\"display:none;\">\n",
              "        \n",
              "  <svg xmlns=\"http://www.w3.org/2000/svg\" height=\"24px\"viewBox=\"0 0 24 24\"\n",
              "       width=\"24px\">\n",
              "    <path d=\"M0 0h24v24H0V0z\" fill=\"none\"/>\n",
              "    <path d=\"M18.56 5.44l.94 2.06.94-2.06 2.06-.94-2.06-.94-.94-2.06-.94 2.06-2.06.94zm-11 1L8.5 8.5l.94-2.06 2.06-.94-2.06-.94L8.5 2.5l-.94 2.06-2.06.94zm10 10l.94 2.06.94-2.06 2.06-.94-2.06-.94-.94-2.06-.94 2.06-2.06.94z\"/><path d=\"M17.41 7.96l-1.37-1.37c-.4-.4-.92-.59-1.43-.59-.52 0-1.04.2-1.43.59L10.3 9.45l-7.72 7.72c-.78.78-.78 2.05 0 2.83L4 21.41c.39.39.9.59 1.41.59.51 0 1.02-.2 1.41-.59l7.78-7.78 2.81-2.81c.8-.78.8-2.07 0-2.86zM5.41 20L4 18.59l7.72-7.72 1.47 1.35L5.41 20z\"/>\n",
              "  </svg>\n",
              "      </button>\n",
              "      \n",
              "  <style>\n",
              "    .colab-df-container {\n",
              "      display:flex;\n",
              "      flex-wrap:wrap;\n",
              "      gap: 12px;\n",
              "    }\n",
              "\n",
              "    .colab-df-convert {\n",
              "      background-color: #E8F0FE;\n",
              "      border: none;\n",
              "      border-radius: 50%;\n",
              "      cursor: pointer;\n",
              "      display: none;\n",
              "      fill: #1967D2;\n",
              "      height: 32px;\n",
              "      padding: 0 0 0 0;\n",
              "      width: 32px;\n",
              "    }\n",
              "\n",
              "    .colab-df-convert:hover {\n",
              "      background-color: #E2EBFA;\n",
              "      box-shadow: 0px 1px 2px rgba(60, 64, 67, 0.3), 0px 1px 3px 1px rgba(60, 64, 67, 0.15);\n",
              "      fill: #174EA6;\n",
              "    }\n",
              "\n",
              "    [theme=dark] .colab-df-convert {\n",
              "      background-color: #3B4455;\n",
              "      fill: #D2E3FC;\n",
              "    }\n",
              "\n",
              "    [theme=dark] .colab-df-convert:hover {\n",
              "      background-color: #434B5C;\n",
              "      box-shadow: 0px 1px 3px 1px rgba(0, 0, 0, 0.15);\n",
              "      filter: drop-shadow(0px 1px 2px rgba(0, 0, 0, 0.3));\n",
              "      fill: #FFFFFF;\n",
              "    }\n",
              "  </style>\n",
              "\n",
              "      <script>\n",
              "        const buttonEl =\n",
              "          document.querySelector('#df-37005b4f-c274-4e09-a8cc-1e77abef1b26 button.colab-df-convert');\n",
              "        buttonEl.style.display =\n",
              "          google.colab.kernel.accessAllowed ? 'block' : 'none';\n",
              "\n",
              "        async function convertToInteractive(key) {\n",
              "          const element = document.querySelector('#df-37005b4f-c274-4e09-a8cc-1e77abef1b26');\n",
              "          const dataTable =\n",
              "            await google.colab.kernel.invokeFunction('convertToInteractive',\n",
              "                                                     [key], {});\n",
              "          if (!dataTable) return;\n",
              "\n",
              "          const docLinkHtml = 'Like what you see? Visit the ' +\n",
              "            '<a target=\"_blank\" href=https://colab.research.google.com/notebooks/data_table.ipynb>data table notebook</a>'\n",
              "            + ' to learn more about interactive tables.';\n",
              "          element.innerHTML = '';\n",
              "          dataTable['output_type'] = 'display_data';\n",
              "          await google.colab.output.renderOutput(dataTable, element);\n",
              "          const docLink = document.createElement('div');\n",
              "          docLink.innerHTML = docLinkHtml;\n",
              "          element.appendChild(docLink);\n",
              "        }\n",
              "      </script>\n",
              "    </div>\n",
              "  </div>\n",
              "  "
            ]
          },
          "metadata": {},
          "execution_count": 49
        }
      ],
      "source": [
        "x"
      ]
    },
    {
      "cell_type": "code",
      "source": [
        "X"
      ],
      "metadata": {
        "colab": {
          "base_uri": "https://localhost:8080/",
          "height": 423
        },
        "id": "ITijh1Kxw7gX",
        "outputId": "73ec35db-2317-4755-b6be-d2e1b9f96c7b"
      },
      "execution_count": null,
      "outputs": [
        {
          "output_type": "execute_result",
          "data": {
            "text/plain": [
              "      Cluster number\n",
              "0                  6\n",
              "1                  6\n",
              "2                  6\n",
              "3                  6\n",
              "4                  6\n",
              "...              ...\n",
              "7800               1\n",
              "7801               1\n",
              "7802               1\n",
              "7803               1\n",
              "7804               1\n",
              "\n",
              "[7805 rows x 1 columns]"
            ],
            "text/html": [
              "\n",
              "  <div id=\"df-19ab0482-9bb8-4441-b2bd-1c06cc0c2fb6\">\n",
              "    <div class=\"colab-df-container\">\n",
              "      <div>\n",
              "<style scoped>\n",
              "    .dataframe tbody tr th:only-of-type {\n",
              "        vertical-align: middle;\n",
              "    }\n",
              "\n",
              "    .dataframe tbody tr th {\n",
              "        vertical-align: top;\n",
              "    }\n",
              "\n",
              "    .dataframe thead th {\n",
              "        text-align: right;\n",
              "    }\n",
              "</style>\n",
              "<table border=\"1\" class=\"dataframe\">\n",
              "  <thead>\n",
              "    <tr style=\"text-align: right;\">\n",
              "      <th></th>\n",
              "      <th>Cluster number</th>\n",
              "    </tr>\n",
              "  </thead>\n",
              "  <tbody>\n",
              "    <tr>\n",
              "      <th>0</th>\n",
              "      <td>6</td>\n",
              "    </tr>\n",
              "    <tr>\n",
              "      <th>1</th>\n",
              "      <td>6</td>\n",
              "    </tr>\n",
              "    <tr>\n",
              "      <th>2</th>\n",
              "      <td>6</td>\n",
              "    </tr>\n",
              "    <tr>\n",
              "      <th>3</th>\n",
              "      <td>6</td>\n",
              "    </tr>\n",
              "    <tr>\n",
              "      <th>4</th>\n",
              "      <td>6</td>\n",
              "    </tr>\n",
              "    <tr>\n",
              "      <th>...</th>\n",
              "      <td>...</td>\n",
              "    </tr>\n",
              "    <tr>\n",
              "      <th>7800</th>\n",
              "      <td>1</td>\n",
              "    </tr>\n",
              "    <tr>\n",
              "      <th>7801</th>\n",
              "      <td>1</td>\n",
              "    </tr>\n",
              "    <tr>\n",
              "      <th>7802</th>\n",
              "      <td>1</td>\n",
              "    </tr>\n",
              "    <tr>\n",
              "      <th>7803</th>\n",
              "      <td>1</td>\n",
              "    </tr>\n",
              "    <tr>\n",
              "      <th>7804</th>\n",
              "      <td>1</td>\n",
              "    </tr>\n",
              "  </tbody>\n",
              "</table>\n",
              "<p>7805 rows × 1 columns</p>\n",
              "</div>\n",
              "      <button class=\"colab-df-convert\" onclick=\"convertToInteractive('df-19ab0482-9bb8-4441-b2bd-1c06cc0c2fb6')\"\n",
              "              title=\"Convert this dataframe to an interactive table.\"\n",
              "              style=\"display:none;\">\n",
              "        \n",
              "  <svg xmlns=\"http://www.w3.org/2000/svg\" height=\"24px\"viewBox=\"0 0 24 24\"\n",
              "       width=\"24px\">\n",
              "    <path d=\"M0 0h24v24H0V0z\" fill=\"none\"/>\n",
              "    <path d=\"M18.56 5.44l.94 2.06.94-2.06 2.06-.94-2.06-.94-.94-2.06-.94 2.06-2.06.94zm-11 1L8.5 8.5l.94-2.06 2.06-.94-2.06-.94L8.5 2.5l-.94 2.06-2.06.94zm10 10l.94 2.06.94-2.06 2.06-.94-2.06-.94-.94-2.06-.94 2.06-2.06.94z\"/><path d=\"M17.41 7.96l-1.37-1.37c-.4-.4-.92-.59-1.43-.59-.52 0-1.04.2-1.43.59L10.3 9.45l-7.72 7.72c-.78.78-.78 2.05 0 2.83L4 21.41c.39.39.9.59 1.41.59.51 0 1.02-.2 1.41-.59l7.78-7.78 2.81-2.81c.8-.78.8-2.07 0-2.86zM5.41 20L4 18.59l7.72-7.72 1.47 1.35L5.41 20z\"/>\n",
              "  </svg>\n",
              "      </button>\n",
              "      \n",
              "  <style>\n",
              "    .colab-df-container {\n",
              "      display:flex;\n",
              "      flex-wrap:wrap;\n",
              "      gap: 12px;\n",
              "    }\n",
              "\n",
              "    .colab-df-convert {\n",
              "      background-color: #E8F0FE;\n",
              "      border: none;\n",
              "      border-radius: 50%;\n",
              "      cursor: pointer;\n",
              "      display: none;\n",
              "      fill: #1967D2;\n",
              "      height: 32px;\n",
              "      padding: 0 0 0 0;\n",
              "      width: 32px;\n",
              "    }\n",
              "\n",
              "    .colab-df-convert:hover {\n",
              "      background-color: #E2EBFA;\n",
              "      box-shadow: 0px 1px 2px rgba(60, 64, 67, 0.3), 0px 1px 3px 1px rgba(60, 64, 67, 0.15);\n",
              "      fill: #174EA6;\n",
              "    }\n",
              "\n",
              "    [theme=dark] .colab-df-convert {\n",
              "      background-color: #3B4455;\n",
              "      fill: #D2E3FC;\n",
              "    }\n",
              "\n",
              "    [theme=dark] .colab-df-convert:hover {\n",
              "      background-color: #434B5C;\n",
              "      box-shadow: 0px 1px 3px 1px rgba(0, 0, 0, 0.15);\n",
              "      filter: drop-shadow(0px 1px 2px rgba(0, 0, 0, 0.3));\n",
              "      fill: #FFFFFF;\n",
              "    }\n",
              "  </style>\n",
              "\n",
              "      <script>\n",
              "        const buttonEl =\n",
              "          document.querySelector('#df-19ab0482-9bb8-4441-b2bd-1c06cc0c2fb6 button.colab-df-convert');\n",
              "        buttonEl.style.display =\n",
              "          google.colab.kernel.accessAllowed ? 'block' : 'none';\n",
              "\n",
              "        async function convertToInteractive(key) {\n",
              "          const element = document.querySelector('#df-19ab0482-9bb8-4441-b2bd-1c06cc0c2fb6');\n",
              "          const dataTable =\n",
              "            await google.colab.kernel.invokeFunction('convertToInteractive',\n",
              "                                                     [key], {});\n",
              "          if (!dataTable) return;\n",
              "\n",
              "          const docLinkHtml = 'Like what you see? Visit the ' +\n",
              "            '<a target=\"_blank\" href=https://colab.research.google.com/notebooks/data_table.ipynb>data table notebook</a>'\n",
              "            + ' to learn more about interactive tables.';\n",
              "          element.innerHTML = '';\n",
              "          dataTable['output_type'] = 'display_data';\n",
              "          await google.colab.output.renderOutput(dataTable, element);\n",
              "          const docLink = document.createElement('div');\n",
              "          docLink.innerHTML = docLinkHtml;\n",
              "          element.appendChild(docLink);\n",
              "        }\n",
              "      </script>\n",
              "    </div>\n",
              "  </div>\n",
              "  "
            ]
          },
          "metadata": {},
          "execution_count": 50
        }
      ]
    },
    {
      "cell_type": "code",
      "source": [
        "sns.countplot(data=x, x=\"Cluster number\")"
      ],
      "metadata": {
        "colab": {
          "base_uri": "https://localhost:8080/",
          "height": 466
        },
        "id": "Es7pdlqUy80m",
        "outputId": "6f1fca26-6697-4633-e6a7-d12900e526f8"
      },
      "execution_count": null,
      "outputs": [
        {
          "output_type": "execute_result",
          "data": {
            "text/plain": [
              "<Axes: xlabel='Cluster number', ylabel='count'>"
            ]
          },
          "metadata": {},
          "execution_count": 60
        },
        {
          "output_type": "display_data",
          "data": {
            "text/plain": [
              "<Figure size 640x480 with 1 Axes>"
            ],
            "image/png": "[encoded data removed]"
          },
          "metadata": {}
        }
      ]
    },
    {
      "cell_type": "code",
      "source": [
        "X.value_counts()"
      ],
      "metadata": {
        "colab": {
          "base_uri": "https://localhost:8080/"
        },
        "id": "J_WYVAjz0A8n",
        "outputId": "cca7d0e3-9fe8-423f-a841-c6d80489f853"
      },
      "execution_count": null,
      "outputs": [
        {
          "output_type": "execute_result",
          "data": {
            "text/plain": [
              "Cluster number\n",
              "2                 1321\n",
              "0                 1320\n",
              "1                 1233\n",
              "3                 1199\n",
              "7                  706\n",
              "6                  704\n",
              "4                  685\n",
              "5                  637\n",
              "dtype: int64"
            ]
          },
          "metadata": {},
          "execution_count": 62
        }
      ]
    },
    {
      "cell_type": "code",
      "source": [
        "x.value_counts()"
      ],
      "metadata": {
        "colab": {
          "base_uri": "https://localhost:8080/"
        },
        "id": "xp2mLWyQ0UCC",
        "outputId": "0e0a55ac-0313-47a2-e8c9-5bdacf6ed074"
      },
      "execution_count": null,
      "outputs": [
        {
          "output_type": "execute_result",
          "data": {
            "text/plain": [
              "source  Cluster number\n",
              "3       0                 708\n",
              "11      7                 706\n",
              "6       6                 704\n",
              "4       4                 685\n",
              "8       2                 673\n",
              "0       3                 671\n",
              "10      1                 669\n",
              "7       2                 648\n",
              "5       5                 637\n",
              "2       0                 612\n",
              "9       1                 564\n",
              "1       3                 528\n",
              "dtype: int64"
            ]
          },
          "metadata": {},
          "execution_count": 63
        }
      ]
    },
    {
      "cell_type": "markdown",
      "source": [
        "source number 7 or 8 belongs to same cluster no. 2 so they cab be termed as high booking areas.**bold text** **bold text**"
      ],
      "metadata": {
        "id": "m-dzUS3z5hoo"
      }
    },
    {
      "cell_type": "code",
      "source": [
        "# Plotting the clusters on a map\n",
        "plt.scatter(df['longitude'], df['latitude'], c=X[\"Cluster number\"])\n",
        "plt.xlabel('Longitude')\n",
        "plt.ylabel('Latitude')\n",
        "plt.title('High Booking Areas')\n",
        "plt.show()"
      ],
      "metadata": {
        "colab": {
          "base_uri": "https://localhost:8080/",
          "height": 472
        },
        "id": "w7WP6kvq0UGr",
        "outputId": "15ffb32f-a81a-449a-e678-11a2a8f2ed32"
      },
      "execution_count": null,
      "outputs": [
        {
          "output_type": "display_data",
          "data": {
            "text/plain": [
              "<Figure size 640x480 with 1 Axes>"
            ],
            "image/png": "[encoded data removed]"
          },
          "metadata": {}
        }
      ]
    },
    {
      "cell_type": "code",
      "source": [],
      "metadata": {
        "id": "OjEOxn7-0UJJ"
      },
      "execution_count": null,
      "outputs": []
    },
    {
      "cell_type": "code",
      "source": [],
      "metadata": {
        "id": "lSyqfZWW0ULj"
      },
      "execution_count": null,
      "outputs": []
    },
    {
      "cell_type": "code",
      "source": [],
      "metadata": {
        "id": "e0llkQUU0UNx"
      },
      "execution_count": null,
      "outputs": []
    },
    {
      "cell_type": "code",
      "source": [],
      "metadata": {
        "id": "G66jCI820USo"
      },
      "execution_count": null,
      "outputs": []
    },
    {
      "cell_type": "code",
      "source": [],
      "metadata": {
        "id": "lodCF13h0UVF"
      },
      "execution_count": null,
      "outputs": []
    },
    {
      "cell_type": "code",
      "source": [],
      "metadata": {
        "id": "F0h5do7c0UXd"
      },
      "execution_count": null,
      "outputs": []
    },
    {
      "cell_type": "code",
      "source": [],
      "metadata": {
        "id": "VRp-C6iJ0UbL"
      },
      "execution_count": null,
      "outputs": []
    }
  ],
  "metadata": {
    "accelerator": "GPU",
    "colab": {
      "provenance": [],
      "gpuType": "T4"
    },
    "kernelspec": {
      "display_name": "Python 3",
      "name": "python3"
    },
    "language_info": {
      "name": "python"
    }
  },
  "nbformat": 4,
  "nbformat_minor": 0
}