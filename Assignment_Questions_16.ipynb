{
  "nbformat": 4,
  "nbformat_minor": 0,
  "metadata": {
    "colab": {
      "provenance": []
    },
    "kernelspec": {
      "name": "python3",
      "display_name": "Python 3"
    },
    "language_info": {
      "name": "python"
    }
  },
  "cells": [
    {
      "cell_type": "code",
      "execution_count": null,
      "metadata": {
        "id": "ih_wOzTGBnxi"
      },
      "outputs": [],
      "source": [
        "<aside>\n",
        "💡 **Question 1**\n",
        "\n",
        "Given an array, for each element find the value of the nearest element to the right which is having a frequency greater than that of the current element. If there does not exist an answer for a position, then make the value ‘-1’.\n",
        "\n",
        "</aside>"
      ]
    },
    {
      "cell_type": "code",
      "source": [
        "a= [1, 1, 2, 3, 4, 2, 1]\n",
        "\n",
        "d={}\n",
        "ar=[]\n",
        "for i in a:\n",
        "  d[i]=d.get(i,0)+1\n",
        "\n",
        "for i in range(len(a)):\n",
        "  j=i+1\n",
        "  flag=False\n",
        "  while j<len(a):\n",
        "    if a[j]==a[i]:\n",
        "      j+=1\n",
        "      continue\n",
        "    if d.get(a[j])>d.get(a[i]):\n",
        "      ar.append(a[j])\n",
        "      flag=True\n",
        "      break\n",
        "    else:\n",
        "      j+=1\n",
        "  if flag==False:\n",
        "    ar.append(-1)\n",
        "\n",
        "print(ar)"
      ],
      "metadata": {
        "colab": {
          "base_uri": "https://localhost:8080/"
        },
        "id": "PiSXSlmaBrmZ",
        "outputId": "5f448ee7-69f8-4800-daf0-9fd82feb56d2"
      },
      "execution_count": 3,
      "outputs": [
        {
          "output_type": "stream",
          "name": "stdout",
          "text": [
            "[-1, -1, 1, 2, 2, 1, -1]\n"
          ]
        }
      ]
    },
    {
      "cell_type": "code",
      "source": [
        "<aside>\n",
        "💡 **Question 2**\n",
        "\n",
        "Given a stack of integers, sort it in ascending order using another temporary stack.\n",
        "\n",
        "**Examples:**\n",
        "\n",
        "</aside>"
      ],
      "metadata": {
        "id": "gvRAoXDRBroT"
      },
      "execution_count": null,
      "outputs": []
    },
    {
      "cell_type": "code",
      "source": [
        "arr= [34, 3, 31, 98, 92, 23]\n",
        "stack=[]\n",
        "for j in range(len(arr)-1,-1,-1):\n",
        "  maxx=arr[j]\n",
        "  for i in range(j,-1,-1):\n",
        "    if arr[i]>maxx:\n",
        "      temp=arr[i]\n",
        "      arr[i]=arr[j]\n",
        "      arr[j]=temp\n",
        "      maxx=temp\n",
        "\n",
        "  stack.append(maxx)\n",
        "print(stack[::-1])"
      ],
      "metadata": {
        "colab": {
          "base_uri": "https://localhost:8080/"
        },
        "id": "7zye1t69Brqp",
        "outputId": "6f716c2b-dadb-48d4-8ff1-8560cce4eb11"
      },
      "execution_count": 3,
      "outputs": [
        {
          "output_type": "stream",
          "name": "stdout",
          "text": [
            "[3, 23, 31, 34, 92, 98]\n"
          ]
        }
      ]
    },
    {
      "cell_type": "code",
      "source": [
        "<aside>\n",
        "💡 **Question 3**\n",
        "\n",
        "Given a stack with **push()**, **pop()**, and **empty()** operations, The task is to delete the **middle** element ****of it without using any additional data structure.\n",
        "\n",
        "</aside>"
      ],
      "metadata": {
        "id": "R7CNmUaoBrtN"
      },
      "execution_count": null,
      "outputs": []
    },
    {
      "cell_type": "code",
      "source": [
        "class Node:\n",
        "  def __init__(self,val,next=None):\n",
        "    self.val=val\n",
        "    self.next=None\n",
        "\n",
        "class Stack:\n",
        "  def __init__(self,top=None,bottom=None):\n",
        "    self.head=None\n",
        "    self.top=None\n",
        "\n",
        "\n",
        "  def insert(self,val):\n",
        "\n",
        "    new=Node(val)\n",
        "    if self.head==None:\n",
        "      self.head=new\n",
        "    else:\n",
        "      temp=self.head\n",
        "      while(temp.next is not None):\n",
        "        temp=temp.next\n",
        "      temp.next=new\n",
        "      self.top=new\n",
        "\n",
        "  def pop(self):\n",
        "    if self.head is None:\n",
        "      return -1\n",
        "\n",
        "    temp=self.head\n",
        "    while(temp.next.next is not None):\n",
        "      temp=temp.next\n",
        "\n",
        "    delete= temp.next.val\n",
        "    temp.next=None\n",
        "    self.top=temp\n",
        "    return delete\n",
        "\n",
        "  def peek(self):\n",
        "    if self.top:\n",
        "      return self.top.val\n",
        "    return self.head.val\n",
        "\n",
        "  def printstack(self):\n",
        "    temp=self.head\n",
        "    print(temp.val)\n",
        "    while(temp.next is not None):\n",
        "      temp=temp.next\n",
        "      print(temp.val)\n",
        "\n",
        "  def delete_middle(self):\n",
        "    temp=self.head\n",
        "    l=0\n",
        "    while(temp is not None):\n",
        "      l+=1\n",
        "      temp=temp.next\n",
        "\n",
        "    mid = l//2\n",
        "\n",
        "    temp1=self.head\n",
        "    l1=0\n",
        "    while(mid!=1):\n",
        "      temp1=temp1.next\n",
        "      mid-=1\n",
        "\n",
        "    node_ahead= temp1.next.next\n",
        "    node_delete= temp1.next\n",
        "    temp1.next=None\n",
        "    temp1.next=node_ahead\n",
        "\n",
        "\n",
        "\n",
        "s=Stack()\n",
        "s.insert(3)\n",
        "s.insert(2)\n",
        "s.insert(1)\n",
        "s.insert(7)\n",
        "s.insert(6)\n",
        "s.printstack()\n",
        "s.delete_middle()\n",
        "print(\"priting values after deleting\")\n",
        "s.printstack()"
      ],
      "metadata": {
        "colab": {
          "base_uri": "https://localhost:8080/"
        },
        "id": "ZNNZ-FrUBrv1",
        "outputId": "85f5722a-6656-4959-e973-082768f66f78"
      },
      "execution_count": 8,
      "outputs": [
        {
          "output_type": "stream",
          "name": "stdout",
          "text": [
            "3\n",
            "2\n",
            "1\n",
            "7\n",
            "6\n",
            "priting values after deleting\n",
            "3\n",
            "2\n",
            "7\n",
            "6\n"
          ]
        }
      ]
    },
    {
      "cell_type": "code",
      "source": [
        "<aside>\n",
        "💡 **Question 5**\n",
        "\n",
        "Given a number , write a program to reverse this number using stack.\n",
        "\n",
        "**Examples:**\n",
        "\n",
        "</aside>"
      ],
      "metadata": {
        "id": "d9axphMYBryI"
      },
      "execution_count": null,
      "outputs": []
    },
    {
      "cell_type": "code",
      "source": [
        "num = 365\n",
        "stack=[]\n",
        "while(num>0):\n",
        "  b=num%10\n",
        "  stack.append(b)\n",
        "  num=num//10\n",
        "strr=\"\"\n",
        "for i in stack:\n",
        "  strr=strr+str(i)\n",
        "\n",
        "print(strr)"
      ],
      "metadata": {
        "colab": {
          "base_uri": "https://localhost:8080/"
        },
        "id": "4CAtFj82Br0g",
        "outputId": "b930acaa-26ba-4735-d5a8-8d279b059a7f"
      },
      "execution_count": 11,
      "outputs": [
        {
          "output_type": "stream",
          "name": "stdout",
          "text": [
            "563\n"
          ]
        }
      ]
    },
    {
      "cell_type": "code",
      "source": [
        "Given an integer k and a **[queue](https://www.geeksforgeeks.org/queue-data-structure/)** of integers, The task is to reverse the order of the first **k** elements of the queue, leaving the other elements in the same relative order.\n",
        "\n",
        "Only following standard operations are allowed on queue."
      ],
      "metadata": {
        "id": "adS0HtnvBr21"
      },
      "execution_count": null,
      "outputs": []
    },
    {
      "cell_type": "code",
      "source": [
        "from collections import deque\n",
        "\n",
        "d= deque([34, 3, 31, 98, 92, 23])\n",
        "k=3\n",
        "\n",
        "q2=[]\n",
        "\n",
        "for i in range(k):\n",
        "  q2.append(d.popleft())\n",
        "\n",
        "\n",
        "for j in range(len(q2)):\n",
        "  d.appendleft(q2[j])\n",
        "\n",
        "print(d)"
      ],
      "metadata": {
        "colab": {
          "base_uri": "https://localhost:8080/"
        },
        "id": "DIHMdxxbBr5b",
        "outputId": "49e1ee28-60c9-4ce5-fa0f-0a353719d3fb"
      },
      "execution_count": 15,
      "outputs": [
        {
          "output_type": "stream",
          "name": "stdout",
          "text": [
            "deque([31, 3, 34, 98, 92, 23])\n"
          ]
        }
      ]
    },
    {
      "cell_type": "code",
      "source": [],
      "metadata": {
        "id": "W0_nXb3EBr8C"
      },
      "execution_count": null,
      "outputs": []
    },
    {
      "cell_type": "code",
      "source": [
        "<aside>\n",
        "💡 **Question 7**\n",
        "\n",
        "Given a sequence of n strings, the task is to check if any two similar words come together and then destroy each other then print the number of words left in the sequence after this pairwise destruction.\n",
        "\n",
        "</aside>"
      ],
      "metadata": {
        "id": "yKFwDAj6Br-Y"
      },
      "execution_count": null,
      "outputs": []
    },
    {
      "cell_type": "code",
      "source": [],
      "metadata": {
        "id": "YqCefJWyBsAt"
      },
      "execution_count": null,
      "outputs": []
    },
    {
      "cell_type": "code",
      "source": [
        "stack=[ 'ab', 'aa', 'aa', 'bcd' ,'ab']\n",
        "\n",
        "l=[]\n",
        "for i in range(len(stack)):\n",
        "  if len(l)>0 and l[len(l)-1]==stack[i]:\n",
        "    l.remove(stack[i])\n",
        "    continue\n",
        "  else:\n",
        "    l.append(stack[i])\n",
        "\n",
        "print(l)"
      ],
      "metadata": {
        "colab": {
          "base_uri": "https://localhost:8080/"
        },
        "id": "gOR1B7FsBsDa",
        "outputId": "99f689e9-ee81-48c1-c57a-fe17a4666a69"
      },
      "execution_count": 26,
      "outputs": [
        {
          "output_type": "stream",
          "name": "stdout",
          "text": [
            "['ab', 'bcd', 'ab']\n"
          ]
        }
      ]
    },
    {
      "cell_type": "code",
      "source": [],
      "metadata": {
        "id": "DdlbFCshBsFp"
      },
      "execution_count": null,
      "outputs": []
    },
    {
      "cell_type": "code",
      "source": [
        "<aside>\n",
        "💡 **Question 8**\n",
        "\n",
        "Given an array of integers, the task is to find the maximum absolute difference between the nearest left and the right smaller element of every element in the array.\n",
        "\n",
        "</aside>"
      ],
      "metadata": {
        "id": "RUm-95pwBsID"
      },
      "execution_count": null,
      "outputs": []
    },
    {
      "cell_type": "code",
      "source": [
        "Input : arr[] = {2, 1, 8}\n",
        "Output : 1\n",
        "Left smaller  LS[] {0, 0, 1}\n",
        "Right smaller RS[] {1, 0, 0}\n",
        "Maximum Diff of abs(LS[i] - RS[i]) = 1\n"
      ],
      "metadata": {
        "id": "oeunsq7sBsKn"
      },
      "execution_count": null,
      "outputs": []
    },
    {
      "cell_type": "code",
      "source": [
        "stack=[2, 4, 8, 7, 7, 9, 3]\n",
        "r=[]\n",
        "r.append(0)\n",
        "\n",
        "for i in range(len(stack)-2,-1,-1):\n",
        "  flag=False\n",
        "  for j in range(i+1,len(stack)):\n",
        "\n",
        "    if stack[j]<stack[i]:\n",
        "      r.append(stack[j])\n",
        "      flag=True\n",
        "      break\n",
        "\n",
        "  if flag==False:\n",
        "    r.append(0)\n",
        "\n",
        "r=r[::-1]\n",
        "l=[]\n",
        "l.append(0)\n",
        "for i in range(1,len(stack)):\n",
        "  flag=False\n",
        "  for j in range(i-1,-1,-1):\n",
        "    if stack[j]<stack[i]:\n",
        "      l.append(stack[j])\n",
        "      flag=True\n",
        "      break\n",
        "\n",
        "  if flag==False:\n",
        "    l.append(0)\n",
        "\n",
        "max_l=0\n",
        "max_r=0\n",
        "for i in range(len(l)):\n",
        "  max_l= max_l+l[i]\n",
        "  max_r=max_r+r[i]\n",
        "\n",
        "print(abs(max_l-max_r))"
      ],
      "metadata": {
        "colab": {
          "base_uri": "https://localhost:8080/"
        },
        "id": "W9JdF2yjBsM-",
        "outputId": "144d5288-0c6f-4e60-d94c-dd248350cd65"
      },
      "execution_count": 31,
      "outputs": [
        {
          "output_type": "stream",
          "name": "stdout",
          "text": [
            "4\n"
          ]
        }
      ]
    }
  ]
}