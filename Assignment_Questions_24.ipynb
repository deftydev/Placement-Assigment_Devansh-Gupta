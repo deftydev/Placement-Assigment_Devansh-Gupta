{
  "nbformat": 4,
  "nbformat_minor": 0,
  "metadata": {
    "colab": {
      "provenance": []
    },
    "kernelspec": {
      "name": "python3",
      "display_name": "Python 3"
    },
    "language_info": {
      "name": "python"
    }
  },
  "cells": [
    {
      "cell_type": "code",
      "execution_count": null,
      "metadata": {
        "id": "BnRlJnwAyThd"
      },
      "outputs": [],
      "source": [
        "<aside>\n",
        "💡 1. **Roman to Integer**\n",
        "\n",
        "Roman numerals are represented by seven different symbols: `I`, `V`, `X`, `L`, `C`, `D` and `M`.\n",
        "\n",
        "```\n",
        "SymbolValue\n",
        "I             1\n",
        "V             5\n",
        "X             10\n",
        "L             50\n",
        "C             100\n",
        "D             500\n",
        "M             1000\n",
        "```\n",
        "\n",
        "For example, `2` is written as `II` in Roman numeral, just two ones added together. `12` is written as `XII`, which is simply `X + II`. The number `27` is written as `XXVII`, which is `XX + V + II`.\n",
        "\n",
        "Roman numerals are usually written largest to smallest from left to right. However, the numeral for four is not `IIII`. Instead, the number four is written as `IV`. Because the one is before the five we subtract it making four. The same principle applies to the number nine, which is written as `IX`. There are six instances where subtraction is used:\n",
        "\n",
        "- `I` can be placed before `V` (5) and `X` (10) to make 4 and 9.\n",
        "- `X` can be placed before `L` (50) and `C` (100) to make 40 and 90.\n",
        "- `C` can be placed before `D` (500) and `M` (1000) to make 400 and 900.\n",
        "\n",
        "Given a roman numeral, convert it to an integer.\n",
        "\n",
        "</aside>"
      ]
    },
    {
      "cell_type": "code",
      "source": [
        "class Solution:\n",
        "    def romanToInt(self, s):\n",
        "        d = {\n",
        "            'I': 1,\n",
        "            'V': 5,\n",
        "            'X': 10,\n",
        "            'L': 50,\n",
        "            'C': 100,\n",
        "            'D': 500,\n",
        "            'M': 1000,\n",
        "        }\n",
        "        summ=0\n",
        "        s = s.replace(\"IV\", \"IIII\").replace(\"IX\", \"VIIII\").replace(\"XL\", \"XXXX\").replace(\"XC\",\n",
        "                                                                                         \"LXXXX\").replace(\"CD\", \"CCCC\").replace(\"CM\", \"DCCCC\")\n",
        "\n",
        "        for i in range(len(s)):\n",
        "            summ+=d[s[i:i+1]]\n",
        "\n",
        "\n",
        "        return summ"
      ],
      "metadata": {
        "id": "CTsRtmPy1J-5"
      },
      "execution_count": null,
      "outputs": []
    },
    {
      "cell_type": "code",
      "source": [
        "<aside>\n",
        "💡 2. **Longest Substring Without Repeating Characters**\n",
        "\n",
        "Given a string `s`, find the length of the **longest substring** without repeating characters.\n",
        "\n",
        "**Example 1:**\n",
        "\n",
        "```\n",
        "Input: s = \"abcabcbb\"\n",
        "Output: 3\n",
        "Explanation: The answer is \"abc\", with the length of 3.\n",
        "```\n",
        "\n",
        "**Example 2:**\n",
        "\n",
        "</aside>"
      ],
      "metadata": {
        "id": "meS7uHrk2jP4"
      },
      "execution_count": null,
      "outputs": []
    },
    {
      "cell_type": "code",
      "source": [
        "class Solution(object):\n",
        "    def lengthOfLongestSubstring(self, s):\n",
        "        if(s==\"\"):\n",
        "            return 0\n",
        "        store=[]\n",
        "        # print(len(s))\n",
        "\n",
        "        maxx=1\n",
        "        store.append(s[0:1])\n",
        "\n",
        "        l=1\n",
        "        for i in range(1,len(s)):\n",
        "            a=s[i:i+1]\n",
        "            # print(a)\n",
        "            if a not in store:\n",
        "                store.append(a)\n",
        "                l+=1\n",
        "                # print(l)\n",
        "                maxx=max(l,maxx)\n",
        "            else:\n",
        "                # store.add(a)\n",
        "                lenn=0\n",
        "                for i in store:\n",
        "                    if(i==a):\n",
        "                        lenn+=1\n",
        "                        break\n",
        "                    lenn+=1\n",
        "\n",
        "                while(lenn!=0):\n",
        "                    store.pop(0)\n",
        "                    lenn-=1\n",
        "                store.append(a)\n",
        "                l=len(store)\n",
        "\n",
        "\n",
        "\n",
        "\n",
        "        return maxx"
      ],
      "metadata": {
        "id": "sAta2Eoa2nLx"
      },
      "execution_count": null,
      "outputs": []
    },
    {
      "cell_type": "code",
      "source": [
        "<aside>\n",
        "💡 3. **Majority Element**\n",
        "\n",
        "Given an array `nums` of size `n`, return *the majority element*.\n",
        "\n",
        "The majority element is the element that appears more than `⌊n / 2⌋` times. You may assume that the majority element always exists in the array.\n",
        "\n",
        "**Example 1:**\n",
        "\n",
        "```\n",
        "Input: nums = [3,2,3]\n",
        "Output: 3\n",
        "```\n",
        "\n",
        "**Example 2:**\n",
        "\n",
        "</aside>"
      ],
      "metadata": {
        "id": "m3TfeuKz2nnQ"
      },
      "execution_count": null,
      "outputs": []
    },
    {
      "cell_type": "code",
      "source": [
        "class Solution(object):\n",
        "    def majorityElement(self, nums):\n",
        "        d={}\n",
        "        for i in nums:\n",
        "            d[i]=d.get(i,0)+1\n",
        "        for j,k in d.items():\n",
        "            if k>(len(nums)//2):\n",
        "                return j\n",
        "        return None"
      ],
      "metadata": {
        "id": "TjdJvLg12npc"
      },
      "execution_count": null,
      "outputs": []
    },
    {
      "cell_type": "code",
      "source": [
        "<aside>\n",
        "💡 4. **Group Anagram**\n",
        "\n",
        "Given an array of strings `strs`, group **the anagrams** together. You can return the answer in **any order**.\n",
        "\n",
        "An **Anagram** is a word or phrase formed by rearranging the letters of a different word or phrase, typically using all the original letters exactly once.\n",
        "\n",
        "</aside>"
      ],
      "metadata": {
        "id": "4koSCWzi2nr2"
      },
      "execution_count": null,
      "outputs": []
    },
    {
      "cell_type": "code",
      "source": [
        "from collections import defaultdict\n",
        "\n",
        "class Solution(object):\n",
        "    def groupAnagrams(self, strs):\n",
        "        temp=defaultdict(list)\n",
        "\n",
        "        for ele in strs:\n",
        "            temp[str(sorted(ele))].append(ele)\n",
        "\n",
        "        res=list(temp.values())\n",
        "\n",
        "        return res\n",
        ""
      ],
      "metadata": {
        "id": "NqHfI9dq2nud"
      },
      "execution_count": null,
      "outputs": []
    },
    {
      "cell_type": "code",
      "source": [
        "<aside>\n",
        "💡 5. **Ugly Numbers**\n",
        "\n",
        "An **ugly number** is a positive integer whose prime factors are limited to `2`, `3`, and `5`.\n",
        "\n",
        "Given an integer `n`, return *the* `nth` ***ugly number***.\n",
        "\n",
        "</aside>"
      ],
      "metadata": {
        "id": "K39lMU_M2nw7"
      },
      "execution_count": null,
      "outputs": []
    },
    {
      "cell_type": "code",
      "source": [
        "import math\n",
        "class Solution(object):\n",
        "    def isUgly(self, n):\n",
        "        if n==0:\n",
        "            return False\n",
        "        for i in [2,3,5]:\n",
        "            while n%i==0:\n",
        "                n=n//i\n",
        "        return n==1"
      ],
      "metadata": {
        "id": "E2i32SNK2nzU"
      },
      "execution_count": null,
      "outputs": []
    },
    {
      "cell_type": "code",
      "source": [
        "<aside>\n",
        "💡 6. **Top K Frequent Words**\n",
        "\n",
        "Given an array of strings `words` and an integer `k`, return *the* `k` *most frequent strings*.\n",
        "\n",
        "Return the answer **sorted** by **the frequency** from highest to lowest. Sort the words with the same frequency by their **lexicographical order**.\n",
        "\n",
        "</aside>"
      ],
      "metadata": {
        "id": "XdTY7jPJ2n12"
      },
      "execution_count": null,
      "outputs": []
    },
    {
      "cell_type": "code",
      "source": [
        "class Solution(object):\n",
        "    def topKFrequent(self, words, k):\n",
        "        d={}\n",
        "        for i in range(len(words)):\n",
        "            d[words[i]]=d.get(words[i],0)+1\n",
        "\n",
        "        d=sorted(d.items(),key=lambda x:x[1],reverse=True)\n",
        "        print(d)\n",
        "        l=[]\n",
        "        ll=0\n",
        "        for i in range(len(d)):\n",
        "            if ll==k:\n",
        "                return l\n",
        "            l.append(d[i][0])\n",
        "            ll+=1\n",
        "        return l"
      ],
      "metadata": {
        "id": "aXc1lZLI2n4T"
      },
      "execution_count": null,
      "outputs": []
    },
    {
      "cell_type": "code",
      "source": [
        "<aside>\n",
        "💡 7. **Sliding Window Maximum**\n",
        "\n",
        "You are given an array of integers `nums`, there is a sliding window of size `k` which is moving from the very left of the array to the very right. You can only see the `k` numbers in the window. Each time the sliding window moves right by one position.\n",
        "\n",
        "Return *the max sliding window*.\n",
        "\n",
        "</aside>"
      ],
      "metadata": {
        "id": "aKUVX4RF2n6y"
      },
      "execution_count": null,
      "outputs": []
    },
    {
      "cell_type": "code",
      "source": [
        "class Solution(object):\n",
        "    def maxSlidingWindow(self, nums, k):\n",
        "        l=[]\n",
        "        for i in range(len(nums)-(k-1)):\n",
        "            maxx=nums[i]\n",
        "            for j in range(i+1,i+k):\n",
        "                maxx=max(maxx,nums[j])\n",
        "            l.append(maxx)\n",
        "        return l"
      ],
      "metadata": {
        "id": "Y-qAmd_62n9Y"
      },
      "execution_count": null,
      "outputs": []
    },
    {
      "cell_type": "code",
      "source": [
        "<aside>\n",
        "💡 8. **Find K Closest Elements**\n",
        "\n",
        "Given a **sorted** integer array `arr`, two integers `k` and `x`, return the `k` closest integers to `x` in the array. The result should also be sorted in ascending order.\n",
        "\n",
        "An integer `a` is closer to `x` than an integer `b` if:\n",
        "\n",
        "- `|a - x| < |b - x|`, or\n",
        "- `|a - x| == |b - x|` and `a < b`\n",
        "</aside>"
      ],
      "metadata": {
        "id": "JnLpb-X_2oAE"
      },
      "execution_count": null,
      "outputs": []
    },
    {
      "cell_type": "code",
      "source": [
        "class Solution(object):\n",
        "    def findClosestElements(self, arr, k, x):\n",
        "        if len(arr)==1:\n",
        "            return arr\n",
        "        if len(arr)==k:\n",
        "            return arr\n",
        "        left=0\n",
        "        right=len(arr)-1\n",
        "\n",
        "        while(right-left >=k):\n",
        "            l=arr[left]\n",
        "            r=arr[right]\n",
        "            print(abs(l-x))\n",
        "            print(abs(r-x))\n",
        "            if abs(l-x) >abs(r-x):\n",
        "                left+=1\n",
        "            else:\n",
        "                right-=1\n",
        "        listt=arr[left:right+1]\n",
        "        return listt"
      ],
      "metadata": {
        "id": "cxXc5mIP7h-g"
      },
      "execution_count": null,
      "outputs": []
    }
  ]
}