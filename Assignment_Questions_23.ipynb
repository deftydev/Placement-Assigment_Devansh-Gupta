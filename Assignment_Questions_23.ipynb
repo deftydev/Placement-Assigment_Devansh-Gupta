{
  "nbformat": 4,
  "nbformat_minor": 0,
  "metadata": {
    "colab": {
      "provenance": []
    },
    "kernelspec": {
      "name": "python3",
      "display_name": "Python 3"
    },
    "language_info": {
      "name": "python"
    }
  },
  "cells": [
    {
      "cell_type": "code",
      "execution_count": null,
      "metadata": {
        "id": "5kuqaZySyctP"
      },
      "outputs": [],
      "source": [
        "<aside>\n",
        "💡 Question-1:\n",
        "\n",
        "Given preorder of a binary tree, calculate its **[depth(or height)](https://www.geeksforgeeks.org/write-a-c-program-to-find-the-maximum-depth-or-height-of-a-tree/)** [starting from depth 0]. The preorder is given as a string with two possible characters.\n",
        "\n",
        "1. ‘l’ denotes the leaf\n",
        "2. ‘n’ denotes internal node\n",
        "\n",
        "The given tree can be seen as a full binary tree where every node has 0 or two children. The two children of a node can ‘n’ or ‘l’ or mix of both.\n",
        "\n",
        "</aside>"
      ]
    },
    {
      "cell_type": "code",
      "source": [
        "preorder_list=[nlnll]\n",
        "\n",
        "root=Node(preorder_list.pop(0))\n",
        "\n",
        "def preorder(preorder_list):"
      ],
      "metadata": {
        "id": "3WCNnLOh1UqL"
      },
      "execution_count": null,
      "outputs": []
    },
    {
      "cell_type": "code",
      "source": [
        "<aside>\n",
        "💡 Question-2:\n",
        "\n",
        "Given a Binary tree, the task is to print the **left view** of the Binary Tree. The left view of a Binary Tree is a set of leftmost nodes for every level.\n",
        "\n",
        "</aside>"
      ],
      "metadata": {
        "id": "u7VVE5I-1Usm"
      },
      "execution_count": null,
      "outputs": []
    },
    {
      "cell_type": "code",
      "source": [
        "        q, res = deque([root]), []\n",
        "        while q and root:\n",
        "            res.append(q[-1].val)\n",
        "            for _ in range(len(q)):\n",
        "                node = q.popleft()\n",
        "                if node.right: q.append(node.right)\n",
        "                if node.left: q.append(node.left)\n",
        "\n",
        "\n",
        "        return res"
      ],
      "metadata": {
        "id": "aAXvs02Q1Uu9"
      },
      "execution_count": null,
      "outputs": []
    },
    {
      "cell_type": "code",
      "source": [
        "<aside>\n",
        "💡 Question-3:\n",
        "\n",
        "Given a Binary Tree, print the Right view of it.\n",
        "\n",
        "The right view of a Binary Tree is a set of nodes visible when the tree is visited from the Right side.\n",
        "\n",
        "**Examples:**\n",
        "\n",
        "</aside>"
      ],
      "metadata": {
        "id": "TJL8XJmT1UxJ"
      },
      "execution_count": null,
      "outputs": []
    },
    {
      "cell_type": "code",
      "source": [
        "       arr=[]\n",
        "        right(root,arr)\n",
        "        if root is None:\n",
        "            return arr\n",
        "        r=levels(root.right)\n",
        "        l=levels(root.left)\n",
        "        print(r)\n",
        "        print(l)\n",
        "        if r>=l or r==0:\n",
        "            return arr\n",
        "        else:\n",
        "            temp=root\n",
        "            temp=temp.left\n",
        "            tc=0\n",
        "            print(temp)\n",
        "            tc+=1\n",
        "            while(tc !=r+1):\n",
        "                if temp.right:\n",
        "                    tc+=1\n",
        "                    temp=temp.right\n",
        "                else:\n",
        "                    tc+=1\n",
        "                    temp=temp.left\n",
        "            print(temp.val)\n",
        "            right(temp,arr)\n",
        "        return arr\n",
        "\n",
        "\n",
        "def levels(root):\n",
        "    if root is None:\n",
        "        return 0\n",
        "    return 1+max(levels(root.left),levels(root.right))\n",
        "\n",
        "def right(root,arr):\n",
        "    if root is None:\n",
        "        return\n",
        "    arr.append(root.val)\n",
        "    if root.right:\n",
        "        right(root.right,arr)\n",
        "    elif root.left:\n",
        "        right(root.left,arr)\n",
        "\n",
        "    return arr"
      ],
      "metadata": {
        "id": "6OqQ1O9X1Uzm"
      },
      "execution_count": null,
      "outputs": []
    },
    {
      "cell_type": "code",
      "source": [],
      "metadata": {
        "id": "7Omn-pWF1U10"
      },
      "execution_count": null,
      "outputs": []
    },
    {
      "cell_type": "code",
      "source": [],
      "metadata": {
        "id": "iK7QlAuE1U4B"
      },
      "execution_count": null,
      "outputs": []
    },
    {
      "cell_type": "code",
      "source": [],
      "metadata": {
        "id": "QaFujM0p1U6P"
      },
      "execution_count": null,
      "outputs": []
    },
    {
      "cell_type": "code",
      "source": [],
      "metadata": {
        "id": "ULCjUM_k1VBH"
      },
      "execution_count": null,
      "outputs": []
    },
    {
      "cell_type": "code",
      "source": [
        "<aside>\n",
        "💡 Question-4:\n",
        "\n",
        "Given a Binary Tree, The task is to print the **bottom view** from left to right. A node **x** is there in output if x is the bottommost node at its horizontal distance. The horizontal distance of the left child of a node x is equal to a horizontal distance of x minus 1, and that of a right child is the horizontal distance of x plus 1.\n",
        "\n",
        "</aside>"
      ],
      "metadata": {
        "id": "UVglX9UI1VDe"
      },
      "execution_count": null,
      "outputs": []
    },
    {
      "cell_type": "code",
      "source": [
        "class Node:\n",
        "  def __init__(self, data):\n",
        "    self.data = data\n",
        "    self.left = None\n",
        "    self.right = None\n",
        "\n",
        "def bottom_view(root,arr):\n",
        "  if root is None:\n",
        "    return\n",
        "\n",
        "  if root.left is None and root.right is None:\n",
        "    arr.append(root.data)\n",
        "    return\n",
        "\n",
        "  bottom_view(root.left,arr)\n",
        "  bottom_view(root.right,arr)\n",
        "\n",
        "# Create a binary tree\n",
        "root = Node(20)\n",
        "root.left = Node(8)\n",
        "root.right = Node(22)\n",
        "root.left.left = Node(5)\n",
        "root.left.right = Node(3)\n",
        "root.right.left = Node(4)\n",
        "root.right.right = Node(25)\n",
        "root.left.right.left = Node(10)\n",
        "root.left.right.right = Node(14)\n",
        "\n",
        "# Print the bottom view of the binary tree\n",
        "print(\"Bottom View: \")\n",
        "arr=[]\n",
        "bottom_view(root,arr)\n",
        "print(arr)"
      ],
      "metadata": {
        "colab": {
          "base_uri": "https://localhost:8080/"
        },
        "id": "D8w61jHP1VG8",
        "outputId": "d88dcfb7-2548-4973-b6bb-f3c2ae6ec6aa"
      },
      "execution_count": 2,
      "outputs": [
        {
          "output_type": "stream",
          "name": "stdout",
          "text": [
            "Bottom View: \n",
            "[5, 10, 14, 4, 25]\n"
          ]
        }
      ]
    }
  ]
}