{
  "nbformat": 4,
  "nbformat_minor": 0,
  "metadata": {
    "colab": {
      "provenance": []
    },
    "kernelspec": {
      "name": "python3",
      "display_name": "Python 3"
    },
    "language_info": {
      "name": "python"
    }
  },
  "cells": [
    {
      "cell_type": "code",
      "execution_count": null,
      "metadata": {
        "id": "6UVHkKo_sZDw"
      },
      "outputs": [],
      "source": [
        "17. Write a function that takes a list of numbers as input and returns a new list containing only the even numbers from the input list.\n",
        "Use list comprehension to solve this problem.\n",
        "\n",
        "Example:\n",
        "\n",
        "Input: [1, 2, 3, 4, 5, 6, 7, 8, 9, 10]\n",
        "\n",
        "Output: [2, 4, 6, 8, 10]"
      ]
    },
    {
      "cell_type": "code",
      "source": [
        "n= int(input(\"Enter the number of elements\"))\n",
        "final_list=[]\n",
        "while(n!=0):\n",
        "  ele=int(input())\n",
        "  if ele%2==0:\n",
        "    final_list.append(ele)\n",
        "  n=n-1\n",
        "\n",
        "print(final_list)"
      ],
      "metadata": {
        "colab": {
          "base_uri": "https://localhost:8080/"
        },
        "id": "8f-yGQl2sd_U",
        "outputId": "63a52374-dbcb-440f-cace-9a2ce39415e0"
      },
      "execution_count": 3,
      "outputs": [
        {
          "output_type": "stream",
          "name": "stdout",
          "text": [
            "Enter the number of elements5\n",
            "2\n",
            "3\n",
            "4\n",
            "5\n",
            "6\n",
            "[2, 4, 6]\n"
          ]
        }
      ]
    },
    {
      "cell_type": "code",
      "source": [
        "18. Implement a decorator function called ‘timer’ that measures the execution time of a function.\n",
        "The ‘timer’ decorator should print the time taken by the decorated function to execute.\n",
        "Use the ‘time’ module in Python to calculate the execution time.\n",
        "\n",
        "Example:\n",
        "\n",
        "import time\n",
        "\n",
        "@timer\n",
        "def my_function():\n",
        "    # Function code goes here\n",
        "    time.sleep(2)\n",
        "\n",
        "my_function()\n",
        "\n",
        "Output:\n",
        "\"Execution time: 2.00123 seconds\""
      ],
      "metadata": {
        "id": "9gIv3B2luVKR"
      },
      "execution_count": null,
      "outputs": []
    },
    {
      "cell_type": "code",
      "source": [
        "import time\n",
        "\n",
        "def timer(func):\n",
        "  def test():\n",
        "    t= time.time_ns()\n",
        "    func()\n",
        "    e= time.time_ns()\n",
        "    return float(e-t)\n",
        "  return test\n",
        "\n",
        "@timer\n",
        "def my_function():\n",
        "  print(\"Elapsed time in nano seconds\",end=\" \")\n",
        "  time.sleep(2)\n",
        "\n",
        "my_function()"
      ],
      "metadata": {
        "colab": {
          "base_uri": "https://localhost:8080/"
        },
        "id": "V3n-xl3CuVM_",
        "outputId": "dfa59d97-5d68-4320-9e57-c776af686bc9"
      },
      "execution_count": 12,
      "outputs": [
        {
          "output_type": "stream",
          "name": "stdout",
          "text": [
            "Elapsed time in nano seconds "
          ]
        },
        {
          "output_type": "execute_result",
          "data": {
            "text/plain": [
              "2003709428.0"
            ]
          },
          "metadata": {},
          "execution_count": 12
        }
      ]
    },
    {
      "cell_type": "code",
      "source": [
        "19. Write a function called ‘calculate_mean’ that takes a list of numbers as input and returns the mean (average) of the numbers. The function should calculate the mean using the sum of the numbers divided by the total count.\n",
        "\n",
        "Example:\n",
        "\n",
        "def calculate_mean(numbers):\n",
        "    total = sum(numbers)\n",
        "    count = len(numbers)\n",
        "    mean = total / count\n",
        "    return mean\n",
        "\n",
        "data = [10, 15, 20, 25, 30]\n",
        "mean_value = calculate_mean(data)\n",
        "print(\"Mean:\", mean_value)\n",
        "\n",
        "Output:\n",
        "Mean: 20.0"
      ],
      "metadata": {
        "id": "EXZpeBQPuVQd"
      },
      "execution_count": null,
      "outputs": []
    },
    {
      "cell_type": "code",
      "source": [
        "def calculate_mean(numbers):\n",
        "    total = sum(numbers)\n",
        "    count = len(numbers)\n",
        "    mean = total / count\n",
        "    return mean\n",
        "\n",
        "n= int(input(\"Enter the number of elements\"))\n",
        "final_list=[]\n",
        "while(n!=0):\n",
        "  ele=int(input())\n",
        "  final_list.append(ele)\n",
        "  n=n-1\n",
        "\n",
        "mean_value = calculate_mean(final_list)\n",
        "print(\"Mean:\", mean_value)"
      ],
      "metadata": {
        "colab": {
          "base_uri": "https://localhost:8080/"
        },
        "id": "cdnj7HaRuVTW",
        "outputId": "6b0cb54c-d7b0-4632-b18a-e596acedcd83"
      },
      "execution_count": 15,
      "outputs": [
        {
          "output_type": "stream",
          "name": "stdout",
          "text": [
            "Enter the number of elements5\n",
            "2\n",
            "3\n",
            "4\n",
            "5\n",
            "6\n",
            "Mean: 4.0\n"
          ]
        }
      ]
    },
    {
      "cell_type": "code",
      "source": [
        "20. Write a function called ‘perform_hypothesis_test’ that takes two lists of numbers as input, representing two samples.\n",
        " The function should perform a two-sample t-test\n",
        "and return the p-value. Use the ‘scipy.stats’ module in Python to calculate the t-test and p-value."
      ],
      "metadata": {
        "id": "70rFcL3BuVW7"
      },
      "execution_count": null,
      "outputs": []
    },
    {
      "cell_type": "code",
      "source": [
        "from scipy import stats\n",
        "\n",
        "def perform_hypothesis_test(sample1, sample2):\n",
        "    t_statistic, p_value = stats.ttest_ind(sample1, sample2)\n",
        "    return p_value\n",
        "\n",
        "n= int(input(\"Enter the number of elements\"))\n",
        "n1=n\n",
        "final_list=[]\n",
        "while(n!=0):\n",
        "  ele=int(input())\n",
        "  final_list.append(ele)\n",
        "  n=n-1\n",
        "\n",
        "print(\"Now give the elements for second list\")\n",
        "final_list_2=[]\n",
        "while(n1!=0):\n",
        "  ele=int(input())\n",
        "  final_list_2.append(ele)\n",
        "  n1=n1-1\n",
        "p_value = perform_hypothesis_test(final_list, final_list_2)\n",
        "print(\"P-value:\", p_value)"
      ],
      "metadata": {
        "colab": {
          "base_uri": "https://localhost:8080/"
        },
        "id": "2il_Mmf5uVrX",
        "outputId": "ccf35630-34c1-4911-d1fe-c08d5d7824f9"
      },
      "execution_count": 17,
      "outputs": [
        {
          "output_type": "stream",
          "name": "stdout",
          "text": [
            "Enter the number of elements3\n",
            "1\n",
            "2\n",
            "5\n",
            "Now give the elements for second list\n",
            "2\n",
            "3\n",
            "5\n",
            "P-value: 0.6778688286992492\n"
          ]
        }
      ]
    }
  ]
}