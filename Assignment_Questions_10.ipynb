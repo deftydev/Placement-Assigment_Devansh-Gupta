{
  "nbformat": 4,
  "nbformat_minor": 0,
  "metadata": {
    "colab": {
      "provenance": []
    },
    "kernelspec": {
      "name": "python3",
      "display_name": "Python 3"
    },
    "language_info": {
      "name": "python"
    }
  },
  "cells": [
    {
      "cell_type": "code",
      "execution_count": null,
      "metadata": {
        "id": "-zXxImYrnOUv"
      },
      "outputs": [],
      "source": [
        "<aside>\n",
        "💡 **Question 1**\n",
        "\n",
        "Given an integer `n`, return *`true` if it is a power of three. Otherwise, return `false`*.\n",
        "\n",
        "An integer `n` is a power of three, if there exists an integer `x` such that `n == 3x`.\n",
        "\n",
        "**Example 1:**\n",
        "\n",
        "</aside>"
      ]
    },
    {
      "cell_type": "code",
      "source": [
        "def powerof(n):\n",
        "  if n<3:\n",
        "    return False\n",
        "\n",
        "  if n==3:\n",
        "    return True\n",
        "\n",
        "  return powerof(n//3)\n",
        "\n",
        "print(powerof(81))"
      ],
      "metadata": {
        "colab": {
          "base_uri": "https://localhost:8080/"
        },
        "id": "xL5o9JmcnYRQ",
        "outputId": "d07e185a-cd8f-44b9-f994-7babd38bad5b"
      },
      "execution_count": null,
      "outputs": [
        {
          "output_type": "stream",
          "name": "stdout",
          "text": [
            "True\n"
          ]
        }
      ]
    },
    {
      "cell_type": "code",
      "source": [
        "<aside>\n",
        "💡 **Question 2**\n",
        "\n",
        "You have a list `arr` of all integers in the range `[1, n]` sorted in a strictly increasing order. Apply the following algorithm on `arr`:\n",
        "\n",
        "- Starting from left to right, remove the first number and every other number afterward until you reach the end of the list.\n",
        "- Repeat the previous step again, but this time from right to left, remove the rightmost number and every other number from the remaining numbers.\n",
        "- Keep repeating the steps again, alternating left to right and right to left, until a single number remains.\n",
        "\n",
        "Given the integer `n`, return *the last number that remains in* `arr`.\n",
        "\n",
        "</aside>"
      ],
      "metadata": {
        "id": "5EYdvi_3nYTn"
      },
      "execution_count": null,
      "outputs": []
    },
    {
      "cell_type": "code",
      "source": [
        "arr = [1, 2,3, 4,5, 6,7, 8,9]\n",
        "\n",
        "def leff(arr):\n",
        "  if (len(arr)==1):\n",
        "    return arr[0]\n",
        "    leff(arr.remove(0))\n",
        "\n",
        "    leff(arr.remove(len(arr)-1))\n",
        "\n",
        "print(leff(arr))"
      ],
      "metadata": {
        "id": "U3FwwOE_nYWG",
        "colab": {
          "base_uri": "https://localhost:8080/"
        },
        "outputId": "e89938ad-2025-444a-f167-d4ca8693c542"
      },
      "execution_count": null,
      "outputs": [
        {
          "output_type": "stream",
          "name": "stdout",
          "text": [
            "None\n"
          ]
        }
      ]
    },
    {
      "cell_type": "code",
      "source": [
        "<aside>\n",
        "💡 **Question 3**\n",
        "\n",
        "****Given a set represented as a string, write a recursive code to print all subsets of it. The subsets can be printed in any order.\n",
        "\n",
        "**Example 1:**\n",
        "\n",
        "Input :  set = “abc”\n",
        "\n",
        "Output : { “”, “a”, “b”, “c”, “ab”, “ac”, “bc”, “abc”}\n",
        "\n",
        "</aside>"
      ],
      "metadata": {
        "id": "HtGVa0dLnYYU"
      },
      "execution_count": null,
      "outputs": []
    },
    {
      "cell_type": "code",
      "source": [
        "s=\"abc\"\n",
        "\n",
        "def subset(s,l,r,listt):\n",
        "  if l>r:\n",
        "    listt.append(s[l])\n",
        "\n",
        "  subset(s,l+1,r,listt)\n",
        "  subset(s,l+1,r,listt)\n"
      ],
      "metadata": {
        "id": "dpMQmLnynYaS"
      },
      "execution_count": null,
      "outputs": []
    },
    {
      "cell_type": "code",
      "source": [
        "Given a string calculate length of the string using recursion.\n",
        "\n",
        "**Examples:**"
      ],
      "metadata": {
        "id": "u5OPi69FnYcL"
      },
      "execution_count": null,
      "outputs": []
    },
    {
      "cell_type": "code",
      "source": [
        "def calculate_length(string):\n",
        "    if string == '':\n",
        "        return 0\n",
        "    else:\n",
        "        return 1 + calculate_length(string[1:])\n",
        "\n",
        "print(calculate_length(\"abcdefghijk\"))"
      ],
      "metadata": {
        "id": "448aCPo1nYhN",
        "colab": {
          "base_uri": "https://localhost:8080/"
        },
        "outputId": "032e13c1-0dbd-47a0-c753-ddebce019ca7"
      },
      "execution_count": 4,
      "outputs": [
        {
          "output_type": "stream",
          "name": "stdout",
          "text": [
            "11\n"
          ]
        }
      ]
    },
    {
      "cell_type": "code",
      "source": [
        "<aside>\n",
        "💡 **Question 6**\n",
        "\n",
        "The [tower of Hanoi](https://en.wikipedia.org/wiki/Tower_of_Hanoi) is a famous puzzle where we have three rods \n",
        "and **N** disks. The objective of the puzzle is to move the entire stack to another rod. \n",
        "You are given the number of discs **N**. Initially, these discs are in the rod 1. \n",
        "You need to print all the steps of discs movement so that all the discs reach the 3rd rod. \n",
        "Also, you need to find the total moves.**Note:** The discs are arranged such that the **top disc is numbered 1** \n",
        "and the **bottom-most disc is numbered N**. Also, all the discs have **different sizes** and\n",
        " a bigger disc **cannot** be put on the top of a smaller disc. Refer the provided link to get a better clarity about the puzzle.\n",
        "\n",
        "**Example 1:**\n",
        "\n",
        "</aside>"
      ],
      "metadata": {
        "id": "cKD34U-hnYjs"
      },
      "execution_count": null,
      "outputs": []
    },
    {
      "cell_type": "code",
      "source": [
        "def tower_of_hanoi(n, source, destination, auxiliary):\n",
        "    if n > 0:\n",
        "        # Move n-1 disks from source to auxiliary rod\n",
        "        tower_of_hanoi(n - 1, source, auxiliary, destination)\n",
        "\n",
        "        # Move the nth disk from source to destination rod\n",
        "        print(f\"Move disk {n} from {source} to {destination}\")\n",
        "\n",
        "        # Move the n-1 disks from auxiliary to destination rod\n",
        "        tower_of_hanoi(n - 1, auxiliary, destination, source)\n",
        "\n",
        "\n",
        "tower_of_hanoi(3, \"source\", \"destination\", \"auxiliary\")"
      ],
      "metadata": {
        "id": "FZDawI0fnYmD",
        "colab": {
          "base_uri": "https://localhost:8080/"
        },
        "outputId": "8138f2e1-22af-4086-ec38-dcb46528bdfb"
      },
      "execution_count": 7,
      "outputs": [
        {
          "output_type": "stream",
          "name": "stdout",
          "text": [
            "Move disk 1 from source to destination\n",
            "Move disk 2 from source to auxiliary\n",
            "Move disk 1 from destination to auxiliary\n",
            "Move disk 3 from source to destination\n",
            "Move disk 1 from auxiliary to source\n",
            "Move disk 2 from auxiliary to destination\n",
            "Move disk 1 from source to destination\n"
          ]
        }
      ]
    },
    {
      "cell_type": "code",
      "source": [],
      "metadata": {
        "id": "dQQDqmWAnYob"
      },
      "execution_count": null,
      "outputs": []
    },
    {
      "cell_type": "code",
      "source": [],
      "metadata": {
        "id": "TCjbtLLWnYrH"
      },
      "execution_count": null,
      "outputs": []
    },
    {
      "cell_type": "code",
      "source": [],
      "metadata": {
        "id": "Y93dgMP7nYto"
      },
      "execution_count": null,
      "outputs": []
    },
    {
      "cell_type": "code",
      "source": [],
      "metadata": {
        "id": "pjYUuu5jnYvy"
      },
      "execution_count": null,
      "outputs": []
    },
    {
      "cell_type": "code",
      "source": [],
      "metadata": {
        "id": "3sHKynbUnYyO"
      },
      "execution_count": null,
      "outputs": []
    },
    {
      "cell_type": "code",
      "source": [
        "Ans-7"
      ],
      "metadata": {
        "id": "j5PGwjj-nY04"
      },
      "execution_count": null,
      "outputs": []
    },
    {
      "cell_type": "code",
      "source": [
        "a=\"ABC\"\n",
        "\n",
        "answer=\"\"\n",
        "\n",
        "def permute(s,answer):\n",
        "    if len(s)==0:\n",
        "        print(answer)\n",
        "    \n",
        "    for i in range(len(s)):\n",
        "        ch= s[i]\n",
        "        \n",
        "        left_str= s[0:i]\n",
        "        right_str= s[i+1:]\n",
        "        \n",
        "        rest= left_str+right_str\n",
        "        \n",
        "        permute(rest,answer+ch)\n",
        "\n",
        "permute(a,answer)"
      ],
      "metadata": {
        "id": "T82bxQL2nY4Q",
        "colab": {
          "base_uri": "https://localhost:8080/"
        },
        "outputId": "d03ed6ad-8e4a-40c8-9235-04882a5498e3"
      },
      "execution_count": 8,
      "outputs": [
        {
          "output_type": "stream",
          "name": "stdout",
          "text": [
            "ABC\n",
            "ACB\n",
            "BAC\n",
            "BCA\n",
            "CAB\n",
            "CBA\n"
          ]
        }
      ]
    }
  ]
}