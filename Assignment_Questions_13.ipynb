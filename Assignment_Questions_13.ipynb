{
  "nbformat": 4,
  "nbformat_minor": 0,
  "metadata": {
    "colab": {
      "provenance": []
    },
    "kernelspec": {
      "name": "python3",
      "display_name": "Python 3"
    },
    "language_info": {
      "name": "python"
    }
  },
  "cells": [
    {
      "cell_type": "code",
      "execution_count": null,
      "metadata": {
        "id": "PwVmGDnNAuLI"
      },
      "outputs": [],
      "source": [
        "<aside>\n",
        "💡 **Question 1**\n",
        "\n",
        "Given two linked list of the same size, the task is to create a new linked list using those linked lists. The condition is that the greater node among both linked list will be added to the new linked list.\n",
        "\n",
        "</aside>"
      ]
    },
    {
      "cell_type": "code",
      "source": [
        "temp=headA\n",
        "        temp2= headB\n",
        "        temp3= ListNode()\n",
        "        while(temp):\n",
        "            if temp.val > temp2.val:\n",
        "                temp3=ListNode(temp.val)\n",
        "                temp3=temp3.next\n",
        "                temp=temp.next\n",
        "                temp2=temp2.next\n",
        "            else:\n",
        "                temp3= ListNode(temp2.val)\n",
        "                temp3=temp3.next\n",
        "                temp=temp.next\n",
        "                temp2=temp2.next\n",
        "\n",
        "        print(temp3)"
      ],
      "metadata": {
        "id": "_yAI-BsWA0wR"
      },
      "execution_count": null,
      "outputs": []
    },
    {
      "cell_type": "code",
      "source": [
        "<aside>\n",
        "💡 **Question 2**\n",
        "\n",
        "Write a function that takes a list sorted in non-decreasing order and deletes any duplicate nodes from the list. The list should only be traversed once.\n",
        "\n",
        "For example if the linked list is 11->11->11->21->43->43->60 then removeDuplicates() should convert the list to 11->21->43->60.\n",
        "\n",
        "</aside>"
      ],
      "metadata": {
        "id": "3C91yyXsA0zd"
      },
      "execution_count": null,
      "outputs": []
    },
    {
      "cell_type": "code",
      "source": [
        "  temp=head\n",
        "\n",
        "        while(temp is not None):\n",
        "            if temp.next.val==temp.val:\n",
        "                if temp.next and temp.next.next is None:\n",
        "                    temp.next=None\n",
        "                    temp=temp.next\n",
        "                else:\n",
        "                    node= temp.next.next\n",
        "                    temp.next =None\n",
        "                    temp.next= node\n",
        "\n",
        "            else:\n",
        "                temp=temp.next\n",
        "\n",
        "        print(head)"
      ],
      "metadata": {
        "id": "DsOG2d8WA01N"
      },
      "execution_count": null,
      "outputs": []
    },
    {
      "cell_type": "code",
      "source": [
        "<aside>\n",
        "💡 **Question 3**\n",
        "\n",
        "Given a linked list of size **N**. The task is to reverse every **k** nodes (where k is an input to the function) in the linked list. If the number of nodes is not a multiple of *k* then left-out nodes, in the end, should be considered as a group and must be reversed (See Example 2 for clarification).\n",
        "\n",
        "</aside>"
      ],
      "metadata": {
        "id": "Bs34sWE4A03G"
      },
      "execution_count": null,
      "outputs": []
    },
    {
      "cell_type": "code",
      "source": [
        "def reverseKGroup(self, head, k):\n",
        "\n",
        "        slow=fast=head\n",
        "        l=[]\n",
        "        while(fast):\n",
        "            l.append(fast.val)\n",
        "            fast= fast.next\n",
        "\n",
        "            if len(l)==k:\n",
        "                while(len(l)>0):\n",
        "                    slow.val=l.pop()\n",
        "                    slow=slow.next\n",
        "\n",
        "        l1=[]\n",
        "        fast1=slow\n",
        "        while(fast1):\n",
        "            l1.append(fast1.val)\n",
        "            fast1= fast1.next\n",
        "\n",
        "\n",
        "        while(len(l1)>0):\n",
        "            slow.val=l1.pop()\n",
        "            slow=slow.next\n",
        "\n",
        "        return head"
      ],
      "metadata": {
        "id": "2AaD_rKbA05x"
      },
      "execution_count": null,
      "outputs": []
    },
    {
      "cell_type": "code",
      "source": [
        "<aside>\n",
        "💡 **Question 4**\n",
        "\n",
        "Given a linked list, write a function to reverse every alternate k nodes (where k is an input to the function) in an efficient way. Give the complexity of your algorithm.\n",
        "\n",
        "</aside>"
      ],
      "metadata": {
        "id": "SQ0umO4mA08L"
      },
      "execution_count": null,
      "outputs": []
    },
    {
      "cell_type": "code",
      "source": [
        "def reverseKGroup(self, head, k):\n",
        "\n",
        "        slow=fast=head\n",
        "        l=[]\n",
        "        ll=0\n",
        "        while(fast):\n",
        "            l.append(fast.val)\n",
        "            fast= fast.next\n",
        "\n",
        "            if len(l)==k and ll%2!=0:\n",
        "                while(len(l)>0):\n",
        "                    l.pop()\n",
        "                ll+=1\n",
        "                slow=fast\n",
        "\n",
        "            if len(l)==k and ll%2==0:\n",
        "                ll+=1\n",
        "                while(len(l)>0):\n",
        "                    slow.val=l.pop()\n",
        "                    slow=slow.next\n",
        "\n",
        "        return head"
      ],
      "metadata": {
        "id": "wh98-5sGA0-q"
      },
      "execution_count": null,
      "outputs": []
    },
    {
      "cell_type": "code",
      "source": [
        "<aside>\n",
        "💡 **Question 5**\n",
        "\n",
        "Given a linked list and a key to be deleted. Delete last occurrence of key from linked. The list may have duplicates.\n",
        "\n",
        "</aside>"
      ],
      "metadata": {
        "id": "3mKxFIviA1BS"
      },
      "execution_count": null,
      "outputs": []
    },
    {
      "cell_type": "code",
      "source": [
        "def deleteK(self, head, k):\n",
        "\n",
        "        slow=fast=head\n",
        "        l=[]\n",
        "        ll=0\n",
        "        f_l=[]\n",
        "        while(fast):\n",
        "            ll+=1\n",
        "            if fast.val==k:\n",
        "                l.append(ll)\n",
        "            fast=fast.next\n",
        "\n",
        "        l.sort(reverse=True)\n",
        "\n",
        "        index=l[0]\n",
        "\n",
        "\n",
        "        if index==1:\n",
        "            node=slow.next\n",
        "            slow.next=None\n",
        "            return node\n",
        "        r=0\n",
        "        while(slow):\n",
        "            r=r+1\n",
        "\n",
        "            if r==index:\n",
        "                if slow.next.next:\n",
        "                    ahead=slow.next.next\n",
        "                    delete= slow.next\n",
        "                    delete.next=None\n",
        "                    slow.next=None\n",
        "                    slow.next=ahead\n",
        "                    return head\n",
        "                else:\n",
        "                    slow.next=None\n",
        "                    return head\n",
        "            if r>1:\n",
        "                slow=slow.next\n",
        "\n",
        "        return head"
      ],
      "metadata": {
        "id": "QRP4T36JjN8l"
      },
      "execution_count": null,
      "outputs": []
    },
    {
      "cell_type": "code",
      "source": [
        "<aside>\n",
        "💡 **Question 6**\n",
        "\n",
        "Given two sorted linked lists consisting of **N** and **M** nodes respectively. The task is to merge both of the lists (in place) and return the head of the merged list.\n",
        "\n",
        "**Examples:**\n",
        "\n",
        "</aside>"
      ],
      "metadata": {
        "id": "2qan3SzvjN-g"
      },
      "execution_count": null,
      "outputs": []
    },
    {
      "cell_type": "code",
      "source": [
        "def mergeTwoLists(self, l1, l2):\n",
        "        if l2 is None:\n",
        "            return l1\n",
        "          \n",
        "\n",
        "        if l1 is None:\n",
        "            return l2\n",
        "\n",
        "        if l1.val<=l2.val:\n",
        "            l1.next=self.mergeTwoLists(l1.next,l2)\n",
        "            return l1\n",
        "        else:\n",
        "            l2.next=self.mergeTwoLists(l1,l2.next)\n",
        "            return l2"
      ],
      "metadata": {
        "id": "wjXSMFZHjOBA"
      },
      "execution_count": null,
      "outputs": []
    },
    {
      "cell_type": "code",
      "source": [
        "<aside>\n",
        "💡 **Question 7**\n",
        "\n",
        "Given a **Doubly Linked List**, the task is to reverse the given Doubly Linked List.\n",
        "\n",
        "</aside>"
      ],
      "metadata": {
        "id": "0Nyh7aSNjODF"
      },
      "execution_count": null,
      "outputs": []
    },
    {
      "cell_type": "code",
      "source": [
        "class DoublyLinkedList:\n",
        "\t# Constructor for empty Doubly Linked List\n",
        "\tdef __init__(self):\n",
        "\t\tself.head = None\n",
        "\n",
        "\t# Function reverse a Doubly Linked List\n",
        "\tdef reverse(self):\n",
        "      temp=self.head\n",
        "      after=temp.next\n",
        "      while(temp):\n",
        "        after=temp.next\n",
        "        temp.next=prev\n",
        "        prev=temp\n",
        "        temp=after\n",
        "          \n",
        "      return prev"
      ],
      "metadata": {
        "id": "etbh3epLjOFY"
      },
      "execution_count": null,
      "outputs": []
    },
    {
      "cell_type": "code",
      "source": [
        "<aside>\n",
        "💡 **Question 8**\n",
        "\n",
        "Given a doubly linked list and a position. The task is to delete a node from given position in a doubly linked list.\n",
        "\n",
        "</aside>"
      ],
      "metadata": {
        "id": "wyshEr77jOKO"
      },
      "execution_count": null,
      "outputs": []
    },
    {
      "cell_type": "code",
      "source": [
        " temp=head\n",
        "        before=None\n",
        "        after=temp.next\n",
        "        while(temp):\n",
        "            after=temp.next\n",
        "            temp.next=temp.prev\n",
        "            temp.prev=temp\n",
        "            before=temp.prev\n",
        "            temp=after\n",
        "\n",
        "        return before"
      ],
      "metadata": {
        "id": "cGkXTmZGA1Ec"
      },
      "execution_count": null,
      "outputs": []
    }
  ]
}