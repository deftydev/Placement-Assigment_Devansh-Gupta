{
 "cells": [
  {
   "cell_type": "code",
   "execution_count": null,
   "id": "2a0b4868",
   "metadata": {},
   "outputs": [],
   "source": [
    "Question 1: -\n",
    "Write a program that takes a string as input, and counts the frequency of each word in the string, there might\n",
    "be repeated characters in the string. Your task is to find the highest frequency and returns the length of the\n",
    "highest-frequency word.\n",
    "\n",
    "Note - You have to write at least 2 additional test cases in which your program will run successfully and provide\n",
    "an explanation for the same.\n",
    "Example input - string = “write write write all the number from from from 1 to 100”\n",
    "Example output - 5\n",
    "Explanation - From the given string we can note that the most frequent words are “write” and “from” and\n",
    "the maximum value of both the values is “write” and its corresponding length is 5"
   ]
  },
  {
   "cell_type": "code",
   "execution_count": null,
   "id": "67d6ae27",
   "metadata": {},
   "outputs": [],
   "source": []
  },
  {
   "cell_type": "code",
   "execution_count": 10,
   "id": "69e22925",
   "metadata": {},
   "outputs": [
    {
     "name": "stdout",
     "output_type": "stream",
     "text": [
      "write write write all the number from from from 1 to 100\n",
      "5\n"
     ]
    }
   ],
   "source": [
    "from collections import Counter\n",
    "\n",
    "input_string = str(input().strip())\n",
    "input_list= input_string.split(' ')\n",
    "d={}\n",
    "for i,j in Counter(input_list).items():\n",
    "    d[i]= j\n",
    "    \n",
    "d= sorted(d.items(), key= lambda x:x[1] , reverse=True)\n",
    "\n",
    "final_list=[]\n",
    "n1,n2= d[0]\n",
    "\n",
    "final_list.append(n1)\n",
    "for i in range(1,len(d)):\n",
    "    l,m = d[i-1]\n",
    "    j,k = d[i]\n",
    "    if k< m :\n",
    "        break\n",
    "    else:\n",
    "        final_list.append(j)\n",
    "        \n",
    "sorted(final_list, reverse=True)\n",
    "print(len(final_list[0]))"
   ]
  },
  {
   "cell_type": "code",
   "execution_count": 11,
   "id": "22250eeb",
   "metadata": {},
   "outputs": [
    {
     "name": "stdout",
     "output_type": "stream",
     "text": [
      "Taj mahal mahal mahal is made made made by shahjahan\n",
      "5\n"
     ]
    }
   ],
   "source": [
    "from collections import Counter\n",
    "\n",
    "input_string = str(input().strip())\n",
    "input_list= input_string.split(' ')\n",
    "d={}\n",
    "for i,j in Counter(input_list).items():\n",
    "    d[i]= j\n",
    "    \n",
    "d= sorted(d.items(), key= lambda x:x[1] , reverse=True)\n",
    "\n",
    "final_list=[]\n",
    "n1,n2= d[0]\n",
    "\n",
    "final_list.append(n1)\n",
    "for i in range(1,len(d)):\n",
    "    l,m = d[i-1]\n",
    "    j,k = d[i]\n",
    "    if k< m :\n",
    "        break\n",
    "    else:\n",
    "        final_list.append(j)\n",
    "        \n",
    "sorted(final_list, reverse=True)\n",
    "print(len(final_list[0]))"
   ]
  },
  {
   "cell_type": "code",
   "execution_count": null,
   "id": "0a374e98",
   "metadata": {},
   "outputs": [],
   "source": [
    "In above example mahal and made are most frerquent words but the length of mahal is more than made by 1 so \n",
    "it's length is returned only"
   ]
  },
  {
   "cell_type": "code",
   "execution_count": null,
   "id": "73d85aa5",
   "metadata": {},
   "outputs": [],
   "source": []
  },
  {
   "cell_type": "code",
   "execution_count": 12,
   "id": "36b41499",
   "metadata": {},
   "outputs": [
    {
     "name": "stdout",
     "output_type": "stream",
     "text": [
      "When we will be receiving placement placement placement from from from ineuron\n",
      "9\n"
     ]
    }
   ],
   "source": [
    "from collections import Counter\n",
    "\n",
    "input_string = str(input().strip())\n",
    "input_list= input_string.split(' ')\n",
    "d={}\n",
    "for i,j in Counter(input_list).items():\n",
    "    d[i]= j\n",
    "    \n",
    "d= sorted(d.items(), key= lambda x:x[1] , reverse=True)\n",
    "\n",
    "final_list=[]\n",
    "n1,n2= d[0]\n",
    "\n",
    "final_list.append(n1)\n",
    "for i in range(1,len(d)):\n",
    "    l,m = d[i-1]\n",
    "    j,k = d[i]\n",
    "    if k< m :\n",
    "        break\n",
    "    else:\n",
    "        final_list.append(j)\n",
    "        \n",
    "sorted(final_list, reverse=True)\n",
    "print(len(final_list[0]))"
   ]
  },
  {
   "cell_type": "code",
   "execution_count": null,
   "id": "dc914a29",
   "metadata": {},
   "outputs": [],
   "source": [
    "placement and from are the most frequent words and placement length is 9 which is returned"
   ]
  }
 ],
 "metadata": {
  "kernelspec": {
   "display_name": "Python 3 (ipykernel)",
   "language": "python",
   "name": "python3"
  },
  "language_info": {
   "codemirror_mode": {
    "name": "ipython",
    "version": 3
   },
   "file_extension": ".py",
   "mimetype": "text/x-python",
   "name": "python",
   "nbconvert_exporter": "python",
   "pygments_lexer": "ipython3",
   "version": "3.9.13"
  }
 },
 "nbformat": 4,
 "nbformat_minor": 5
}
