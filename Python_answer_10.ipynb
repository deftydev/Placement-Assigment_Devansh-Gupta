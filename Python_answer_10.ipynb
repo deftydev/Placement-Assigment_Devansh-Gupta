{
  "nbformat": 4,
  "nbformat_minor": 0,
  "metadata": {
    "colab": {
      "provenance": []
    },
    "kernelspec": {
      "name": "python3",
      "display_name": "Python 3"
    },
    "language_info": {
      "name": "python"
    }
  },
  "cells": [
    {
      "cell_type": "code",
      "execution_count": null,
      "metadata": {
        "id": "aHPhhfUkc0Qf"
      },
      "outputs": [],
      "source": [
        "Question 10 -\n",
        "Write a program to count the number of verbs, nouns, pronouns, and adjectives in a given particular phrase or\n",
        "paragraph, and return their respective count as a dictionary.\n",
        "Note -\n",
        "1. Write code comments wherever required for code\n",
        "2. You have to write at least 2 additional test cases in which your program will run successfully and provide\n",
        "an explanation for the same.\n",
        "\n",
        "Example Output -"
      ]
    },
    {
      "cell_type": "code",
      "source": [
        "import nltk\n",
        "nltk.download('punkt')\n",
        "nltk.download('averaged_perceptron_tagger')"
      ],
      "metadata": {
        "colab": {
          "base_uri": "https://localhost:8080/"
        },
        "id": "JHmGehAtc1KR",
        "outputId": "c6b9116e-9403-41f4-f423-64243d3f1541"
      },
      "execution_count": 5,
      "outputs": [
        {
          "output_type": "stream",
          "name": "stderr",
          "text": [
            "[nltk_data] Downloading package punkt to /root/nltk_data...\n",
            "[nltk_data]   Package punkt is already up-to-date!\n",
            "[nltk_data] Downloading package averaged_perceptron_tagger to\n",
            "[nltk_data]     /root/nltk_data...\n",
            "[nltk_data]   Unzipping taggers/averaged_perceptron_tagger.zip.\n"
          ]
        },
        {
          "output_type": "execute_result",
          "data": {
            "text/plain": [
              "True"
            ]
          },
          "metadata": {},
          "execution_count": 5
        }
      ]
    },
    {
      "cell_type": "code",
      "source": [
        "import nltk\n",
        "from nltk.tokenize import word_tokenize\n",
        "from nltk.corpus import wordnet\n",
        "\n",
        "input_string= input().strip()\n",
        "\n",
        "words= word_tokenize(input_string)\n",
        "\n",
        "tagged_words = nltk.pos_tag(words)\n",
        "\n",
        "\n",
        "v_count = 0\n",
        "noun_count = 0\n",
        "p_noun_count = 0\n",
        "adjective_count = 0\n",
        "\n",
        "for word, tag in tagged_words:\n",
        "    if tag.startswith('V'):\n",
        "        v_count += 1\n",
        "      \n",
        "    elif tag.startswith('N'):\n",
        "        noun_count += 1\n",
        "    \n",
        "    elif tag.startswith('PRP'):\n",
        "        p_noun_count += 1\n",
        "  \n",
        "    elif tag.startswith('JJ'):\n",
        "        adjective_count += 1\n",
        "    \n",
        "dictionary={\n",
        "    'nouns':noun_count,\n",
        "    'pronouns':p_noun_count,\n",
        "    'verbs':v_count,\n",
        "    'adjectives':adjective_count\n",
        "}\n",
        "\n",
        "\n",
        "print(dictionary)\n",
        "    "
      ],
      "metadata": {
        "colab": {
          "base_uri": "https://localhost:8080/"
        },
        "id": "W29Wj52Tc1NK",
        "outputId": "0de7b0b1-573f-4606-adca-2650530b7ca4"
      },
      "execution_count": 7,
      "outputs": [
        {
          "output_type": "stream",
          "name": "stdout",
          "text": [
            "Question 10 - Write a program to count the number of verbs, nouns, pronouns, and adjectives in a given particular phrase or paragraph, and return their respective count as a dictionary. Note - 1. Write code comments wherever required for code 2. You have to write at least 2 additional test cases in which your program will run successfully and provide an explanation for the same.  Example Output -\n",
            "{'nouns': 21, 'pronouns': 3, 'verbs': 9, 'adjectives': 6}\n"
          ]
        }
      ]
    },
    {
      "cell_type": "code",
      "source": [],
      "metadata": {
        "id": "eZ4NPBxfeoK1"
      },
      "execution_count": null,
      "outputs": []
    },
    {
      "cell_type": "code",
      "source": [],
      "metadata": {
        "id": "h1ZDVghteoNE"
      },
      "execution_count": null,
      "outputs": []
    },
    {
      "cell_type": "code",
      "source": [
        "input_string= input().strip()\n",
        "\n",
        "words= word_tokenize(input_string)\n",
        "\n",
        "tagged_words = nltk.pos_tag(words)\n",
        "\n",
        "\n",
        "v_count = 0\n",
        "noun_count = 0\n",
        "p_noun_count = 0\n",
        "adjective_count = 0\n",
        "\n",
        "for word, tag in tagged_words:\n",
        "    if tag.startswith('V'):\n",
        "        v_count += 1\n",
        "      \n",
        "    elif tag.startswith('N'):\n",
        "        noun_count += 1\n",
        "    \n",
        "    elif tag.startswith('PRP'):\n",
        "        p_noun_count += 1\n",
        "  \n",
        "    elif tag.startswith('JJ'):\n",
        "        adjective_count += 1\n",
        "    \n",
        "dictionary={\n",
        "    'nouns':noun_count,\n",
        "    'pronouns':p_noun_count,\n",
        "    'verbs':v_count,\n",
        "    'adjectives':adjective_count\n",
        "}\n",
        "\n",
        "\n",
        "print(dictionary)\n",
        "\n",
        "# Output: {'Verbs': 4, 'Nouns': 5, 'Pronouns': 0, 'Adjectives': 2}\n",
        "# Explanation: The paragraph contains 4 verbs ('jumps', 'barks', 'runs', 'fast'), 5 nouns ('fox', 'dog', 'dog', 'fox', 'dog'), no pronouns, and 2 adjectives ('quick', 'lazy')."
      ],
      "metadata": {
        "colab": {
          "base_uri": "https://localhost:8080/"
        },
        "id": "n42fOG9ceoQb",
        "outputId": "ec4fa608-394c-4c31-8345-38cd8fbd42f5"
      },
      "execution_count": 9,
      "outputs": [
        {
          "output_type": "stream",
          "name": "stdout",
          "text": [
            "\"The quick brown fox jumps over the lazy dog. The dog barks loudly. The fox runs fast.\"\n",
            "{'nouns': 5, 'pronouns': 0, 'verbs': 3, 'adjectives': 2}\n"
          ]
        }
      ]
    }
  ]
}