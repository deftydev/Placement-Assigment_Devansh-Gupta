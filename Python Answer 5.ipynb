{
 "cells": [
  {
   "cell_type": "code",
   "execution_count": null,
   "id": "27eb6255",
   "metadata": {},
   "outputs": [],
   "source": [
    "Write a program to download the data from the given API link and then extract the following data with\n",
    "proper formatting\n",
    "\n",
    "Link - http://api.tvmaze.com/singlesearch/shows?q=westworld&embed=episodes\n",
    "Note - Write proper code comments wherever needed for the code understanding"
   ]
  },
  {
   "cell_type": "code",
   "execution_count": null,
   "id": "09e1b27c",
   "metadata": {},
   "outputs": [],
   "source": []
  },
  {
   "cell_type": "code",
   "execution_count": null,
   "id": "58371287",
   "metadata": {},
   "outputs": [],
   "source": [
    "Excepted Output Data Attributes -\n",
    "● id - int url - string\n",
    "● name - string season\n",
    "● - int number - int\n",
    "● type - string airdate -\n",
    "● date format airtime -\n",
    "● 12-hour time format\n",
    "● runtime - float\n",
    "● average rating - float\n",
    "● summary - string\n",
    "● without html tags\n",
    "● medium image link - string\n",
    "● Original image link - string"
   ]
  },
  {
   "cell_type": "code",
   "execution_count": null,
   "id": "b401cb3b",
   "metadata": {},
   "outputs": [],
   "source": []
  },
  {
   "cell_type": "code",
   "execution_count": 3,
   "id": "79161fb6",
   "metadata": {},
   "outputs": [
    {
     "name": "stdout",
     "output_type": "stream",
     "text": [
      "http://api.tvmaze.com/singlesearch/shows?q=westworld&embed=episodes\n"
     ]
    }
   ],
   "source": [
    "import requests  #request module is used to load data from url\n",
    "import pandas as pd\n",
    "\n",
    "input_url = input().strip()\n",
    "response = requests.get(input_url)\n",
    "\n",
    "json_response= response.json()  #it will return the respone in json format"
   ]
  },
  {
   "cell_type": "code",
   "execution_count": 4,
   "id": "87fe030e",
   "metadata": {},
   "outputs": [],
   "source": [
    "import json"
   ]
  },
  {
   "cell_type": "code",
   "execution_count": 5,
   "id": "d19c3b00",
   "metadata": {},
   "outputs": [],
   "source": [
    "with open(\"latest_json\",'w') as f:  #in this we are writing a json_data into a file in local computer\n",
    "    json.dump(json_response , f)\n",
    "    "
   ]
  },
  {
   "cell_type": "code",
   "execution_count": 6,
   "id": "a19f16cd",
   "metadata": {},
   "outputs": [],
   "source": [
    "with open(\"latest_json\",'r') as f: #in this we are loading a file \n",
    "    data=json.load(f)"
   ]
  },
  {
   "cell_type": "code",
   "execution_count": 7,
   "id": "3e42f974",
   "metadata": {},
   "outputs": [],
   "source": [
    "final_data = data['_embedded']['episodes'] # here we are extracting the data which is needed"
   ]
  },
  {
   "cell_type": "code",
   "execution_count": 8,
   "id": "47c21a98",
   "metadata": {},
   "outputs": [],
   "source": [
    "final_df = pd.json_normalize(final_data) #we are converting a json data into a dataframe as it is more complex so \n",
    "#we have used json.normalize so that it can load properly"
   ]
  },
  {
   "cell_type": "code",
   "execution_count": 9,
   "id": "962ec973",
   "metadata": {},
   "outputs": [
    {
     "data": {
      "text/html": [
       "<div>\n",
       "<style scoped>\n",
       "    .dataframe tbody tr th:only-of-type {\n",
       "        vertical-align: middle;\n",
       "    }\n",
       "\n",
       "    .dataframe tbody tr th {\n",
       "        vertical-align: top;\n",
       "    }\n",
       "\n",
       "    .dataframe thead th {\n",
       "        text-align: right;\n",
       "    }\n",
       "</style>\n",
       "<table border=\"1\" class=\"dataframe\">\n",
       "  <thead>\n",
       "    <tr style=\"text-align: right;\">\n",
       "      <th></th>\n",
       "      <th>id</th>\n",
       "      <th>url</th>\n",
       "      <th>name</th>\n",
       "      <th>season</th>\n",
       "      <th>number</th>\n",
       "      <th>type</th>\n",
       "      <th>airdate</th>\n",
       "      <th>airtime</th>\n",
       "      <th>airstamp</th>\n",
       "      <th>runtime</th>\n",
       "      <th>summary</th>\n",
       "      <th>rating.average</th>\n",
       "      <th>image.medium</th>\n",
       "      <th>image.original</th>\n",
       "      <th>_links.self.href</th>\n",
       "      <th>_links.show.href</th>\n",
       "    </tr>\n",
       "  </thead>\n",
       "  <tbody>\n",
       "    <tr>\n",
       "      <th>0</th>\n",
       "      <td>869671</td>\n",
       "      <td>https://www.tvmaze.com/episodes/869671/westwor...</td>\n",
       "      <td>The Original</td>\n",
       "      <td>1</td>\n",
       "      <td>1</td>\n",
       "      <td>regular</td>\n",
       "      <td>2016-10-02</td>\n",
       "      <td>21:00</td>\n",
       "      <td>2016-10-03T01:00:00+00:00</td>\n",
       "      <td>68</td>\n",
       "      <td>&lt;p&gt;A woman named Dolores is a free spirit in t...</td>\n",
       "      <td>8.0</td>\n",
       "      <td>https://static.tvmaze.com/uploads/images/mediu...</td>\n",
       "      <td>https://static.tvmaze.com/uploads/images/origi...</td>\n",
       "      <td>https://api.tvmaze.com/episodes/869671</td>\n",
       "      <td>https://api.tvmaze.com/shows/1371</td>\n",
       "    </tr>\n",
       "    <tr>\n",
       "      <th>1</th>\n",
       "      <td>911201</td>\n",
       "      <td>https://www.tvmaze.com/episodes/911201/westwor...</td>\n",
       "      <td>Chestnut</td>\n",
       "      <td>1</td>\n",
       "      <td>2</td>\n",
       "      <td>regular</td>\n",
       "      <td>2016-10-09</td>\n",
       "      <td>21:00</td>\n",
       "      <td>2016-10-10T01:00:00+00:00</td>\n",
       "      <td>60</td>\n",
       "      <td>&lt;p&gt;Bernard suspects that someone is sabotaging...</td>\n",
       "      <td>7.7</td>\n",
       "      <td>https://static.tvmaze.com/uploads/images/mediu...</td>\n",
       "      <td>https://static.tvmaze.com/uploads/images/origi...</td>\n",
       "      <td>https://api.tvmaze.com/episodes/911201</td>\n",
       "      <td>https://api.tvmaze.com/shows/1371</td>\n",
       "    </tr>\n",
       "    <tr>\n",
       "      <th>2</th>\n",
       "      <td>911204</td>\n",
       "      <td>https://www.tvmaze.com/episodes/911204/westwor...</td>\n",
       "      <td>The Stray</td>\n",
       "      <td>1</td>\n",
       "      <td>3</td>\n",
       "      <td>regular</td>\n",
       "      <td>2016-10-16</td>\n",
       "      <td>21:00</td>\n",
       "      <td>2016-10-17T01:00:00+00:00</td>\n",
       "      <td>60</td>\n",
       "      <td>&lt;p&gt;Bernard continues to investigate Dolores' s...</td>\n",
       "      <td>7.6</td>\n",
       "      <td>https://static.tvmaze.com/uploads/images/mediu...</td>\n",
       "      <td>https://static.tvmaze.com/uploads/images/origi...</td>\n",
       "      <td>https://api.tvmaze.com/episodes/911204</td>\n",
       "      <td>https://api.tvmaze.com/shows/1371</td>\n",
       "    </tr>\n",
       "    <tr>\n",
       "      <th>3</th>\n",
       "      <td>911205</td>\n",
       "      <td>https://www.tvmaze.com/episodes/911205/westwor...</td>\n",
       "      <td>Dissonance Theory</td>\n",
       "      <td>1</td>\n",
       "      <td>4</td>\n",
       "      <td>regular</td>\n",
       "      <td>2016-10-23</td>\n",
       "      <td>21:00</td>\n",
       "      <td>2016-10-24T01:00:00+00:00</td>\n",
       "      <td>60</td>\n",
       "      <td>&lt;p&gt;While Dolores joins William and Logan on th...</td>\n",
       "      <td>7.9</td>\n",
       "      <td>https://static.tvmaze.com/uploads/images/mediu...</td>\n",
       "      <td>https://static.tvmaze.com/uploads/images/origi...</td>\n",
       "      <td>https://api.tvmaze.com/episodes/911205</td>\n",
       "      <td>https://api.tvmaze.com/shows/1371</td>\n",
       "    </tr>\n",
       "    <tr>\n",
       "      <th>4</th>\n",
       "      <td>927174</td>\n",
       "      <td>https://www.tvmaze.com/episodes/927174/westwor...</td>\n",
       "      <td>Contrapasso</td>\n",
       "      <td>1</td>\n",
       "      <td>5</td>\n",
       "      <td>regular</td>\n",
       "      <td>2016-10-30</td>\n",
       "      <td>21:00</td>\n",
       "      <td>2016-10-31T01:00:00+00:00</td>\n",
       "      <td>60</td>\n",
       "      <td>&lt;p&gt;Dolores takes the first step on her path of...</td>\n",
       "      <td>8.0</td>\n",
       "      <td>https://static.tvmaze.com/uploads/images/mediu...</td>\n",
       "      <td>https://static.tvmaze.com/uploads/images/origi...</td>\n",
       "      <td>https://api.tvmaze.com/episodes/927174</td>\n",
       "      <td>https://api.tvmaze.com/shows/1371</td>\n",
       "    </tr>\n",
       "  </tbody>\n",
       "</table>\n",
       "</div>"
      ],
      "text/plain": [
       "       id                                                url  \\\n",
       "0  869671  https://www.tvmaze.com/episodes/869671/westwor...   \n",
       "1  911201  https://www.tvmaze.com/episodes/911201/westwor...   \n",
       "2  911204  https://www.tvmaze.com/episodes/911204/westwor...   \n",
       "3  911205  https://www.tvmaze.com/episodes/911205/westwor...   \n",
       "4  927174  https://www.tvmaze.com/episodes/927174/westwor...   \n",
       "\n",
       "                name  season  number     type     airdate airtime  \\\n",
       "0       The Original       1       1  regular  2016-10-02   21:00   \n",
       "1           Chestnut       1       2  regular  2016-10-09   21:00   \n",
       "2          The Stray       1       3  regular  2016-10-16   21:00   \n",
       "3  Dissonance Theory       1       4  regular  2016-10-23   21:00   \n",
       "4        Contrapasso       1       5  regular  2016-10-30   21:00   \n",
       "\n",
       "                    airstamp  runtime  \\\n",
       "0  2016-10-03T01:00:00+00:00       68   \n",
       "1  2016-10-10T01:00:00+00:00       60   \n",
       "2  2016-10-17T01:00:00+00:00       60   \n",
       "3  2016-10-24T01:00:00+00:00       60   \n",
       "4  2016-10-31T01:00:00+00:00       60   \n",
       "\n",
       "                                             summary  rating.average  \\\n",
       "0  <p>A woman named Dolores is a free spirit in t...             8.0   \n",
       "1  <p>Bernard suspects that someone is sabotaging...             7.7   \n",
       "2  <p>Bernard continues to investigate Dolores' s...             7.6   \n",
       "3  <p>While Dolores joins William and Logan on th...             7.9   \n",
       "4  <p>Dolores takes the first step on her path of...             8.0   \n",
       "\n",
       "                                        image.medium  \\\n",
       "0  https://static.tvmaze.com/uploads/images/mediu...   \n",
       "1  https://static.tvmaze.com/uploads/images/mediu...   \n",
       "2  https://static.tvmaze.com/uploads/images/mediu...   \n",
       "3  https://static.tvmaze.com/uploads/images/mediu...   \n",
       "4  https://static.tvmaze.com/uploads/images/mediu...   \n",
       "\n",
       "                                      image.original  \\\n",
       "0  https://static.tvmaze.com/uploads/images/origi...   \n",
       "1  https://static.tvmaze.com/uploads/images/origi...   \n",
       "2  https://static.tvmaze.com/uploads/images/origi...   \n",
       "3  https://static.tvmaze.com/uploads/images/origi...   \n",
       "4  https://static.tvmaze.com/uploads/images/origi...   \n",
       "\n",
       "                         _links.self.href                   _links.show.href  \n",
       "0  https://api.tvmaze.com/episodes/869671  https://api.tvmaze.com/shows/1371  \n",
       "1  https://api.tvmaze.com/episodes/911201  https://api.tvmaze.com/shows/1371  \n",
       "2  https://api.tvmaze.com/episodes/911204  https://api.tvmaze.com/shows/1371  \n",
       "3  https://api.tvmaze.com/episodes/911205  https://api.tvmaze.com/shows/1371  \n",
       "4  https://api.tvmaze.com/episodes/927174  https://api.tvmaze.com/shows/1371  "
      ]
     },
     "execution_count": 9,
     "metadata": {},
     "output_type": "execute_result"
    }
   ],
   "source": [
    "final_df.head()"
   ]
  },
  {
   "cell_type": "code",
   "execution_count": 10,
   "id": "4b896bab",
   "metadata": {},
   "outputs": [
    {
     "name": "stdout",
     "output_type": "stream",
     "text": [
      "id is of data type int64\n",
      "url is of data type object\n",
      "name is of data type object\n",
      "season is of data type int64\n",
      "number is of data type int64\n",
      "type is of data type object\n",
      "airdate is of data type object\n",
      "airtime is of data type object\n",
      "airstamp is of data type object\n",
      "runtime is of data type int64\n",
      "summary is of data type object\n",
      "rating.average is of data type float64\n",
      "image.medium is of data type object\n",
      "image.original is of data type object\n",
      "_links.self.href is of data type object\n",
      "_links.show.href is of data type object\n"
     ]
    }
   ],
   "source": [
    "for i in final_df.columns:\n",
    "    print(f\"{i} is of data type {final_df[i].dtype}\")"
   ]
  },
  {
   "cell_type": "code",
   "execution_count": null,
   "id": "69fe4783",
   "metadata": {},
   "outputs": [],
   "source": []
  },
  {
   "cell_type": "code",
   "execution_count": null,
   "id": "b6ddd375",
   "metadata": {},
   "outputs": [],
   "source": []
  }
 ],
 "metadata": {
  "kernelspec": {
   "display_name": "Python 3 (ipykernel)",
   "language": "python",
   "name": "python3"
  },
  "language_info": {
   "codemirror_mode": {
    "name": "ipython",
    "version": 3
   },
   "file_extension": ".py",
   "mimetype": "text/x-python",
   "name": "python",
   "nbconvert_exporter": "python",
   "pygments_lexer": "ipython3",
   "version": "3.9.13"
  }
 },
 "nbformat": 4,
 "nbformat_minor": 5
}
