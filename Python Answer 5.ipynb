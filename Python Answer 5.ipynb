{
 "cells": [
  {
   "cell_type": "code",
   "execution_count": null,
   "id": "27eb6255",
   "metadata": {},
   "outputs": [],
   "source": [
    "Write a program to download the data from the given API link and then extract the following data with\n",
    "proper formatting\n",
    "\n",
    "Link - http://api.tvmaze.com/singlesearch/shows?q=westworld&embed=episodes\n",
    "Note - Write proper code comments wherever needed for the code understanding"
   ]
  },
  {
   "cell_type": "code",
   "execution_count": null,
   "id": "09e1b27c",
   "metadata": {},
   "outputs": [],
   "source": []
  },
  {
   "cell_type": "code",
   "execution_count": null,
   "id": "58371287",
   "metadata": {},
   "outputs": [],
   "source": [
    "Excepted Output Data Attributes -\n",
    "● id - int url - string\n",
    "● name - string season\n",
    "● - int number - int\n",
    "● type - string airdate -\n",
    "● date format airtime -\n",
    "● 12-hour time format\n",
    "● runtime - float\n",
    "● average rating - float\n",
    "● summary - string\n",
    "● without html tags\n",
    "● medium image link - string\n",
    "● Original image link - string"
   ]
  },
  {
   "cell_type": "code",
   "execution_count": null,
   "id": "b401cb3b",
   "metadata": {},
   "outputs": [],
   "source": []
  },
  {
   "cell_type": "code",
   "execution_count": 55,
   "id": "79161fb6",
   "metadata": {},
   "outputs": [
    {
     "name": "stdout",
     "output_type": "stream",
     "text": [
      "http://api.tvmaze.com/singlesearch/shows?q=westworld&embed=episodes\n"
     ]
    }
   ],
   "source": [
    "import requests  #request module is used to load data from url\n",
    "import pandas as pd\n",
    "\n",
    "input_url = input().strip()\n",
    "response = requests.get(input_url)\n",
    "\n",
    "json_response= response.json()  #it will return the respone in json format"
   ]
  },
  {
   "cell_type": "code",
   "execution_count": 56,
   "id": "87fe030e",
   "metadata": {},
   "outputs": [],
   "source": [
    "import json"
   ]
  },
  {
   "cell_type": "code",
   "execution_count": 57,
   "id": "d19c3b00",
   "metadata": {},
   "outputs": [],
   "source": [
    "with open(\"latest_json\",'w') as f:  #in this we are writing a json_data into a file in local computer\n",
    "    json.dump(json_response , f)\n",
    "    "
   ]
  },
  {
   "cell_type": "code",
   "execution_count": 61,
   "id": "a19f16cd",
   "metadata": {},
   "outputs": [],
   "source": [
    "with open(\"latest_json\",'r') as f: #in this we are loading a file \n",
    "    data=json.load(f)"
   ]
  },
  {
   "cell_type": "code",
   "execution_count": 63,
   "id": "47c21a98",
   "metadata": {},
   "outputs": [],
   "source": [
    "final_df = pd.json_normalize(data) #we are converting a json data into a dataframe as it is more complex so \n",
    "#we have used json.normalize so that it can load properly"
   ]
  },
  {
   "cell_type": "code",
   "execution_count": 64,
   "id": "962ec973",
   "metadata": {},
   "outputs": [
    {
     "data": {
      "text/html": [
       "<div>\n",
       "<style scoped>\n",
       "    .dataframe tbody tr th:only-of-type {\n",
       "        vertical-align: middle;\n",
       "    }\n",
       "\n",
       "    .dataframe tbody tr th {\n",
       "        vertical-align: top;\n",
       "    }\n",
       "\n",
       "    .dataframe thead th {\n",
       "        text-align: right;\n",
       "    }\n",
       "</style>\n",
       "<table border=\"1\" class=\"dataframe\">\n",
       "  <thead>\n",
       "    <tr style=\"text-align: right;\">\n",
       "      <th></th>\n",
       "      <th>id</th>\n",
       "      <th>url</th>\n",
       "      <th>name</th>\n",
       "      <th>type</th>\n",
       "      <th>language</th>\n",
       "      <th>genres</th>\n",
       "      <th>status</th>\n",
       "      <th>runtime</th>\n",
       "      <th>averageRuntime</th>\n",
       "      <th>premiered</th>\n",
       "      <th>...</th>\n",
       "      <th>network.country.timezone</th>\n",
       "      <th>network.officialSite</th>\n",
       "      <th>externals.tvrage</th>\n",
       "      <th>externals.thetvdb</th>\n",
       "      <th>externals.imdb</th>\n",
       "      <th>image.medium</th>\n",
       "      <th>image.original</th>\n",
       "      <th>_links.self.href</th>\n",
       "      <th>_links.previousepisode.href</th>\n",
       "      <th>_embedded.episodes</th>\n",
       "    </tr>\n",
       "  </thead>\n",
       "  <tbody>\n",
       "    <tr>\n",
       "      <th>0</th>\n",
       "      <td>1371</td>\n",
       "      <td>https://www.tvmaze.com/shows/1371/westworld</td>\n",
       "      <td>Westworld</td>\n",
       "      <td>Scripted</td>\n",
       "      <td>English</td>\n",
       "      <td>[Drama, Science-Fiction, Western]</td>\n",
       "      <td>Ended</td>\n",
       "      <td>60</td>\n",
       "      <td>63</td>\n",
       "      <td>2016-10-02</td>\n",
       "      <td>...</td>\n",
       "      <td>America/New_York</td>\n",
       "      <td>https://www.hbo.com/</td>\n",
       "      <td>37537</td>\n",
       "      <td>296762</td>\n",
       "      <td>tt0475784</td>\n",
       "      <td>https://static.tvmaze.com/uploads/images/mediu...</td>\n",
       "      <td>https://static.tvmaze.com/uploads/images/origi...</td>\n",
       "      <td>https://api.tvmaze.com/shows/1371</td>\n",
       "      <td>https://api.tvmaze.com/episodes/2326661</td>\n",
       "      <td>[{'id': 869671, 'url': 'https://www.tvmaze.com...</td>\n",
       "    </tr>\n",
       "  </tbody>\n",
       "</table>\n",
       "<p>1 rows × 34 columns</p>\n",
       "</div>"
      ],
      "text/plain": [
       "     id                                          url       name      type  \\\n",
       "0  1371  https://www.tvmaze.com/shows/1371/westworld  Westworld  Scripted   \n",
       "\n",
       "  language                             genres status  runtime  averageRuntime  \\\n",
       "0  English  [Drama, Science-Fiction, Western]  Ended       60              63   \n",
       "\n",
       "    premiered  ... network.country.timezone  network.officialSite  \\\n",
       "0  2016-10-02  ...         America/New_York  https://www.hbo.com/   \n",
       "\n",
       "   externals.tvrage externals.thetvdb externals.imdb  \\\n",
       "0             37537            296762      tt0475784   \n",
       "\n",
       "                                        image.medium  \\\n",
       "0  https://static.tvmaze.com/uploads/images/mediu...   \n",
       "\n",
       "                                      image.original  \\\n",
       "0  https://static.tvmaze.com/uploads/images/origi...   \n",
       "\n",
       "                    _links.self.href              _links.previousepisode.href  \\\n",
       "0  https://api.tvmaze.com/shows/1371  https://api.tvmaze.com/episodes/2326661   \n",
       "\n",
       "                                  _embedded.episodes  \n",
       "0  [{'id': 869671, 'url': 'https://www.tvmaze.com...  \n",
       "\n",
       "[1 rows x 34 columns]"
      ]
     },
     "execution_count": 64,
     "metadata": {},
     "output_type": "execute_result"
    }
   ],
   "source": [
    "final_df.head()"
   ]
  },
  {
   "cell_type": "code",
   "execution_count": 67,
   "id": "4b896bab",
   "metadata": {},
   "outputs": [
    {
     "name": "stdout",
     "output_type": "stream",
     "text": [
      "id is of data type int64\n",
      "url is of data type object\n",
      "name is of data type object\n",
      "type is of data type object\n",
      "language is of data type object\n",
      "genres is of data type object\n",
      "status is of data type object\n",
      "runtime is of data type int64\n",
      "averageRuntime is of data type int64\n",
      "premiered is of data type object\n",
      "ended is of data type object\n",
      "officialSite is of data type object\n",
      "weight is of data type int64\n",
      "webChannel is of data type object\n",
      "dvdCountry is of data type object\n",
      "summary is of data type object\n",
      "updated is of data type int64\n",
      "schedule.time is of data type object\n",
      "schedule.days is of data type object\n",
      "rating.average is of data type float64\n",
      "network.id is of data type int64\n",
      "network.name is of data type object\n",
      "network.country.name is of data type object\n",
      "network.country.code is of data type object\n",
      "network.country.timezone is of data type object\n",
      "network.officialSite is of data type object\n",
      "externals.tvrage is of data type int64\n",
      "externals.thetvdb is of data type int64\n",
      "externals.imdb is of data type object\n",
      "image.medium is of data type object\n",
      "image.original is of data type object\n",
      "_links.self.href is of data type object\n",
      "_links.previousepisode.href is of data type object\n",
      "_embedded.episodes is of data type object\n"
     ]
    }
   ],
   "source": [
    "for i in final_df.columns:\n",
    "    print(f\"{i} is of data type {final_df[i].dtype}\")"
   ]
  },
  {
   "cell_type": "code",
   "execution_count": null,
   "id": "69fe4783",
   "metadata": {},
   "outputs": [],
   "source": []
  }
 ],
 "metadata": {
  "kernelspec": {
   "display_name": "Python 3 (ipykernel)",
   "language": "python",
   "name": "python3"
  },
  "language_info": {
   "codemirror_mode": {
    "name": "ipython",
    "version": 3
   },
   "file_extension": ".py",
   "mimetype": "text/x-python",
   "name": "python",
   "nbconvert_exporter": "python",
   "pygments_lexer": "ipython3",
   "version": "3.9.13"
  }
 },
 "nbformat": 4,
 "nbformat_minor": 5
}
