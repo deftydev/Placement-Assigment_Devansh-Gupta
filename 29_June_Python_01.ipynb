{
  "nbformat": 4,
  "nbformat_minor": 0,
  "metadata": {
    "colab": {
      "provenance": []
    },
    "kernelspec": {
      "name": "python3",
      "display_name": "Python 3"
    },
    "language_info": {
      "name": "python"
    }
  },
  "cells": [
    {
      "cell_type": "code",
      "execution_count": null,
      "metadata": {
        "id": "PEaAs21N6s7f"
      },
      "outputs": [],
      "source": [
        "1. Write a Python program to check if a given string is an anagram."
      ]
    },
    {
      "cell_type": "code",
      "source": [
        "def isanagram(str1,str2):\n",
        "  str1=sorted(str1)\n",
        "  str2=sorted(str2)\n",
        "\n",
        "  return str1==str2\n",
        "\n",
        "print(isanagram(\"ccde\",\"decc\"))"
      ],
      "metadata": {
        "colab": {
          "base_uri": "https://localhost:8080/"
        },
        "id": "J7rKy5jl7DJu",
        "outputId": "92f203a6-d816-4cd5-cc40-9405d871dc7d"
      },
      "execution_count": 3,
      "outputs": [
        {
          "output_type": "stream",
          "name": "stdout",
          "text": [
            "True\n"
          ]
        }
      ]
    },
    {
      "cell_type": "code",
      "source": [],
      "metadata": {
        "id": "zg-SZtC2RbvT"
      },
      "execution_count": null,
      "outputs": []
    },
    {
      "cell_type": "code",
      "source": [
        "2. Write a Python program to find the maximum and minimum values in a\n",
        "dictionary."
      ],
      "metadata": {
        "id": "LjcpnVdM7DL2"
      },
      "execution_count": null,
      "outputs": []
    },
    {
      "cell_type": "code",
      "source": [
        "d={\"k\":4,\"l\":5,\"m\":2,\"n\":3}\n",
        "length_of_dict = len(d)\n",
        "d=sorted(d.items(),key=lambda x:x[1])\n",
        "\n",
        "val=0\n",
        "##looping over list d which consist of tuple\n",
        "for i in range(len(d)):\n",
        "  if val==0:\n",
        "    print(f\"minimum_value is {d[i][1]}\")\n",
        "  elif val==3:\n",
        "    print(f\"maximum value is {d[i][1]}\")\n",
        "  val+=1"
      ],
      "metadata": {
        "colab": {
          "base_uri": "https://localhost:8080/"
        },
        "id": "ZvtUt4ec7DNo",
        "outputId": "724be7de-7ad5-41d1-a919-ef33cdcdb949"
      },
      "execution_count": 18,
      "outputs": [
        {
          "output_type": "stream",
          "name": "stdout",
          "text": [
            "[('m', 2), ('n', 3), ('k', 4), ('l', 5)]\n",
            "minimum_value is 2\n",
            "maximum value is 5\n"
          ]
        }
      ]
    },
    {
      "cell_type": "code",
      "source": [],
      "metadata": {
        "id": "zhFx50uaRcss"
      },
      "execution_count": null,
      "outputs": []
    },
    {
      "cell_type": "code",
      "source": [
        "3. Write a Python program to find the average of a list of numbers."
      ],
      "metadata": {
        "id": "ugrDTgEz7DPy"
      },
      "execution_count": null,
      "outputs": []
    },
    {
      "cell_type": "code",
      "source": [
        "List=[1,1,1,1]\n",
        "\n",
        "print(f\"average of the list {sum(List)/len(List)}\")"
      ],
      "metadata": {
        "colab": {
          "base_uri": "https://localhost:8080/"
        },
        "id": "pYlL_1l37DSH",
        "outputId": "0b1c34e1-02d6-4cb9-9e0e-6a86e2fff237"
      },
      "execution_count": 20,
      "outputs": [
        {
          "output_type": "stream",
          "name": "stdout",
          "text": [
            "average of the list 1.0\n"
          ]
        }
      ]
    },
    {
      "cell_type": "code",
      "source": [],
      "metadata": {
        "id": "REq0YfNWRdl_"
      },
      "execution_count": null,
      "outputs": []
    },
    {
      "cell_type": "code",
      "source": [
        "4. Write a Python program to remove all vowels from a string."
      ],
      "metadata": {
        "id": "5cBK_zPE7DUW"
      },
      "execution_count": null,
      "outputs": []
    },
    {
      "cell_type": "code",
      "source": [
        "string = \"A Computer Science Portal for Geeks\"\n",
        "vowels=['a','e','i','o','u']\n",
        "\n",
        "for i in range(len(string)):\n",
        "  if string[i:i+1].lower() in vowels:\n",
        "    string=string.replace(string[i:i+1],'')\n",
        "print(string)"
      ],
      "metadata": {
        "colab": {
          "base_uri": "https://localhost:8080/"
        },
        "id": "NdaZXkai7DWm",
        "outputId": "d4844bd6-e795-4a80-ca7f-2348612b21ec"
      },
      "execution_count": 25,
      "outputs": [
        {
          "output_type": "stream",
          "name": "stdout",
          "text": [
            " Cmptr Scnc Prtl fr Gks\n"
          ]
        }
      ]
    },
    {
      "cell_type": "code",
      "source": [],
      "metadata": {
        "id": "lrZxbgENRet3"
      },
      "execution_count": null,
      "outputs": []
    },
    {
      "cell_type": "code",
      "source": [
        "5. Write a Python function to calculate the factorial of a number using recursion."
      ],
      "metadata": {
        "id": "CH2kf8M37DYv"
      },
      "execution_count": null,
      "outputs": []
    },
    {
      "cell_type": "code",
      "source": [
        "def factorial(num):\n",
        "  if num==1:\n",
        "    return 1\n",
        "  return num*factorial(num-1)\n",
        "print(factorial(4))"
      ],
      "metadata": {
        "colab": {
          "base_uri": "https://localhost:8080/"
        },
        "id": "3cwWGMs77Dac",
        "outputId": "762b31c7-c2be-4132-b34f-4b6e3292c53a"
      },
      "execution_count": 26,
      "outputs": [
        {
          "output_type": "stream",
          "name": "stdout",
          "text": [
            "24\n"
          ]
        }
      ]
    },
    {
      "cell_type": "code",
      "source": [],
      "metadata": {
        "id": "gGQ4MZgKRfdC"
      },
      "execution_count": null,
      "outputs": []
    },
    {
      "cell_type": "code",
      "source": [
        "6. Write a Python program to merge two unsorted lists into a single sorted list\n",
        "using the merge sort algorithm."
      ],
      "metadata": {
        "id": "TU6DdyOn7Dci"
      },
      "execution_count": null,
      "outputs": []
    },
    {
      "cell_type": "code",
      "source": [
        "def merge_sort(l1,l2):\n",
        "  i=0\n",
        "  j=0\n",
        "  combined=[]\n",
        "\n",
        "  while(i<len(l1) and j<len(l2)):\n",
        "    if l1[i]<=l2[j]:\n",
        "      combined.append(l1[i])\n",
        "      i+=1\n",
        "    else:\n",
        "      combined.append(l2[j])\n",
        "      j+=1\n",
        "  while i<len(l1):\n",
        "    combined.append(l1[i])\n",
        "    i+=1\n",
        "  while(j<len(l2)):\n",
        "    combined.append(l2[j])\n",
        "    j+=1\n",
        "  return combined\n",
        "\n",
        "print(merge_sort([1,3,5,6],[1,2,3,9]))"
      ],
      "metadata": {
        "colab": {
          "base_uri": "https://localhost:8080/"
        },
        "id": "BMDd5qst7De5",
        "outputId": "a8f8dda4-675d-47c8-a2a0-85d25182742a"
      },
      "execution_count": 28,
      "outputs": [
        {
          "output_type": "stream",
          "name": "stdout",
          "text": [
            "[1, 1, 2, 3, 3, 5, 6, 9]\n"
          ]
        }
      ]
    },
    {
      "cell_type": "code",
      "source": [],
      "metadata": {
        "id": "NxSr4N0zRgss"
      },
      "execution_count": null,
      "outputs": []
    },
    {
      "cell_type": "code",
      "source": [
        "7. Write a Python program to find the GCD (Greatest Common Divisor) of two\n",
        "numbers."
      ],
      "metadata": {
        "id": "xjOv2AWb7DiR"
      },
      "execution_count": null,
      "outputs": []
    },
    {
      "cell_type": "code",
      "source": [
        "def gcd(a,b):\n",
        "  if b==0:\n",
        "    return abs(a)\n",
        "  else:\n",
        "    return gcd(b , a%b)\n",
        "\n",
        "a = 60\n",
        "b = 48\n",
        "\n",
        "# prints 12\n",
        "print(\"The gcd of 60 and 48 is : \", end=\"\")\n",
        "print(gcd(60, 48))"
      ],
      "metadata": {
        "colab": {
          "base_uri": "https://localhost:8080/"
        },
        "id": "lzkRBrBHCPSk",
        "outputId": "5fd9d8ea-fcb9-40a0-ff52-784c8206b9b7"
      },
      "execution_count": 44,
      "outputs": [
        {
          "output_type": "stream",
          "name": "stdout",
          "text": [
            "The gcd of 60 and 48 is : 12\n"
          ]
        }
      ]
    },
    {
      "cell_type": "code",
      "source": [],
      "metadata": {
        "id": "7lxg07x7Rhmy"
      },
      "execution_count": null,
      "outputs": []
    },
    {
      "cell_type": "code",
      "source": [
        "8. Write a Python program to find the second-largest element in a list."
      ],
      "metadata": {
        "id": "6bFVXxN6CPXA"
      },
      "execution_count": null,
      "outputs": []
    },
    {
      "cell_type": "code",
      "source": [
        "listt=[3,2,7,9,98,87,89,88,65,7]\n",
        "listt.sort()\n",
        "print(listt[-2])"
      ],
      "metadata": {
        "colab": {
          "base_uri": "https://localhost:8080/"
        },
        "id": "OlJ_twKLCPZN",
        "outputId": "f6a32f08-608b-4f93-d702-7dc564c9ca11"
      },
      "execution_count": 35,
      "outputs": [
        {
          "output_type": "stream",
          "name": "stdout",
          "text": [
            "89\n"
          ]
        }
      ]
    },
    {
      "cell_type": "code",
      "source": [],
      "metadata": {
        "id": "ag8qH0CaRibf"
      },
      "execution_count": null,
      "outputs": []
    },
    {
      "cell_type": "code",
      "source": [
        "9. Write a Python program to find the longest common subsequence between two\n",
        "strings using dynamic programming."
      ],
      "metadata": {
        "id": "2zUYLantCPbK"
      },
      "execution_count": null,
      "outputs": []
    },
    {
      "cell_type": "code",
      "source": [
        "from functools import lru_cache\n",
        "\n",
        "class Solution:\n",
        "    def longestCommonSubsequence(self, text1: str, text2: str) -> int:\n",
        "\n",
        "        @lru_cache(maxsize=None)\n",
        "        def memo_solve(ptr1, ptr2):\n",
        "            if ptr1 == len(text1) or ptr2 == len(text2):\n",
        "                return 0\n",
        "\n",
        "            # Case 1\n",
        "            if text1[ptr1] == text2[ptr2]:\n",
        "                return 1 + memo_solve(ptr1+1, ptr2+1)\n",
        "\n",
        "            # Case 2\n",
        "            else:\n",
        "                return max(memo_solve(ptr1+1, ptr2), memo_solve(ptr1,ptr2+1))\n",
        "                       # ^    # ^ Case 2 - Option 1           ^ Case 2 - Option 2\n",
        "\t\t\t\t\t   # | __You want the max() result from resulting branches in the tree\n",
        "        return memo_solve(0,0) # Start the recursion stack from str1[0] and str2[0]"
      ],
      "metadata": {
        "id": "rCDFwuWUCPet"
      },
      "execution_count": null,
      "outputs": []
    }
  ]
}