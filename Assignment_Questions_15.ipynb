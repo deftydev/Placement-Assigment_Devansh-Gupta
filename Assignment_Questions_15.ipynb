{
  "nbformat": 4,
  "nbformat_minor": 0,
  "metadata": {
    "colab": {
      "provenance": []
    },
    "kernelspec": {
      "name": "python3",
      "display_name": "Python 3"
    },
    "language_info": {
      "name": "python"
    }
  },
  "cells": [
    {
      "cell_type": "code",
      "execution_count": null,
      "metadata": {
        "id": "epxIWg2yiKxb"
      },
      "outputs": [],
      "source": [
        "<aside>\n",
        "💡 **Question 1**\n",
        "\n",
        "Given an array **arr[ ]** of size **N** having elements, the task is to find the next greater element for each element of the array in order of their appearance in the array.Next greater element of an element in the array is the nearest element on the right which is greater than the current element.If there does not exist next greater of current element, then next greater element for current element is -1. For example, next greater of the last element is always -1.\n",
        "\n",
        "</aside>"
      ]
    },
    {
      "cell_type": "code",
      "source": [
        "N = 5\n",
        "arr= [6, 8, 0 ,1 ,3]\n",
        "a=[]\n",
        "a.append(-1)\n",
        "\n",
        "for i in range(len(arr)-2,-1,-1):\n",
        "  print(i)\n",
        "  flag=True\n",
        "  for j in range(i+1, len(arr)):\n",
        "    if arr[i]<arr[j]:\n",
        "      a.append(arr[i+1])\n",
        "      flag=False\n",
        "      break\n",
        "  if flag==True:\n",
        "    a.append(-1)\n",
        "\n",
        "print(a[::-1])"
      ],
      "metadata": {
        "id": "aofWarKYiQ7k",
        "colab": {
          "base_uri": "https://localhost:8080/"
        },
        "outputId": "6480a63d-948f-46c9-d8e1-6db61b5623d3"
      },
      "execution_count": 15,
      "outputs": [
        {
          "output_type": "stream",
          "name": "stdout",
          "text": [
            "3\n",
            "2\n",
            "1\n",
            "0\n",
            "[8, -1, 1, 3, -1]\n"
          ]
        }
      ]
    },
    {
      "cell_type": "code",
      "source": [
        "<aside>\n",
        "💡 **Question 2**\n",
        "\n",
        "Given an array **a** of integers of length **n**, find the nearest smaller number for every element such that the smaller element is on left side.If no small element present on the left print -1.\n",
        "\n",
        "**Example 1:**\n",
        "\n",
        "</aside>"
      ],
      "metadata": {
        "id": "jqD4gsn5iQ9s"
      },
      "execution_count": null,
      "outputs": []
    },
    {
      "cell_type": "code",
      "source": [
        "N = 5\n",
        "arr= [1,6,2]\n",
        "a=[]\n",
        "a.append(-1)\n",
        "\n",
        "for i in range(1,len(arr),1):\n",
        "  print(i)\n",
        "  flag=True\n",
        "  for j in range(0,i,1):\n",
        "    if arr[j]<arr[i]:\n",
        "      a.append(arr[j])\n",
        "      flag=False\n",
        "      break\n",
        "  if flag==True:\n",
        "    a.append(-1)\n",
        "\n",
        "print(a)"
      ],
      "metadata": {
        "id": "M1cK4tmHiQ_P",
        "colab": {
          "base_uri": "https://localhost:8080/"
        },
        "outputId": "c04c2167-8a86-441d-d416-aff2536c1594"
      },
      "execution_count": 16,
      "outputs": [
        {
          "output_type": "stream",
          "name": "stdout",
          "text": [
            "1\n",
            "2\n",
            "[-1, 1, 1]\n"
          ]
        }
      ]
    },
    {
      "cell_type": "code",
      "source": [
        "<aside>\n",
        "💡 **Question 3**\n",
        "\n",
        "Implement a Stack using two queues **q1** and **q2**.\n",
        "\n",
        "</aside>"
      ],
      "metadata": {
        "id": "1l0Y1buHiRA_"
      },
      "execution_count": null,
      "outputs": []
    },
    {
      "cell_type": "code",
      "source": [
        "class Node:\n",
        "  def __init__(self,val,next=None):\n",
        "    self.val=val\n",
        "    self.next=None\n",
        "\n",
        "class Stack:\n",
        "  def __init__(self,top=None,bottom=None):\n",
        "    self.head=None\n",
        "    self.top=None\n",
        "\n",
        "\n",
        "  def insert(self,val):\n",
        "    new=Node(val)\n",
        "    if self.head==None:\n",
        "      self.head=new\n",
        "    else:\n",
        "      temp=self.head\n",
        "      while(temp.next is not None):\n",
        "        temp=temp.next\n",
        "      temp.next=new\n",
        "      self.top=new\n",
        "\n",
        "  def pop(self):\n",
        "    if self.head is None:\n",
        "      return -1\n",
        "\n",
        "    temp=self.head\n",
        "    while(temp.next.next is not None):\n",
        "      temp=temp.next\n",
        "\n",
        "    delete= temp.next.val\n",
        "    temp.next=None\n",
        "    self.top=temp\n",
        "    return delete\n",
        "\n",
        "  def printstack(self):\n",
        "    temp=self.head\n",
        "    print(temp.val)\n",
        "    while(temp.next is not None):\n",
        "      temp=temp.next\n",
        "      print(temp.val)\n",
        "\n",
        "s=Stack()\n",
        "s.insert(10)\n",
        "s.insert(20)\n",
        "s.insert(30)\n",
        "s.insert(1)\n",
        "s.pop()\n",
        "s.pop()\n",
        "s.printstack()\n",
        "\n",
        "\n",
        "\n",
        "\n",
        "\n"
      ],
      "metadata": {
        "id": "6-b1Y1fgiRFR",
        "colab": {
          "base_uri": "https://localhost:8080/"
        },
        "outputId": "38ed8238-fb8f-4538-be46-230e85f6e4a1"
      },
      "execution_count": 20,
      "outputs": [
        {
          "output_type": "stream",
          "name": "stdout",
          "text": [
            "10\n",
            "20\n"
          ]
        }
      ]
    },
    {
      "cell_type": "code",
      "source": [
        "<aside>\n",
        "💡 **Question 4**\n",
        "\n",
        "You are given a stack **St**. You have to reverse the stack using recursion.\n",
        "\n",
        "**Example 1:**\n",
        "\n",
        "</aside>"
      ],
      "metadata": {
        "id": "2HQugP7yiRG9"
      },
      "execution_count": null,
      "outputs": []
    },
    {
      "cell_type": "code",
      "source": [
        "class Node:\n",
        "  def __init__(self,val,next=None):\n",
        "    self.val=val\n",
        "    self.next=None\n",
        "\n",
        "class Stack:\n",
        "  def __init__(self,top=None,bottom=None):\n",
        "    self.head=None\n",
        "    self.top=None\n",
        "\n",
        "\n",
        "  def insert(self,val):\n",
        "    new=Node(val)\n",
        "    if self.head==None:\n",
        "      self.head=new\n",
        "    else:\n",
        "      temp=self.head\n",
        "      while(temp.next is not None):\n",
        "        temp=temp.next\n",
        "      temp.next=new\n",
        "      self.top=new\n",
        "\n",
        "  def pop(self):\n",
        "    if self.head is None:\n",
        "      return -1\n",
        "\n",
        "    temp=self.head\n",
        "    while(temp.next.next is not None):\n",
        "      temp=temp.next\n",
        "\n",
        "    delete= temp.next.val\n",
        "    temp.next=None\n",
        "    self.top=temp\n",
        "    return delete\n",
        "\n",
        "  def printstack(self):\n",
        "    temp=self.head\n",
        "    print(temp.val)\n",
        "    while(temp.next is not None):\n",
        "      temp=temp.next\n",
        "      print(temp.val)\n",
        "\n",
        "  def reverse(self):\n",
        "    print(\"reversing\")\n",
        "    temp1=self.head\n",
        "    l=0\n",
        "    while(temp1 is not None):\n",
        "      l+=1\n",
        "      temp1=temp1.next\n",
        "    temp=self.head\n",
        "    before=None\n",
        "    after=temp.next\n",
        "\n",
        "    for i in range(l):\n",
        "      after=temp.next\n",
        "      temp.next=before\n",
        "      before=temp\n",
        "      temp=after\n",
        "    self.head=before\n",
        "\n",
        "\n",
        "s=Stack()\n",
        "s.insert(3)\n",
        "s.insert(2)\n",
        "s.insert(1)\n",
        "s.insert(7)\n",
        "s.insert(6)\n",
        "s.printstack()\n",
        "s.reverse()\n",
        "s.printstack()"
      ],
      "metadata": {
        "id": "ANOlEO5yiRJK",
        "colab": {
          "base_uri": "https://localhost:8080/"
        },
        "outputId": "385c091d-26a3-42ef-9f20-e7ca15cf02e3"
      },
      "execution_count": 25,
      "outputs": [
        {
          "output_type": "stream",
          "name": "stdout",
          "text": [
            "3\n",
            "2\n",
            "1\n",
            "7\n",
            "6\n",
            "reversing\n",
            "6\n",
            "7\n",
            "1\n",
            "2\n",
            "3\n"
          ]
        }
      ]
    },
    {
      "cell_type": "code",
      "source": [
        "<aside>\n",
        "💡 **Question 5**\n",
        "\n",
        "You are given a string **S**, the task is to reverse the string using stack.\n",
        "\n",
        "**Example 1:**\n",
        "\n",
        "</aside>"
      ],
      "metadata": {
        "id": "_vEQXZ2NiRLS"
      },
      "execution_count": null,
      "outputs": []
    },
    {
      "cell_type": "code",
      "source": [
        "class Node:\n",
        "  def __init__(self,val,next=None):\n",
        "    self.val=val\n",
        "    self.next=None\n",
        "\n",
        "class Stack:\n",
        "  def __init__(self,top=None,bottom=None):\n",
        "    self.head=None\n",
        "    self.top=None\n",
        "\n",
        "\n",
        "  def insert(self,val):\n",
        "    new=Node(val)\n",
        "    if self.head==None:\n",
        "      self.head=new\n",
        "    else:\n",
        "      temp=self.head\n",
        "      while(temp.next is not None):\n",
        "        temp=temp.next\n",
        "      temp.next=new\n",
        "      self.top=new\n",
        "\n",
        "  def pop(self):\n",
        "    if self.head is None:\n",
        "      return -1\n",
        "\n",
        "    temp=self.head\n",
        "    while(temp.next.next is not None):\n",
        "      temp=temp.next\n",
        "\n",
        "    delete= temp.next.val\n",
        "    temp.next=None\n",
        "    self.top=temp\n",
        "    return delete\n",
        "\n",
        "  def printstack(self):\n",
        "    temp=self.head\n",
        "    strr=\"\"\n",
        "    strr+=temp.val\n",
        "    while(temp.next is not None):\n",
        "      temp=temp.next\n",
        "      strr+=temp.val\n",
        "\n",
        "    return strr\n",
        "\n",
        "  def reverse(self):\n",
        "    print(\"reversing\")\n",
        "    temp1=self.head\n",
        "    l=0\n",
        "    while(temp1 is not None):\n",
        "      l+=1\n",
        "      temp1=temp1.next\n",
        "    temp=self.head\n",
        "    before=None\n",
        "    after=temp.next\n",
        "\n",
        "    for i in range(l):\n",
        "      after=temp.next\n",
        "      temp.next=before\n",
        "      before=temp\n",
        "      temp=after\n",
        "    self.head=before\n",
        "\n",
        "\n",
        "s=Stack()\n",
        "Str=\"GeeksforGeeks\"\n",
        "\n",
        "for i in range(len(Str)):\n",
        "  s.insert(Str[i:i+1])\n",
        "rr = s.printstack()\n",
        "print(rr)\n",
        "s.reverse()\n",
        "\n",
        "rr2=s.printstack()\n",
        "print(rr2)"
      ],
      "metadata": {
        "id": "V6aMuOckiRON",
        "colab": {
          "base_uri": "https://localhost:8080/"
        },
        "outputId": "5367c880-93a9-444b-f47a-51a097d7ac52"
      },
      "execution_count": 33,
      "outputs": [
        {
          "output_type": "stream",
          "name": "stdout",
          "text": [
            "GeeksforGeeks\n",
            "reversing\n",
            "skeeGrofskeeG\n"
          ]
        }
      ]
    },
    {
      "cell_type": "code",
      "source": [
        "<aside>\n",
        "💡 **Question 6**\n",
        "\n",
        "Given string **S** representing a postfix expression, the task is to evaluate the expression and find the final value. Operators will only include the basic arithmetic operators like ***, /, + and -**.\n",
        "\n",
        "</aside>"
      ],
      "metadata": {
        "id": "ylM--Hr4iRRA"
      },
      "execution_count": null,
      "outputs": []
    },
    {
      "cell_type": "code",
      "source": [
        "S = \"231*+9-\"\n",
        "\n",
        "root= S[len(S)-1]\n",
        "\n",
        "result=[]\n",
        "def traverse(current_node):\n",
        "\n",
        "  if current_node.left is not None:\n",
        "    traverse(current_node.left)\n",
        "\n",
        "  if current_node.right is not None:\n",
        "    traverse(current_node.right)\n",
        "\n",
        "  result.append(current_node.val)\n",
        "\n",
        "\n",
        "print(result)"
      ],
      "metadata": {
        "id": "WUCng6DiiRT5",
        "colab": {
          "base_uri": "https://localhost:8080/"
        },
        "outputId": "a4b43aa2-a408-45dc-aa3d-874094765661"
      },
      "execution_count": 34,
      "outputs": [
        {
          "output_type": "stream",
          "name": "stdout",
          "text": [
            "-\n"
          ]
        }
      ]
    },
    {
      "cell_type": "code",
      "source": [
        "<aside>\n",
        "💡 **uestion 7**\n",
        "\n",
        "Design a stack that supports push, pop, top, and retrieving the minimum element in constant time.\n",
        "\n",
        "Implement the `MinStack` class:\n",
        "\n",
        "</aside>"
      ],
      "metadata": {
        "id": "b99bC5I1iRWb"
      },
      "execution_count": null,
      "outputs": []
    },
    {
      "cell_type": "code",
      "source": [
        "import math\n",
        "class Node:\n",
        "  def __init__(self,val,next=None):\n",
        "    self.val=val\n",
        "    self.next=None\n",
        "\n",
        "class Stack:\n",
        "  def __init__(self,top=None,bottom=None,mini=None):\n",
        "    self.head=None\n",
        "    self.top=None\n",
        "    self.mini=float(\"-inf\")\n",
        "\n",
        "\n",
        "\n",
        "  def insert(self,val):\n",
        "\n",
        "    new=Node(val)\n",
        "    if self.head==None:\n",
        "      self.head=new\n",
        "      self.mini= min(self.mini, self.head.val)\n",
        "\n",
        "    else:\n",
        "      temp=self.head\n",
        "      while(temp.next is not None):\n",
        "        self.mini= min(self.mini, temp.val)\n",
        "        temp=temp.next\n",
        "      temp.next=new\n",
        "      self.top=new\n",
        "\n",
        "  def pop(self):\n",
        "    if self.head is None:\n",
        "      return -1\n",
        "\n",
        "    temp=self.head\n",
        "    while(temp.next.next is not None):\n",
        "      temp=temp.next\n",
        "\n",
        "    delete= temp.next.val\n",
        "    temp.next=None\n",
        "    self.top=temp\n",
        "    return delete\n",
        "  def peek(self):\n",
        "    if self.top:\n",
        "      return self.top.val\n",
        "    return self.head.val\n",
        "\n",
        "  def printstack(self):\n",
        "    temp=self.head\n",
        "    print(temp.val)\n",
        "    while(temp.next is not None):\n",
        "      temp=temp.next\n",
        "      print(temp.val)\n",
        "\n",
        "  def min_element(self):\n",
        "    return self.mini\n",
        "\n",
        "  def reverse(self):\n",
        "    print(\"reversing\")\n",
        "    temp1=self.head\n",
        "    l=0\n",
        "    while(temp1 is not None):\n",
        "      l+=1\n",
        "      temp1=temp1.next\n",
        "    temp=self.head\n",
        "    before=None\n",
        "    after=temp.next\n",
        "\n",
        "    for i in range(l):\n",
        "      after=temp.next\n",
        "      temp.next=before\n",
        "      before=temp\n",
        "      temp=after\n",
        "    self.head=before\n",
        "\n",
        "\n",
        "s=Stack()\n",
        "s.insert(3)\n",
        "s.insert(2)\n",
        "s.insert(1)\n",
        "s.insert(7)\n",
        "s.insert(6)\n",
        "s.printstack()\n",
        "\n",
        "print(s.min_element)"
      ],
      "metadata": {
        "id": "n8orQ-WLiRZV",
        "colab": {
          "base_uri": "https://localhost:8080/"
        },
        "outputId": "db1fef74-6e5f-4018-da96-854f65713816"
      },
      "execution_count": 3,
      "outputs": [
        {
          "output_type": "stream",
          "name": "stdout",
          "text": [
            "3\n",
            "2\n",
            "1\n",
            "7\n",
            "6\n",
            "<bound method Stack.min_element of <__main__.Stack object at 0x7fcd5c5e6380>>\n"
          ]
        }
      ]
    },
    {
      "cell_type": "code",
      "source": [],
      "metadata": {
        "id": "AZaqMXgaiRcO"
      },
      "execution_count": null,
      "outputs": []
    },
    {
      "cell_type": "code",
      "source": [
        "<aside>\n",
        "💡 **Question 8**\n",
        "\n",
        "Given `n` non-negative integers representing an elevation map where the width of each bar is `1`, compute how muc\n",
        "\n",
        "</aside>"
      ],
      "metadata": {
        "id": "CWXd4G3SiRe0"
      },
      "execution_count": null,
      "outputs": []
    },
    {
      "cell_type": "code",
      "source": [
        "height = [0,1,0,2,1,0,1,3,2,1,2,1]\n",
        "summ=0\n",
        "\n",
        "for i in range(1,len(height)-1):\n",
        "  ele= height[i]\n",
        "  max_l=height[i]\n",
        "  max_r=height[i]\n",
        "  for j in range(0,i):\n",
        "    if height[j]>max_l:\n",
        "      max_l= height[j]\n",
        "\n",
        "  for k in range(i+1,len(height)):\n",
        "    if height[k]>max_r:\n",
        "      max_r= height[k]\n",
        "\n",
        "  print(f\"height is {height[i]} with summ of {min(max_l,max_r)-height[i]} and max_r {max_r} and max_l {max_l}\")\n",
        "  summ=summ+ (min(max_l,max_r)-height[i])\n",
        "\n",
        "print(summ)"
      ],
      "metadata": {
        "id": "p_lD2IaAiRiK",
        "colab": {
          "base_uri": "https://localhost:8080/"
        },
        "outputId": "894be0eb-da37-48a0-b55e-5bb0725d92e7"
      },
      "execution_count": 13,
      "outputs": [
        {
          "output_type": "stream",
          "name": "stdout",
          "text": [
            "height is 1 with summ of 0 and max_r 3 and max_l 1\n",
            "height is 0 with summ of 1 and max_r 3 and max_l 1\n",
            "height is 2 with summ of 0 and max_r 3 and max_l 2\n",
            "height is 1 with summ of 1 and max_r 3 and max_l 2\n",
            "height is 0 with summ of 2 and max_r 3 and max_l 2\n",
            "height is 1 with summ of 1 and max_r 3 and max_l 2\n",
            "height is 3 with summ of 0 and max_r 3 and max_l 3\n",
            "height is 2 with summ of 0 and max_r 2 and max_l 3\n",
            "height is 1 with summ of 1 and max_r 2 and max_l 3\n",
            "height is 2 with summ of 0 and max_r 2 and max_l 3\n",
            "6\n"
          ]
        }
      ]
    }
  ]
}