{
  "nbformat": 4,
  "nbformat_minor": 0,
  "metadata": {
    "colab": {
      "provenance": []
    },
    "kernelspec": {
      "name": "python3",
      "display_name": "Python 3"
    },
    "language_info": {
      "name": "python"
    }
  },
  "cells": [
    {
      "cell_type": "code",
      "execution_count": null,
      "metadata": {
        "id": "xgJRKFLB6qXg"
      },
      "outputs": [],
      "source": [
        "<aside>\n",
        "💡 **Question 1**\n",
        "\n",
        "Given a non-negative integer `x`, return *the square root of* `x` *rounded down to the nearest integer*. The returned integer should be **non-negative** as well.\n",
        "\n",
        "You **must not use** any built-in exponent function or operator.\n",
        "\n",
        "- For example, do not use `pow(x, 0.5)` in c++ or `x ** 0.5` in python.\n",
        "\n",
        "**Example 1:**\n",
        "\n",
        "</aside>"
      ]
    },
    {
      "cell_type": "code",
      "source": [
        "import math\n",
        "x=9\n",
        "\n",
        "s=0\n",
        "e=9\n",
        "flag=True\n",
        "while(s<=e):\n",
        "\n",
        "  mid= s+e //2\n",
        "\n",
        "  ele= math.pow(mid,2)\n",
        "\n",
        "  if ele==x:\n",
        "    print(mid)\n",
        "    s=e+1\n",
        "    flag=False\n",
        "\n",
        "  elif ele<x:\n",
        "    s+=1\n",
        "  else:\n",
        "    e-=1\n",
        "\n",
        "if flag:\n",
        "  print(\"-1\")"
      ],
      "metadata": {
        "colab": {
          "base_uri": "https://localhost:8080/"
        },
        "id": "s4XBOhqn6upD",
        "outputId": "b35d1ce7-f625-44c2-ad5f-1fd664acc39f"
      },
      "execution_count": 3,
      "outputs": [
        {
          "output_type": "stream",
          "name": "stdout",
          "text": [
            "3\n"
          ]
        }
      ]
    },
    {
      "cell_type": "code",
      "source": [
        "<aside>\n",
        "💡 **Question 2**\n",
        "\n",
        "A peak element is an element that is strictly greater than its neighbors.\n",
        "\n",
        "Given a **0-indexed** integer array `nums`, find a peak element, and return its index. If the array contains multiple peaks, return the index to **any of the peaks**.\n",
        "\n",
        "You may imagine that `nums[-1] = nums[n] = -∞`. In other words, an element is always considered to be strictly greater than a neighbor that is outside the array.\n",
        "\n",
        "You must write an algorithm that runs in `O(log n)` time.\n",
        "\n",
        "</aside>"
      ],
      "metadata": {
        "id": "EeHRKVHM6urd"
      },
      "execution_count": null,
      "outputs": []
    },
    {
      "cell_type": "code",
      "source": [
        "nums = [1,2,1,3,5,6,4]\n",
        "s=0\n",
        "e=len(nums)-1\n",
        "flag=True\n",
        "\n",
        "if nums[s] >= nums[s+1]:\n",
        "  print(nums[s])\n",
        "  flag=False\n",
        "\n",
        "if nums[e]>=nums[e-1]:\n",
        "  print(nums[e])\n",
        "  flag=False\n",
        "s+=1\n",
        "e-=1\n",
        "if flag:\n",
        "  while(s<=e):\n",
        "    mid= s+e //2\n",
        "    ele= nums[mid]\n",
        "\n",
        "    if ele>= nums[mid+1] and ele>=nums[mid-1]:\n",
        "      print(ele)\n",
        "      break\n",
        "\n",
        "    elif ele>= nums[mid+1]:\n",
        "      s=mid+1\n",
        "    else:\n",
        "      e=mid-1"
      ],
      "metadata": {
        "colab": {
          "base_uri": "https://localhost:8080/"
        },
        "id": "mp1abcns6ut5",
        "outputId": "5d9383c3-7f17-4b51-e49e-c5f23364dc30"
      },
      "execution_count": 4,
      "outputs": [
        {
          "output_type": "stream",
          "name": "stdout",
          "text": [
            "2\n"
          ]
        }
      ]
    },
    {
      "cell_type": "code",
      "source": [
        "<aside>\n",
        "💡 **Question 3**\n",
        "\n",
        "****\n",
        "\n",
        "Given an array `nums` containing `n` distinct numbers in the range `[0, n]`, return *the only number in the range that is missing from the array.*\n",
        "\n",
        "**Example 1:**\n",
        "\n",
        "</aside>"
      ],
      "metadata": {
        "id": "jmtVZ15V6uwN"
      },
      "execution_count": null,
      "outputs": []
    },
    {
      "cell_type": "code",
      "source": [
        "nums = [9,6,4,2,3,5,7,0,1]\n",
        "\n",
        "nums.sort()\n",
        "\n",
        "for i in range(len(nums)-1):\n",
        "  if nums[i]+1==nums[i+1]:\n",
        "    continue\n",
        "  else:\n",
        "    print(nums[i]+1)\n",
        "    break"
      ],
      "metadata": {
        "colab": {
          "base_uri": "https://localhost:8080/"
        },
        "id": "LSsrd7h36uy2",
        "outputId": "594d0b78-a2a3-4602-9d54-01c6068b490b"
      },
      "execution_count": 5,
      "outputs": [
        {
          "output_type": "stream",
          "name": "stdout",
          "text": [
            "8\n"
          ]
        }
      ]
    },
    {
      "cell_type": "code",
      "source": [
        "<aside>\n",
        "💡 **Question 4**\n",
        "\n",
        "Given an array of integers `nums` containing `n + 1` integers where each integer is in the range `[1, n]` inclusive.\n",
        "\n",
        "There is only **one repeated number** in `nums`, return *this repeated number*.\n",
        "\n",
        "You must solve the problem **without** modifying the array `nums` and uses only constant extra space.\n",
        "\n",
        "</aside>"
      ],
      "metadata": {
        "id": "Ntpd0-lJ6u05"
      },
      "execution_count": null,
      "outputs": []
    },
    {
      "cell_type": "code",
      "source": [
        "from collections import Counter\n",
        "nums = [1,3,4,2,2]\n",
        "for i,j in Counter(nums).items():\n",
        "  if j==2:\n",
        "    print(i)"
      ],
      "metadata": {
        "colab": {
          "base_uri": "https://localhost:8080/"
        },
        "id": "8_oZ6E406u2e",
        "outputId": "80e11467-709e-43ca-9532-c32308762e19"
      },
      "execution_count": 8,
      "outputs": [
        {
          "output_type": "stream",
          "name": "stdout",
          "text": [
            "2\n"
          ]
        }
      ]
    },
    {
      "cell_type": "code",
      "source": [
        "<aside>\n",
        "💡 **Question 5**\n",
        "\n",
        "Given two integer arrays `nums1` and `nums2`, return *an array of their intersection*. Each element in the result must be **unique** and you may return the result in **any order**.\n",
        "\n",
        "**Example 1:**\n",
        "\n",
        "</aside>"
      ],
      "metadata": {
        "id": "_wS6KMKW6u4l"
      },
      "execution_count": null,
      "outputs": []
    },
    {
      "cell_type": "code",
      "source": [
        "nums1 = [4,9,5]\n",
        "nums2 = [9,4,9,8,4]\n",
        "\n",
        "for i in range(len(nums1)):\n",
        "  if nums1[i] in nums2:\n",
        "    continue\n",
        "  else:\n",
        "    nums1.remove(nums1[i])\n",
        "\n",
        "print(set(nums1))"
      ],
      "metadata": {
        "colab": {
          "base_uri": "https://localhost:8080/"
        },
        "id": "ODlmQe_v6u7G",
        "outputId": "6ce62149-eeff-4a96-fe72-166d6b4ceb7f"
      },
      "execution_count": 9,
      "outputs": [
        {
          "output_type": "stream",
          "name": "stdout",
          "text": [
            "{9, 4}\n"
          ]
        }
      ]
    },
    {
      "cell_type": "code",
      "source": [
        "<aside>\n",
        "💡 **Question 6**\n",
        "\n",
        "Suppose an array of length `n` sorted in ascending order is **rotated** between `1` and `n` times. For example, the array `nums = [0,1,2,4,5,6,7]` might become:\n",
        "\n",
        "- `[4,5,6,7,0,1,2]` if it was rotated `4` times.\n",
        "- `[0,1,2,4,5,6,7]` if it was rotated `7` times.\n",
        "\n",
        "Notice that **rotating** an array `[a[0], a[1], a[2], ..., a[n-1]]` 1 time results in the array `[a[n-1], a[0], a[1], a[2], ..., a[n-2]]`.\n",
        "\n",
        "Given the sorted rotated array `nums` of **unique** elements, return *the minimum element of this array*.\n",
        "\n",
        "</aside>"
      ],
      "metadata": {
        "id": "c6kBUT0M6u9a"
      },
      "execution_count": null,
      "outputs": []
    },
    {
      "cell_type": "code",
      "source": [
        " nums = [4,5,6,7,0,1,2]\n",
        "\n",
        "s=0\n",
        "e= len(nums)-1\n",
        "low=nums[0]\n",
        "while(s<=e):\n",
        "\n",
        "  mid= s+e //2\n",
        "\n",
        "  if nums[mid]>nums[mid+1]:\n",
        "    e=mid+1\n",
        "    low= min(low,nums[mid+1])\n",
        "\n",
        "  else:\n",
        "    e=mid-1\n",
        "    low= min(low,nums[mid-1])\n",
        "\n",
        "print(low)"
      ],
      "metadata": {
        "colab": {
          "base_uri": "https://localhost:8080/"
        },
        "id": "n5C2v_txPByT",
        "outputId": "604841a5-cf7a-4e77-b55a-ac90acfff90c"
      },
      "execution_count": 11,
      "outputs": [
        {
          "output_type": "stream",
          "name": "stdout",
          "text": [
            "0\n"
          ]
        }
      ]
    },
    {
      "cell_type": "code",
      "source": [
        "<aside>\n",
        "💡 **Question 7**\n",
        "\n",
        "Given an array of integers `nums` sorted in non-decreasing order, find the starting and ending position of a given `target` value.\n",
        "\n",
        "If `target` is not found in the array, return `[-1, -1]`.\n",
        "\n",
        "You must write an algorithm with `O(log n)` runtime complexity.\n",
        "\n",
        "</aside>"
      ],
      "metadata": {
        "id": "rvAcXbmYPB0y"
      },
      "execution_count": null,
      "outputs": []
    },
    {
      "cell_type": "code",
      "source": [
        "nums= [5,7,7,8,8,10]\n",
        "target=8\n",
        "s=0\n",
        "e= len(nums)-1\n",
        "l=[]\n",
        "while(s<=e):\n",
        "\n",
        "  mid= s+e //2\n",
        "\n",
        "  if nums[mid]>target:\n",
        "    e=mid-1\n",
        "  elif nums[mid]== target:\n",
        "    l.append(mid-1)\n",
        "    l.append(mid)\n",
        "    s=e+1\n",
        "\n",
        "  else:\n",
        "    s=mid+1\n",
        "\n",
        "print(l)"
      ],
      "metadata": {
        "id": "rcyAdN_VPB4R"
      },
      "execution_count": null,
      "outputs": []
    },
    {
      "cell_type": "code",
      "source": [
        "<aside>\n",
        "💡 **Question 8**\n",
        "\n",
        "Given two integer arrays `nums1` and `nums2`, return *an array of their intersection*. Each element in the result must appear as many times as it shows in both arrays and you may return the result in **any order**.\n",
        "\n",
        "</aside>"
      ],
      "metadata": {
        "id": "ilUSjCIh6u_v"
      },
      "execution_count": null,
      "outputs": []
    },
    {
      "cell_type": "code",
      "source": [
        "nums1 = [4,9,5]\n",
        "nums2 = [9,4,9,8,4]\n",
        "\n",
        "for i in range(len(nums1)):\n",
        "  if nums1[i] in nums2:\n",
        "    continue\n",
        "  else:\n",
        "    nums1.remove(nums1[i])\n",
        "\n",
        "print(set(nums1))"
      ],
      "metadata": {
        "colab": {
          "base_uri": "https://localhost:8080/"
        },
        "id": "1PUdZSw36vC9",
        "outputId": "efd7198f-d0c1-4c5c-8ad5-8099d8d0a079"
      },
      "execution_count": 1,
      "outputs": [
        {
          "output_type": "stream",
          "name": "stdout",
          "text": [
            "{9, 4}\n"
          ]
        }
      ]
    }
  ]
}