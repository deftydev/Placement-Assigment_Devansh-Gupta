{
 "cells": [
  {
   "cell_type": "markdown",
   "id": "160f9086",
   "metadata": {},
   "source": [
    "# <aside>\n",
    "💡 **Q1.** Given an array of integers nums and an integer target, return indices of the two numbers such that they add up to target.\n",
    "\n",
    "You may assume that each input would have exactly one solution, and you may not use the same element twice.\n",
    "\n",
    "You can return the answer in any order.\n",
    "\n",
    "**Example:**\n",
    "Input: nums = [2,7,11,15], target = 9\n",
    "Output0 [0,1]\n",
    "\n",
    "**Explanation:** Because nums[0] + nums[1] == 9, we return [0, 1][\n",
    "\n",
    "</aside>"
   ]
  },
  {
   "cell_type": "code",
   "execution_count": 32,
   "id": "4d9a951f",
   "metadata": {},
   "outputs": [
    {
     "name": "stdout",
     "output_type": "stream",
     "text": [
      "[2, 7]\n"
     ]
    }
   ],
   "source": [
    "nums = [2,7,11,15]\n",
    "\n",
    "target =9\n",
    "\n",
    "nums.sort()\n",
    "j=len(nums)-1\n",
    "i=0\n",
    "l=[]\n",
    "while(i<j):\n",
    "    if (nums[i]+nums[j]==target):\n",
    "        l.append(nums[i])\n",
    "        l.append(nums[j])\n",
    "        break\n",
    "    elif nums[i]+nums[j]<target:\n",
    "        i=i+1\n",
    "    else:\n",
    "        j=j-1\n",
    "        \n",
    "print(l)"
   ]
  },
  {
   "cell_type": "code",
   "execution_count": null,
   "id": "e1ea2cf6",
   "metadata": {},
   "outputs": [],
   "source": [
    "<aside>\n",
    "💡 **Q2.** Given an integer array nums and an integer val, remove all occurrences of val in nums in-place. The order of the elements may be changed. Then return the number of elements in nums which are not equal to val.\n",
    "\n",
    "Consider the number of elements in nums which are not equal to val be k, to get accepted, you need to do the following things:\n",
    "\n",
    "</aside>"
   ]
  },
  {
   "cell_type": "code",
   "execution_count": 2,
   "id": "98d68a58",
   "metadata": {},
   "outputs": [
    {
     "name": "stdout",
     "output_type": "stream",
     "text": [
      "[2, 2, '_', '_']\n"
     ]
    }
   ],
   "source": [
    "nums = [3,2,2,3]\n",
    "\n",
    "val = 3\n",
    "highest = 2**31 -1 \n",
    "for i in range(len(nums)):\n",
    "    if (nums[i]==val):\n",
    "        nums[i]= highest\n",
    "    else:\n",
    "        continue\n",
    "    \n",
    "nums.sort()   \n",
    "for i in range(len(nums)):\n",
    "    if nums[i]==highest:\n",
    "        nums[i]=\"_\"\n",
    "        \n",
    "print(nums)\n"
   ]
  },
  {
   "cell_type": "code",
   "execution_count": null,
   "id": "30fc19d4",
   "metadata": {},
   "outputs": [],
   "source": [
    "<aside>\n",
    "💡 **Q3.** Given a sorted array of distinct integers and a target value, return the index if the target is found. If not, return the index where it would be if it were inserted in order.\n",
    "\n",
    "You must write an algorithm with O(log n) runtime complexity.\n",
    "\n",
    "**Example 1:**\n",
    "\n",
    "</aside>"
   ]
  },
  {
   "cell_type": "code",
   "execution_count": 4,
   "id": "4d767c66",
   "metadata": {},
   "outputs": [
    {
     "name": "stdout",
     "output_type": "stream",
     "text": [
      "4\n"
     ]
    }
   ],
   "source": [
    "\n",
    "nums=[1,3,5,6,8,9,23,68]\n",
    "target=7    \n",
    "if target > nums[len(nums)-1]:\n",
    "    print(len(nums)-1)\n",
    "\n",
    "mid= len(nums)//2\n",
    "\n",
    "if nums[mid]>target:\n",
    "    for i in range(0, mid,1):\n",
    "        if nums[i]==target:\n",
    "            print(i)\n",
    "            break\n",
    "        elif nums[i]>target:\n",
    "            print(i-1)\n",
    "            break\n",
    "        else:\n",
    "            if i==mid-1:\n",
    "                print(mid)\n",
    "            continue\n",
    "        \n",
    "else:\n",
    "    for i in range(mid+1,len(nums),1):\n",
    "        if nums[i]==target:\n",
    "            print(i)\n",
    "            break\n",
    "        elif nums[i]>target:\n",
    "            print(i)\n",
    "            break\n",
    "        else:\n",
    "            continue\n",
    "    \n",
    "\n"
   ]
  },
  {
   "cell_type": "code",
   "execution_count": null,
   "id": "716ed72c",
   "metadata": {},
   "outputs": [],
   "source": [
    "<aside>\n",
    "💡 **Q4.** You are given a large integer represented as an integer array digits, where each digits[i] is the ith digit of the integer. The digits are ordered from most significant to least significant in left-to-right order. The large integer does not contain any leading 0's.\n",
    "\n",
    "Increment the large integer by one and return the resulting array of digits.\n",
    "\n",
    "</aside> . "
   ]
  },
  {
   "cell_type": "code",
   "execution_count": 17,
   "id": "8dcf45c2",
   "metadata": {},
   "outputs": [
    {
     "name": "stdout",
     "output_type": "stream",
     "text": [
      "[1, 2, 4]\n"
     ]
    }
   ],
   "source": [
    "nums=[1,2,3]\n",
    "strings=\"\"\n",
    "for i in nums:\n",
    "    strings+=str(i)\n",
    "    \n",
    "increment= int(strings)+1\n",
    "a=0\n",
    "l=[]\n",
    "while(increment>0):\n",
    "    rem=increment%10\n",
    "    l.insert(0,rem)\n",
    "    a=a*10 + rem\n",
    "    increment=increment//10\n",
    "print(l)"
   ]
  },
  {
   "cell_type": "code",
   "execution_count": null,
   "id": "1cde0407",
   "metadata": {},
   "outputs": [],
   "source": []
  },
  {
   "cell_type": "code",
   "execution_count": null,
   "id": "256d23c8",
   "metadata": {},
   "outputs": [],
   "source": [
    "<aside>\n",
    "💡 **Q5.** You are given two integer arrays nums1 and nums2, sorted in non-decreasing order, and two integers m and n, representing the number of elements in nums1 and nums2 respectively.\n",
    "\n",
    "Merge nums1 and nums2 into a single array sorted in non-decreasing order.\n",
    "\n",
    "The final sorted array should not be returned by the function, but instead be stored inside the array nums1. To accommodate this, nums1 has a length of m + n, where the first m elements denote the elements that should be merged, and the last n elements are set to 0 and should be ignored. nums2 has a length of n.\n",
    "\n",
    "</aside>"
   ]
  },
  {
   "cell_type": "code",
   "execution_count": 31,
   "id": "97b7909b",
   "metadata": {},
   "outputs": [
    {
     "name": "stdout",
     "output_type": "stream",
     "text": [
      "[1, 2, 2, 3, 5, 6]\n"
     ]
    }
   ],
   "source": [
    "nums1 = [1,2,3,0,0,0]\n",
    "m=3\n",
    "n=3\n",
    "nums2= [2,5,6]\n",
    "\n",
    "i = m - 1\n",
    "j = n - 1\n",
    "k = m + n - 1\n",
    "    \n",
    "while i >= 0 and j >= 0:\n",
    "    if nums1[i] > nums2[j]:\n",
    "        nums1[k] = nums1[i]\n",
    "        i -= 1\n",
    "    else:\n",
    "        nums1[k] = nums2[j]\n",
    "        j -= 1\n",
    "    k -= 1\n",
    "    \n",
    "while j >= 0:\n",
    "    nums1[k] = nums2[j]\n",
    "    j -= 1\n",
    "    k -= 1\n",
    "\n",
    "\n",
    "\n",
    "print(nums1)        "
   ]
  },
  {
   "cell_type": "code",
   "execution_count": null,
   "id": "11bcb911",
   "metadata": {},
   "outputs": [],
   "source": [
    "<aside>\n",
    "💡 **Q6.** Given an integer array nums, return true if any value appears at least twice in the array, and return false if every element is distinct.\n",
    "\n",
    "**Example 1:**\n",
    "Input: nums = [1,2,3,1]\n",
    "\n",
    "Output: true\n",
    "\n",
    "\n",
    "    </aside>"
   ]
  },
  {
   "cell_type": "code",
   "execution_count": 21,
   "id": "b24606e9",
   "metadata": {},
   "outputs": [
    {
     "name": "stdout",
     "output_type": "stream",
     "text": [
      "true\n"
     ]
    }
   ],
   "source": [
    "import collections\n",
    "from collections import Counter\n",
    "\n",
    "nums=[1,2,3,1]\n",
    "flag=True\n",
    "for i,j in collections.Counter(nums).items():\n",
    "    if j>1:\n",
    "        print(\"true\")\n",
    "        flag=False\n",
    "        break\n",
    "if flag:\n",
    "    print(\"false\")"
   ]
  },
  {
   "cell_type": "code",
   "execution_count": null,
   "id": "f4ac2675",
   "metadata": {},
   "outputs": [],
   "source": [
    "<aside>\n",
    "💡 **Q7.** Given an integer array nums, move all 0's to the end of it while maintaining the relative order of the nonzero elements.\n",
    "\n",
    "Note that you must do this in-place without making a copy of the array.\n",
    "\n",
    "**Example 1:**\n",
    "Input: nums = [0,1,0,3,12]\n",
    "Output: [1,3,12,0,0]\n",
    "\n",
    "</aside>"
   ]
  },
  {
   "cell_type": "code",
   "execution_count": 29,
   "id": "a0025a5b",
   "metadata": {},
   "outputs": [
    {
     "name": "stdout",
     "output_type": "stream",
     "text": [
      "[1, 3, 12, 0, 0]\n"
     ]
    }
   ],
   "source": [
    "nums = [0,1,0,3,12]\n",
    " \n",
    "i=0\n",
    "j=1\n",
    "\n",
    "while(i<len(nums) and j<len(nums)):\n",
    "    if nums[i]==0:\n",
    "        if nums[j]==0:\n",
    "            j=j+1\n",
    "        else:\n",
    "            temp=nums[j]\n",
    "            nums[j]=nums[i]\n",
    "            nums[i]=temp\n",
    "            i+=1\n",
    "            j+=1\n",
    "    else:\n",
    "        i+=1\n",
    "\n",
    "\n",
    "print(nums)"
   ]
  },
  {
   "cell_type": "code",
   "execution_count": null,
   "id": "d0af38ae",
   "metadata": {},
   "outputs": [],
   "source": [
    "<aside>\n",
    "💡 **Q8.** You have a set of integers s, which originally contains all the numbers from 1 to n. Unfortunately, due to some error, one of the numbers in s got duplicated to another number in the set, which results in repetition of one number and loss of another number.\n",
    "\n",
    "You are given an integer array nums representing the data status of this set after the error.\n",
    "\n",
    "Find the number that occurs twice and the number that is missing and return them in the form of an array.\n",
    "\n",
    "</aside>"
   ]
  },
  {
   "cell_type": "code",
   "execution_count": 26,
   "id": "863eae3f",
   "metadata": {},
   "outputs": [
    {
     "name": "stdout",
     "output_type": "stream",
     "text": [
      "[2, 3]\n"
     ]
    }
   ],
   "source": [
    "import collections\n",
    "from collections import Counter\n",
    "\n",
    "nums=[1,2,2,4]\n",
    "l=[]\n",
    "for i,j in collections.Counter(nums).items():\n",
    "    if j>1:\n",
    "        l.append(i)\n",
    "        \n",
    "l.append(l[0]+1)\n",
    "\n",
    "print(l)"
   ]
  },
  {
   "cell_type": "code",
   "execution_count": null,
   "id": "8812dcbd",
   "metadata": {},
   "outputs": [],
   "source": []
  },
  {
   "cell_type": "code",
   "execution_count": null,
   "id": "b262e382",
   "metadata": {},
   "outputs": [],
   "source": []
  }
 ],
 "metadata": {
  "kernelspec": {
   "display_name": "Python 3 (ipykernel)",
   "language": "python",
   "name": "python3"
  },
  "language_info": {
   "codemirror_mode": {
    "name": "ipython",
    "version": 3
   },
   "file_extension": ".py",
   "mimetype": "text/x-python",
   "name": "python",
   "nbconvert_exporter": "python",
   "pygments_lexer": "ipython3",
   "version": "3.9.13"
  }
 },
 "nbformat": 4,
 "nbformat_minor": 5
}
