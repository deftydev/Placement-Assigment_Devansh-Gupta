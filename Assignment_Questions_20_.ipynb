{
  "nbformat": 4,
  "nbformat_minor": 0,
  "metadata": {
    "colab": {
      "provenance": []
    },
    "kernelspec": {
      "name": "python3",
      "display_name": "Python 3"
    },
    "language_info": {
      "name": "python"
    }
  },
  "cells": [
    {
      "cell_type": "code",
      "execution_count": null,
      "metadata": {
        "id": "Q78X7i9CdnPu"
      },
      "outputs": [],
      "source": [
        "Given a binary tree, your task is to find subtree with maximum sum in tree."
      ]
    },
    {
      "cell_type": "code",
      "source": [
        "class Solution(object):\n",
        "    def maxSum(self, root):\n",
        "        out  =subtree(root.left)\n",
        "        out_r=subtree(root.right)\n",
        "\n",
        "        return max(out,out_r)\n",
        "\n",
        "def subtree(root):\n",
        "    if root is None:\n",
        "        return 0\n",
        "    return root.val+subtree(root.left)+subtree(root.right)\n",
        "\n"
      ],
      "metadata": {
        "id": "3KhwbyWahNxq"
      },
      "execution_count": null,
      "outputs": []
    },
    {
      "cell_type": "code",
      "source": [
        "Construct the BST (Binary Search Tree) from its given level order traversal.\n",
        "arr[] = {7, 4, 12, 3, 6, 8, 1, 5, 10}"
      ],
      "metadata": {
        "id": "QPYVHpFY1kwP"
      },
      "execution_count": null,
      "outputs": []
    },
    {
      "cell_type": "code",
      "source": [
        "        listt= [7, 4, 12, 3, 6, 8, 1, 5, 10]\n",
        "        root=TreeNode(listt.pop(0))\n",
        "\n",
        "        while(len(listt)):\n",
        "            ele=listt.pop(0)\n",
        "            Node=TreeNode(ele)\n",
        "            temp=root\n",
        "\n",
        "            if temp.val>Node.val:\n",
        "                temp=temp.left\n",
        "                while(True):\n",
        "                    if temp is None:\n",
        "                        temp=Node\n",
        "                        break\n",
        "                    elif temp.val>Node.val:\n",
        "                        temp=temp.left\n",
        "                    else:\n",
        "                        temp=temp.right\n",
        "            else:\n",
        "                temp=temp.right\n",
        "                while(True):\n",
        "                    if temp is None:\n",
        "                        temp=Node\n",
        "                        break\n",
        "                    elif temp.val>Node.val:\n",
        "                        temp=temp.left\n",
        "                    else:\n",
        "                        temp=temp.right"
      ],
      "metadata": {
        "id": "Sh52KAJe1pR-"
      },
      "execution_count": null,
      "outputs": []
    },
    {
      "cell_type": "code",
      "source": [
        "<aside>\n",
        "💡 Question-3\n",
        "\n",
        "Given an array of size n. The problem is to check whether the given array can represent the level order traversal of a Binary Search Tree or not.\n",
        "\n",
        "Examples:\n",
        "\n",
        "</aside>\n",
        "{7, 4, 12, 3, 6, 8, 1, 5, 10}\n",
        "{11, 6, 13, 5, 12, 10}"
      ],
      "metadata": {
        "id": "_YzhUTmr1pu4"
      },
      "execution_count": null,
      "outputs": []
    },
    {
      "cell_type": "markdown",
      "source": [
        "First construct BST from given arr then calculate its level order traversal if it is equal to that arr ,then the array is level order traversal of given tree otherwise not."
      ],
      "metadata": {
        "id": "L-l2VAeHdrWL"
      }
    },
    {
      "cell_type": "code",
      "source": [
        "        listt= [7, 4, 12, 3, 6, 8, 1, 5, 10]\n",
        "        arr= [7, 4, 12, 3, 6, 8, 1, 5, 10]\n",
        "        root=TreeNode(listt.pop(0))\n",
        "\n",
        "        while(len(listt)):\n",
        "            ele=listt.pop(0)\n",
        "            Node=TreeNode(ele)\n",
        "            temp=root\n",
        "\n",
        "            if temp.val>Node.val:\n",
        "                temp=temp.left\n",
        "                while(True):\n",
        "                    if temp is None:\n",
        "                        temp=Node\n",
        "                        break\n",
        "                    elif temp.val>Node.val:\n",
        "                        temp=temp.left\n",
        "                    else:\n",
        "                        temp=temp.right\n",
        "            else:\n",
        "                temp=temp.right\n",
        "                while(True):\n",
        "                    if temp is None:\n",
        "                        temp=Node\n",
        "                        break\n",
        "                    elif temp.val>Node.val:\n",
        "                        temp=temp.left\n",
        "                    else:\n",
        "                        temp=temp.right\n",
        "\n",
        "      def levelOrder(self, root):\n",
        "        if not root:\n",
        "            return []\n",
        "        q = deque()\n",
        "        q.append(root)\n",
        "        res = []\n",
        "        while len(q):\n",
        "            lev = []\n",
        "            for i in range(len(q)):\n",
        "                el = q.popleft()\n",
        "                lev.append(el.val)\n",
        "                if el.left:\n",
        "                    q.append(el.left)\n",
        "                if el.right:\n",
        "                    q.append(el.right)\n",
        "            res.append(lev)\n",
        "        return res\n",
        "\n",
        "        if res==arr:\n",
        "          print(\"True\")\n",
        "        else:\n",
        "          print(\"False\")"
      ],
      "metadata": {
        "id": "4um0O6lEdo2g"
      },
      "execution_count": null,
      "outputs": []
    }
  ]
}