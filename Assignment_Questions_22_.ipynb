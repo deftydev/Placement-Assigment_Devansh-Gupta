{
  "nbformat": 4,
  "nbformat_minor": 0,
  "metadata": {
    "colab": {
      "provenance": []
    },
    "kernelspec": {
      "name": "python3",
      "display_name": "Python 3"
    },
    "language_info": {
      "name": "python"
    }
  },
  "cells": [
    {
      "cell_type": "code",
      "execution_count": null,
      "metadata": {
        "id": "LyHiyFAuPeMS"
      },
      "outputs": [],
      "source": [
        "<aside>\n",
        "💡 Question-1:\n",
        "\n",
        "Given a Binary Tree (Bt), convert it to a Doubly Linked List(DLL). The left and right pointers in nodes are to be used as previous and next pointers respectively in converted DLL. The order of nodes in DLL must be the same as in Inorder for the given Binary Tree. The first node of Inorder traversal (leftmost node in BT) must be the head node of the DLL.\n",
        "\n",
        "</aside>"
      ]
    },
    {
      "cell_type": "code",
      "source": [
        "prev=null , head=null\n",
        "\n",
        "def converttoll(root):\n",
        "  if root is None:\n",
        "    return None\n",
        "  converttoll(root.left)\n",
        "  if prev is None:\n",
        "    head=root\n",
        "  else:\n",
        "    root.left=prev\n",
        "    prev.right=root\n",
        "  prev=root\n",
        "  converttoll(root.right)"
      ],
      "metadata": {
        "id": "bafc8TZbPgw0"
      },
      "execution_count": null,
      "outputs": []
    },
    {
      "cell_type": "code",
      "source": [
        "<aside>\n",
        "💡 Question-2\n",
        "\n",
        "A Given a binary tree, the task is to flip the binary tree towards the right direction that is clockwise. See the below examples to see the transformation.\n",
        "\n",
        "In the flip operation, the leftmost node becomes the root of the flipped tree and its parent becomes its right child and the right sibling becomes its left child and the same should be done for all left most nodes recursively.\n",
        "\n",
        "</aside>"
      ],
      "metadata": {
        "id": "IimKUcFoPgzN"
      },
      "execution_count": null,
      "outputs": []
    },
    {
      "cell_type": "code",
      "source": [],
      "metadata": {
        "id": "fpjsZBeBPg35"
      },
      "execution_count": null,
      "outputs": []
    },
    {
      "cell_type": "code",
      "source": [
        "<aside>\n",
        "💡 Question-3:\n",
        "\n",
        "Given a binary tree, print all its root-to-leaf paths without using recursion. For example, consider the following Binary Tree.\n",
        "\n",
        "</aside>"
      ],
      "metadata": {
        "id": "qCONUsXmPg6J"
      },
      "execution_count": null,
      "outputs": []
    },
    {
      "cell_type": "code",
      "source": [
        "class Solution(object):\n",
        "    def binaryTreePaths(self, root):\n",
        "        output=[]\n",
        "        strr=\"\"\n",
        "        if root.left is None and root.right is None:\n",
        "            strr=strr+str(root.val)+\"->\"\n",
        "            output.append(strr[0:len(strr)-2])\n",
        "            return output\n",
        "\n",
        "        return path(root,strr,output)\n",
        "\n",
        "\n",
        "def path(root,strr,output):\n",
        "    if root is None:\n",
        "        return\n",
        "    strr=strr+str(root.val)+\"->\"\n",
        "\n",
        "    if root.left is None and root.right is None:\n",
        "        output.append(strr[0:len(strr)-2])\n",
        "        return\n",
        "\n",
        "    path(root.left,strr,output)\n",
        "    path(root.right,strr,output)\n",
        "\n",
        "    return output"
      ],
      "metadata": {
        "id": "pjugK2u9Pg8X"
      },
      "execution_count": null,
      "outputs": []
    },
    {
      "cell_type": "code",
      "source": [],
      "metadata": {
        "id": "QKia5LDZPg-l"
      },
      "execution_count": null,
      "outputs": []
    },
    {
      "cell_type": "code",
      "source": [
        "<aside>\n",
        "💡 Question-4:\n",
        "\n",
        "Given Preorder, Inorder and Postorder traversals of some tree. Write a program to check if they all are of the same tree.\n",
        "\n",
        "</aside>"
      ],
      "metadata": {
        "id": "YO_UbrNqPhAl"
      },
      "execution_count": null,
      "outputs": []
    },
    {
      "cell_type": "code",
      "source": [
        "def buildTreeRec( preorder, inorder):\n",
        "\n",
        "    if not inorder:\n",
        "      return None\n",
        "\n",
        "    n = TreeNode(preorder.pop(0))\n",
        "    i = inorder.index(n.val)\n",
        "    n.left = buildTreeRec(preorder, inorder[:i])\n",
        "    n.right = buildTreeRec(preorder, inorder[i+1:])\n",
        "    return n\n",
        "\n",
        "listt= buildTreeRec(preorder, inorder)\n",
        "root=Node(preorder[0])\n",
        "arr=[]\n",
        "def buildpostorder(root):\n",
        "  if root is None:\n",
        "    return\n",
        "  buildpostorder(root.left)\n",
        "  buildpostorder(root.right)\n",
        "  arr.append(root.val)\n",
        "\n",
        "if arr==postorder:\n",
        "  print(\"True\")\n",
        "else:\n",
        "  print(\"False\")"
      ],
      "metadata": {
        "id": "sqdX-V_UPhD-"
      },
      "execution_count": null,
      "outputs": []
    }
  ]
}