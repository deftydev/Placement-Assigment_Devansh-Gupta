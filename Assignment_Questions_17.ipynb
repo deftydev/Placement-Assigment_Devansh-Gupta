{
  "nbformat": 4,
  "nbformat_minor": 0,
  "metadata": {
    "colab": {
      "provenance": []
    },
    "kernelspec": {
      "name": "python3",
      "display_name": "Python 3"
    },
    "language_info": {
      "name": "python"
    }
  },
  "cells": [
    {
      "cell_type": "code",
      "execution_count": null,
      "metadata": {
        "id": "mWIdCj9Qgqej"
      },
      "outputs": [],
      "source": [
        "<aside>\n",
        "💡 **Question 1**\n",
        "\n",
        "Given a string `s`, *find the first non-repeating character in it and return its index*. If it does not exist, return `-1`.\n",
        "\n",
        "**Example 1:**\n",
        "\n",
        "</aside>"
      ]
    },
    {
      "cell_type": "code",
      "source": [
        "s = \"leetcode\"\n",
        "d={}\n",
        "for i in range(len(s)):\n",
        "  d[s[i]]= d.get(s[i],0)+1\n",
        "\n",
        "for j,k in d.items():\n",
        "  if k==1:\n",
        "    ele=j\n",
        "    break\n",
        "\n",
        "for i in range(len(s)):\n",
        "  if ele==s[i]:\n",
        "    print(i)\n",
        "    break"
      ],
      "metadata": {
        "colab": {
          "base_uri": "https://localhost:8080/"
        },
        "id": "kzV4HhuGg5wE",
        "outputId": "f419306a-d273-4691-d93c-a33fa4ba9967"
      },
      "execution_count": null,
      "outputs": [
        {
          "output_type": "stream",
          "name": "stdout",
          "text": [
            "0\n"
          ]
        }
      ]
    },
    {
      "cell_type": "code",
      "source": [
        "<aside>\n",
        "💡 **Question 2**\n",
        "\n",
        "Given a **circular integer array** `nums` of length `n`, return *the maximum possible sum of a non-empty **subarray** of* `nums`.\n",
        "\n",
        "A **circular array** means the end of the array connects to the beginning of the array. Formally, the next element of `nums[i]` is `nums[(i + 1) % n]` and the previous element of `nums[i]` is `nums[(i - 1 + n) % n]`.\n",
        "\n",
        "</aside>"
      ],
      "metadata": {
        "id": "VGqJ2Mhmg5yr"
      },
      "execution_count": null,
      "outputs": []
    },
    {
      "cell_type": "code",
      "source": [
        "class Solution(object):\n",
        "    def maxSubarraySumCircular(self, nums):\n",
        "\n",
        "        curr_max=  nums[0]\n",
        "        curr_min= nums[0]\n",
        "        maxx= nums[0]\n",
        "        minn= nums[0]\n",
        "        summ=nums[0]\n",
        "        for i in range(1,len(nums)):\n",
        "            summ=summ+nums[i]\n",
        "\n",
        "            curr_max= max(curr_max+nums[i],nums[i])\n",
        "            maxx= max(maxx, curr_max)\n",
        "            curr_min= min(curr_min+nums[i], nums[i])\n",
        "            minn= min(minn, curr_min)\n",
        "\n",
        "        if summ==minn:\n",
        "            return maxx\n",
        "\n",
        "        return max(maxx , (summ-minn))"
      ],
      "metadata": {
        "id": "Ty6dTpxEg508"
      },
      "execution_count": null,
      "outputs": []
    },
    {
      "cell_type": "code",
      "source": [
        "<aside>\n",
        "💡 **Question 3**\n",
        "\n",
        "The school cafeteria offers circular and square sandwiches at lunch break, referred to by numbers `0` and `1` respectively. All students stand in a queue. Each student either prefers square or circular sandwiches.\n",
        "\n",
        "The number of sandwiches in the cafeteria is equal to the number of students. The sandwiches are placed in a **stack**. At each step:\n",
        "\n",
        "- If the student at the front of the queue **prefers** the sandwich on the top of the stack, they will **take it** and leave the queue.\n",
        "- Otherwise, they will **leave it** and go to the queue's end.\n",
        "\n",
        "This continues until none of the queue students want to take the top sandwich and are thus unable to eat.\n",
        "\n",
        "You are given two integer arrays `students` and `sandwiches` where `sandwiches[i]` is the type of the `ith` sandwich in the stack (`i = 0` is the top of the stack) and `students[j]` is the preference of the `jth` student in the initial queue (`j = 0` is the front of the queue). Return *the number of students that are unable to eat.*\n",
        "\n",
        "</aside>"
      ],
      "metadata": {
        "id": "mgyJB5bjg53W"
      },
      "execution_count": null,
      "outputs": []
    },
    {
      "cell_type": "code",
      "source": [
        "class Solution(object):\n",
        "    def countStudents(self, students, sandwiches):\n",
        "\n",
        "        flag=True\n",
        "        while(flag and len(students)>0):\n",
        "            if students[0]==sandwiches[0]:\n",
        "                students.remove(students[0])\n",
        "                sandwiches.remove(sandwiches[0])\n",
        "            else:\n",
        "                ele= students[0]\n",
        "                students.remove(students[0])\n",
        "                students.append(ele)\n",
        "                flag=False\n",
        "                for k in range(len(students)):\n",
        "                    if students[k]== sandwiches[0]:\n",
        "                        flag=True\n",
        "                        break\n",
        "        if flag==True:\n",
        "            return 0\n",
        "        else:\n",
        "            return len(sandwiches)"
      ],
      "metadata": {
        "id": "7oRE7MLAg55w"
      },
      "execution_count": null,
      "outputs": []
    },
    {
      "cell_type": "code",
      "source": [
        "<aside>\n",
        "💡\n",
        "\n",
        "You have a `RecentCounter` class which counts the number of recent requests within a certain time frame.\n",
        "\n",
        "Implement the `RecentCounter` class:\n",
        "\n",
        "- `RecentCounter()` Initializes the counter with zero recent requests.\n",
        "- `int ping(int t)` Adds a new request at time `t`, where `t` represents some time in milliseconds, and returns the number of requests that has happened in the past `3000` milliseconds (including the new request). Specifically, return the number of requests that have happened in the inclusiv\n",
        "</aside>"
      ],
      "metadata": {
        "id": "rYPqg2hBg58b"
      },
      "execution_count": null,
      "outputs": []
    },
    {
      "cell_type": "code",
      "source": [
        "class RecentCounter(object):\n",
        "\n",
        "    def __init__(self):\n",
        "        self.counter=[]\n",
        "\n",
        "    def ping(self, t):\n",
        "        self.counter.append(t)\n",
        "        minn= t-3000\n",
        "        maxx=t\n",
        "        summ=0\n",
        "        for i in range(len(self.counter)):\n",
        "            if self.counter[i]>=minn and self.counter[i]<=maxx:\n",
        "                summ+=1\n",
        "\n",
        "        return summ\n"
      ],
      "metadata": {
        "id": "3-4MV80gg5_K"
      },
      "execution_count": null,
      "outputs": []
    },
    {
      "cell_type": "code",
      "source": [
        "<aside>\n",
        "💡 **Question 5**\n",
        "\n",
        "There are `n` friends that are playing a game. The friends are sitting in a circle and are numbered from `1` to `n` in **clockwise order**. More formally, moving clockwise from the `ith` friend brings you to the `(i+1)th` friend for `1 <= i < n`, and moving clockwise from the `nth` friend brings you to the `1st` friend.\n",
        "\n",
        "The rules of the game are as follows:\n",
        "\n",
        "1. **Start** at the `1st` friend.\n",
        "</aside>"
      ],
      "metadata": {
        "id": "nJULUv_9g6Bq"
      },
      "execution_count": null,
      "outputs": []
    },
    {
      "cell_type": "code",
      "source": [
        "class Solution(object):\n",
        "    def findTheWinner(self, n, k):\n",
        "        queue=[]\n",
        "        for i in range(1,n+1):\n",
        "            queue.append(i)\n",
        "        idx=0\n",
        "        while(len(queue)!=1):\n",
        "            idx = (k-1) % (len(queue))\n",
        "            print(idx)\n",
        "            queue.pop(idx)\n",
        "            queue= queue[idx:]+queue[:idx]\n",
        "\n",
        "        return queue[0]"
      ],
      "metadata": {
        "id": "HjcDT4rtg6EQ"
      },
      "execution_count": null,
      "outputs": []
    },
    {
      "cell_type": "code",
      "source": [
        "You are given an integer array `deck`. There is a deck of cards where every card has a unique integer. The integer on the `ith` card is `deck[i]`.\n",
        "\n",
        "You can order the deck in any order you want. Initially, all the cards start face down (unrevealed) in one deck.\n",
        "\n",
        "You will do the following steps repeatedly until all cards are revealed:\n",
        "\n",
        "1. Take the top card of the deck, reveal it, and take it out of the deck.\n",
        "2. If there are still cards in the deck then put the next top card of the deck at the bottom of the deck.\n",
        "3. If there are still unrevealed cards, go back to step 1. Otherwise, stop.\n",
        "\n",
        "Return *an ordering of the deck that would reveal the cards in increasing order*.\n",
        "\n",
        "**Note** that the first entry in the answer is considered to be the top of the deck."
      ],
      "metadata": {
        "id": "ksMv6nwZg6Hj"
      },
      "execution_count": null,
      "outputs": []
    },
    {
      "cell_type": "code",
      "source": [
        "class Solution(object):\n",
        "    def deckRevealedIncreasing(self, deck):\n",
        "        \"\"\"\n",
        "        :type deck: List[int]\n",
        "        :rtype: List[int]\n",
        "        \"\"\"\n",
        "        d=deque(sorted(deck))\n",
        "        print(d)\n",
        "        res = deque()\n",
        "        l = len(d)\n",
        "        while l != len(res):\n",
        "            t = d.pop()\n",
        "            if len(res)>0:\n",
        "                r = res.pop()\n",
        "                res.appendleft(r)\n",
        "            res.appendleft(t)\n",
        "            print(res)\n",
        "        return res"
      ],
      "metadata": {
        "id": "Ogx9EyO8EbO_"
      },
      "execution_count": null,
      "outputs": []
    },
    {
      "cell_type": "code",
      "source": [
        "<aside>\n",
        "💡 **Question 7**\n",
        "\n",
        "Design a queue that supports `push` and `pop` operations in the front, middle, and back.\n",
        "\n",
        "Implement the `FrontMiddleBack` class:\n",
        "\n",
        "- `FrontMiddleBack()` Initializes the queue.\n",
        "- `void pushFront(int val)` Adds `val` to the **front** of the queue.\n",
        "- `void pushMiddle(int val)` Adds `val` to the **middle** of the queue.\n",
        "- `void pushBack(int val)` Adds `val` to the **back** of the queue.\n",
        "- `int popFront()` Removes the **front** element of the queue and returns it. If the queue is empty, return `1`.\n",
        "- `int popMiddle()` Removes the **middle** element of the queue and returns it. If the queue is empty, return `1`.\n",
        "- `int popBack()` Removes th\n",
        "</aside>"
      ],
      "metadata": {
        "id": "qRJGHVlTEbaW"
      },
      "execution_count": null,
      "outputs": []
    },
    {
      "cell_type": "code",
      "source": [
        "class Node:\n",
        "    def __init__(self,val,next=None):\n",
        "        self.val=val\n",
        "        self.next=None\n",
        "\n",
        "class FrontMiddleBackQueue(object):\n",
        "\n",
        "    def __init__(self):\n",
        "        self.head=None\n",
        "\n",
        "    def pushFront(self, val):\n",
        "        \"\"\"\n",
        "        :type val: int\n",
        "        :rtype: None\n",
        "        \"\"\"\n",
        "        add= Node(val)\n",
        "\n",
        "        if self.head is None:\n",
        "            self.head=add\n",
        "\n",
        "        temp=self.head\n",
        "        add.next=temp\n",
        "        self.head=add\n",
        "\n",
        "\n",
        "\n",
        "    def pushMiddle(self, val):\n",
        "        \"\"\"\n",
        "        :type val: int\n",
        "        :rtype: None\n",
        "        \"\"\"\n",
        "        new= Node(val)\n",
        "        slow= self.head\n",
        "        l=0\n",
        "\n",
        "        while(slow is not None):\n",
        "            l+=1\n",
        "            slow=slow.next\n",
        "        mid= l//2\n",
        "        temp=self.head\n",
        "        while(mid!=1):\n",
        "            temp=temp.next\n",
        "            mid-=1\n",
        "        right= temp.next\n",
        "        temp.next=None\n",
        "        temp.next=new\n",
        "        new.next=right\n",
        "\n",
        "\n",
        "    def pushBack(self, val):\n",
        "        \"\"\"\n",
        "        :type val: int\n",
        "        :rtype: None\n",
        "        \"\"\"\n",
        "        add=Node(val)\n",
        "        temp=self.head\n",
        "        while(temp.next is not None):\n",
        "            temp=temp.next\n",
        "\n",
        "        temp.next=add\n",
        "\n",
        "\n",
        "    def popFront(self):\n",
        "        \"\"\"\n",
        "        :rtype: int\n",
        "        \"\"\"\n",
        "        if self.head is None:\n",
        "            return -1\n",
        "        temp=self.head.next\n",
        "        ele=self.head.val\n",
        "        self.head.next=None\n",
        "        self.head=temp\n",
        "\n",
        "\n",
        "\n",
        "    def popMiddle(self):\n",
        "        \"\"\"\n",
        "        :rtype: int\n",
        "        \"\"\"\n",
        "        slow= self.head\n",
        "        l=0\n",
        "\n",
        "        while(slow is not None):\n",
        "            l+=1\n",
        "            slow=slow.next\n",
        "        mid= l//2\n",
        "        temp=self.head\n",
        "        while(mid!=1):\n",
        "            temp=temp.next\n",
        "            mid-=1\n",
        "        right= temp.next.next\n",
        "        ele=temp.next.val\n",
        "        temp.next=None\n",
        "        temp.next=right\n",
        "\n",
        "        return ele\n",
        "\n",
        "\n",
        "    def popBack(self):\n",
        "        \"\"\"\n",
        "        :rtype: int\n",
        "        \"\"\"\n",
        "        temp=self.head()\n",
        "        while(temp.next.next is not None):\n",
        "            temp=temp.next\n",
        "\n",
        "        ele=temp.next.val\n",
        "        temp.next=None\n",
        "        return ele\n",
        "\n",
        "\n"
      ],
      "metadata": {
        "id": "VAZbxQFWEbc6"
      },
      "execution_count": null,
      "outputs": []
    },
    {
      "cell_type": "code",
      "source": [
        "<aside>\n",
        "💡 **Question 8**\n",
        "\n",
        "For a stream of integers, implement a data structure that checks if the last `k` integers parsed in the stream are **equal** to `value`.\n",
        "\n",
        "Implement the **DataStream** class:\n",
        "\n",
        "- `DataStream(int value, int k)` Initializes the object with an empty integer stream and the two integers `value` and `k`.\n",
        "- `boolean consec(int num)` Adds `num` to the stream of integers. Returns `true` if the last `k` integers are equal to `value`, and `false` otherwise. If there are less than `k` integers, the condition does not hold true, so returns `false`.\n",
        "</aside>"
      ],
      "metadata": {
        "id": "-5akVJDu2N1k"
      },
      "execution_count": null,
      "outputs": []
    },
    {
      "cell_type": "code",
      "source": [
        "class DataStream(object):\n",
        "\n",
        "    def __init__(self, value, k):\n",
        "\n",
        "        self.value=value\n",
        "        self.k=k\n",
        "        self.stream=[]\n",
        "\n",
        "\n",
        "    def consec(self, num):\n",
        "        self.stream.append(num)\n",
        "        if len(self.stream)<self.k:\n",
        "            return False\n",
        "\n",
        "        listt= self.stream[len(self.stream)-self.k :]\n",
        "        for i in listt:\n",
        "            if i==num:\n",
        "                continue\n",
        "            else:\n",
        "                return False\n",
        "\n",
        "        return True\n"
      ],
      "metadata": {
        "id": "Qou7kFE02N5C"
      },
      "execution_count": null,
      "outputs": []
    }
  ]
}