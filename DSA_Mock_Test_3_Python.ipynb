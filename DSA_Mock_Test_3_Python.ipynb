{
  "nbformat": 4,
  "nbformat_minor": 0,
  "metadata": {
    "colab": {
      "provenance": []
    },
    "kernelspec": {
      "name": "python3",
      "display_name": "Python 3"
    },
    "language_info": {
      "name": "python"
    }
  },
  "cells": [
    {
      "cell_type": "code",
      "execution_count": null,
      "metadata": {
        "id": "ijm7lLoyOkB6"
      },
      "outputs": [],
      "source": [
        "Implement a stack using a list in Python. Include the necessary methods such as push, pop, and isEmpty."
      ]
    },
    {
      "cell_type": "code",
      "source": [
        "listt=[1,2,3,4,5]\n",
        "\n",
        "\n",
        "def push(ele,listt):\n",
        "  for i in range(len(listt)):\n",
        "    temp=listt[i]\n",
        "    listt[i]=ele\n",
        "    ele=temp\n",
        "  listt.append(ele)\n",
        "  return listt\n",
        "\n",
        "def pop(listt):\n",
        "  listt.pop()\n",
        "  return listt\n",
        "\n",
        "def isEmpty(listt):\n",
        "  if len(listt)==0:\n",
        "    return False\n",
        "  else:\n",
        "    return True\n",
        "\n",
        "print(f\"Append into list {push(12,listt)}\")\n",
        "pop(listt)\n",
        "print(f\"Append into list {push(11,listt)}\")\n",
        "print(isEmpty(listt))"
      ],
      "metadata": {
        "colab": {
          "base_uri": "https://localhost:8080/"
        },
        "id": "PRGLTP8kOvVO",
        "outputId": "3de55a6b-d5e5-4bc9-8ff7-3e5d727d6402"
      },
      "execution_count": 3,
      "outputs": [
        {
          "output_type": "stream",
          "name": "stdout",
          "text": [
            "Append into list [12, 1, 2, 3, 4, 5]\n",
            "Append into list [11, 12, 1, 2, 3, 4]\n",
            "True\n"
          ]
        }
      ]
    },
    {
      "cell_type": "code",
      "source": [],
      "metadata": {
        "id": "HaKa3Qh1OvXp"
      },
      "execution_count": null,
      "outputs": []
    },
    {
      "cell_type": "code",
      "source": [],
      "metadata": {
        "id": "ljnrgYAAOvav"
      },
      "execution_count": null,
      "outputs": []
    }
  ]
}