{
 "cells": [
  {
   "cell_type": "code",
   "execution_count": null,
   "id": "c14d0ae5",
   "metadata": {},
   "outputs": [],
   "source": [
    "Write a program to download the data from the link given below and then read the data and convert the into\n",
    "the proper structure and return it as a CSV file.\n",
    "Link - https://data.nasa.gov/resource/y77d-th95.json\n",
    "Note - Write code comments wherever needed for code understanding."
   ]
  },
  {
   "cell_type": "code",
   "execution_count": null,
   "id": "677bcec4",
   "metadata": {},
   "outputs": [],
   "source": []
  },
  {
   "cell_type": "code",
   "execution_count": null,
   "id": "3026dcdf",
   "metadata": {},
   "outputs": [],
   "source": [
    "Excepted Output Data Attributes\n",
    "● Name of Earth Meteorite - string id - ID of Earth\n",
    "● Meteorite - int nametype - string recclass - string\n",
    "● mass - Mass of Earth Meteorite - float year - Year at which Earth\n",
    "● Meteorite was hit - datetime format reclat - float recclong - float\n",
    "● point coordinates - list of int"
   ]
  },
  {
   "cell_type": "code",
   "execution_count": null,
   "id": "7956cf40",
   "metadata": {},
   "outputs": [],
   "source": []
  },
  {
   "cell_type": "code",
   "execution_count": 28,
   "id": "9b094f85",
   "metadata": {},
   "outputs": [
    {
     "name": "stdout",
     "output_type": "stream",
     "text": [
      "https://data.nasa.gov/resource/y77d-th95.json\n"
     ]
    }
   ],
   "source": [
    "import requests\n",
    "import pandas as pd\n",
    "\n",
    "input_url = input().strip()\n",
    "response = requests.get(input_url)\n",
    "df= pd.DataFrame(response.json())\n",
    "df.to_csv(\"gov.csv\")\n"
   ]
  },
  {
   "cell_type": "code",
   "execution_count": null,
   "id": "9295add6",
   "metadata": {},
   "outputs": [],
   "source": []
  },
  {
   "cell_type": "code",
   "execution_count": 4,
   "id": "278659ca",
   "metadata": {},
   "outputs": [],
   "source": [
    "final_df = pd.read_csv(\"gov.csv\")"
   ]
  },
  {
   "cell_type": "code",
   "execution_count": 8,
   "id": "9096229d",
   "metadata": {},
   "outputs": [
    {
     "name": "stdout",
     "output_type": "stream",
     "text": [
      "<class 'pandas.core.frame.DataFrame'>\n",
      "RangeIndex: 1000 entries, 0 to 999\n",
      "Data columns (total 13 columns):\n",
      " #   Column                       Non-Null Count  Dtype  \n",
      "---  ------                       --------------  -----  \n",
      " 0   Unnamed: 0                   1000 non-null   int64  \n",
      " 1   name                         1000 non-null   object \n",
      " 2   id                           1000 non-null   int64  \n",
      " 3   nametype                     1000 non-null   object \n",
      " 4   recclass                     1000 non-null   object \n",
      " 5   mass                         972 non-null    float64\n",
      " 6   fall                         1000 non-null   object \n",
      " 7   year                         999 non-null    object \n",
      " 8   reclat                       988 non-null    float64\n",
      " 9   reclong                      988 non-null    float64\n",
      " 10  geolocation                  988 non-null    object \n",
      " 11  :@computed_region_cbhk_fwbd  133 non-null    float64\n",
      " 12  :@computed_region_nnqa_25f4  134 non-null    float64\n",
      "dtypes: float64(5), int64(2), object(6)\n",
      "memory usage: 101.7+ KB\n"
     ]
    }
   ],
   "source": [
    "final_df.info()"
   ]
  },
  {
   "cell_type": "code",
   "execution_count": 23,
   "id": "b66306e9",
   "metadata": {},
   "outputs": [
    {
     "data": {
      "text/plain": [
       "Index(['Unnamed: 0', 'name', 'id', 'nametype', 'recclass', 'mass', 'fall',\n",
       "       'year', 'reclat', 'reclong', 'geolocation',\n",
       "       ':@computed_region_cbhk_fwbd', ':@computed_region_nnqa_25f4'],\n",
       "      dtype='object')"
      ]
     },
     "execution_count": 23,
     "metadata": {},
     "output_type": "execute_result"
    }
   ],
   "source": [
    "final_df.columns"
   ]
  },
  {
   "cell_type": "code",
   "execution_count": 24,
   "id": "a233e557",
   "metadata": {},
   "outputs": [],
   "source": [
    "final_df.drop(labels=\"Unnamed: 0\",axis=1,inplace=True)"
   ]
  },
  {
   "cell_type": "code",
   "execution_count": 27,
   "id": "a217cc9b",
   "metadata": {},
   "outputs": [
    {
     "name": "stdout",
     "output_type": "stream",
     "text": [
      "name object\n",
      "id int64\n",
      "nametype object\n",
      "recclass object\n",
      "mass float64\n",
      "fall object\n",
      "year object\n",
      "reclat float64\n",
      "reclong float64\n",
      "geolocation object\n",
      ":@computed_region_cbhk_fwbd float64\n",
      ":@computed_region_nnqa_25f4 float64\n"
     ]
    }
   ],
   "source": [
    "for i  in final_df.columns:\n",
    "    print(i , final_df[i].dtypes)"
   ]
  },
  {
   "cell_type": "code",
   "execution_count": null,
   "id": "9584e7dd",
   "metadata": {},
   "outputs": [],
   "source": [
    "# type of every column along with column name is printed"
   ]
  }
 ],
 "metadata": {
  "kernelspec": {
   "display_name": "Python 3 (ipykernel)",
   "language": "python",
   "name": "python3"
  },
  "language_info": {
   "codemirror_mode": {
    "name": "ipython",
    "version": 3
   },
   "file_extension": ".py",
   "mimetype": "text/x-python",
   "name": "python",
   "nbconvert_exporter": "python",
   "pygments_lexer": "ipython3",
   "version": "3.9.13"
  }
 },
 "nbformat": 4,
 "nbformat_minor": 5
}
