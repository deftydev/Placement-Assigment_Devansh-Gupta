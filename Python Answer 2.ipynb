{
 "cells": [
  {
   "cell_type": "code",
   "execution_count": null,
   "id": "42c70f7b",
   "metadata": {},
   "outputs": [],
   "source": [
    "Question 2: -\n",
    "Consider a string to be valid if all characters of the string appear the same number of times. It is also valid if\n",
    "he can remove just one character at the index in the string, and the remaining characters will occur the same\n",
    "number of times. Given a string, determine if it is valid. If so, return YES , otherwise return NO .\n",
    "\n",
    "Note - You have to write at least 2 additional test cases in which your program will run successfully and provide\n",
    "an explanation for the same.\n",
    "Example input 1 - s = “abc”. This is a valid string because frequencies are { “a”: 1, “b”: 1, “c”: 1 }\n",
    "Example output 1- YES\n",
    "Example input 2 - s “abcc”. This string is not valid as we can remove only 1 occurrence of “c”. That leaves\n",
    "character frequencies of { “a”: 1, “b”: 1 , “c”: 2 }\n",
    "Example output 2 - NO"
   ]
  },
  {
   "cell_type": "code",
   "execution_count": null,
   "id": "a5a8cee0",
   "metadata": {},
   "outputs": [],
   "source": []
  },
  {
   "cell_type": "code",
   "execution_count": 28,
   "id": "780f06a4",
   "metadata": {},
   "outputs": [
    {
     "name": "stdout",
     "output_type": "stream",
     "text": [
      "abc\n",
      "Yes\n"
     ]
    }
   ],
   "source": [
    "from collections import Counter\n",
    "\n",
    "input_list = list(input().strip())\n",
    "\n",
    "d={}\n",
    "for i,j in Counter(input_list).items():\n",
    "    d[i]= j\n",
    "    \n",
    "d= sorted(d.items(), key= lambda x:x[1])\n",
    "\n",
    "a, b = d[0]\n",
    "flag=True\n",
    "count=1\n",
    "\n",
    "for i in range(1,len(d)):\n",
    "    m,n = d[i]\n",
    "    \n",
    "    if n==b:\n",
    "        continue\n",
    "    elif n-1==b and count==1:\n",
    "        count=count-1\n",
    "    else:\n",
    "        flag=False\n",
    "        break\n",
    "        \n",
    "if flag==True :\n",
    "    print(\"Yes\")\n",
    "else:\n",
    "    print(\"No\")"
   ]
  },
  {
   "cell_type": "code",
   "execution_count": 29,
   "id": "3ebad38a",
   "metadata": {},
   "outputs": [
    {
     "name": "stdout",
     "output_type": "stream",
     "text": [
      "striing\n",
      "Yes\n"
     ]
    }
   ],
   "source": [
    "from collections import Counter\n",
    "\n",
    "input_list = list(input().strip())\n",
    "\n",
    "d={}\n",
    "for i,j in Counter(input_list).items():\n",
    "    d[i]= j\n",
    "    \n",
    "d= sorted(d.items(), key= lambda x:x[1])\n",
    "\n",
    "a, b = d[0]\n",
    "flag=True\n",
    "count=1\n",
    "\n",
    "for i in range(1,len(d)):\n",
    "    m,n = d[i]\n",
    "    \n",
    "    if n==b:\n",
    "        continue\n",
    "    elif n-1==b and count==1:\n",
    "        count=count-1\n",
    "    else:\n",
    "        flag=False\n",
    "        break\n",
    "        \n",
    "if flag==True :\n",
    "    print(\"Yes\")\n",
    "else:\n",
    "    print(\"No\")"
   ]
  },
  {
   "cell_type": "code",
   "execution_count": null,
   "id": "0b639349",
   "metadata": {},
   "outputs": [],
   "source": [
    "in this example i appears two times so if we remove one i then frequency of all the characters in it will be one only\n",
    "so it is a valid string"
   ]
  },
  {
   "cell_type": "code",
   "execution_count": null,
   "id": "0c31a06c",
   "metadata": {},
   "outputs": [],
   "source": []
  },
  {
   "cell_type": "code",
   "execution_count": 30,
   "id": "e6abf8e7",
   "metadata": {},
   "outputs": [
    {
     "name": "stdout",
     "output_type": "stream",
     "text": [
      "nooo\n",
      "No\n"
     ]
    }
   ],
   "source": [
    "from collections import Counter\n",
    "\n",
    "input_list = list(input().strip())\n",
    "\n",
    "d={}\n",
    "for i,j in Counter(input_list).items():\n",
    "    d[i]= j\n",
    "    \n",
    "d= sorted(d.items(), key= lambda x:x[1])\n",
    "\n",
    "a, b = d[0]\n",
    "flag=True\n",
    "count=1\n",
    "\n",
    "for i in range(1,len(d)):\n",
    "    m,n = d[i]\n",
    "    \n",
    "    if n==b:\n",
    "        continue\n",
    "    elif n-1==b and count==1:\n",
    "        count=count-1\n",
    "    else:\n",
    "        flag=False\n",
    "        break\n",
    "        \n",
    "if flag==True :\n",
    "    print(\"Yes\")\n",
    "else:\n",
    "    print(\"No\")"
   ]
  },
  {
   "cell_type": "code",
   "execution_count": null,
   "id": "22c84eac",
   "metadata": {},
   "outputs": [],
   "source": [
    "as frequency of n is 1 and o is e so even if you reduce frequency of o by 1, it will not be equal to that of n\n",
    "so it is not a valid string"
   ]
  }
 ],
 "metadata": {
  "kernelspec": {
   "display_name": "Python 3 (ipykernel)",
   "language": "python",
   "name": "python3"
  },
  "language_info": {
   "codemirror_mode": {
    "name": "ipython",
    "version": 3
   },
   "file_extension": ".py",
   "mimetype": "text/x-python",
   "name": "python",
   "nbconvert_exporter": "python",
   "pygments_lexer": "ipython3",
   "version": "3.9.13"
  }
 },
 "nbformat": 4,
 "nbformat_minor": 5
}
