{
  "nbformat": 4,
  "nbformat_minor": 0,
  "metadata": {
    "colab": {
      "provenance": []
    },
    "kernelspec": {
      "name": "python3",
      "display_name": "Python 3"
    },
    "language_info": {
      "name": "python"
    }
  },
  "cells": [
    {
      "cell_type": "code",
      "execution_count": null,
      "metadata": {
        "id": "itrTrcuu_Hu6"
      },
      "outputs": [],
      "source": [
        "<aside>\n",
        "💡 1. **Merge k Sorted Lists**\n",
        "\n",
        "You are given an array of `k` linked-lists `lists`, each linked-list is sorted in ascending order.\n",
        "\n",
        "*Merge all the linked-lists into one sorted linked-list and return it.*\n",
        "\n",
        "</aside>"
      ]
    },
    {
      "cell_type": "code",
      "source": [
        "class Solution(object):\n",
        "    def mergeKLists(self, lists):\n",
        "        \"\"\"\n",
        "        :type lists: List[ListNode]\n",
        "        :rtype: ListNode\n",
        "        \"\"\"\n",
        "        ll=[]\n",
        "        for i in range(len(lists)):\n",
        "            j=lists[i]\n",
        "            while j is not None:\n",
        "                ll.append(j.val)\n",
        "                j=j.next\n",
        "\n",
        "        ll.sort()\n",
        "        dummy = ListNode(0)\n",
        "        curr = dummy\n",
        "        for i in range(0,len(ll)):\n",
        "            curr.next=ListNode(ll[i])\n",
        "            curr=curr.next\n",
        "\n",
        "        return dummy.next"
      ],
      "metadata": {
        "id": "qFuuK-Bj_TmJ"
      },
      "execution_count": null,
      "outputs": []
    },
    {
      "cell_type": "code",
      "source": [
        "<aside>\n",
        "💡 . **Count of Smaller Numbers After Self**\n",
        "\n",
        "Given an integer array `nums`, return *an integer array* `counts` *where* `counts[i]` *is the number of smaller elements to the right of* `nums[i]`.\n",
        "\n",
        "**Example 1:**\n",
        "\n",
        "</aside>"
      ],
      "metadata": {
        "id": "3nsf79gg_Toy"
      },
      "execution_count": null,
      "outputs": []
    },
    {
      "cell_type": "code",
      "source": [
        "    def countSmaller(self, nums):\n",
        "        \"\"\"\n",
        "        :type nums: List[int]\n",
        "        :rtype: List[int]\n",
        "        \"\"\"\n",
        "        ll=[]\n",
        "        for i in range(len(nums)-1):\n",
        "            summ=0\n",
        "            for j in range(i+1,len(nums)):\n",
        "                if nums[i]>nums[j]:\n",
        "                    summ+=1\n",
        "            ll.append(summ)\n",
        "\n",
        "        ll.append(0)\n",
        "        return ll"
      ],
      "metadata": {
        "id": "gr6nYHRG_Trv"
      },
      "execution_count": null,
      "outputs": []
    },
    {
      "cell_type": "code",
      "source": [
        "<aside>\n",
        "💡 3. **Sort an Array**\n",
        "\n",
        "Given an array of integers `nums`, sort the array in ascending order and return it.\n",
        "\n",
        "You must solve the problem **without using any built-in** functions in `O(nlog(n))` time complexity and with the smallest space complexity possible.\n",
        "\n",
        "</aside>"
      ],
      "metadata": {
        "id": "s4uHRSRU_Tub"
      },
      "execution_count": null,
      "outputs": []
    },
    {
      "cell_type": "code",
      "source": [
        "def sortArray1(nums):\n",
        "        \"\"\"\n",
        "        :type nums: List[int]\n",
        "        :rtype: List[int]\n",
        "        \"\"\"\n",
        "        mid= len(nums)//2\n",
        "        list1= nums[:mid]\n",
        "        list2= nums[mid:]\n",
        "\n",
        "        return merge(sortArray1(list1),sortArray1(list2))\n",
        "\n",
        "    def merge(list1,list2):\n",
        "        combined=[]\n",
        "        l1=0\n",
        "        l2=0\n",
        "        while(l1<=len(list1)-1 and l2<=len(list2)-1):\n",
        "            if list1[l1]<=list2[l2]:\n",
        "                combined.append(list1[l1])\n",
        "                l1+=1\n",
        "            else:\n",
        "                combined.append(list2[l2])\n",
        "                l2+=1\n",
        "\n",
        "        while l1<len(list1):\n",
        "            combined.append(list1[l1])\n",
        "            l1+=1\n",
        "\n",
        "        while l2<len(list2):\n",
        "            combined.append(list2[l2])\n",
        "            l2+=1\n",
        "\n",
        "        return combined"
      ],
      "metadata": {
        "id": "VMrd_5RM_Tw7"
      },
      "execution_count": null,
      "outputs": []
    },
    {
      "cell_type": "code",
      "source": [
        "<aside>\n",
        "💡 4. **Move all zeroes to end of array**\n",
        "\n",
        "Given an array of random numbers, Push all the zero’s of a given array to the end of the array. For example, if the given arrays is {1, 9, 8, 4, 0, 0, 2, 7, 0, 6, 0}, it should be changed to {1, 9, 8, 4, 2, 7, 6, 0, 0, 0, 0}. The order of all other elements should be same. Expected time complexity is O(n) and extra space is O(1).\n",
        "\n",
        "</aside>"
      ],
      "metadata": {
        "id": "M6HC56KR_Tzl"
      },
      "execution_count": null,
      "outputs": []
    },
    {
      "cell_type": "code",
      "source": [
        "class Solution(object):\n",
        "    def moveZeroes(self, nums):\n",
        "        \"\"\"\n",
        "        :type nums: List[int]\n",
        "        :rtype: None Do not return anything, modify nums in-place instead.\n",
        "        \"\"\"\n",
        "\n",
        "        for i in range(len(nums)):\n",
        "            if nums[i]==0:\n",
        "                for j in range(i+1,len(nums)):\n",
        "                    if nums[j]!=0:\n",
        "                        nums[j],nums[i]=nums[i],nums[j]\n",
        "                        break\n",
        "        return nums"
      ],
      "metadata": {
        "id": "PNiPca23_T2b"
      },
      "execution_count": null,
      "outputs": []
    },
    {
      "cell_type": "code",
      "source": [
        "<aside>\n",
        "💡 5. **Rearrange array in alternating positive & negative items with O(1) extra space**\n",
        "\n",
        "Given an **array of positive** and **negative numbers**, arrange them in an **alternate** fashion such that every positive number is followed by a negative and vice-versa maintaining the **order of appearance**. The number of positive and negative numbers need not be equal. If there are more positive numbers they appear at the end of the array. If there are more negative numbers, they too appear at the end of the array.\n",
        "\n",
        "</aside>"
      ],
      "metadata": {
        "id": "qWbQ8J7S_T5S"
      },
      "execution_count": null,
      "outputs": []
    },
    {
      "cell_type": "code",
      "source": [
        "class Solution(object):\n",
        "    def rearrangeArray(self, nums):\n",
        "        \"\"\"\n",
        "        :type nums: List[int]\n",
        "        :rtype: List[int]\n",
        "        \"\"\"\n",
        "\n",
        "        for i in range(len(nums)):\n",
        "            if i%2==0:\n",
        "                if nums[i]>=0:\n",
        "                    continue\n",
        "                else:\n",
        "                    for j in range(i+1,len(nums)):\n",
        "                        if nums[j]>=0:\n",
        "                            nums[j],nums[i]=nums[i],nums[j]\n",
        "                            break\n",
        "\n",
        "            else:\n",
        "                print(nums[i])\n",
        "                if nums[i]<0:\n",
        "                    continue\n",
        "                else:\n",
        "                    for j in range(i+1,len(nums)):\n",
        "                        if nums[j]<0:\n",
        "                            nums[j],nums[i]=nums[i],nums[j]\n",
        "                            break\n",
        "        return nums"
      ],
      "metadata": {
        "id": "IK4TtqNb_T7x"
      },
      "execution_count": null,
      "outputs": []
    },
    {
      "cell_type": "code",
      "source": [
        "<aside>\n",
        "💡 **6. Merge two sorted arrays**\n",
        "\n",
        "Given two sorted arrays, the task is to merge them in a sorted manner.\n",
        "\n",
        "</aside>"
      ],
      "metadata": {
        "id": "-rbw7s4b_T_T"
      },
      "execution_count": null,
      "outputs": []
    },
    {
      "cell_type": "code",
      "source": [
        "class Solution(object):\n",
        "    def merge(self, nums1, m, nums2, n):\n",
        "        for i in range(m,m+n,1):\n",
        "            nums1[i]=nums2[i-m]\n",
        "        nums1.sort()"
      ],
      "metadata": {
        "id": "OCIkFvvX_UHV"
      },
      "execution_count": null,
      "outputs": []
    },
    {
      "cell_type": "code",
      "source": [
        "<aside>\n",
        "💡 7. **Intersection of Two Arrays**\n",
        "\n",
        "Given two integer arrays `nums1` and `nums2`, return *an array of their intersection*. Each element in the result must be **unique** and you may return the result in **any order**.\n",
        "\n",
        "**Example 1:**\n",
        "\n",
        "</aside>"
      ],
      "metadata": {
        "id": "-hRAszK0BogL"
      },
      "execution_count": null,
      "outputs": []
    },
    {
      "cell_type": "code",
      "source": [
        "class Solution(object):\n",
        "    def intersection(self, nums1, nums2):\n",
        "        \"\"\"\n",
        "        :type nums1: List[int]\n",
        "        :type nums2: List[int]\n",
        "        :rtype: List[int]\n",
        "        \"\"\"\n",
        "        l=[]\n",
        "        for i in range(len(nums1)):\n",
        "            if nums1[i] in nums2:\n",
        "                l.append(nums1[i])\n",
        "            else:\n",
        "                continue\n",
        "        return set(l)\n"
      ],
      "metadata": {
        "id": "YlPWiwzIBoiO"
      },
      "execution_count": null,
      "outputs": []
    },
    {
      "cell_type": "code",
      "source": [
        "<aside>\n",
        "💡 8. **Intersection of Two Arrays II**\n",
        "\n",
        "Given two integer arrays `nums1` and `nums2`, return *an array of their intersection*. Each element in the result must appear as many times as it shows in both arrays and you may return the result in **any order**.\n",
        "\n",
        "**Example 1:**\n",
        "\n",
        "</aside>"
      ],
      "metadata": {
        "id": "rf0yAPelBolx"
      },
      "execution_count": null,
      "outputs": []
    },
    {
      "cell_type": "code",
      "source": [
        "class Solution(object):\n",
        "    def intersect(self, nums1, nums2):\n",
        "        \"\"\"\n",
        "        :type nums1: List[int]\n",
        "        :type nums2: List[int]\n",
        "        :rtype: List[int]\n",
        "        \"\"\"\n",
        "        if len(nums1)<len(nums2):\n",
        "            l=[]\n",
        "            for i in range(len(nums1)):\n",
        "                if nums1[i] in nums2:\n",
        "                    l.append(nums1[i])\n",
        "                    nums2.remove(nums1[i])\n",
        "                else:\n",
        "                    continue\n",
        "            return l\n",
        "        else:\n",
        "            l=[]\n",
        "            for i in range(len(nums2)):\n",
        "                if nums2[i] in nums1:\n",
        "                    l.append(nums2[i])\n",
        "                    nums1.remove(nums2[i])\n",
        "                else:\n",
        "                    continue\n",
        "            return l"
      ],
      "metadata": {
        "id": "_Xf1rwrmBovG"
      },
      "execution_count": null,
      "outputs": []
    }
  ]
}