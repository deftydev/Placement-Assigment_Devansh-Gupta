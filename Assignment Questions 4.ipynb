{
 "cells": [
  {
   "cell_type": "code",
   "execution_count": null,
   "id": "43d5d50d",
   "metadata": {},
   "outputs": [],
   "source": [
    "<aside>\n",
    "💡 **Question 1**\n",
    "Given three integer arrays arr1, arr2 and arr3 **sorted** in **strictly increasing** order, return a sorted array of **only** the integers that appeared in **all** three arrays.\n",
    "\n",
    "**Example 1:**\n",
    "\n",
    "Input: arr1 = [1,2,3,4,5], arr2 = [1,2,5,7,9], arr3 = [1,3,4,5,8]\n",
    "\n",
    "Output: [1,5]\n",
    "\n",
    "</aside>"
   ]
  },
  {
   "cell_type": "code",
   "execution_count": 2,
   "id": "cdfe5254",
   "metadata": {},
   "outputs": [
    {
     "name": "stdout",
     "output_type": "stream",
     "text": [
      "[1, 5]\n"
     ]
    }
   ],
   "source": [
    "arr1 = [1,2,3,4,5]\n",
    "arr2 = [1,2,5,7,9]\n",
    "arr3 = [1,3,4,5,8]\n",
    "l=[]\n",
    "\n",
    "for i in range(len(arr1)):\n",
    "    if arr1[i] in arr2 and arr1[i] in arr3:\n",
    "        l.append(arr1[i])\n",
    "        \n",
    "print(l)"
   ]
  },
  {
   "cell_type": "code",
   "execution_count": null,
   "id": "0265c8a1",
   "metadata": {},
   "outputs": [],
   "source": [
    "<aside>\n",
    "💡 **Question 2**\n",
    "\n",
    "Given two **0-indexed** integer arrays nums1 and nums2, return *a list* answer *of size* 2 *where:*\n",
    "\n",
    "- answer[0] *is a list of all **distinct** integers in* nums1 *which are **not** present in* nums2*.*\n",
    "- answer[1] *is a list of all **distinct** integers in* nums2 *which are **not** present in* nums1.\n",
    "\n",
    "**Note** that the integers in the lists may be returned in **any** order.\n",
    "\n",
    "</aside>"
   ]
  },
  {
   "cell_type": "code",
   "execution_count": 3,
   "id": "38291885",
   "metadata": {},
   "outputs": [
    {
     "name": "stdout",
     "output_type": "stream",
     "text": [
      "[[1, 3], [4, 6]]\n"
     ]
    }
   ],
   "source": [
    "nums1 = [1,2,3]\n",
    "nums2 = [2,4,6]\n",
    "f_l=[]\n",
    "l=[]\n",
    "for i in range(len(nums1)):\n",
    "    if nums1[i] not in nums2:\n",
    "        l.append(nums1[i])\n",
    "l1=[]       \n",
    "f_l.append(l)\n",
    "for i in range(len(nums2)):\n",
    "    if nums2[i] not in nums1:\n",
    "        l1.append(nums2[i])\n",
    "f_l.append(l1)\n",
    "print(f_l)"
   ]
  },
  {
   "cell_type": "code",
   "execution_count": null,
   "id": "893d8745",
   "metadata": {},
   "outputs": [],
   "source": [
    "<aside>\n",
    "💡 **Question 3**\n",
    "Given a 2D integer array matrix, return *the **transpose** of* matrix.\n",
    "\n",
    "The **transpose** of a matrix is the matrix flipped over its main diagonal, switching the matrix's row and column indices.\n",
    "\n",
    "**Example 1:**\n",
    "\n",
    "Input: matrix = [[1,2,3],[4,5,6],[7,8,9]]\n",
    "\n",
    "Output: [[1,4,7],[2,5,8],[3,6,9]]\n",
    "\n",
    "</aside>"
   ]
  },
  {
   "cell_type": "code",
   "execution_count": 6,
   "id": "429b0e59",
   "metadata": {},
   "outputs": [
    {
     "name": "stdout",
     "output_type": "stream",
     "text": [
      "[[1, 4, 7], [2, 5, 8], [3, 6, 9]]\n"
     ]
    }
   ],
   "source": [
    "matrix = [[1,2,3],[4,5,6],[7,8,9]]\n",
    "\n",
    "new=[[0]*3 for i in range(3)]\n",
    "for i in range(len(matrix)):\n",
    "    for j in range(len(matrix[0])):\n",
    "        new[j][i]=matrix[i][j]\n",
    "\n",
    "print(new)"
   ]
  },
  {
   "cell_type": "code",
   "execution_count": null,
   "id": "bdef7c23",
   "metadata": {},
   "outputs": [],
   "source": [
    "<aside>\n",
    "💡 **Question 4**\n",
    "Given an integer array nums of 2n integers, group these integers into n pairs (a1, b1), (a2, b2), ..., (an, bn) such that the sum of min(ai, bi) for all i is **maximized**. Return *the maximized sum*.\n",
    "\n",
    "**Example 1:**\n",
    "\n",
    "Input: nums = [1,4,3,2]\n",
    "\n",
    "Output: 4\n",
    "\n",
    "</aside>"
   ]
  },
  {
   "cell_type": "code",
   "execution_count": 8,
   "id": "41195f23",
   "metadata": {},
   "outputs": [
    {
     "name": "stdout",
     "output_type": "stream",
     "text": [
      "4\n"
     ]
    }
   ],
   "source": [
    "nums=[1,4,3,2]\n",
    "nums.sort()\n",
    "\n",
    "if len(nums)<4:\n",
    "    print(\"no maximized sum is possible\")\n",
    "    \n",
    "print(nums[len(nums)-2]+nums[len(nums)-4])  #it is the maximized sum possible"
   ]
  },
  {
   "cell_type": "code",
   "execution_count": null,
   "id": "53c3f26c",
   "metadata": {},
   "outputs": [],
   "source": [
    "<aside>\n",
    "💡 **Question 5**\n",
    "You have n coins and you want to build a staircase with these coins. The staircase consists of k rows where the ith row has exactly i coins. The last row of the staircase **may be** incomplete.\n",
    "\n",
    "Given the integer n, return *the number of **complete rows** of the staircase you will build*.\n",
    "\n",
    "**Example 1:**\n",
    "\n",
    "</aside>"
   ]
  },
  {
   "cell_type": "code",
   "execution_count": 4,
   "id": "c8cc5487",
   "metadata": {},
   "outputs": [
    {
     "name": "stdout",
     "output_type": "stream",
     "text": [
      "2\n"
     ]
    }
   ],
   "source": [
    "import math   ##n(n+1)/2\n",
    "n=5\n",
    "\n",
    "stairs = int((math.sqrt(2 * n + 0.25) - 0.5))\n",
    "print(stairs)"
   ]
  },
  {
   "cell_type": "code",
   "execution_count": null,
   "id": "be348c2b",
   "metadata": {},
   "outputs": [],
   "source": [
    "Question 6\n",
    "Given an integer array nums sorted in non-decreasing order, return an array of the squares of each number sorted in \n",
    "non-decreasing order.\n"
   ]
  },
  {
   "cell_type": "code",
   "execution_count": 7,
   "id": "cd0c6b2e",
   "metadata": {},
   "outputs": [
    {
     "name": "stdout",
     "output_type": "stream",
     "text": [
      "[0, 1, 9, 16, 100]\n"
     ]
    }
   ],
   "source": [
    "import math\n",
    "nums = [-4,-1,0,3,10]\n",
    "l=[]\n",
    "for i in range(len(nums)):\n",
    "    l.append(int(math.pow(nums[i],2)))\n",
    "    \n",
    "l.sort()\n",
    "print(l)"
   ]
  },
  {
   "cell_type": "code",
   "execution_count": null,
   "id": "625fc08e",
   "metadata": {},
   "outputs": [],
   "source": [
    "<aside>\n",
    "💡 **Question 7**\n",
    "You are given an m x n matrix M initialized with all 0's and an array of operations ops,\n",
    "where ops[i] = [ai, bi] means M[x][y] should be incremented by one for all 0 <= x < ai and 0 <= y < bi.\n",
    "\n",
    "Count and return *the number of maximum integers in the matrix after performing all the operations*\n",
    "\n",
    "</aside>"
   ]
  },
  {
   "cell_type": "code",
   "execution_count": 32,
   "id": "02dec02c",
   "metadata": {},
   "outputs": [
    {
     "name": "stdout",
     "output_type": "stream",
     "text": [
      "2\n"
     ]
    }
   ],
   "source": [
    "m = 3\n",
    "n = 3\n",
    "ops = [[2,2],[3,3]]\n",
    "\n",
    "mat= [[0]*n for i in range(m)]\n",
    "\n",
    "first= ops[0]\n",
    "\n",
    "second=ops[1]\n",
    "\n",
    "for i in range(ops[0][0]):\n",
    "    for j in range(ops[0][1]):\n",
    "        mat[i][j]+=1\n",
    "        \n",
    "for i in range(ops[1][0]):\n",
    "    for j in range(ops[1][1]):\n",
    "        mat[i][j]+=1\n",
    "        \n",
    "d={}\n",
    "\n",
    "for i in range(len(mat)):\n",
    "    for j in range(len(mat[0])):\n",
    "        d[mat[i][j]]= d.get(mat[i][j], 0 )+1\n",
    "        \n",
    "d=sorted(d.items() , key=lambda x:x[0], reverse=True)\n",
    "print(d[0][0])"
   ]
  },
  {
   "cell_type": "code",
   "execution_count": null,
   "id": "be3e2a96",
   "metadata": {},
   "outputs": [],
   "source": [
    "<aside>\n",
    "💡 **Question 8**\n",
    "\n",
    "Given the array nums consisting of 2n elements in the form [x1,x2,...,xn,y1,y2,...,yn].\n",
    "\n",
    "*Return the array in the form* [x1,y1,x2,y2,...,xn,yn].\n",
    "\n",
    "**Example 1:**\n",
    "\n",
    "**Input:** nums = [2,5,1,3,4,7], n = 3\n",
    "\n",
    "**Output:** [2,3,5,4,1,7]\n",
    "\n",
    "</aside>"
   ]
  },
  {
   "cell_type": "code",
   "execution_count": 35,
   "id": "e6b8a26c",
   "metadata": {},
   "outputs": [
    {
     "name": "stdout",
     "output_type": "stream",
     "text": [
      "[2, 3, 5, 4, 1, 7]\n"
     ]
    }
   ],
   "source": [
    "nums = [2,5,1,3,4,7]\n",
    "n = 3\n",
    "s=0\n",
    "s1=3\n",
    "l=[]\n",
    "\n",
    "for i in range(0,n):\n",
    "    l.append(nums[s])\n",
    "    l.append(nums[s1])\n",
    "    s+=1\n",
    "    s1+=1\n",
    "    \n",
    "print(l)"
   ]
  },
  {
   "cell_type": "code",
   "execution_count": null,
   "id": "11f39769",
   "metadata": {},
   "outputs": [],
   "source": []
  }
 ],
 "metadata": {
  "kernelspec": {
   "display_name": "Python 3 (ipykernel)",
   "language": "python",
   "name": "python3"
  },
  "language_info": {
   "codemirror_mode": {
    "name": "ipython",
    "version": 3
   },
   "file_extension": ".py",
   "mimetype": "text/x-python",
   "name": "python",
   "nbconvert_exporter": "python",
   "pygments_lexer": "ipython3",
   "version": "3.9.13"
  }
 },
 "nbformat": 4,
 "nbformat_minor": 5
}
