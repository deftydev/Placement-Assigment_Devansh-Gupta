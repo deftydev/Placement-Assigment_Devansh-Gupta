{
 "cells": [
  {
   "cell_type": "code",
   "execution_count": null,
   "id": "08d8a832",
   "metadata": {},
   "outputs": [],
   "source": [
    "Question 1\n",
    "Given an integer array nums of length n and an integer target, find three integers\n",
    "in nums such that the sum is closest to the target.\n",
    "Return the sum of the three integers."
   ]
  },
  {
   "cell_type": "code",
   "execution_count": 8,
   "id": "f51938aa",
   "metadata": {},
   "outputs": [
    {
     "name": "stdout",
     "output_type": "stream",
     "text": [
      "2\n"
     ]
    }
   ],
   "source": [
    "nums = [-1,2,1,-4]\n",
    "target = 1\n",
    "\n",
    "nums.sort()\n",
    "\n",
    "closest_sum = 2**31-1\n",
    "for i in range(len(nums)-2):\n",
    "    j=i+1\n",
    "    r=len(nums)-1\n",
    "    \n",
    "    while(j<r):\n",
    "        \n",
    "        summ= nums[i]+nums[j]+nums[r]\n",
    "        \n",
    "        if(summ==target):\n",
    "            closest_sum = summ\n",
    "            break\n",
    "            \n",
    "        if abs(summ-target)<abs(closest_sum-target):\n",
    "            closest_sum = summ\n",
    "            \n",
    "            \n",
    "        if summ<target:\n",
    "            j+=1\n",
    "        else:\n",
    "            r=r-1\n",
    "\n",
    "print(closest_sum)"
   ]
  },
  {
   "cell_type": "code",
   "execution_count": null,
   "id": "dfbd72cc",
   "metadata": {},
   "outputs": [],
   "source": [
    "Question 2\n",
    "Given an array nums of n integers, return an array of all the unique quadruplets\n",
    "[nums[a], nums[b], nums[c], nums[d]] such that:\n",
    "           ● 0 <= a, b, c, d < n\n",
    "           ● a, b, c, and d are distinct.\n",
    "           ● nums[a] + nums[b] + nums[c] + nums[d] == target\n"
   ]
  },
  {
   "cell_type": "code",
   "execution_count": 17,
   "id": "a9421074",
   "metadata": {},
   "outputs": [
    {
     "name": "stdout",
     "output_type": "stream",
     "text": [
      "[[1, 0, -1, 0], [0, 0, -2, 2], [-1, -2, 1, 2]]\n"
     ]
    }
   ],
   "source": [
    "nums = [1,0,-1,0,-2,2]\n",
    "target = 0\n",
    "\n",
    "\n",
    "d={}\n",
    "ll=[]\n",
    "for i in range(len(nums)-1):\n",
    "    for j in range(i+1,len(nums)):\n",
    "        d[nums[i]+nums[j]]= [i,j]\n",
    "        \n",
    "        \n",
    "for i in range(len(nums)-1):\n",
    "    for j in range(i+1,len(nums)):\n",
    "        \n",
    "        curr_sum= nums[i]+nums[j]\n",
    "        \n",
    "        if (target-curr_sum) in d:\n",
    "            l = d[target-curr_sum]\n",
    "            \n",
    "            if (i!=l[0] and i !=l[1] and j !=l[0] and j!=l[1]):\n",
    "                ll.append([nums[i],nums[j],nums[l[0]],nums[l[1]] ])\n",
    "                break\n",
    "                \n",
    "print(ll)"
   ]
  },
  {
   "cell_type": "code",
   "execution_count": null,
   "id": "ca32fc2a",
   "metadata": {},
   "outputs": [],
   "source": [
    "Question 3\n",
    "A permutation of an array of integers is an arrangement of its members into a\n",
    "sequence or linear order.\n",
    "\n",
    "For example, for arr = [1,2,3], the following are all the permutations of arr:\n",
    "[1,2,3], [1,3,2], [2, 1, 3], [2, 3, 1], [3,1,2], [3,2,1].\n",
    "\n",
    "The next permutation of an array of integers is the next lexicographically greater\n",
    "permutation of its integer. More formally, if all the permutations of the array are\n",
    "sorted in one container according to their lexicographical order, then the next\n",
    "permutation of that array is the permutation that follows it in the sorted container.\n"
   ]
  },
  {
   "cell_type": "code",
   "execution_count": 31,
   "id": "5eb89ab5",
   "metadata": {},
   "outputs": [
    {
     "name": "stdout",
     "output_type": "stream",
     "text": [
      "None\n"
     ]
    }
   ],
   "source": [
    "def next_p(nums):\n",
    "    i = len(nums) - 2\n",
    "    while i >= 0 and nums[i + 1] <= nums[i]:\n",
    "        i -= 1\n",
    "    if i >= 0:\n",
    "        j = len(nums) - 1\n",
    "        while nums[j] <= nums[i]:\n",
    "            j -= 1\n",
    "        nums[i], nums[j] = nums[j], nums[i]\n",
    "    reverse(nums, i + 1)\n",
    " \n",
    "def reverse(nums, start):\n",
    "    i, j = start, len(nums) - 1\n",
    "    while i < j:\n",
    "        nums[i], nums[j] = nums[j], nums[i]\n",
    "        i += 1\n",
    "        j -= 1\n",
    "        \n",
    "print(next_p([1,2,3]))"
   ]
  },
  {
   "cell_type": "code",
   "execution_count": null,
   "id": "1a47e0df",
   "metadata": {},
   "outputs": [],
   "source": [
    "Question 4\n",
    "Given a sorted array of distinct integers and a target value, return the index if the\n",
    "target is found. If not, return the index where it would be if it were inserted in\n",
    "order.\n",
    "\n",
    "You must write an algorithm with O(log n) runtime complexity.\n",
    "\n",
    "Example 1:\n",
    "Input: nums = [1,3,5,6], target = 5\n",
    "Output: 2"
   ]
  },
  {
   "cell_type": "code",
   "execution_count": 38,
   "id": "745f8e3f",
   "metadata": {},
   "outputs": [
    {
     "name": "stdout",
     "output_type": "stream",
     "text": [
      "2\n"
     ]
    }
   ],
   "source": [
    "\n",
    "nums=[1,3,5,6]\n",
    "target=5   \n",
    "\n",
    "\n",
    "mid= len(nums)//2\n",
    "if nums[mid]==target:\n",
    "    print(mid)\n",
    "\n",
    "elif nums[mid]>target:\n",
    "    for i in range(0, mid,1):\n",
    "        if nums[i]==target:\n",
    "            print(i-1)\n",
    "            break\n",
    "        elif nums[i]>target:\n",
    "            print(i-1)\n",
    "            break\n",
    "        else:\n",
    "            if i==mid-1:\n",
    "                print(mid)\n",
    "            continue\n",
    "        \n",
    "else:\n",
    "    for i in range(mid+1,len(nums),1):\n",
    "        if nums[i]==target:\n",
    "            print(i-1)\n",
    "            break\n",
    "        elif nums[i]>target:\n",
    "            print(i)\n",
    "            break\n",
    "        else:\n",
    "            continue\n",
    "    "
   ]
  },
  {
   "cell_type": "code",
   "execution_count": null,
   "id": "d1b4fd1b",
   "metadata": {},
   "outputs": [],
   "source": [
    "Question 5\n",
    "You are given a large integer represented as an integer array digits, where each\n",
    "digits[i] is the ith digit of the integer. The digits are ordered from most significant\n",
    "to least significant in left-to-right order. The large integer does not contain any\n",
    "leading 0's.\n",
    "\n",
    "Increment the large integer by one and return the resulting array of digits.\n",
    "\n",
    "Example 1:\n",
    "Input: digits = [1,2,3]\n",
    "Output: [1,2,4]\n"
   ]
  },
  {
   "cell_type": "code",
   "execution_count": 39,
   "id": "74508742",
   "metadata": {},
   "outputs": [
    {
     "name": "stdout",
     "output_type": "stream",
     "text": [
      "[1, 2, 4]\n"
     ]
    }
   ],
   "source": [
    "nums=[1,2,3]\n",
    "strings=\"\"\n",
    "for i in nums:\n",
    "    strings+=str(i)\n",
    "    \n",
    "increment= int(strings)+1\n",
    "a=0\n",
    "l=[]\n",
    "while(increment>0):\n",
    "    rem=increment%10\n",
    "    l.insert(0,rem)\n",
    "    a=a*10 + rem\n",
    "    increment=increment//10\n",
    "print(l)"
   ]
  },
  {
   "cell_type": "code",
   "execution_count": null,
   "id": "e65a73bb",
   "metadata": {},
   "outputs": [],
   "source": [
    "Question 6\n",
    "Given a non-empty array of integers nums, every element appears twice except\n",
    "for one. Find that single one.\n",
    "\n",
    "You must implement a solution with a linear runtime complexity and use only\n",
    "constant extra space."
   ]
  },
  {
   "cell_type": "code",
   "execution_count": 41,
   "id": "34f4cb3d",
   "metadata": {},
   "outputs": [
    {
     "name": "stdout",
     "output_type": "stream",
     "text": [
      "1\n"
     ]
    }
   ],
   "source": [
    "import collections\n",
    "from collections import Counter\n",
    "\n",
    "nums=[1,2,3,1]\n",
    "flag=True\n",
    "for i,j in collections.Counter(nums).items():\n",
    "    if j>1:\n",
    "        print(i)\n",
    "        flag=False\n",
    "        break\n",
    "if flag:\n",
    "    print(\"false\")"
   ]
  },
  {
   "cell_type": "code",
   "execution_count": null,
   "id": "b6d13ded",
   "metadata": {},
   "outputs": [],
   "source": [
    "Question 7\n",
    "You are given an inclusive range [lower, upper] and a sorted unique integer array\n",
    "nums, where all elements are within the inclusive range.\n",
    "\n",
    "A number x is considered missing if x is in the range [lower, upper] and x is not in\n",
    "nums.\n",
    "\n",
    "Return the shortest sorted list of ranges that exactly covers all the missing\n",
    "numbers. That is, no element of nums is included in any of the ranges, and each\n",
    "missing number is covered by one of the ranges."
   ]
  },
  {
   "cell_type": "code",
   "execution_count": 44,
   "id": "dbd45fa0",
   "metadata": {},
   "outputs": [
    {
     "name": "stdout",
     "output_type": "stream",
     "text": [
      "[[2, 2], [4, 49], [51, 74], [76, 99]]\n"
     ]
    }
   ],
   "source": [
    "nums = [0,1,3,50,75]\n",
    "lower = 0\n",
    "upper = 99\n",
    "l=[]\n",
    "if nums[0]>lower:\n",
    "    l.append([0,lower])\n",
    "\n",
    "for i in range(1,len(nums)):\n",
    "    if(nums[i]-1!=nums[i-1]):\n",
    "        l.append([nums[i-1]+1,nums[i]-1])\n",
    "        \n",
    "if nums[len(nums)-1]<upper:\n",
    "    l.append([nums[len(nums)-1]+1,upper])\n",
    "    \n",
    "print(l)"
   ]
  },
  {
   "cell_type": "code",
   "execution_count": null,
   "id": "58a25953",
   "metadata": {},
   "outputs": [],
   "source": [
    "Question 8\n",
    "Given an array of meeting time intervals where intervals[i] = [starti, endi],\n",
    "determine if a person could attend all meetings.\n",
    "\n",
    "Example 1:\n",
    "Input: intervals = [[0,30],[5,10],[15,20]]\n",
    "Output: false"
   ]
  },
  {
   "cell_type": "code",
   "execution_count": 46,
   "id": "e04738e0",
   "metadata": {},
   "outputs": [
    {
     "name": "stdout",
     "output_type": "stream",
     "text": [
      "false\n"
     ]
    }
   ],
   "source": [
    "intervals = [[0,30],[5,10],[15,20]]\n",
    "\n",
    "flag=True\n",
    "for i in range(len(intervals)-1):\n",
    "    start= intervals[i]\n",
    "    end=intervals[i+1]\n",
    "    if(start[1]>end[0]):\n",
    "        print(\"false\")\n",
    "        flag=False\n",
    "        break\n",
    "if flag: \n",
    "    print(\"true\")"
   ]
  }
 ],
 "metadata": {
  "kernelspec": {
   "display_name": "Python 3 (ipykernel)",
   "language": "python",
   "name": "python3"
  },
  "language_info": {
   "codemirror_mode": {
    "name": "ipython",
    "version": 3
   },
   "file_extension": ".py",
   "mimetype": "text/x-python",
   "name": "python",
   "nbconvert_exporter": "python",
   "pygments_lexer": "ipython3",
   "version": "3.9.13"
  }
 },
 "nbformat": 4,
 "nbformat_minor": 5
}
