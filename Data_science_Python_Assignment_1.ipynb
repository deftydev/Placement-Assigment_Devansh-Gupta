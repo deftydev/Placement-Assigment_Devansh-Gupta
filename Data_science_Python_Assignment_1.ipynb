{
  "nbformat": 4,
  "nbformat_minor": 0,
  "metadata": {
    "colab": {
      "provenance": []
    },
    "kernelspec": {
      "name": "python3",
      "display_name": "Python 3"
    },
    "language_info": {
      "name": "python"
    }
  },
  "cells": [
    {
      "cell_type": "code",
      "execution_count": null,
      "metadata": {
        "id": "wIdk3Nnz6qCM"
      },
      "outputs": [],
      "source": [
        "1. Write a Python program to reverse a string without using any built-in string reversal functions."
      ]
    },
    {
      "cell_type": "code",
      "source": [
        "s=\"abcdefg\"\n",
        "s1=\"\"\n",
        "for i in range(len(s)-1,-1,-1):\n",
        "  s1=s1+s[i]\n",
        "print(s1)"
      ],
      "metadata": {
        "colab": {
          "base_uri": "https://localhost:8080/"
        },
        "id": "fccgBOZh6zLJ",
        "outputId": "2b4940d4-aee8-4a6c-9ba9-3c4242bc944e"
      },
      "execution_count": null,
      "outputs": [
        {
          "output_type": "stream",
          "name": "stdout",
          "text": [
            "gfedcba\n"
          ]
        }
      ]
    },
    {
      "cell_type": "code",
      "source": [
        "2. Implement a function to check if a given string is a palindrome."
      ],
      "metadata": {
        "id": "XWslL2cz7FXU"
      },
      "execution_count": null,
      "outputs": []
    },
    {
      "cell_type": "code",
      "source": [
        "def palindrome(input):\n",
        "  return input==input[::-1]\n",
        "\n",
        "print(palindrome(\"abba\"))"
      ],
      "metadata": {
        "colab": {
          "base_uri": "https://localhost:8080/"
        },
        "id": "7yOJ4PF07Ilt",
        "outputId": "cf105d21-6cf7-42bc-fd7b-a254d739718f"
      },
      "execution_count": null,
      "outputs": [
        {
          "output_type": "stream",
          "name": "stdout",
          "text": [
            "True\n"
          ]
        }
      ]
    },
    {
      "cell_type": "code",
      "source": [
        "3. Write a program to find the largest element in a given list."
      ],
      "metadata": {
        "id": "-nCyqLtT7In_"
      },
      "execution_count": null,
      "outputs": []
    },
    {
      "cell_type": "code",
      "source": [
        "l=[1,2,3,4,5,6,4,3,9,2]\n",
        "\n",
        "maxx=l[0]\n",
        "for i in range(1,len(l)):\n",
        "  maxx=max(maxx,l[i])\n",
        "print(maxx)"
      ],
      "metadata": {
        "colab": {
          "base_uri": "https://localhost:8080/"
        },
        "id": "aZLdutGs7IqJ",
        "outputId": "70245038-7a24-4477-a124-79170abb4a5f"
      },
      "execution_count": null,
      "outputs": [
        {
          "output_type": "stream",
          "name": "stdout",
          "text": [
            "9\n"
          ]
        }
      ]
    },
    {
      "cell_type": "code",
      "source": [
        "4. Implement a function to count the occurrence of each element in a list."
      ],
      "metadata": {
        "id": "50vK0UHl7IsZ"
      },
      "execution_count": null,
      "outputs": []
    },
    {
      "cell_type": "code",
      "source": [
        "from collections import Counter\n",
        "def count(listt):\n",
        "  for i,j in Counter(listt).items():\n",
        "    print(f\"element {i} is having count {j}\")\n",
        "\n",
        "count([1,2,3,4,4,2,4,5,6,5,6,9])"
      ],
      "metadata": {
        "colab": {
          "base_uri": "https://localhost:8080/"
        },
        "id": "btvEYPut7Iu4",
        "outputId": "59875be0-54fe-4a6d-e64f-57120227e063"
      },
      "execution_count": null,
      "outputs": [
        {
          "output_type": "stream",
          "name": "stdout",
          "text": [
            "element 1 is having count 1\n",
            "element 2 is having count 2\n",
            "element 3 is having count 1\n",
            "element 4 is having count 3\n",
            "element 5 is having count 2\n",
            "element 6 is having count 2\n",
            "element 9 is having count 1\n"
          ]
        }
      ]
    },
    {
      "cell_type": "code",
      "source": [
        "5. Write a Python program to find the second largest number in a list."
      ],
      "metadata": {
        "id": "oeamUIpN7IxR"
      },
      "execution_count": null,
      "outputs": []
    },
    {
      "cell_type": "code",
      "source": [
        "l=[1,2,3,4,5,6,4,3,9,2]\n",
        "l=list(set(l))\n",
        "l.sort()\n",
        "print(l[len(l)-2])"
      ],
      "metadata": {
        "colab": {
          "base_uri": "https://localhost:8080/"
        },
        "id": "0JSjZPjs7Izy",
        "outputId": "a994279b-ea33-49a4-c135-c267b186c094"
      },
      "execution_count": null,
      "outputs": [
        {
          "output_type": "stream",
          "name": "stdout",
          "text": [
            "6\n"
          ]
        }
      ]
    },
    {
      "cell_type": "code",
      "source": [
        "6. Implement a function to remove duplicate elements from a list."
      ],
      "metadata": {
        "id": "PDWZKTXr7I2S"
      },
      "execution_count": null,
      "outputs": []
    },
    {
      "cell_type": "code",
      "source": [
        "l=[1,2,4,3,4,5,6,4,3,9,2]\n",
        "def remove(l):\n",
        "  return list(set(l))\n",
        "\n",
        "print(remove(l))"
      ],
      "metadata": {
        "colab": {
          "base_uri": "https://localhost:8080/"
        },
        "id": "2Uh6oB2V7I4k",
        "outputId": "37757c4f-e7fa-43ec-9b9f-2b716b1e351a"
      },
      "execution_count": null,
      "outputs": [
        {
          "output_type": "stream",
          "name": "stdout",
          "text": [
            "[1, 2, 3, 4, 5, 6, 9]\n"
          ]
        }
      ]
    },
    {
      "cell_type": "code",
      "source": [
        "7. Write a program to calculate the factorial of a given number."
      ],
      "metadata": {
        "id": "Jmpn11HY7I6s"
      },
      "execution_count": null,
      "outputs": []
    },
    {
      "cell_type": "code",
      "source": [
        "def fact(n):\n",
        "  if n==0:\n",
        "    return 1\n",
        "  return n*fact(n-1)\n",
        "print(fact(3))"
      ],
      "metadata": {
        "colab": {
          "base_uri": "https://localhost:8080/"
        },
        "id": "F2OkWUit98ig",
        "outputId": "f4a543ad-a5a2-4aef-f0f0-caca795324a5"
      },
      "execution_count": null,
      "outputs": [
        {
          "output_type": "stream",
          "name": "stdout",
          "text": [
            "6\n"
          ]
        }
      ]
    },
    {
      "cell_type": "code",
      "source": [
        "8. Implement a function to check if a given number is prime."
      ],
      "metadata": {
        "id": "pY_rIL0798ku"
      },
      "execution_count": null,
      "outputs": []
    },
    {
      "cell_type": "code",
      "source": [
        "import math\n",
        "def primeis(n):\n",
        "  if n<2:\n",
        "    return False\n",
        "  for i in range(2,int(math.sqrt(n))):\n",
        "    if n%i==0:\n",
        "      return False\n",
        "  return True\n",
        "\n",
        "print(primeis(2))"
      ],
      "metadata": {
        "colab": {
          "base_uri": "https://localhost:8080/"
        },
        "id": "NcBTW3dX98nW",
        "outputId": "9b1fd065-8a19-48b0-93c1-431595b020ae"
      },
      "execution_count": null,
      "outputs": [
        {
          "output_type": "stream",
          "name": "stdout",
          "text": [
            "True\n"
          ]
        }
      ]
    },
    {
      "cell_type": "code",
      "source": [
        "9. Write a Python program to sort a list of integers in ascending order."
      ],
      "metadata": {
        "id": "gHt9rFQx98p7"
      },
      "execution_count": null,
      "outputs": []
    },
    {
      "cell_type": "code",
      "source": [
        "l=[1,2,4,3,4,5,6,4,3,9,2]\n",
        "def merge_sort(l1,l2):\n",
        "  n=len(l1)-1\n",
        "  m=len(l2)-1\n",
        "  combined=[]\n",
        "  i=0\n",
        "  j=0\n",
        "  while(i<=n and j<=m):\n",
        "    if l1[i]<=l2[j]:\n",
        "      combined.append(l1[i])\n",
        "      i+=1\n",
        "    else:\n",
        "      combined.append(l2[j])\n",
        "      j+=1\n",
        "  while(i<=n):\n",
        "    combined.append(l1[i])\n",
        "    i+=1\n",
        "  while(j<=m):\n",
        "    combined.append(l2[j])\n",
        "    j+=1\n",
        "  return combined\n",
        "\n",
        "def merge(l):\n",
        "  if len(l)==1:\n",
        "    return l\n",
        "  mid= len(l)//2\n",
        "  l1=l[:mid]\n",
        "  l2=l[mid:]\n",
        "  return merge_sort(merge(l1),merge(l2))\n",
        "\n",
        "\n",
        "l=[1,2,4,3,4,5,6,4,3,9,2]\n",
        "print(merge(l))"
      ],
      "metadata": {
        "colab": {
          "base_uri": "https://localhost:8080/"
        },
        "id": "BeX2sEZY98sE",
        "outputId": "fc738488-1f8d-4466-d6b1-8e38e99593ce"
      },
      "execution_count": null,
      "outputs": [
        {
          "output_type": "stream",
          "name": "stdout",
          "text": [
            "[1, 2, 2, 3, 3, 4, 4, 4, 5, 6, 9]\n"
          ]
        }
      ]
    },
    {
      "cell_type": "code",
      "source": [
        "10. Implement a function to find the sum of all numbers in a list."
      ],
      "metadata": {
        "id": "3nNKFowp98uH"
      },
      "execution_count": null,
      "outputs": []
    },
    {
      "cell_type": "code",
      "source": [
        "l=[1,2,4,3,4,5,6,4,3,9,2]\n",
        "summ=0\n",
        "for i in range(len(l)):\n",
        "  summ=summ+l[i]\n",
        "\n",
        "print(summ)\n",
        "print(sum(l))"
      ],
      "metadata": {
        "colab": {
          "base_uri": "https://localhost:8080/"
        },
        "id": "FngDk4Q998we",
        "outputId": "3d126d31-1f1c-43a1-a472-5cecf3a25110"
      },
      "execution_count": null,
      "outputs": [
        {
          "output_type": "stream",
          "name": "stdout",
          "text": [
            "43\n",
            "43\n"
          ]
        }
      ]
    },
    {
      "cell_type": "code",
      "source": [
        "11. Write a program to find the common elements between two lists."
      ],
      "metadata": {
        "id": "7cabj9-p98yp"
      },
      "execution_count": null,
      "outputs": []
    },
    {
      "cell_type": "code",
      "source": [
        "l=[1,2,4,3,4,5,6,4,3,9,2]\n",
        "l1=[1,2,3,4]\n",
        "new=[]\n",
        "for i in range(len(l)):\n",
        "  if l[i] in l1 and l[i] not in new:\n",
        "    new.append(l[i])\n",
        "print(new)"
      ],
      "metadata": {
        "colab": {
          "base_uri": "https://localhost:8080/"
        },
        "id": "MJW_m213982N",
        "outputId": "97f4d510-2b7b-4787-9d5c-25927d7622c8"
      },
      "execution_count": null,
      "outputs": [
        {
          "output_type": "stream",
          "name": "stdout",
          "text": [
            "[1, 2, 4, 3]\n"
          ]
        }
      ]
    },
    {
      "cell_type": "code",
      "source": [
        "12. Implement a function to check if a given string is an anagram of another string."
      ],
      "metadata": {
        "id": "84VAXAisIJEI"
      },
      "execution_count": null,
      "outputs": []
    },
    {
      "cell_type": "code",
      "source": [
        "class Solution(object):\n",
        "    def isAnagram(self, s, t):\n",
        "      return s.sort()==t.sort()"
      ],
      "metadata": {
        "id": "w-Si3tUTIJGo"
      },
      "execution_count": null,
      "outputs": []
    },
    {
      "cell_type": "code",
      "source": [
        "13. Write a Python program to generate all permutations of a given string."
      ],
      "metadata": {
        "id": "EmxZPQuAIJJA"
      },
      "execution_count": null,
      "outputs": []
    },
    {
      "cell_type": "code",
      "source": [
        "def generate(strr,answer):\n",
        "  if len(strr)==0:\n",
        "    print(answer)\n",
        "  for i in range(len(strr)):\n",
        "    ch=strr[i]\n",
        "    left=strr[0:i]\n",
        "    right=strr[i+1:]\n",
        "    rest=left+right\n",
        "    generate(rest, answer+ch)\n",
        "\n",
        "generate(\"abc\",\"\")"
      ],
      "metadata": {
        "colab": {
          "base_uri": "https://localhost:8080/"
        },
        "id": "0aW0dZPfIJLw",
        "outputId": "e16bd5c7-694e-45ab-d1f1-fef6edbc9529"
      },
      "execution_count": null,
      "outputs": [
        {
          "output_type": "stream",
          "name": "stdout",
          "text": [
            "abc\n",
            "acb\n",
            "bac\n",
            "bca\n",
            "cab\n",
            "cba\n"
          ]
        }
      ]
    },
    {
      "cell_type": "code",
      "source": [
        "14. Implement a function to calculate the Fibonacci sequence up to a given number of terms."
      ],
      "metadata": {
        "id": "B2EUlsKLIJOF"
      },
      "execution_count": null,
      "outputs": []
    },
    {
      "cell_type": "code",
      "source": [
        "def fibo(n):\n",
        "  a=0\n",
        "  b=1\n",
        "  if n==0:\n",
        "    print(n)\n",
        "  if n==1:\n",
        "    print(1)\n",
        "  else:\n",
        "    for i in range(2,n+1):\n",
        "      c=a+b\n",
        "      a=b\n",
        "      b=c\n",
        "      print(c)\n",
        "fibo(7)"
      ],
      "metadata": {
        "colab": {
          "base_uri": "https://localhost:8080/"
        },
        "id": "v8h86Mi_IJQS",
        "outputId": "c33f46c8-b1ec-4bba-ab88-d9ce424b61c7"
      },
      "execution_count": null,
      "outputs": [
        {
          "output_type": "stream",
          "name": "stdout",
          "text": [
            "1\n",
            "2\n",
            "3\n",
            "5\n",
            "8\n",
            "13\n"
          ]
        }
      ]
    },
    {
      "cell_type": "code",
      "source": [
        "15. Write a program to find the median of a list of numbers."
      ],
      "metadata": {
        "id": "_gce6KZzIJSN"
      },
      "execution_count": null,
      "outputs": []
    },
    {
      "cell_type": "code",
      "source": [
        "l=[1,2,4,3,4,5,6,4,3,9,2,2]\n",
        "l.sort()\n",
        "if len(l)%2==0:\n",
        "  mid=len(l)//2\n",
        "  print((l[mid]+l[mid+1])//2)\n",
        "else:\n",
        "  mid=len(l)//2\n",
        "  print(l[mid+1])"
      ],
      "metadata": {
        "colab": {
          "base_uri": "https://localhost:8080/"
        },
        "id": "d4FeJlzSIJUV",
        "outputId": "f645e7e1-e5c5-4bd0-9df3-909f1f85509b"
      },
      "execution_count": null,
      "outputs": [
        {
          "output_type": "stream",
          "name": "stdout",
          "text": [
            "4\n"
          ]
        }
      ]
    },
    {
      "cell_type": "code",
      "source": [
        "16. Implement a function to check if a given list is sorted in non-decreasing order."
      ],
      "metadata": {
        "id": "tC9QabCnIJWt"
      },
      "execution_count": null,
      "outputs": []
    },
    {
      "cell_type": "code",
      "source": [
        "l=[1,2,3,4,5,6,7,7,8,8]\n",
        "flag=True\n",
        "for i in range(1,len(l)):\n",
        "  if l[i]>=l[i-1]:\n",
        "    continue\n",
        "    flag=True\n",
        "  else:\n",
        "    print(\"False\")\n",
        "    flag=False\n",
        "    break\n",
        "\n",
        "if flag:\n",
        "  print(\"True\")"
      ],
      "metadata": {
        "colab": {
          "base_uri": "https://localhost:8080/"
        },
        "id": "-s_ilvAiIJY6",
        "outputId": "119363ba-5f4f-44d5-c279-8d868153a98c"
      },
      "execution_count": null,
      "outputs": [
        {
          "output_type": "stream",
          "name": "stdout",
          "text": [
            "True\n"
          ]
        }
      ]
    },
    {
      "cell_type": "code",
      "source": [
        "17. Write a Python program to find the intersection of two lists."
      ],
      "metadata": {
        "id": "ANivLzj_IJau"
      },
      "execution_count": null,
      "outputs": []
    },
    {
      "cell_type": "code",
      "source": [
        "17. Write a Python program to find the intersection of two lists."
      ],
      "metadata": {
        "id": "ev6vg22wIJc1"
      },
      "execution_count": null,
      "outputs": []
    },
    {
      "cell_type": "code",
      "source": [
        "l=[1,2,3,4]\n",
        "l1=[2,3,4,5,6,7]\n",
        "removee=[]\n",
        "for i in range(len(l)):\n",
        "  if l[i] in l1:\n",
        "    l1.remove(l[i])\n",
        "    continue\n",
        "  else:\n",
        "    removee.append(l[i])\n",
        "\n",
        "for i in range(len(removee)):\n",
        "  l.remove(removee[i])\n",
        "print(f\"intersect list {l}\")"
      ],
      "metadata": {
        "colab": {
          "base_uri": "https://localhost:8080/"
        },
        "id": "bn8B0zMAIJff",
        "outputId": "ef0feab4-c04c-4469-a035-8eb883cce6ea"
      },
      "execution_count": null,
      "outputs": [
        {
          "output_type": "stream",
          "name": "stdout",
          "text": [
            "intersect list [2, 3, 4]\n"
          ]
        }
      ]
    },
    {
      "cell_type": "code",
      "source": [
        "18. Implement a function to find the maximum subarray sum in a given list."
      ],
      "metadata": {
        "id": "_aKFm_YzIJhl"
      },
      "execution_count": null,
      "outputs": []
    },
    {
      "cell_type": "code",
      "source": [
        "class Solution(object):\n",
        "    def maxSubArray(self, nums):\n",
        "        train=0\n",
        "        maxx=float('-inf')\n",
        "        for i in range(len(nums)):\n",
        "            train+=nums[i]\n",
        "            if(maxx<train):\n",
        "                maxx=train\n",
        "            if(train<0):\n",
        "                train=0\n",
        "\n",
        "        return maxx"
      ],
      "metadata": {
        "id": "HIufqnvXIJj8"
      },
      "execution_count": null,
      "outputs": []
    },
    {
      "cell_type": "code",
      "source": [
        "19. Write a program to remove all vowels from a given string."
      ],
      "metadata": {
        "id": "G7zJG3WqIJnI"
      },
      "execution_count": null,
      "outputs": []
    },
    {
      "cell_type": "code",
      "source": [
        "string = \"A Computer Science Portal for Geeks\"\n",
        "vowels=['a','e','i','o','u']\n",
        "\n",
        "for i in range(len(string)):\n",
        "  if string[i:i+1].lower() in vowels:\n",
        "    string=string.replace(string[i:i+1],'')\n",
        "print(string)"
      ],
      "metadata": {
        "colab": {
          "base_uri": "https://localhost:8080/"
        },
        "id": "AlbUToZehjNi",
        "outputId": "c4d4ebb8-7a94-4cdd-a621-ffd2616111ed"
      },
      "execution_count": null,
      "outputs": [
        {
          "output_type": "stream",
          "name": "stdout",
          "text": [
            " Cmptr Scnc Prtl fr Gks\n"
          ]
        }
      ]
    },
    {
      "cell_type": "code",
      "source": [
        "20. Implement a function to reverse the order of words in a given sentence."
      ],
      "metadata": {
        "id": "c_DOBBMYhjPc"
      },
      "execution_count": null,
      "outputs": []
    },
    {
      "cell_type": "code",
      "source": [
        "s = \"i love programming very much\"\n",
        "l=s.split(' ')\n",
        "i=0\n",
        "j=len(l)-1\n",
        "while(i<j):\n",
        "  temp=l[i]\n",
        "  l[i]=l[j]\n",
        "  l[j]=temp\n",
        "  i+=1\n",
        "  j-=1\n",
        "\n",
        "strr=\"\"\n",
        "for i in l:\n",
        "  strr+=i+\" \"\n",
        "\n",
        "print(strr)"
      ],
      "metadata": {
        "colab": {
          "base_uri": "https://localhost:8080/"
        },
        "id": "E-O5p4NNhjRy",
        "outputId": "c57de769-f4cf-44e6-a7b5-e81604dfc2f5"
      },
      "execution_count": null,
      "outputs": [
        {
          "output_type": "stream",
          "name": "stdout",
          "text": [
            "much very programming love i \n"
          ]
        }
      ]
    },
    {
      "cell_type": "code",
      "source": [
        "21. Write a Python program to check if two strings are anagrams of each other."
      ],
      "metadata": {
        "id": "n7gS17pohjVK"
      },
      "execution_count": null,
      "outputs": []
    },
    {
      "cell_type": "code",
      "source": [
        "class Solution(object):\n",
        "    def isAnagram(self, s, t):\n",
        "      return s.sort()==t.sort()"
      ],
      "metadata": {
        "id": "0nEIOKSK6N8h"
      },
      "execution_count": null,
      "outputs": []
    },
    {
      "cell_type": "code",
      "source": [
        "22. Implement a function to find the first non-repeating character in a string."
      ],
      "metadata": {
        "id": "MAWmOIaz6N-3"
      },
      "execution_count": null,
      "outputs": []
    },
    {
      "cell_type": "code",
      "source": [
        "def find(strr):\n",
        "  d={}\n",
        "  for i in range(len(strr)):\n",
        "    d[strr[i]]=d.get(strr[i],0)+1\n",
        "  for i,j in d.items():\n",
        "    if j==1:\n",
        "      return i\n",
        "\n",
        "print(find(\"google\"))"
      ],
      "metadata": {
        "colab": {
          "base_uri": "https://localhost:8080/"
        },
        "id": "6krWhlp56OBX",
        "outputId": "0f7867e5-50ea-4a99-ded7-be9e2cca7ff8"
      },
      "execution_count": null,
      "outputs": [
        {
          "output_type": "stream",
          "name": "stdout",
          "text": [
            "l\n"
          ]
        }
      ]
    },
    {
      "cell_type": "code",
      "source": [
        "Write a program to find the prime factors of a given number."
      ],
      "metadata": {
        "id": "cRVoGf_16ODh"
      },
      "execution_count": null,
      "outputs": []
    },
    {
      "cell_type": "code",
      "source": [
        "import math\n",
        "num=24\n",
        "def primeis(n):\n",
        "  if n<2:\n",
        "    return False\n",
        "  for i in range(2,int(math.sqrt(n))):\n",
        "    if n%i==0:\n",
        "      return False\n",
        "  return True\n",
        "factor=[1]\n",
        "for i in range(2,num+1):\n",
        "  if num%i==0 and primeis(i)==True:\n",
        "    factor.append(i)"
      ],
      "metadata": {
        "id": "cvwhuF6L6OFq"
      },
      "execution_count": null,
      "outputs": []
    },
    {
      "cell_type": "code",
      "source": [
        "24. Implement a function to check if a given number is a power of two."
      ],
      "metadata": {
        "id": "-Rfg1nHp6OIO"
      },
      "execution_count": null,
      "outputs": []
    },
    {
      "cell_type": "code",
      "source": [
        "def powoftwo(num):\n",
        "  if num%2==0:\n",
        "    return True\n",
        "  return False"
      ],
      "metadata": {
        "id": "YiVcVMZE6OKj"
      },
      "execution_count": null,
      "outputs": []
    },
    {
      "cell_type": "code",
      "source": [
        "25. Write a Python program to merge two sorted lists into a single sorted list."
      ],
      "metadata": {
        "id": "ufvFmXqR6OMq"
      },
      "execution_count": null,
      "outputs": []
    },
    {
      "cell_type": "code",
      "source": [
        "def merge_sort(l1,l2):\n",
        "  n=len(l1)-1\n",
        "  m=len(l2)-1\n",
        "  combined=[]\n",
        "  i=0\n",
        "  j=0\n",
        "  while(i<=n and j<=m):\n",
        "    if l1[i]<=l2[j]:\n",
        "      combined.append(l1[i])\n",
        "      i+=1\n",
        "    else:\n",
        "      combined.append(l2[j])\n",
        "      j+=1\n",
        "  while(i<=n):\n",
        "    combined.append(l1[i])\n",
        "    i+=1\n",
        "  while(j<=m):\n",
        "    combined.append(l2[j])\n",
        "    j+=1\n",
        "  return combined\n",
        "\n",
        "def merge(l):\n",
        "  if len(l)==1:\n",
        "    return l\n",
        "  mid= len(l)//2\n",
        "  l1=l[:mid]\n",
        "  l2=l[mid:]\n",
        "  return merge_sort(merge(l1),merge(l2))\n",
        "\n",
        "\n",
        "l=[1,2,4,3,4,5,6,4,3,9,2]\n",
        "print(merge(l))"
      ],
      "metadata": {
        "id": "toXlsyve6OOo"
      },
      "execution_count": null,
      "outputs": []
    },
    {
      "cell_type": "code",
      "source": [
        "26. Implement a function to find the mode of a list of numbers."
      ],
      "metadata": {
        "id": "n-IkbGlY6ORD"
      },
      "execution_count": null,
      "outputs": []
    },
    {
      "cell_type": "code",
      "source": [
        "l=[1,2,4,3,4,5,6,4,3,9,2]\n",
        "d={}\n",
        "for i in range(len(l)):\n",
        "  d[l[i]]=d.get(l[i],0)+1\n",
        "d=sorted(d.items(),key=lambda x:x[1],reverse=True)\n",
        "print(d[0][0])"
      ],
      "metadata": {
        "colab": {
          "base_uri": "https://localhost:8080/"
        },
        "id": "5PWAoli76OTO",
        "outputId": "b210e640-36e2-40de-ee41-6f94b27209b3"
      },
      "execution_count": null,
      "outputs": [
        {
          "output_type": "stream",
          "name": "stdout",
          "text": [
            "4\n"
          ]
        }
      ]
    },
    {
      "cell_type": "code",
      "source": [
        "27. Write a program to find the greatest common divisor (GCD) of two numbers."
      ],
      "metadata": {
        "id": "62YXOTK-6OVJ"
      },
      "execution_count": null,
      "outputs": []
    },
    {
      "cell_type": "code",
      "source": [
        "def gcd(a,b):\n",
        "  if b==0:\n",
        "    return a\n",
        "  return gcd(b,a%b)"
      ],
      "metadata": {
        "id": "2j3IB_Pu6OYd"
      },
      "execution_count": null,
      "outputs": []
    },
    {
      "cell_type": "code",
      "source": [
        "28. Implement a function to calculate the square root of a given number."
      ],
      "metadata": {
        "id": "MbHEj-PzBbV8"
      },
      "execution_count": null,
      "outputs": []
    },
    {
      "cell_type": "code",
      "source": [
        "import math\n",
        "def findroot(num):\n",
        "  for i in range(2,num+1):\n",
        "    if math.pow(i,2)==num:\n",
        "      return i\n",
        "\n",
        "print(findroot(16))"
      ],
      "metadata": {
        "colab": {
          "base_uri": "https://localhost:8080/"
        },
        "id": "iTpElC8zBbYG",
        "outputId": "1d09d3e0-e82e-4562-f8d6-741f620a9f32"
      },
      "execution_count": null,
      "outputs": [
        {
          "output_type": "stream",
          "name": "stdout",
          "text": [
            "4\n"
          ]
        }
      ]
    },
    {
      "cell_type": "code",
      "source": [
        "29. Write a Python program to check if a given string is a valid palindrome ignoring non-alphanumeric characters.\n",
        "\n",
        "33. Write a Python program to remove duplicates from a list while preserving the order.\n",
        "34. Implement a function to find the longest common prefix among a list of strings.\n",
        "35. Write a program to check if a given number is a perfect square.\n",
        "36. Implement a function to calculate the product of all elements in a list.\n",
        "37. Write a Python program to reverse the order of words in a sentence while preserving the word order.\n",
        "38. Implement a function to find the missing number in a given list of consecutive numbers.\n",
        "39. Write a program to find the sum of digits of a given number.\n"
      ],
      "metadata": {
        "id": "0-hxqlpvBbaS"
      },
      "execution_count": null,
      "outputs": []
    },
    {
      "cell_type": "code",
      "source": [
        "class Solution(object):\n",
        "    def isPalindrome(self, s):\n",
        "        strr=\"\"\n",
        "        for i in range(len(s)):\n",
        "            if s[i].isalnum():\n",
        "                strr=strr+s[i]\n",
        "            else:\n",
        "                continue\n",
        "        strr=strr.lower()\n",
        "        return strr==strr[::-1]"
      ],
      "metadata": {
        "id": "bnUzArDIBbcB"
      },
      "execution_count": null,
      "outputs": []
    },
    {
      "cell_type": "code",
      "source": [
        "30. Implement a function to find the minimum element in a rotated sorted list."
      ],
      "metadata": {
        "id": "qu7kVJuWBbeI"
      },
      "execution_count": null,
      "outputs": []
    },
    {
      "cell_type": "code",
      "source": [
        "class Solution(object):\n",
        "    def findMin(self, nums):\n",
        "        minn=nums[0]\n",
        "        for i in range(1,len(nums)):\n",
        "            minn=min(minn,nums[i])\n",
        "        return minn"
      ],
      "metadata": {
        "id": "X_IKcvynBbgR"
      },
      "execution_count": null,
      "outputs": []
    },
    {
      "cell_type": "code",
      "source": [
        "31. Write a program to find the sum of all even numbers in a list."
      ],
      "metadata": {
        "id": "rC8hTaEABbkF"
      },
      "execution_count": null,
      "outputs": []
    },
    {
      "cell_type": "code",
      "source": [
        "def sumeven(l):\n",
        "  summ=0\n",
        "  for i in range(len(l)):\n",
        "    if l[i]%2==0:\n",
        "      summ=summ+l[i]\n",
        "\n",
        "  return summ"
      ],
      "metadata": {
        "id": "O0SZgW1eBbnW"
      },
      "execution_count": null,
      "outputs": []
    },
    {
      "cell_type": "code",
      "source": [
        "32. Implement a function to calculate the power of a number using recursion."
      ],
      "metadata": {
        "id": "oSIpQnMZGL3Y"
      },
      "execution_count": null,
      "outputs": []
    },
    {
      "cell_type": "code",
      "source": [
        "def poww(num,ntime,product):\n",
        "  if ntime==0:\n",
        "    return product\n",
        "  return poww(num,ntime-1,product*num)\n",
        "print(poww(2,3,1))"
      ],
      "metadata": {
        "colab": {
          "base_uri": "https://localhost:8080/"
        },
        "id": "gV554pawGL5P",
        "outputId": "ba65ca92-7402-4f4e-c8a6-e63854b8036d"
      },
      "execution_count": null,
      "outputs": [
        {
          "output_type": "stream",
          "name": "stdout",
          "text": [
            "8\n"
          ]
        }
      ]
    },
    {
      "cell_type": "code",
      "source": [
        "33. Write a Python program to remove duplicates from a list while preserving the order.\n",
        "l= [12,15,11,12,8,15,3,3]\n",
        "\n",
        "d={}\n",
        "\n",
        "for i in l:\n",
        "  d[i]=d.get(i,0)+1\n",
        "print(list(d))\n",
        "\n",
        "34. Implement a function to find the longest common prefix among a list of strings.\n",
        "\n",
        "class Solution(object):\n",
        "    def longestCommonPrefix(self, strs):\n",
        "        \"\"\"\n",
        "        :type strs: List[str]\n",
        "        :rtype: str\n",
        "        \"\"\"\n",
        "        strr=strs[0]\n",
        "        for i in range(1,len(strs)):\n",
        "            if len(strs[i])<len(strr):\n",
        "                strr=strs[i]\n",
        "\n",
        "        strs.remove(strr)\n",
        "        combined=\"\"\n",
        "        for i in range(len(strr)):\n",
        "            combined+=strr[i]\n",
        "            for j in range(len(strs)):\n",
        "                if strr[i]==strs[j][i]:\n",
        "                    continue\n",
        "                else:\n",
        "                    combined=combined[0:len(combined)-1]\n",
        "                    return combined\n",
        "        return combined\n",
        "\n",
        "\n",
        "35. Write a program to check if a given number is a perfect square.\n",
        "\n",
        "\tclass Solution(object):\n",
        "    def isPerfectSquare(self, num):\n",
        "        \"\"\"\n",
        "        :type num: int\n",
        "        :rtype: bool\n",
        "        \"\"\"\n",
        "        if num==1 or num==0:\n",
        "            return True\n",
        "        for i in range(2,int(math.sqrt(num)+1)):\n",
        "            if math.pow(i,2)==num:\n",
        "                return True\n",
        "        return False"
      ],
      "metadata": {
        "id": "XBW2VUQcGL7J"
      },
      "execution_count": null,
      "outputs": []
    },
    {
      "cell_type": "code",
      "source": [
        "36. Implement a function to calculate the product of all elements in a list.\n",
        "\n",
        "l= [-12,-15,11,12,8,15,3,3]\n",
        "\n",
        "def func(l):\n",
        "  pro=1\n",
        "  for i in range(len(l)):\n",
        "    pro=pro*l[i]\n",
        "  return pro\n",
        "print(func(l))\n",
        "\n",
        "\n",
        "\n",
        "37. Write a Python program to reverse the order of words in a sentence while preserving the word order.\n",
        "\n",
        "strr=\"geeks quiz practice code\"\n",
        "def order(strr):\n",
        "  listt=strr.split(' ')\n",
        "  for i in range(len(listt)):\n",
        "    listt[i]=listt[i][::-1]\n",
        "  return(listt)\n",
        "\n",
        "print(order(strr))"
      ],
      "metadata": {
        "id": "y8n6RiSsGL9c"
      },
      "execution_count": null,
      "outputs": []
    },
    {
      "cell_type": "code",
      "source": [
        "38. Implement a function to find the missing number in a given list of consecutive numbers."
      ],
      "metadata": {
        "id": "pmabBpSgGL_p"
      },
      "execution_count": null,
      "outputs": []
    },
    {
      "cell_type": "code",
      "source": [
        "\tclass Solution(object):\n",
        "    def missingNumber(self, nums):\n",
        "        nums.sort()\n",
        "        for i in range(0,len(nums)):\n",
        "            if nums[i]==i:\n",
        "                continue\n",
        "            else:\n",
        "                return nums[i]-1\n",
        "        return nums[len(nums)-1]+1"
      ],
      "metadata": {
        "id": "gG9GXNu5GMBn"
      },
      "execution_count": null,
      "outputs": []
    },
    {
      "cell_type": "code",
      "source": [
        "39. Write a program to find the sum of digits of a given number."
      ],
      "metadata": {
        "id": "xwFD51hGGMDy"
      },
      "execution_count": null,
      "outputs": []
    },
    {
      "cell_type": "code",
      "source": [
        "num=-789\n",
        "if num<0:\n",
        "  strr=str(num)\n",
        "  strr=strr[1:len(strr)]\n",
        "  num=int(strr)\n",
        "summ=0\n",
        "while(num!=0):\n",
        "  a=num%10\n",
        "  summ=summ+a\n",
        "  num=num//10\n",
        "print(summ)\n",
        "​"
      ],
      "metadata": {
        "id": "0vSbtgVyGMFz"
      },
      "execution_count": null,
      "outputs": []
    },
    {
      "cell_type": "code",
      "source": [
        "40. Implement a function to check if a given string is a valid palindrome considering case sensitivity.\n",
        "\n",
        "strr=strr.lower()\n",
        "return strr==strr[::-1]\n",
        "\n",
        "\n",
        "41. Write a Python program to find the smallest missing positive integer in a list.\n",
        "\n",
        "arr.sort()\n",
        "i=0\n",
        "while(i<len(arr)):\n",
        "  if arr[i]<0:\n",
        "    arr.remove(arr[i])\n",
        "  i+=1\n",
        "\n",
        "for j in range(1,len(arr)+1):\n",
        "\n",
        "  if arr[j]==j:\n",
        "    continue\n",
        "  else:\n",
        "    print(j)\n",
        "    break\n",
        "\n",
        "\n",
        "42. Implement a function to find the longest palindrome substring in a given string.\n",
        "\n",
        "  def longestPalindrome(self, s):\n",
        "        res=''\n",
        "        for i in range(len(s)):\n",
        "            tmp=helper(i,i,s)\n",
        "            if len(tmp)>len(res):\n",
        "                res=tmp\n",
        "            tmp=helper(i,i+1,s)\n",
        "            if len(tmp)>len(res):\n",
        "                res=tmp\n",
        "\n",
        "        return res\n",
        "\n",
        "def helper(l,r,s):\n",
        "    while l>=0 and r<len(s) and s[l]==s[r]:\n",
        "        l=l-1\n",
        "        r=r+1\n",
        "\n",
        "    return s[l+1:r]"
      ],
      "metadata": {
        "id": "MLlnwd9UGMIE"
      },
      "execution_count": null,
      "outputs": []
    },
    {
      "cell_type": "code",
      "source": [
        "43. Write a program to find the number of occurrences of a given element in a list.\n",
        "l=[1,2,3,4,3,4,6,1,7]\n",
        "for i,j in collections.Counter(l).items():\n",
        "  print(f\"element {i} is ocuuring {j} times\")\n",
        "\n",
        "\n",
        "44. Implement a function to check if a given number is a perfect number.\n",
        "\n",
        "summ=1\n",
        "for i in range(2,int(math.sqrt(num)+1)):\n",
        "  if num%i==0:\n",
        "    summ=summ+i\n",
        "\n",
        "if summ==num:\n",
        "  return True\n",
        "return False\n",
        "\n",
        "45. Write a Python program to remove all duplicates from a string.\n",
        "\n",
        "l= [12,15,11,12,8,15,3,3]\n",
        "\n",
        "d={}\n",
        "\n",
        "for i in l:\n",
        "  d[i]=d.get(i,0)+1\n",
        "print(list(d))"
      ],
      "metadata": {
        "id": "9ma2eyaiGMKW"
      },
      "execution_count": null,
      "outputs": []
    },
    {
      "cell_type": "code",
      "source": [
        "46. Implement a function to find the first missing positive\n",
        "\tclass Solution(object):\n",
        "    def missingNumber(self, nums):\n",
        "        nums.sort()\n",
        "        for i in range(0,len(nums)):\n",
        "            if nums[i]==i:\n",
        "                continue\n",
        "            else:\n",
        "                return nums[i]-1\n",
        "        return nums[len(nums)-1]+1"
      ],
      "metadata": {
        "id": "eJeQrYIuGMN0"
      },
      "execution_count": null,
      "outputs": []
    }
  ]
}