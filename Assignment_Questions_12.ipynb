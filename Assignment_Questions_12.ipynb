{
  "nbformat": 4,
  "nbformat_minor": 0,
  "metadata": {
    "colab": {
      "provenance": []
    },
    "kernelspec": {
      "name": "python3",
      "display_name": "Python 3"
    },
    "language_info": {
      "name": "python"
    }
  },
  "cells": [
    {
      "cell_type": "code",
      "execution_count": null,
      "metadata": {
        "id": "c7rZvtg3Dd_z"
      },
      "outputs": [],
      "source": [
        "<aside>\n",
        "💡 **Question 1**\n",
        "\n",
        "Given a singly linked list, delete **middle** of the linked list. For example, if given linked list is 1->2->**3**->4->5 then linked list should be modified to 1->2->4->5.If there are **even** nodes, then there would be **two middle** nodes, we need to delete the second middle element. For example, if given linked list is 1->2->3->4->5->6 then it should be modified to 1->2->3->5->6.If the input linked list is NULL or has 1 node, then it should return NULL\n",
        "\n",
        "</aside>"
      ]
    },
    {
      "cell_type": "code",
      "source": [
        "class Solution(object):\n",
        "    def deleteMiddle(self, head):\n",
        "\n",
        "        temp=head\n",
        "        l=0\n",
        "        while(temp is not None):\n",
        "            l+=1\n",
        "            temp=temp.next\n",
        "\n",
        "        mid= l //2\n",
        "        mid1=mid\n",
        "\n",
        "        if l==1:\n",
        "            head=None\n",
        "            return head\n",
        "\n",
        "        tem= head\n",
        "\n",
        "        while(mid!=0):\n",
        "            tem = tem.next\n",
        "            mid=mid-1\n",
        "\n",
        "        pre = head\n",
        "        while(mid1>1):\n",
        "            pre = pre.next\n",
        "            mid1=mid1-1\n",
        "\n",
        "        post=tem.next\n",
        "\n",
        "        print(tem.val)\n",
        "        tem.next=None\n",
        "        print(pre.val)\n",
        "\n",
        "        pre.next=None\n",
        "\n",
        "        pre.next=post\n",
        "\n",
        "        \n",
        "        return head\n"
      ],
      "metadata": {
        "id": "76-xx3rBRPxb"
      },
      "execution_count": null,
      "outputs": []
    },
    {
      "cell_type": "code",
      "source": [
        "<aside>\n",
        "💡 **Question 2**\n",
        "\n",
        "Given a linked list of **N** nodes. The task is to check if the linked list has a loop. Linked list can contain self loop.\n",
        "\n",
        "**Example 1:**\n",
        "\n",
        "</aside>"
      ],
      "metadata": {
        "id": "Df9X6kLWRb9t"
      },
      "execution_count": null,
      "outputs": []
    },
    {
      "cell_type": "code",
      "source": [
        "\n",
        "class Solution(object):\n",
        "    def hasCycle(self, head):\n",
        "        slow=fast=head\n",
        "        while fast and fast.next:\n",
        "            slow=slow.next\n",
        "            fast=fast.next.next\n",
        "            if slow==fast:\n",
        "                return True\n",
        "        return False"
      ],
      "metadata": {
        "id": "dVAdv7gARb_2"
      },
      "execution_count": null,
      "outputs": []
    },
    {
      "cell_type": "code",
      "source": [
        "<aside>\n",
        "💡 **Question 3**\n",
        "\n",
        "Given a linked list consisting of **L** nodes and given a number **N**. The task is to find the **N**th node from the end of the linked list.\n",
        "\n",
        "**Example 1:**\n",
        "\n",
        "</aside>"
      ],
      "metadata": {
        "id": "OVcW6WQURcBw"
      },
      "execution_count": null,
      "outputs": []
    },
    {
      "cell_type": "code",
      "source": [
        "class Solution(object):\n",
        "    def removeNthFromEnd(self, head, n):\n",
        "\n",
        "        temp=head\n",
        "        l=0\n",
        "\n",
        "        while(temp is not None):\n",
        "            l+=1\n",
        "            temp=temp.next\n",
        "\n",
        "        ll= l-n\n",
        "\n",
        "        tem=head\n",
        "\n",
        "        while(ll!=0):\n",
        "            tem= tem.next\n",
        "            ll-=1\n",
        "\n",
        "        print(tem.val)"
      ],
      "metadata": {
        "id": "abzKMXFjRcD1"
      },
      "execution_count": null,
      "outputs": []
    },
    {
      "cell_type": "code",
      "source": [
        "<aside>\n",
        "💡 **Question 4**\n",
        "\n",
        "Given a singly linked list of characters, write a function that returns true if the given list is a palindrome, else false.\n",
        "\n",
        "</aside>"
      ],
      "metadata": {
        "id": "phwQJYCMRcF-"
      },
      "execution_count": null,
      "outputs": []
    },
    {
      "cell_type": "code",
      "source": [
        "class Solution(object):\n",
        "    def isPalindrome(self, head):\n",
        "\n",
        "        temp=head\n",
        "        l=[]\n",
        "        while(temp is not None):\n",
        "            l.append(temp.val)\n",
        "            temp=temp.next\n",
        "\n",
        "        if l==l[::-1]:\n",
        "            return True\n",
        "        return False"
      ],
      "metadata": {
        "id": "f47LRNMyRcHy"
      },
      "execution_count": null,
      "outputs": []
    },
    {
      "cell_type": "code",
      "source": [
        "<aside>\n",
        "💡 **Question 5**\n",
        "\n",
        "Given a linked list of **N** nodes such that it may contain a loop.\n",
        "\n",
        "A loop here means that the last node of the link list is connected to the node at position X(1-based index). If the link list does not have any loop, X=0.\n",
        "\n",
        "Remove the loop from the linked list, if it is present, i.e. unlink the last node which is forming the loop.\n",
        "\n",
        "</aside>"
      ],
      "metadata": {
        "id": "_plgjEh_RcKI"
      },
      "execution_count": null,
      "outputs": []
    },
    {
      "cell_type": "code",
      "source": [],
      "metadata": {
        "id": "K92W64iqRcMe"
      },
      "execution_count": null,
      "outputs": []
    },
    {
      "cell_type": "code",
      "source": [
        "<aside>\n",
        "💡 **Question 6**\n",
        "\n",
        "Given a linked list and two integers M and N. Traverse the linked list such that you retain M nodes then delete next N nodes, continue the same till end of the linked list.\n",
        "\n",
        "</aside>"
      ],
      "metadata": {
        "id": "iNzeio0qRcOx"
      },
      "execution_count": null,
      "outputs": []
    },
    {
      "cell_type": "code",
      "source": [
        "skipMdeleteN(self, M, N):\n",
        "        curr = self.head\n",
        "          \n",
        "        # The main loop that traverses through the\n",
        "        # whole list\n",
        "        while(curr):\n",
        "            # Skip M nodes\n",
        "            for count in range(1, M):\n",
        "                if curr is None:\n",
        "                    return \n",
        "                curr = curr.next\n",
        "                      \n",
        "            if curr is None :\n",
        "                return \n",
        "  \n",
        "            # Start from next node and delete N nodes\n",
        "            t = curr.next \n",
        "            for count in range(1, N+1):\n",
        "                if t is None:\n",
        "                    break\n",
        "                t = t.next\n",
        "      \n",
        "            # Link the previous list with remaining nodes\n",
        "            curr.next = t\n",
        "            # Set Current pointer for next iteration\n",
        "            curr = t "
      ],
      "metadata": {
        "id": "N1ZGWc-TRcRE"
      },
      "execution_count": null,
      "outputs": []
    },
    {
      "cell_type": "code",
      "source": [
        "<aside>\n",
        "💡 **Question 7**\n",
        "\n",
        "Given two linked lists, insert nodes of second list into first list at alternate positions of first list.\n",
        "For example, if first list is 5->7->17->13->11 and second is 12->10->2->4->6, the first list should become 5->12->7->10->17->2->13->4->11->6 and second list should become empty. The nodes of second list should only be inserted when there are positions available. For example, if the first list is 1->2->3 and second list is 4->5->6->7->8, then first list should become 1->4->2->5->3->6 and second list to 7->8.\n",
        "\n",
        "</aside>"
      ],
      "metadata": {
        "id": "rvBliQr_RcS0"
      },
      "execution_count": null,
      "outputs": []
    },
    {
      "cell_type": "code",
      "source": [
        "class Solution(object):\n",
        "    def mergeInBetween(self, list1, a, b, list2):\n",
        "\n",
        "        temp=list1\n",
        "        l=0\n",
        "        while(temp is not None):\n",
        "            l=l+1\n",
        "            temp=temp.next\n",
        "\n",
        "        l1=list1\n",
        "        l2=list2\n",
        "        listt=[]\n",
        "        while(l!=0 and l2 and l1):\n",
        "            listt.append(l1.val)\n",
        "            listt.append(l2.val)\n",
        "            l1=l1.next\n",
        "            l2=l2.next\n",
        "            l-=1\n",
        "\n",
        "        while(l2):\n",
        "            listt.append(l2.val)\n",
        "            l2=l2.next\n",
        "\n",
        "        node = ListNode(listt[0])\n",
        "        node_head= node\n",
        "\n",
        "        for i in range(1,len(listt)):\n",
        "            node.next= listt[i]\n",
        "            node=node.next\n",
        "\n",
        "        return node_head"
      ],
      "metadata": {
        "id": "DHDrnwP0RcVd"
      },
      "execution_count": null,
      "outputs": []
    },
    {
      "cell_type": "code",
      "source": [
        "<aside>\n",
        "💡 **Question 8**\n",
        "\n",
        "Given a singly linked list, find if the linked list is [circular](https://www.geeksforgeeks.org/circular-linked-list/amp/) or not.\n",
        "\n",
        "</aside>"
      ],
      "metadata": {
        "id": "lg4FNl31oBiB"
      },
      "execution_count": null,
      "outputs": []
    },
    {
      "cell_type": "code",
      "source": [
        "def find_circular(head):\n",
        "\n",
        "  if head is None:\n",
        "    return \"it is circular\"\n",
        "\n",
        "  temp=head\n",
        "  while(temp is not None):\n",
        "    temp=temp.next\n",
        "    if temp==head:\n",
        "      return \"It is circular\"\n",
        "\n",
        "return \"it is not circular\""
      ],
      "metadata": {
        "id": "-V0Uv_2QoBku"
      },
      "execution_count": null,
      "outputs": []
    }
  ]
}