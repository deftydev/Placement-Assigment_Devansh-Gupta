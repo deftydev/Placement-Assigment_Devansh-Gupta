{
 "cells": [
  {
   "cell_type": "code",
   "execution_count": null,
   "id": "917968c4",
   "metadata": {},
   "outputs": [],
   "source": [
    "Question 1\n",
    "Given an integer array nums of 2n integers, group these integers into n pairs (a1, b1), (a2, b2),\n",
    "..., (an, bn) such that the sum of min(ai, bi) for all i is maximized. Return the maximized sum.\n",
    "Example 1:\n",
    "Input: nums = [1,4,3,2]\n",
    "Output: 4"
   ]
  },
  {
   "cell_type": "code",
   "execution_count": 22,
   "id": "15af3af0",
   "metadata": {},
   "outputs": [
    {
     "name": "stdout",
     "output_type": "stream",
     "text": [
      "4\n"
     ]
    }
   ],
   "source": [
    "nums=[1,4,3,2]\n",
    "nums.sort()\n",
    "\n",
    "if len(nums)<4:\n",
    "    print(\"no maximized sum is possible\")\n",
    "    \n",
    "print(nums[len(nums)-2]+nums[len(nums)-4])  #it is the maximized sum possible"
   ]
  },
  {
   "cell_type": "code",
   "execution_count": null,
   "id": "19e212d0",
   "metadata": {},
   "outputs": [],
   "source": [
    "Question 2\n",
    "Alice has n candies, where the ith candy is of type candyType[i]. Alice noticed that she started\n",
    "to gain weight, so she visited a doctor.\n",
    "The doctor advised Alice to only eat n / 2 of the candies she has (n is always even). Alice\n",
    "likes her candies very much, and she wants to eat the maximum number of different types of\n",
    "candies while still following the doctor's advice.\n",
    "Given the integer array candyType of length n, return the maximum number of different types\n",
    "of candies she can eat if she only eats n / 2 of them"
   ]
  },
  {
   "cell_type": "code",
   "execution_count": 8,
   "id": "c48640e2",
   "metadata": {},
   "outputs": [
    {
     "name": "stdout",
     "output_type": "stream",
     "text": [
      "3\n"
     ]
    }
   ],
   "source": [
    "import collections\n",
    "from collections import Counter\n",
    "\n",
    "nums= [1,1,2,2,3,3]\n",
    "num = len(nums)//2\n",
    "sett = set(nums)\n",
    "\n",
    "if(len(sett)==num):\n",
    "    print(num)\n",
    "elif len(sett)>num:\n",
    "    print(num)\n",
    "else:\n",
    "    print(len(sett))\n"
   ]
  },
  {
   "cell_type": "code",
   "execution_count": null,
   "id": "f818e961",
   "metadata": {},
   "outputs": [],
   "source": [
    "Question 3\n",
    "We define a harmonious array as an array where the difference between its maximum value\n",
    "and its minimum value is exactly 1.\n",
    "Given an integer array nums, return the length of its longest harmonious subsequence\n",
    "among all its possible subsequences.\n",
    "A subsequence of an array is a sequence that can be derived from the array by deleting some\n",
    "or no elements without changing the order of the remaining elements."
   ]
  },
  {
   "cell_type": "code",
   "execution_count": 11,
   "id": "6fac4962",
   "metadata": {},
   "outputs": [
    {
     "name": "stdout",
     "output_type": "stream",
     "text": [
      "5\n"
     ]
    }
   ],
   "source": [
    "nums = [1,3,2,2,5,2,3,7]\n",
    "final=[]\n",
    "for i in range(len(nums)-1):\n",
    "    l=[]\n",
    "    l.append(nums[i])\n",
    "    for j in range(i+1,len(nums),1):\n",
    "        if nums[j]==nums[i] or nums[j]==nums[i]+1 or nums[j]==nums[i]-1:\n",
    "            l.append(nums[j])\n",
    "    final.append(len(l))\n",
    "    \n",
    "print(max(final))"
   ]
  },
  {
   "cell_type": "code",
   "execution_count": null,
   "id": "753ab757",
   "metadata": {},
   "outputs": [],
   "source": [
    "You have a long flowerbed in which some of the plots are planted, and some are not.\n",
    "However, flowers cannot be planted in adjacent plots.\n",
    "Given an integer array flowerbed containing 0's and 1's, where 0 means empty and 1 means\n",
    "not empty, and an integer n, return true if n new flowers can be planted in the flowerbed\n",
    "without violating the no-adjacent-flowers rule and false otherwise.\n",
    "Example 1:\n",
    "Input: flowerbed = [1,0,0,0,1], n = 1\n",
    "Output: true\n"
   ]
  },
  {
   "cell_type": "code",
   "execution_count": 15,
   "id": "367faf13",
   "metadata": {},
   "outputs": [
    {
     "name": "stdout",
     "output_type": "stream",
     "text": [
      "True\n"
     ]
    }
   ],
   "source": [
    "nums = [1,0,0,0,1,1,0,0,1,0,0,0,1]\n",
    "n=2\n",
    "\n",
    "for i in range(1,len(nums)):\n",
    "    if n==0:\n",
    "        print(\"True\")\n",
    "        break\n",
    "    elif nums[i]==0 and nums[i-1]==0 and nums[i+1]==0:\n",
    "        n=n-1\n",
    "    else:\n",
    "        continue\n",
    "        \n",
    "if(n>0):\n",
    "    print(\"False\")"
   ]
  },
  {
   "cell_type": "code",
   "execution_count": null,
   "id": "a5430f8e",
   "metadata": {},
   "outputs": [],
   "source": [
    "Question 5\n",
    "Given an integer array nums, find three numbers whose product is maximum and return the\n",
    "maximum product.\n",
    "Example 1:\n",
    "Input: nums = [1,2,3]\n",
    "Output: 6"
   ]
  },
  {
   "cell_type": "code",
   "execution_count": 16,
   "id": "8c2131ca",
   "metadata": {},
   "outputs": [
    {
     "name": "stdout",
     "output_type": "stream",
     "text": [
      "6\n"
     ]
    }
   ],
   "source": [
    "nums = [1,2,3]\n",
    "nums.sort()\n",
    "l=len(nums)\n",
    "print(nums[l-1]*nums[l-2]*nums[l-3])"
   ]
  },
  {
   "cell_type": "code",
   "execution_count": null,
   "id": "d114a8d8",
   "metadata": {},
   "outputs": [],
   "source": [
    "Question 6\n",
    "Given an array of integers nums which is sorted in ascending order, and an integer target,\n",
    "write a function to search target in nums. If target exists, then return its index. Otherwise,\n",
    "return -1.\n",
    "You must write an algorithm with O(log n) runtime complexity.\n",
    "Input: nums = [-1,0,3,5,9,12], target = 9\n",
    "Output: 4\n",
    "Explanation: 9 exists in nums and its index is 4"
   ]
  },
  {
   "cell_type": "code",
   "execution_count": 18,
   "id": "97ceb2cc",
   "metadata": {},
   "outputs": [
    {
     "name": "stdout",
     "output_type": "stream",
     "text": [
      "1\n"
     ]
    }
   ],
   "source": [
    "nums= [-1,0,3,5,9,12]\n",
    "target=0\n",
    "\n",
    "def find_target(nums, target):\n",
    "    if target in nums:\n",
    "        return(nums.index(target))\n",
    "    else:\n",
    "        return (-1)\n",
    "    \n",
    "print(find_target(nums,target)) "
   ]
  },
  {
   "cell_type": "code",
   "execution_count": null,
   "id": "42ddd64a",
   "metadata": {},
   "outputs": [],
   "source": [
    "Question 7\n",
    "An array is monotonic if it is either monotone increasing or monotone decreasing.\n",
    "An array nums is monotone increasing if for all i <= j, nums[i] <= nums[j]. An array nums is\n",
    "monotone decreasing if for all i <= j, nums[i] >= nums[j].\n",
    "Given an integer array nums, return true if the given array is monotonic, or false otherwise.\n",
    "Example 1:"
   ]
  },
  {
   "cell_type": "code",
   "execution_count": 21,
   "id": "0364f268",
   "metadata": {},
   "outputs": [
    {
     "name": "stdout",
     "output_type": "stream",
     "text": [
      "true\n"
     ]
    }
   ],
   "source": [
    "nums=[1,2,2,3]\n",
    "inc=False\n",
    "dec=False\n",
    "if nums[1]>nums[0]:\n",
    "    inc=True\n",
    "else:\n",
    "    dec=True\n",
    "\n",
    "if inc==True:\n",
    "    for i in range(1,len(nums)):\n",
    "        if nums[i]>=nums[i-1]:\n",
    "            continue\n",
    "        else:\n",
    "            print(\"false\")\n",
    "            inc=False\n",
    "            break\n",
    "            \n",
    "if dec==True:\n",
    "    for i in range(1,len(nums)):\n",
    "        if nums[i]<=nums[i-1]:\n",
    "            continue\n",
    "        else:\n",
    "            print(\"false\")\n",
    "            dec=False\n",
    "            break\n",
    "\n",
    "if inc==True or dec==True:\n",
    "    print(\"true\")"
   ]
  },
  {
   "cell_type": "code",
   "execution_count": null,
   "id": "6bf2d7d3",
   "metadata": {},
   "outputs": [],
   "source": []
  },
  {
   "cell_type": "code",
   "execution_count": null,
   "id": "21f87dfe",
   "metadata": {},
   "outputs": [],
   "source": [
    "Question 8\n",
    "You are given an integer array nums and an integer k.\n",
    "In one operation, you can choose any index i where 0 <= i < nums.length and change nums[i]\n",
    "to nums[i] + x where x is an integer from the range [-k, k]. You can apply this operation at\n",
    "most once for each index i.\n",
    "The score of nums is the difference between the maximum and minimum elements in nums.\n",
    "Return the minimum score of nums after applying the mentioned operation at most once for\n",
    "each index in it.\n"
   ]
  },
  {
   "cell_type": "code",
   "execution_count": null,
   "id": "fd4949dd",
   "metadata": {},
   "outputs": [],
   "source": [
    "nums=[-2,0,7,6,-1]\n",
    "k=2\n",
    "kn = -2\n",
    "maxx= max(nums)\n",
    "minn= min(nums)\n",
    "\n",
    "nums.sort()\n",
    "\n",
    "if nums[0]> kn:\n",
    "    nums[0]= kn\n",
    "\n",
    "if nums[len(nums)-1]<k:\n",
    "    for i in range(1,len(nums)):\n",
    "        nums[i]= k\n",
    "        \n",
    "print(nums[len(nums)-1])\n",
    "    "
   ]
  }
 ],
 "metadata": {
  "kernelspec": {
   "display_name": "Python 3 (ipykernel)",
   "language": "python",
   "name": "python3"
  },
  "language_info": {
   "codemirror_mode": {
    "name": "ipython",
    "version": 3
   },
   "file_extension": ".py",
   "mimetype": "text/x-python",
   "name": "python",
   "nbconvert_exporter": "python",
   "pygments_lexer": "ipython3",
   "version": "3.9.13"
  }
 },
 "nbformat": 4,
 "nbformat_minor": 5
}
